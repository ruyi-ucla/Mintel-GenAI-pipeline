{
 "cells": [
  {
   "cell_type": "code",
   "execution_count": 1,
   "metadata": {},
   "outputs": [],
   "source": [
    "import pandas as pd\n",
    "countries = pd.read_csv(\"countries.csv\") \n",
    "flavors = pd.read_csv(\"flavours (redacted).csv\")\n",
    "products = pd.read_csv(\"products.csv\")\n",
    "countries.columns = ['c_id',  'name', 'region']\n",
    "products.columns = ['p_id', 'c_id', 'supercat', 'cat', 'sub', 'date']\n",
    "flavors.columns = ['p_id', 'b_n', 'f_id','f_cat']"
   ]
  },
  {
   "cell_type": "markdown",
   "metadata": {},
   "source": [
    "## 1. countries"
   ]
  },
  {
   "cell_type": "code",
   "execution_count": 2,
   "metadata": {},
   "outputs": [
    {
     "data": {
      "text/html": [
       "<div>\n",
       "<style scoped>\n",
       "    .dataframe tbody tr th:only-of-type {\n",
       "        vertical-align: middle;\n",
       "    }\n",
       "\n",
       "    .dataframe tbody tr th {\n",
       "        vertical-align: top;\n",
       "    }\n",
       "\n",
       "    .dataframe thead th {\n",
       "        text-align: right;\n",
       "    }\n",
       "</style>\n",
       "<table border=\"1\" class=\"dataframe\">\n",
       "  <thead>\n",
       "    <tr style=\"text-align: right;\">\n",
       "      <th></th>\n",
       "      <th>c_id</th>\n",
       "      <th>name</th>\n",
       "      <th>region</th>\n",
       "    </tr>\n",
       "  </thead>\n",
       "  <tbody>\n",
       "    <tr>\n",
       "      <th>0</th>\n",
       "      <td>KH</td>\n",
       "      <td>Cambodia</td>\n",
       "      <td>Asia Pacific</td>\n",
       "    </tr>\n",
       "    <tr>\n",
       "      <th>1</th>\n",
       "      <td>TN</td>\n",
       "      <td>Tunisia</td>\n",
       "      <td>Middle East &amp; Africa</td>\n",
       "    </tr>\n",
       "    <tr>\n",
       "      <th>2</th>\n",
       "      <td>NZ</td>\n",
       "      <td>New Zealand</td>\n",
       "      <td>Asia Pacific</td>\n",
       "    </tr>\n",
       "    <tr>\n",
       "      <th>3</th>\n",
       "      <td>DE</td>\n",
       "      <td>Germany</td>\n",
       "      <td>Europe</td>\n",
       "    </tr>\n",
       "    <tr>\n",
       "      <th>4</th>\n",
       "      <td>EE</td>\n",
       "      <td>Estonia</td>\n",
       "      <td>Europe</td>\n",
       "    </tr>\n",
       "  </tbody>\n",
       "</table>\n",
       "</div>"
      ],
      "text/plain": [
       "  c_id         name                region\n",
       "0   KH     Cambodia          Asia Pacific\n",
       "1   TN      Tunisia  Middle East & Africa\n",
       "2   NZ  New Zealand          Asia Pacific\n",
       "3   DE      Germany                Europe\n",
       "4   EE      Estonia                Europe"
      ]
     },
     "metadata": {},
     "output_type": "display_data"
    },
    {
     "name": "stdout",
     "output_type": "stream",
     "text": [
      "<class 'pandas.core.frame.DataFrame'>\n",
      "RangeIndex: 86 entries, 0 to 85\n",
      "Data columns (total 3 columns):\n",
      " #   Column  Non-Null Count  Dtype \n",
      "---  ------  --------------  ----- \n",
      " 0   c_id    86 non-null     object\n",
      " 1   name    86 non-null     object\n",
      " 2   region  86 non-null     object\n",
      "dtypes: object(3)\n",
      "memory usage: 2.1+ KB\n"
     ]
    }
   ],
   "source": [
    "display(countries.head())\n",
    "countries.info()"
   ]
  },
  {
   "cell_type": "code",
   "execution_count": 3,
   "metadata": {},
   "outputs": [
    {
     "data": {
      "text/plain": [
       "region\n",
       "Europe                  32\n",
       "Asia Pacific            20\n",
       "Middle East & Africa    20\n",
       "Latin America           12\n",
       "North America            2\n",
       "Name: count, dtype: int64"
      ]
     },
     "execution_count": 3,
     "metadata": {},
     "output_type": "execute_result"
    }
   ],
   "source": [
    "countries['region'].value_counts()\n",
    "# countries.c_id.nunique()"
   ]
  },
  {
   "cell_type": "markdown",
   "metadata": {},
   "source": [
    "## 2. products "
   ]
  },
  {
   "cell_type": "code",
   "execution_count": 4,
   "metadata": {},
   "outputs": [
    {
     "data": {
      "text/html": [
       "<div>\n",
       "<style scoped>\n",
       "    .dataframe tbody tr th:only-of-type {\n",
       "        vertical-align: middle;\n",
       "    }\n",
       "\n",
       "    .dataframe tbody tr th {\n",
       "        vertical-align: top;\n",
       "    }\n",
       "\n",
       "    .dataframe thead th {\n",
       "        text-align: right;\n",
       "    }\n",
       "</style>\n",
       "<table border=\"1\" class=\"dataframe\">\n",
       "  <thead>\n",
       "    <tr style=\"text-align: right;\">\n",
       "      <th></th>\n",
       "      <th>p_id</th>\n",
       "      <th>c_id</th>\n",
       "      <th>supercat</th>\n",
       "      <th>cat</th>\n",
       "      <th>sub</th>\n",
       "      <th>date</th>\n",
       "    </tr>\n",
       "  </thead>\n",
       "  <tbody>\n",
       "    <tr>\n",
       "      <th>0</th>\n",
       "      <td>6833101</td>\n",
       "      <td>CN</td>\n",
       "      <td>Food</td>\n",
       "      <td>Sugar &amp; Gum Confectionery</td>\n",
       "      <td>Other Sugar Confectionery</td>\n",
       "      <td>2016-11-25</td>\n",
       "    </tr>\n",
       "    <tr>\n",
       "      <th>1</th>\n",
       "      <td>9319733</td>\n",
       "      <td>PH</td>\n",
       "      <td>Food</td>\n",
       "      <td>Bakery</td>\n",
       "      <td>Cakes, Pastries &amp; Sweet Goods</td>\n",
       "      <td>2018-10-31</td>\n",
       "    </tr>\n",
       "    <tr>\n",
       "      <th>2</th>\n",
       "      <td>11789985</td>\n",
       "      <td>GB</td>\n",
       "      <td>Food</td>\n",
       "      <td>Processed Fish, Meat &amp; Egg Products</td>\n",
       "      <td>Poultry Products</td>\n",
       "      <td>2019-12-18</td>\n",
       "    </tr>\n",
       "    <tr>\n",
       "      <th>3</th>\n",
       "      <td>6707921</td>\n",
       "      <td>CL</td>\n",
       "      <td>Food</td>\n",
       "      <td>Dairy</td>\n",
       "      <td>Soft Cheese &amp; Semi-Soft Cheese</td>\n",
       "      <td>2016-10-27</td>\n",
       "    </tr>\n",
       "    <tr>\n",
       "      <th>4</th>\n",
       "      <td>15866682</td>\n",
       "      <td>CZ</td>\n",
       "      <td>Food</td>\n",
       "      <td>Chocolate Confectionery</td>\n",
       "      <td>Seasonal Chocolate</td>\n",
       "      <td>2023-03-22</td>\n",
       "    </tr>\n",
       "  </tbody>\n",
       "</table>\n",
       "</div>"
      ],
      "text/plain": [
       "       p_id c_id supercat                                  cat  \\\n",
       "0   6833101   CN     Food            Sugar & Gum Confectionery   \n",
       "1   9319733   PH     Food                               Bakery   \n",
       "2  11789985   GB     Food  Processed Fish, Meat & Egg Products   \n",
       "3   6707921   CL     Food                                Dairy   \n",
       "4  15866682   CZ     Food              Chocolate Confectionery   \n",
       "\n",
       "                              sub        date  \n",
       "0       Other Sugar Confectionery  2016-11-25  \n",
       "1   Cakes, Pastries & Sweet Goods  2018-10-31  \n",
       "2                Poultry Products  2019-12-18  \n",
       "3  Soft Cheese & Semi-Soft Cheese  2016-10-27  \n",
       "4              Seasonal Chocolate  2023-03-22  "
      ]
     },
     "metadata": {},
     "output_type": "display_data"
    },
    {
     "name": "stdout",
     "output_type": "stream",
     "text": [
      "<class 'pandas.core.frame.DataFrame'>\n",
      "RangeIndex: 2281370 entries, 0 to 2281369\n",
      "Data columns (total 6 columns):\n",
      " #   Column    Dtype         \n",
      "---  ------    -----         \n",
      " 0   p_id      int64         \n",
      " 1   c_id      object        \n",
      " 2   supercat  object        \n",
      " 3   cat       object        \n",
      " 4   sub       object        \n",
      " 5   date      datetime64[ns]\n",
      "dtypes: datetime64[ns](1), int64(1), object(4)\n",
      "memory usage: 104.4+ MB\n"
     ]
    },
    {
     "data": {
      "text/plain": [
       "2281370"
      ]
     },
     "execution_count": 4,
     "metadata": {},
     "output_type": "execute_result"
    }
   ],
   "source": [
    "display(products.head())\n",
    "products['date'] = pd.to_datetime(products['date'], errors='coerce')\n",
    "products.describe()\n",
    "products.info()\n",
    "\n",
    "products.p_id.nunique()"
   ]
  },
  {
   "cell_type": "code",
   "execution_count": null,
   "metadata": {},
   "outputs": [],
   "source": []
  },
  {
   "cell_type": "markdown",
   "metadata": {},
   "source": [
    "### num_prod by supercat and cat"
   ]
  },
  {
   "cell_type": "code",
   "execution_count": 5,
   "metadata": {},
   "outputs": [
    {
     "name": "stdout",
     "output_type": "stream",
     "text": [
      "  supercat     p_id\n",
      "0    Drink   402332\n",
      "1     Food  1879038\n"
     ]
    },
    {
     "data": {
      "text/html": [
       "<div>\n",
       "<style scoped>\n",
       "    .dataframe tbody tr th:only-of-type {\n",
       "        vertical-align: middle;\n",
       "    }\n",
       "\n",
       "    .dataframe tbody tr th {\n",
       "        vertical-align: top;\n",
       "    }\n",
       "\n",
       "    .dataframe thead th {\n",
       "        text-align: right;\n",
       "    }\n",
       "</style>\n",
       "<table border=\"1\" class=\"dataframe\">\n",
       "  <thead>\n",
       "    <tr style=\"text-align: right;\">\n",
       "      <th></th>\n",
       "      <th>supercat</th>\n",
       "      <th>cat</th>\n",
       "      <th>p_id</th>\n",
       "    </tr>\n",
       "  </thead>\n",
       "  <tbody>\n",
       "    <tr>\n",
       "      <th>2</th>\n",
       "      <td>Drink</td>\n",
       "      <td>Hot Beverages</td>\n",
       "      <td>104300</td>\n",
       "    </tr>\n",
       "    <tr>\n",
       "      <th>0</th>\n",
       "      <td>Drink</td>\n",
       "      <td>Alcoholic Beverages</td>\n",
       "      <td>101137</td>\n",
       "    </tr>\n",
       "    <tr>\n",
       "      <th>3</th>\n",
       "      <td>Drink</td>\n",
       "      <td>Juice Drinks</td>\n",
       "      <td>68275</td>\n",
       "    </tr>\n",
       "    <tr>\n",
       "      <th>4</th>\n",
       "      <td>Drink</td>\n",
       "      <td>Nutritional Drinks &amp; Other Beverages</td>\n",
       "      <td>42499</td>\n",
       "    </tr>\n",
       "    <tr>\n",
       "      <th>1</th>\n",
       "      <td>Drink</td>\n",
       "      <td>Carbonated Soft Drinks</td>\n",
       "      <td>30867</td>\n",
       "    </tr>\n",
       "    <tr>\n",
       "      <th>5</th>\n",
       "      <td>Drink</td>\n",
       "      <td>RTDs</td>\n",
       "      <td>23519</td>\n",
       "    </tr>\n",
       "    <tr>\n",
       "      <th>7</th>\n",
       "      <td>Drink</td>\n",
       "      <td>Water</td>\n",
       "      <td>18941</td>\n",
       "    </tr>\n",
       "    <tr>\n",
       "      <th>6</th>\n",
       "      <td>Drink</td>\n",
       "      <td>Sports &amp; Energy Drinks</td>\n",
       "      <td>12794</td>\n",
       "    </tr>\n",
       "    <tr>\n",
       "      <th>9</th>\n",
       "      <td>Food</td>\n",
       "      <td>Bakery</td>\n",
       "      <td>294261</td>\n",
       "    </tr>\n",
       "    <tr>\n",
       "      <th>20</th>\n",
       "      <td>Food</td>\n",
       "      <td>Snacks</td>\n",
       "      <td>252863</td>\n",
       "    </tr>\n",
       "    <tr>\n",
       "      <th>17</th>\n",
       "      <td>Food</td>\n",
       "      <td>Sauces &amp; Seasonings</td>\n",
       "      <td>232939</td>\n",
       "    </tr>\n",
       "    <tr>\n",
       "      <th>16</th>\n",
       "      <td>Food</td>\n",
       "      <td>Processed Fish, Meat &amp; Egg Products</td>\n",
       "      <td>199916</td>\n",
       "    </tr>\n",
       "    <tr>\n",
       "      <th>12</th>\n",
       "      <td>Food</td>\n",
       "      <td>Dairy</td>\n",
       "      <td>190680</td>\n",
       "    </tr>\n",
       "    <tr>\n",
       "      <th>11</th>\n",
       "      <td>Food</td>\n",
       "      <td>Chocolate Confectionery</td>\n",
       "      <td>111787</td>\n",
       "    </tr>\n",
       "    <tr>\n",
       "      <th>15</th>\n",
       "      <td>Food</td>\n",
       "      <td>Meals &amp; Meal Centers</td>\n",
       "      <td>103866</td>\n",
       "    </tr>\n",
       "    <tr>\n",
       "      <th>19</th>\n",
       "      <td>Food</td>\n",
       "      <td>Side Dishes</td>\n",
       "      <td>94868</td>\n",
       "    </tr>\n",
       "    <tr>\n",
       "      <th>13</th>\n",
       "      <td>Food</td>\n",
       "      <td>Desserts &amp; Ice Cream</td>\n",
       "      <td>80061</td>\n",
       "    </tr>\n",
       "    <tr>\n",
       "      <th>22</th>\n",
       "      <td>Food</td>\n",
       "      <td>Sugar &amp; Gum Confectionery</td>\n",
       "      <td>67485</td>\n",
       "    </tr>\n",
       "    <tr>\n",
       "      <th>14</th>\n",
       "      <td>Food</td>\n",
       "      <td>Fruit &amp; Vegetables</td>\n",
       "      <td>66819</td>\n",
       "    </tr>\n",
       "    <tr>\n",
       "      <th>23</th>\n",
       "      <td>Food</td>\n",
       "      <td>Sweet Spreads</td>\n",
       "      <td>52177</td>\n",
       "    </tr>\n",
       "    <tr>\n",
       "      <th>10</th>\n",
       "      <td>Food</td>\n",
       "      <td>Breakfast Cereals</td>\n",
       "      <td>46797</td>\n",
       "    </tr>\n",
       "    <tr>\n",
       "      <th>8</th>\n",
       "      <td>Food</td>\n",
       "      <td>Baby Food</td>\n",
       "      <td>28400</td>\n",
       "    </tr>\n",
       "    <tr>\n",
       "      <th>18</th>\n",
       "      <td>Food</td>\n",
       "      <td>Savoury Spreads</td>\n",
       "      <td>21572</td>\n",
       "    </tr>\n",
       "    <tr>\n",
       "      <th>21</th>\n",
       "      <td>Food</td>\n",
       "      <td>Soup</td>\n",
       "      <td>21348</td>\n",
       "    </tr>\n",
       "    <tr>\n",
       "      <th>24</th>\n",
       "      <td>Food</td>\n",
       "      <td>Sweeteners &amp; Sugar</td>\n",
       "      <td>13199</td>\n",
       "    </tr>\n",
       "  </tbody>\n",
       "</table>\n",
       "</div>"
      ],
      "text/plain": [
       "   supercat                                   cat    p_id\n",
       "2     Drink                         Hot Beverages  104300\n",
       "0     Drink                   Alcoholic Beverages  101137\n",
       "3     Drink                          Juice Drinks   68275\n",
       "4     Drink  Nutritional Drinks & Other Beverages   42499\n",
       "1     Drink                Carbonated Soft Drinks   30867\n",
       "5     Drink                                  RTDs   23519\n",
       "7     Drink                                 Water   18941\n",
       "6     Drink                Sports & Energy Drinks   12794\n",
       "9      Food                                Bakery  294261\n",
       "20     Food                                Snacks  252863\n",
       "17     Food                   Sauces & Seasonings  232939\n",
       "16     Food   Processed Fish, Meat & Egg Products  199916\n",
       "12     Food                                 Dairy  190680\n",
       "11     Food               Chocolate Confectionery  111787\n",
       "15     Food                  Meals & Meal Centers  103866\n",
       "19     Food                           Side Dishes   94868\n",
       "13     Food                  Desserts & Ice Cream   80061\n",
       "22     Food             Sugar & Gum Confectionery   67485\n",
       "14     Food                    Fruit & Vegetables   66819\n",
       "23     Food                         Sweet Spreads   52177\n",
       "10     Food                     Breakfast Cereals   46797\n",
       "8      Food                             Baby Food   28400\n",
       "18     Food                       Savoury Spreads   21572\n",
       "21     Food                                  Soup   21348\n",
       "24     Food                    Sweeteners & Sugar   13199"
      ]
     },
     "execution_count": 5,
     "metadata": {},
     "output_type": "execute_result"
    }
   ],
   "source": [
    "import matplotlib.pyplot as plt\n",
    "# products.groupby('cat')['p_id'].count().reset_index()\n",
    "x = products.groupby('supercat')['p_id'].count().reset_index()\n",
    "print(x)\n",
    "# products.groupby('supercat')['cat'].nunique()\n",
    "products.groupby(['supercat','cat'])['p_id'].count().reset_index().sort_values(['supercat','p_id'], ascending=[True,False]) "
   ]
  },
  {
   "cell_type": "code",
   "execution_count": 6,
   "metadata": {},
   "outputs": [
    {
     "data": {
      "image/png": "[encoded data removed]",
      "text/plain": [
       "<Figure size 1000x600 with 1 Axes>"
      ]
     },
     "metadata": {},
     "output_type": "display_data"
    }
   ],
   "source": [
    "# Count the distribution of high-level product categories (e.g., Food, Drink)\n",
    "products['supercat'].value_counts().plot(kind='bar', figsize=(10, 6), color=['orange', 'blue'], title='Distribution of Super Categories')\n",
    "plt.xlabel('Super Category')\n",
    "plt.ylabel('Count')\n",
    "plt.show()\n"
   ]
  },
  {
   "cell_type": "code",
   "execution_count": 7,
   "metadata": {},
   "outputs": [
    {
     "data": {
      "image/png": "[encoded data removed]",
      "text/plain": [
       "<Figure size 1200x600 with 1 Axes>"
      ]
     },
     "metadata": {},
     "output_type": "display_data"
    },
    {
     "data": {
      "image/png": "[encoded data removed]",
      "text/plain": [
       "<Figure size 1200x600 with 1 Axes>"
      ]
     },
     "metadata": {},
     "output_type": "display_data"
    }
   ],
   "source": [
    "import matplotlib.pyplot as plt\n",
    "# Choose two super categories to compare\n",
    "supercat1 = 'Food'  # Example\n",
    "supercat2 = 'Drink'  # Example\n",
    "\n",
    "# Filter the data for these two super categories\n",
    "data_supercat1 = products[products['supercat'] == supercat1]\n",
    "data_supercat2 = products[products['supercat'] == supercat2]\n",
    "# Count occurrences of each category in supercat1\n",
    "cat_counts_supercat1 = data_supercat1['cat'].value_counts()\n",
    "\n",
    "# Plot the distribution of categories in supercat1\n",
    "plt.figure(figsize=(12, 6))\n",
    "cat_counts_supercat1.plot(kind='bar', color='blue', alpha=0.7)\n",
    "plt.title(f'Category Distribution in {supercat1}')\n",
    "plt.xlabel('Category')\n",
    "plt.ylabel('Num product')\n",
    "plt.xticks()\n",
    "plt.tight_layout()\n",
    "plt.show()\n",
    "\n",
    "# Count occurrences of each category in supercat2\n",
    "cat_counts_supercat2 = data_supercat2['cat'].value_counts()\n",
    "\n",
    "# Plot the distribution of categories in supercat2\n",
    "plt.figure(figsize=(12, 6))\n",
    "cat_counts_supercat2.plot(kind='bar', color='orange', alpha=0.7)\n",
    "plt.title(f'Category Distribution in {supercat2}')\n",
    "plt.xlabel('Category')\n",
    "plt.ylabel('Num product')\n",
    "plt.xticks()\n",
    "plt.tight_layout()\n",
    "plt.show()\n"
   ]
  },
  {
   "cell_type": "markdown",
   "metadata": {},
   "source": [
    "### num_prod by datetime"
   ]
  },
  {
   "cell_type": "code",
   "execution_count": 8,
   "metadata": {},
   "outputs": [
    {
     "data": {
      "application/vnd.plotly.v1+json": {
       "config": {
        "plotlyServerURL": "https://plot.ly"
       },
       "data": [
        {
         "hovertemplate": "Category=Baby Food<br>month=%{x}<br>Number of Products=%{y}<extra></extra>",
         "legendgroup": "Baby Food",
         "line": {
          "color": "#636efa",
          "dash": "solid"
         },
         "marker": {
          "symbol": "circle"
         },
         "mode": "lines",
         "name": "Baby Food",
         "orientation": "v",
         "showlegend": true,
         "type": "scatter",
         "x": [
          1,
          2,
          3,
          4,
          5,
          6,
          7,
          8,
          9,
          10,
          11,
          12
         ],
         "xaxis": "x",
         "y": [
          2298,
          2075,
          2411,
          2345,
          2271,
          2643,
          2445,
          2418,
          2567,
          2476,
          2341,
          2110
         ],
         "yaxis": "y"
        },
        {
         "hovertemplate": "Category=Bakery<br>month=%{x}<br>Number of Products=%{y}<extra></extra>",
         "legendgroup": "Bakery",
         "line": {
          "color": "#EF553B",
          "dash": "solid"
         },
         "marker": {
          "symbol": "circle"
         },
         "mode": "lines",
         "name": "Bakery",
         "orientation": "v",
         "showlegend": true,
         "type": "scatter",
         "x": [
          1,
          2,
          3,
          4,
          5,
          6,
          7,
          8,
          9,
          10,
          11,
          12
         ],
         "xaxis": "x",
         "y": [
          27341,
          24240,
          23714,
          22121,
          23237,
          23831,
          24147,
          24010,
          25196,
          26148,
          25424,
          24852
         ],
         "yaxis": "y"
        },
        {
         "hovertemplate": "Category=Breakfast Cereals<br>month=%{x}<br>Number of Products=%{y}<extra></extra>",
         "legendgroup": "Breakfast Cereals",
         "line": {
          "color": "#00cc96",
          "dash": "solid"
         },
         "marker": {
          "symbol": "circle"
         },
         "mode": "lines",
         "name": "Breakfast Cereals",
         "orientation": "v",
         "showlegend": true,
         "type": "scatter",
         "x": [
          1,
          2,
          3,
          4,
          5,
          6,
          7,
          8,
          9,
          10,
          11,
          12
         ],
         "xaxis": "x",
         "y": [
          4157,
          3743,
          3884,
          3724,
          3868,
          4138,
          4122,
          4250,
          4003,
          4108,
          3620,
          3180
         ],
         "yaxis": "y"
        },
        {
         "hovertemplate": "Category=Chocolate Confectionery<br>month=%{x}<br>Number of Products=%{y}<extra></extra>",
         "legendgroup": "Chocolate Confectionery",
         "line": {
          "color": "#ab63fa",
          "dash": "solid"
         },
         "marker": {
          "symbol": "circle"
         },
         "mode": "lines",
         "name": "Chocolate Confectionery",
         "orientation": "v",
         "showlegend": true,
         "type": "scatter",
         "x": [
          1,
          2,
          3,
          4,
          5,
          6,
          7,
          8,
          9,
          10,
          11,
          12
         ],
         "xaxis": "x",
         "y": [
          10541,
          10716,
          12688,
          10849,
          7092,
          6899,
          6094,
          6119,
          6984,
          9134,
          11674,
          12997
         ],
         "yaxis": "y"
        },
        {
         "hovertemplate": "Category=Dairy<br>month=%{x}<br>Number of Products=%{y}<extra></extra>",
         "legendgroup": "Dairy",
         "line": {
          "color": "#FFA15A",
          "dash": "solid"
         },
         "marker": {
          "symbol": "circle"
         },
         "mode": "lines",
         "name": "Dairy",
         "orientation": "v",
         "showlegend": true,
         "type": "scatter",
         "x": [
          1,
          2,
          3,
          4,
          5,
          6,
          7,
          8,
          9,
          10,
          11,
          12
         ],
         "xaxis": "x",
         "y": [
          16809,
          14883,
          15986,
          14952,
          16340,
          16707,
          16610,
          16238,
          16282,
          16458,
          15503,
          13912
         ],
         "yaxis": "y"
        },
        {
         "hovertemplate": "Category=Desserts & Ice Cream<br>month=%{x}<br>Number of Products=%{y}<extra></extra>",
         "legendgroup": "Desserts & Ice Cream",
         "line": {
          "color": "#19d3f3",
          "dash": "solid"
         },
         "marker": {
          "symbol": "circle"
         },
         "mode": "lines",
         "name": "Desserts & Ice Cream",
         "orientation": "v",
         "showlegend": true,
         "type": "scatter",
         "x": [
          1,
          2,
          3,
          4,
          5,
          6,
          7,
          8,
          9,
          10,
          11,
          12
         ],
         "xaxis": "x",
         "y": [
          6319,
          5293,
          6262,
          6977,
          7879,
          8453,
          8242,
          7372,
          6473,
          6143,
          5413,
          5235
         ],
         "yaxis": "y"
        },
        {
         "hovertemplate": "Category=Fruit & Vegetables<br>month=%{x}<br>Number of Products=%{y}<extra></extra>",
         "legendgroup": "Fruit & Vegetables",
         "line": {
          "color": "#FF6692",
          "dash": "solid"
         },
         "marker": {
          "symbol": "circle"
         },
         "mode": "lines",
         "name": "Fruit & Vegetables",
         "orientation": "v",
         "showlegend": true,
         "type": "scatter",
         "x": [
          1,
          2,
          3,
          4,
          5,
          6,
          7,
          8,
          9,
          10,
          11,
          12
         ],
         "xaxis": "x",
         "y": [
          6254,
          6006,
          5709,
          5142,
          5608,
          5717,
          5593,
          5672,
          5577,
          5466,
          5170,
          4905
         ],
         "yaxis": "y"
        },
        {
         "hovertemplate": "Category=Meals & Meal Centers<br>month=%{x}<br>Number of Products=%{y}<extra></extra>",
         "legendgroup": "Meals & Meal Centers",
         "line": {
          "color": "#B6E880",
          "dash": "solid"
         },
         "marker": {
          "symbol": "circle"
         },
         "mode": "lines",
         "name": "Meals & Meal Centers",
         "orientation": "v",
         "showlegend": true,
         "type": "scatter",
         "x": [
          1,
          2,
          3,
          4,
          5,
          6,
          7,
          8,
          9,
          10,
          11,
          12
         ],
         "xaxis": "x",
         "y": [
          9131,
          8304,
          8940,
          7917,
          8699,
          9089,
          8904,
          8720,
          8683,
          9600,
          8576,
          7303
         ],
         "yaxis": "y"
        },
        {
         "hovertemplate": "Category=Processed Fish, Meat & Egg Products<br>month=%{x}<br>Number of Products=%{y}<extra></extra>",
         "legendgroup": "Processed Fish, Meat & Egg Products",
         "line": {
          "color": "#FF97FF",
          "dash": "solid"
         },
         "marker": {
          "symbol": "circle"
         },
         "mode": "lines",
         "name": "Processed Fish, Meat & Egg Products",
         "orientation": "v",
         "showlegend": true,
         "type": "scatter",
         "x": [
          1,
          2,
          3,
          4,
          5,
          6,
          7,
          8,
          9,
          10,
          11,
          12
         ],
         "xaxis": "x",
         "y": [
          18220,
          15698,
          16651,
          15262,
          17158,
          17568,
          17262,
          16869,
          16254,
          17297,
          16196,
          15481
         ],
         "yaxis": "y"
        },
        {
         "hovertemplate": "Category=Sauces & Seasonings<br>month=%{x}<br>Number of Products=%{y}<extra></extra>",
         "legendgroup": "Sauces & Seasonings",
         "line": {
          "color": "#FECB52",
          "dash": "solid"
         },
         "marker": {
          "symbol": "circle"
         },
         "mode": "lines",
         "name": "Sauces & Seasonings",
         "orientation": "v",
         "showlegend": true,
         "type": "scatter",
         "x": [
          1,
          2,
          3,
          4,
          5,
          6,
          7,
          8,
          9,
          10,
          11,
          12
         ],
         "xaxis": "x",
         "y": [
          20464,
          18224,
          19436,
          17947,
          20086,
          20220,
          20334,
          20824,
          20926,
          20245,
          18196,
          16037
         ],
         "yaxis": "y"
        },
        {
         "hovertemplate": "Category=Savoury Spreads<br>month=%{x}<br>Number of Products=%{y}<extra></extra>",
         "legendgroup": "Savoury Spreads",
         "line": {
          "color": "#636efa",
          "dash": "solid"
         },
         "marker": {
          "symbol": "circle"
         },
         "mode": "lines",
         "name": "Savoury Spreads",
         "orientation": "v",
         "showlegend": true,
         "type": "scatter",
         "x": [
          1,
          2,
          3,
          4,
          5,
          6,
          7,
          8,
          9,
          10,
          11,
          12
         ],
         "xaxis": "x",
         "y": [
          2310,
          1737,
          1674,
          1471,
          1748,
          1761,
          1910,
          1827,
          1916,
          1794,
          1707,
          1717
         ],
         "yaxis": "y"
        },
        {
         "hovertemplate": "Category=Side Dishes<br>month=%{x}<br>Number of Products=%{y}<extra></extra>",
         "legendgroup": "Side Dishes",
         "line": {
          "color": "#EF553B",
          "dash": "solid"
         },
         "marker": {
          "symbol": "circle"
         },
         "mode": "lines",
         "name": "Side Dishes",
         "orientation": "v",
         "showlegend": true,
         "type": "scatter",
         "x": [
          1,
          2,
          3,
          4,
          5,
          6,
          7,
          8,
          9,
          10,
          11,
          12
         ],
         "xaxis": "x",
         "y": [
          8634,
          7753,
          8089,
          7053,
          7729,
          8137,
          8139,
          8176,
          8019,
          8455,
          7795,
          6889
         ],
         "yaxis": "y"
        },
        {
         "hovertemplate": "Category=Snacks<br>month=%{x}<br>Number of Products=%{y}<extra></extra>",
         "legendgroup": "Snacks",
         "line": {
          "color": "#00cc96",
          "dash": "solid"
         },
         "marker": {
          "symbol": "circle"
         },
         "mode": "lines",
         "name": "Snacks",
         "orientation": "v",
         "showlegend": true,
         "type": "scatter",
         "x": [
          1,
          2,
          3,
          4,
          5,
          6,
          7,
          8,
          9,
          10,
          11,
          12
         ],
         "xaxis": "x",
         "y": [
          23497,
          20953,
          20798,
          19143,
          20319,
          21687,
          22311,
          22075,
          21464,
          21833,
          20444,
          18339
         ],
         "yaxis": "y"
        },
        {
         "hovertemplate": "Category=Soup<br>month=%{x}<br>Number of Products=%{y}<extra></extra>",
         "legendgroup": "Soup",
         "line": {
          "color": "#ab63fa",
          "dash": "solid"
         },
         "marker": {
          "symbol": "circle"
         },
         "mode": "lines",
         "name": "Soup",
         "orientation": "v",
         "showlegend": true,
         "type": "scatter",
         "x": [
          1,
          2,
          3,
          4,
          5,
          6,
          7,
          8,
          9,
          10,
          11,
          12
         ],
         "xaxis": "x",
         "y": [
          2064,
          1891,
          1813,
          1630,
          1762,
          1549,
          1569,
          1653,
          1882,
          1990,
          1881,
          1664
         ],
         "yaxis": "y"
        },
        {
         "hovertemplate": "Category=Sugar & Gum Confectionery<br>month=%{x}<br>Number of Products=%{y}<extra></extra>",
         "legendgroup": "Sugar & Gum Confectionery",
         "line": {
          "color": "#FFA15A",
          "dash": "solid"
         },
         "marker": {
          "symbol": "circle"
         },
         "mode": "lines",
         "name": "Sugar & Gum Confectionery",
         "orientation": "v",
         "showlegend": true,
         "type": "scatter",
         "x": [
          1,
          2,
          3,
          4,
          5,
          6,
          7,
          8,
          9,
          10,
          11,
          12
         ],
         "xaxis": "x",
         "y": [
          6290,
          6036,
          5410,
          4886,
          4899,
          5333,
          5098,
          5279,
          5477,
          6362,
          6566,
          5849
         ],
         "yaxis": "y"
        },
        {
         "hovertemplate": "Category=Sweet Spreads<br>month=%{x}<br>Number of Products=%{y}<extra></extra>",
         "legendgroup": "Sweet Spreads",
         "line": {
          "color": "#19d3f3",
          "dash": "solid"
         },
         "marker": {
          "symbol": "circle"
         },
         "mode": "lines",
         "name": "Sweet Spreads",
         "orientation": "v",
         "showlegend": true,
         "type": "scatter",
         "x": [
          1,
          2,
          3,
          4,
          5,
          6,
          7,
          8,
          9,
          10,
          11,
          12
         ],
         "xaxis": "x",
         "y": [
          4522,
          4509,
          4410,
          3912,
          3984,
          4225,
          4238,
          4561,
          4522,
          4834,
          4394,
          4066
         ],
         "yaxis": "y"
        },
        {
         "hovertemplate": "Category=Sweeteners & Sugar<br>month=%{x}<br>Number of Products=%{y}<extra></extra>",
         "legendgroup": "Sweeteners & Sugar",
         "line": {
          "color": "#FF6692",
          "dash": "solid"
         },
         "marker": {
          "symbol": "circle"
         },
         "mode": "lines",
         "name": "Sweeteners & Sugar",
         "orientation": "v",
         "showlegend": true,
         "type": "scatter",
         "x": [
          1,
          2,
          3,
          4,
          5,
          6,
          7,
          8,
          9,
          10,
          11,
          12
         ],
         "xaxis": "x",
         "y": [
          1225,
          1071,
          1086,
          1024,
          1139,
          1118,
          1126,
          1113,
          1158,
          1153,
          1038,
          948
         ],
         "yaxis": "y"
        }
       ],
       "layout": {
        "hovermode": "x unified",
        "legend": {
         "title": {
          "text": "Category"
         },
         "tracegroupgap": 0
        },
        "template": {
         "data": {
          "bar": [
           {
            "error_x": {
             "color": "#2a3f5f"
            },
            "error_y": {
             "color": "#2a3f5f"
            },
            "marker": {
             "line": {
              "color": "#E5ECF6",
              "width": 0.5
             },
             "pattern": {
              "fillmode": "overlay",
              "size": 10,
              "solidity": 0.2
             }
            },
            "type": "bar"
           }
          ],
          "barpolar": [
           {
            "marker": {
             "line": {
              "color": "#E5ECF6",
              "width": 0.5
             },
             "pattern": {
              "fillmode": "overlay",
              "size": 10,
              "solidity": 0.2
             }
            },
            "type": "barpolar"
           }
          ],
          "carpet": [
           {
            "aaxis": {
             "endlinecolor": "#2a3f5f",
             "gridcolor": "white",
             "linecolor": "white",
             "minorgridcolor": "white",
             "startlinecolor": "#2a3f5f"
            },
            "baxis": {
             "endlinecolor": "#2a3f5f",
             "gridcolor": "white",
             "linecolor": "white",
             "minorgridcolor": "white",
             "startlinecolor": "#2a3f5f"
            },
            "type": "carpet"
           }
          ],
          "choropleth": [
           {
            "colorbar": {
             "outlinewidth": 0,
             "ticks": ""
            },
            "type": "choropleth"
           }
          ],
          "contour": [
           {
            "colorbar": {
             "outlinewidth": 0,
             "ticks": ""
            },
            "colorscale": [
             [
              0,
              "#0d0887"
             ],
             [
              0.1111111111111111,
              "#46039f"
             ],
             [
              0.2222222222222222,
              "#7201a8"
             ],
             [
              0.3333333333333333,
              "#9c179e"
             ],
             [
              0.4444444444444444,
              "#bd3786"
             ],
             [
              0.5555555555555556,
              "#d8576b"
             ],
             [
              0.6666666666666666,
              "#ed7953"
             ],
             [
              0.7777777777777778,
              "#fb9f3a"
             ],
             [
              0.8888888888888888,
              "#fdca26"
             ],
             [
              1,
              "#f0f921"
             ]
            ],
            "type": "contour"
           }
          ],
          "contourcarpet": [
           {
            "colorbar": {
             "outlinewidth": 0,
             "ticks": ""
            },
            "type": "contourcarpet"
           }
          ],
          "heatmap": [
           {
            "colorbar": {
             "outlinewidth": 0,
             "ticks": ""
            },
            "colorscale": [
             [
              0,
              "#0d0887"
             ],
             [
              0.1111111111111111,
              "#46039f"
             ],
             [
              0.2222222222222222,
              "#7201a8"
             ],
             [
              0.3333333333333333,
              "#9c179e"
             ],
             [
              0.4444444444444444,
              "#bd3786"
             ],
             [
              0.5555555555555556,
              "#d8576b"
             ],
             [
              0.6666666666666666,
              "#ed7953"
             ],
             [
              0.7777777777777778,
              "#fb9f3a"
             ],
             [
              0.8888888888888888,
              "#fdca26"
             ],
             [
              1,
              "#f0f921"
             ]
            ],
            "type": "heatmap"
           }
          ],
          "heatmapgl": [
           {
            "colorbar": {
             "outlinewidth": 0,
             "ticks": ""
            },
            "colorscale": [
             [
              0,
              "#0d0887"
             ],
             [
              0.1111111111111111,
              "#46039f"
             ],
             [
              0.2222222222222222,
              "#7201a8"
             ],
             [
              0.3333333333333333,
              "#9c179e"
             ],
             [
              0.4444444444444444,
              "#bd3786"
             ],
             [
              0.5555555555555556,
              "#d8576b"
             ],
             [
              0.6666666666666666,
              "#ed7953"
             ],
             [
              0.7777777777777778,
              "#fb9f3a"
             ],
             [
              0.8888888888888888,
              "#fdca26"
             ],
             [
              1,
              "#f0f921"
             ]
            ],
            "type": "heatmapgl"
           }
          ],
          "histogram": [
           {
            "marker": {
             "pattern": {
              "fillmode": "overlay",
              "size": 10,
              "solidity": 0.2
             }
            },
            "type": "histogram"
           }
          ],
          "histogram2d": [
           {
            "colorbar": {
             "outlinewidth": 0,
             "ticks": ""
            },
            "colorscale": [
             [
              0,
              "#0d0887"
             ],
             [
              0.1111111111111111,
              "#46039f"
             ],
             [
              0.2222222222222222,
              "#7201a8"
             ],
             [
              0.3333333333333333,
              "#9c179e"
             ],
             [
              0.4444444444444444,
              "#bd3786"
             ],
             [
              0.5555555555555556,
              "#d8576b"
             ],
             [
              0.6666666666666666,
              "#ed7953"
             ],
             [
              0.7777777777777778,
              "#fb9f3a"
             ],
             [
              0.8888888888888888,
              "#fdca26"
             ],
             [
              1,
              "#f0f921"
             ]
            ],
            "type": "histogram2d"
           }
          ],
          "histogram2dcontour": [
           {
            "colorbar": {
             "outlinewidth": 0,
             "ticks": ""
            },
            "colorscale": [
             [
              0,
              "#0d0887"
             ],
             [
              0.1111111111111111,
              "#46039f"
             ],
             [
              0.2222222222222222,
              "#7201a8"
             ],
             [
              0.3333333333333333,
              "#9c179e"
             ],
             [
              0.4444444444444444,
              "#bd3786"
             ],
             [
              0.5555555555555556,
              "#d8576b"
             ],
             [
              0.6666666666666666,
              "#ed7953"
             ],
             [
              0.7777777777777778,
              "#fb9f3a"
             ],
             [
              0.8888888888888888,
              "#fdca26"
             ],
             [
              1,
              "#f0f921"
             ]
            ],
            "type": "histogram2dcontour"
           }
          ],
          "mesh3d": [
           {
            "colorbar": {
             "outlinewidth": 0,
             "ticks": ""
            },
            "type": "mesh3d"
           }
          ],
          "parcoords": [
           {
            "line": {
             "colorbar": {
              "outlinewidth": 0,
              "ticks": ""
             }
            },
            "type": "parcoords"
           }
          ],
          "pie": [
           {
            "automargin": true,
            "type": "pie"
           }
          ],
          "scatter": [
           {
            "fillpattern": {
             "fillmode": "overlay",
             "size": 10,
             "solidity": 0.2
            },
            "type": "scatter"
           }
          ],
          "scatter3d": [
           {
            "line": {
             "colorbar": {
              "outlinewidth": 0,
              "ticks": ""
             }
            },
            "marker": {
             "colorbar": {
              "outlinewidth": 0,
              "ticks": ""
             }
            },
            "type": "scatter3d"
           }
          ],
          "scattercarpet": [
           {
            "marker": {
             "colorbar": {
              "outlinewidth": 0,
              "ticks": ""
             }
            },
            "type": "scattercarpet"
           }
          ],
          "scattergeo": [
           {
            "marker": {
             "colorbar": {
              "outlinewidth": 0,
              "ticks": ""
             }
            },
            "type": "scattergeo"
           }
          ],
          "scattergl": [
           {
            "marker": {
             "colorbar": {
              "outlinewidth": 0,
              "ticks": ""
             }
            },
            "type": "scattergl"
           }
          ],
          "scattermapbox": [
           {
            "marker": {
             "colorbar": {
              "outlinewidth": 0,
              "ticks": ""
             }
            },
            "type": "scattermapbox"
           }
          ],
          "scatterpolar": [
           {
            "marker": {
             "colorbar": {
              "outlinewidth": 0,
              "ticks": ""
             }
            },
            "type": "scatterpolar"
           }
          ],
          "scatterpolargl": [
           {
            "marker": {
             "colorbar": {
              "outlinewidth": 0,
              "ticks": ""
             }
            },
            "type": "scatterpolargl"
           }
          ],
          "scatterternary": [
           {
            "marker": {
             "colorbar": {
              "outlinewidth": 0,
              "ticks": ""
             }
            },
            "type": "scatterternary"
           }
          ],
          "surface": [
           {
            "colorbar": {
             "outlinewidth": 0,
             "ticks": ""
            },
            "colorscale": [
             [
              0,
              "#0d0887"
             ],
             [
              0.1111111111111111,
              "#46039f"
             ],
             [
              0.2222222222222222,
              "#7201a8"
             ],
             [
              0.3333333333333333,
              "#9c179e"
             ],
             [
              0.4444444444444444,
              "#bd3786"
             ],
             [
              0.5555555555555556,
              "#d8576b"
             ],
             [
              0.6666666666666666,
              "#ed7953"
             ],
             [
              0.7777777777777778,
              "#fb9f3a"
             ],
             [
              0.8888888888888888,
              "#fdca26"
             ],
             [
              1,
              "#f0f921"
             ]
            ],
            "type": "surface"
           }
          ],
          "table": [
           {
            "cells": {
             "fill": {
              "color": "#EBF0F8"
             },
             "line": {
              "color": "white"
             }
            },
            "header": {
             "fill": {
              "color": "#C8D4E3"
             },
             "line": {
              "color": "white"
             }
            },
            "type": "table"
           }
          ]
         },
         "layout": {
          "annotationdefaults": {
           "arrowcolor": "#2a3f5f",
           "arrowhead": 0,
           "arrowwidth": 1
          },
          "autotypenumbers": "strict",
          "coloraxis": {
           "colorbar": {
            "outlinewidth": 0,
            "ticks": ""
           }
          },
          "colorscale": {
           "diverging": [
            [
             0,
             "#8e0152"
            ],
            [
             0.1,
             "#c51b7d"
            ],
            [
             0.2,
             "#de77ae"
            ],
            [
             0.3,
             "#f1b6da"
            ],
            [
             0.4,
             "#fde0ef"
            ],
            [
             0.5,
             "#f7f7f7"
            ],
            [
             0.6,
             "#e6f5d0"
            ],
            [
             0.7,
             "#b8e186"
            ],
            [
             0.8,
             "#7fbc41"
            ],
            [
             0.9,
             "#4d9221"
            ],
            [
             1,
             "#276419"
            ]
           ],
           "sequential": [
            [
             0,
             "#0d0887"
            ],
            [
             0.1111111111111111,
             "#46039f"
            ],
            [
             0.2222222222222222,
             "#7201a8"
            ],
            [
             0.3333333333333333,
             "#9c179e"
            ],
            [
             0.4444444444444444,
             "#bd3786"
            ],
            [
             0.5555555555555556,
             "#d8576b"
            ],
            [
             0.6666666666666666,
             "#ed7953"
            ],
            [
             0.7777777777777778,
             "#fb9f3a"
            ],
            [
             0.8888888888888888,
             "#fdca26"
            ],
            [
             1,
             "#f0f921"
            ]
           ],
           "sequentialminus": [
            [
             0,
             "#0d0887"
            ],
            [
             0.1111111111111111,
             "#46039f"
            ],
            [
             0.2222222222222222,
             "#7201a8"
            ],
            [
             0.3333333333333333,
             "#9c179e"
            ],
            [
             0.4444444444444444,
             "#bd3786"
            ],
            [
             0.5555555555555556,
             "#d8576b"
            ],
            [
             0.6666666666666666,
             "#ed7953"
            ],
            [
             0.7777777777777778,
             "#fb9f3a"
            ],
            [
             0.8888888888888888,
             "#fdca26"
            ],
            [
             1,
             "#f0f921"
            ]
           ]
          },
          "colorway": [
           "#636efa",
           "#EF553B",
           "#00cc96",
           "#ab63fa",
           "#FFA15A",
           "#19d3f3",
           "#FF6692",
           "#B6E880",
           "#FF97FF",
           "#FECB52"
          ],
          "font": {
           "color": "#2a3f5f"
          },
          "geo": {
           "bgcolor": "white",
           "lakecolor": "white",
           "landcolor": "#E5ECF6",
           "showlakes": true,
           "showland": true,
           "subunitcolor": "white"
          },
          "hoverlabel": {
           "align": "left"
          },
          "hovermode": "closest",
          "mapbox": {
           "style": "light"
          },
          "paper_bgcolor": "white",
          "plot_bgcolor": "#E5ECF6",
          "polar": {
           "angularaxis": {
            "gridcolor": "white",
            "linecolor": "white",
            "ticks": ""
           },
           "bgcolor": "#E5ECF6",
           "radialaxis": {
            "gridcolor": "white",
            "linecolor": "white",
            "ticks": ""
           }
          },
          "scene": {
           "xaxis": {
            "backgroundcolor": "#E5ECF6",
            "gridcolor": "white",
            "gridwidth": 2,
            "linecolor": "white",
            "showbackground": true,
            "ticks": "",
            "zerolinecolor": "white"
           },
           "yaxis": {
            "backgroundcolor": "#E5ECF6",
            "gridcolor": "white",
            "gridwidth": 2,
            "linecolor": "white",
            "showbackground": true,
            "ticks": "",
            "zerolinecolor": "white"
           },
           "zaxis": {
            "backgroundcolor": "#E5ECF6",
            "gridcolor": "white",
            "gridwidth": 2,
            "linecolor": "white",
            "showbackground": true,
            "ticks": "",
            "zerolinecolor": "white"
           }
          },
          "shapedefaults": {
           "line": {
            "color": "#2a3f5f"
           }
          },
          "ternary": {
           "aaxis": {
            "gridcolor": "white",
            "linecolor": "white",
            "ticks": ""
           },
           "baxis": {
            "gridcolor": "white",
            "linecolor": "white",
            "ticks": ""
           },
           "bgcolor": "#E5ECF6",
           "caxis": {
            "gridcolor": "white",
            "linecolor": "white",
            "ticks": ""
           }
          },
          "title": {
           "x": 0.05
          },
          "xaxis": {
           "automargin": true,
           "gridcolor": "white",
           "linecolor": "white",
           "ticks": "",
           "title": {
            "standoff": 15
           },
           "zerolinecolor": "white",
           "zerolinewidth": 2
          },
          "yaxis": {
           "automargin": true,
           "gridcolor": "white",
           "linecolor": "white",
           "ticks": "",
           "title": {
            "standoff": 15
           },
           "zerolinecolor": "white",
           "zerolinewidth": 2
          }
         }
        },
        "title": {
         "text": "Trend of Number of Food Products for Each Category Over Month"
        },
        "xaxis": {
         "anchor": "y",
         "domain": [
          0,
          1
         ],
         "title": {
          "text": "Month"
         }
        },
        "yaxis": {
         "anchor": "x",
         "domain": [
          0,
          1
         ],
         "title": {
          "text": "Number of Products"
         }
        }
       }
      }
     },
     "metadata": {},
     "output_type": "display_data"
    },
    {
     "data": {
      "application/vnd.plotly.v1+json": {
       "config": {
        "plotlyServerURL": "https://plot.ly"
       },
       "data": [
        {
         "hovertemplate": "Category=Alcoholic Beverages<br>month=%{x}<br>Number of Products=%{y}<extra></extra>",
         "legendgroup": "Alcoholic Beverages",
         "line": {
          "color": "#636efa",
          "dash": "solid"
         },
         "marker": {
          "symbol": "circle"
         },
         "mode": "lines",
         "name": "Alcoholic Beverages",
         "orientation": "v",
         "showlegend": true,
         "type": "scatter",
         "x": [
          1,
          2,
          3,
          4,
          5,
          6,
          7,
          8,
          9,
          10,
          11,
          12
         ],
         "xaxis": "x",
         "y": [
          9659,
          7649,
          8080,
          7451,
          8312,
          8647,
          8742,
          8331,
          8190,
          8868,
          8666,
          8542
         ],
         "yaxis": "y"
        },
        {
         "hovertemplate": "Category=Carbonated Soft Drinks<br>month=%{x}<br>Number of Products=%{y}<extra></extra>",
         "legendgroup": "Carbonated Soft Drinks",
         "line": {
          "color": "#EF553B",
          "dash": "solid"
         },
         "marker": {
          "symbol": "circle"
         },
         "mode": "lines",
         "name": "Carbonated Soft Drinks",
         "orientation": "v",
         "showlegend": true,
         "type": "scatter",
         "x": [
          1,
          2,
          3,
          4,
          5,
          6,
          7,
          8,
          9,
          10,
          11,
          12
         ],
         "xaxis": "x",
         "y": [
          2611,
          2276,
          2426,
          2364,
          2766,
          2738,
          2817,
          2815,
          2641,
          2716,
          2451,
          2246
         ],
         "yaxis": "y"
        },
        {
         "hovertemplate": "Category=Hot Beverages<br>month=%{x}<br>Number of Products=%{y}<extra></extra>",
         "legendgroup": "Hot Beverages",
         "line": {
          "color": "#00cc96",
          "dash": "solid"
         },
         "marker": {
          "symbol": "circle"
         },
         "mode": "lines",
         "name": "Hot Beverages",
         "orientation": "v",
         "showlegend": true,
         "type": "scatter",
         "x": [
          1,
          2,
          3,
          4,
          5,
          6,
          7,
          8,
          9,
          10,
          11,
          12
         ],
         "xaxis": "x",
         "y": [
          9848,
          8952,
          8965,
          7981,
          7850,
          8295,
          7659,
          8119,
          8660,
          9480,
          9441,
          9050
         ],
         "yaxis": "y"
        },
        {
         "hovertemplate": "Category=Juice Drinks<br>month=%{x}<br>Number of Products=%{y}<extra></extra>",
         "legendgroup": "Juice Drinks",
         "line": {
          "color": "#ab63fa",
          "dash": "solid"
         },
         "marker": {
          "symbol": "circle"
         },
         "mode": "lines",
         "name": "Juice Drinks",
         "orientation": "v",
         "showlegend": true,
         "type": "scatter",
         "x": [
          1,
          2,
          3,
          4,
          5,
          6,
          7,
          8,
          9,
          10,
          11,
          12
         ],
         "xaxis": "x",
         "y": [
          5625,
          5449,
          5918,
          5382,
          5762,
          5869,
          6076,
          6163,
          5803,
          6121,
          5437,
          4670
         ],
         "yaxis": "y"
        },
        {
         "hovertemplate": "Category=Nutritional Drinks & Other Beverages<br>month=%{x}<br>Number of Products=%{y}<extra></extra>",
         "legendgroup": "Nutritional Drinks & Other Beverages",
         "line": {
          "color": "#FFA15A",
          "dash": "solid"
         },
         "marker": {
          "symbol": "circle"
         },
         "mode": "lines",
         "name": "Nutritional Drinks & Other Beverages",
         "orientation": "v",
         "showlegend": true,
         "type": "scatter",
         "x": [
          1,
          2,
          3,
          4,
          5,
          6,
          7,
          8,
          9,
          10,
          11,
          12
         ],
         "xaxis": "x",
         "y": [
          3650,
          3082,
          3637,
          3482,
          3664,
          3956,
          3920,
          3824,
          3460,
          3548,
          3327,
          2949
         ],
         "yaxis": "y"
        },
        {
         "hovertemplate": "Category=RTDs<br>month=%{x}<br>Number of Products=%{y}<extra></extra>",
         "legendgroup": "RTDs",
         "line": {
          "color": "#19d3f3",
          "dash": "solid"
         },
         "marker": {
          "symbol": "circle"
         },
         "mode": "lines",
         "name": "RTDs",
         "orientation": "v",
         "showlegend": true,
         "type": "scatter",
         "x": [
          1,
          2,
          3,
          4,
          5,
          6,
          7,
          8,
          9,
          10,
          11,
          12
         ],
         "xaxis": "x",
         "y": [
          1805,
          1469,
          1682,
          1976,
          2208,
          2378,
          2284,
          2171,
          1997,
          2115,
          1915,
          1519
         ],
         "yaxis": "y"
        },
        {
         "hovertemplate": "Category=Sports & Energy Drinks<br>month=%{x}<br>Number of Products=%{y}<extra></extra>",
         "legendgroup": "Sports & Energy Drinks",
         "line": {
          "color": "#FF6692",
          "dash": "solid"
         },
         "marker": {
          "symbol": "circle"
         },
         "mode": "lines",
         "name": "Sports & Energy Drinks",
         "orientation": "v",
         "showlegend": true,
         "type": "scatter",
         "x": [
          1,
          2,
          3,
          4,
          5,
          6,
          7,
          8,
          9,
          10,
          11,
          12
         ],
         "xaxis": "x",
         "y": [
          967,
          885,
          1065,
          1071,
          1173,
          1204,
          1175,
          1159,
          1188,
          1116,
          983,
          808
         ],
         "yaxis": "y"
        },
        {
         "hovertemplate": "Category=Water<br>month=%{x}<br>Number of Products=%{y}<extra></extra>",
         "legendgroup": "Water",
         "line": {
          "color": "#B6E880",
          "dash": "solid"
         },
         "marker": {
          "symbol": "circle"
         },
         "mode": "lines",
         "name": "Water",
         "orientation": "v",
         "showlegend": true,
         "type": "scatter",
         "x": [
          1,
          2,
          3,
          4,
          5,
          6,
          7,
          8,
          9,
          10,
          11,
          12
         ],
         "xaxis": "x",
         "y": [
          1501,
          1388,
          1669,
          1391,
          1661,
          1720,
          1949,
          1778,
          1640,
          1649,
          1389,
          1206
         ],
         "yaxis": "y"
        }
       ],
       "layout": {
        "hovermode": "x unified",
        "legend": {
         "title": {
          "text": "Category"
         },
         "tracegroupgap": 0
        },
        "template": {
         "data": {
          "bar": [
           {
            "error_x": {
             "color": "#2a3f5f"
            },
            "error_y": {
             "color": "#2a3f5f"
            },
            "marker": {
             "line": {
              "color": "#E5ECF6",
              "width": 0.5
             },
             "pattern": {
              "fillmode": "overlay",
              "size": 10,
              "solidity": 0.2
             }
            },
            "type": "bar"
           }
          ],
          "barpolar": [
           {
            "marker": {
             "line": {
              "color": "#E5ECF6",
              "width": 0.5
             },
             "pattern": {
              "fillmode": "overlay",
              "size": 10,
              "solidity": 0.2
             }
            },
            "type": "barpolar"
           }
          ],
          "carpet": [
           {
            "aaxis": {
             "endlinecolor": "#2a3f5f",
             "gridcolor": "white",
             "linecolor": "white",
             "minorgridcolor": "white",
             "startlinecolor": "#2a3f5f"
            },
            "baxis": {
             "endlinecolor": "#2a3f5f",
             "gridcolor": "white",
             "linecolor": "white",
             "minorgridcolor": "white",
             "startlinecolor": "#2a3f5f"
            },
            "type": "carpet"
           }
          ],
          "choropleth": [
           {
            "colorbar": {
             "outlinewidth": 0,
             "ticks": ""
            },
            "type": "choropleth"
           }
          ],
          "contour": [
           {
            "colorbar": {
             "outlinewidth": 0,
             "ticks": ""
            },
            "colorscale": [
             [
              0,
              "#0d0887"
             ],
             [
              0.1111111111111111,
              "#46039f"
             ],
             [
              0.2222222222222222,
              "#7201a8"
             ],
             [
              0.3333333333333333,
              "#9c179e"
             ],
             [
              0.4444444444444444,
              "#bd3786"
             ],
             [
              0.5555555555555556,
              "#d8576b"
             ],
             [
              0.6666666666666666,
              "#ed7953"
             ],
             [
              0.7777777777777778,
              "#fb9f3a"
             ],
             [
              0.8888888888888888,
              "#fdca26"
             ],
             [
              1,
              "#f0f921"
             ]
            ],
            "type": "contour"
           }
          ],
          "contourcarpet": [
           {
            "colorbar": {
             "outlinewidth": 0,
             "ticks": ""
            },
            "type": "contourcarpet"
           }
          ],
          "heatmap": [
           {
            "colorbar": {
             "outlinewidth": 0,
             "ticks": ""
            },
            "colorscale": [
             [
              0,
              "#0d0887"
             ],
             [
              0.1111111111111111,
              "#46039f"
             ],
             [
              0.2222222222222222,
              "#7201a8"
             ],
             [
              0.3333333333333333,
              "#9c179e"
             ],
             [
              0.4444444444444444,
              "#bd3786"
             ],
             [
              0.5555555555555556,
              "#d8576b"
             ],
             [
              0.6666666666666666,
              "#ed7953"
             ],
             [
              0.7777777777777778,
              "#fb9f3a"
             ],
             [
              0.8888888888888888,
              "#fdca26"
             ],
             [
              1,
              "#f0f921"
             ]
            ],
            "type": "heatmap"
           }
          ],
          "heatmapgl": [
           {
            "colorbar": {
             "outlinewidth": 0,
             "ticks": ""
            },
            "colorscale": [
             [
              0,
              "#0d0887"
             ],
             [
              0.1111111111111111,
              "#46039f"
             ],
             [
              0.2222222222222222,
              "#7201a8"
             ],
             [
              0.3333333333333333,
              "#9c179e"
             ],
             [
              0.4444444444444444,
              "#bd3786"
             ],
             [
              0.5555555555555556,
              "#d8576b"
             ],
             [
              0.6666666666666666,
              "#ed7953"
             ],
             [
              0.7777777777777778,
              "#fb9f3a"
             ],
             [
              0.8888888888888888,
              "#fdca26"
             ],
             [
              1,
              "#f0f921"
             ]
            ],
            "type": "heatmapgl"
           }
          ],
          "histogram": [
           {
            "marker": {
             "pattern": {
              "fillmode": "overlay",
              "size": 10,
              "solidity": 0.2
             }
            },
            "type": "histogram"
           }
          ],
          "histogram2d": [
           {
            "colorbar": {
             "outlinewidth": 0,
             "ticks": ""
            },
            "colorscale": [
             [
              0,
              "#0d0887"
             ],
             [
              0.1111111111111111,
              "#46039f"
             ],
             [
              0.2222222222222222,
              "#7201a8"
             ],
             [
              0.3333333333333333,
              "#9c179e"
             ],
             [
              0.4444444444444444,
              "#bd3786"
             ],
             [
              0.5555555555555556,
              "#d8576b"
             ],
             [
              0.6666666666666666,
              "#ed7953"
             ],
             [
              0.7777777777777778,
              "#fb9f3a"
             ],
             [
              0.8888888888888888,
              "#fdca26"
             ],
             [
              1,
              "#f0f921"
             ]
            ],
            "type": "histogram2d"
           }
          ],
          "histogram2dcontour": [
           {
            "colorbar": {
             "outlinewidth": 0,
             "ticks": ""
            },
            "colorscale": [
             [
              0,
              "#0d0887"
             ],
             [
              0.1111111111111111,
              "#46039f"
             ],
             [
              0.2222222222222222,
              "#7201a8"
             ],
             [
              0.3333333333333333,
              "#9c179e"
             ],
             [
              0.4444444444444444,
              "#bd3786"
             ],
             [
              0.5555555555555556,
              "#d8576b"
             ],
             [
              0.6666666666666666,
              "#ed7953"
             ],
             [
              0.7777777777777778,
              "#fb9f3a"
             ],
             [
              0.8888888888888888,
              "#fdca26"
             ],
             [
              1,
              "#f0f921"
             ]
            ],
            "type": "histogram2dcontour"
           }
          ],
          "mesh3d": [
           {
            "colorbar": {
             "outlinewidth": 0,
             "ticks": ""
            },
            "type": "mesh3d"
           }
          ],
          "parcoords": [
           {
            "line": {
             "colorbar": {
              "outlinewidth": 0,
              "ticks": ""
             }
            },
            "type": "parcoords"
           }
          ],
          "pie": [
           {
            "automargin": true,
            "type": "pie"
           }
          ],
          "scatter": [
           {
            "fillpattern": {
             "fillmode": "overlay",
             "size": 10,
             "solidity": 0.2
            },
            "type": "scatter"
           }
          ],
          "scatter3d": [
           {
            "line": {
             "colorbar": {
              "outlinewidth": 0,
              "ticks": ""
             }
            },
            "marker": {
             "colorbar": {
              "outlinewidth": 0,
              "ticks": ""
             }
            },
            "type": "scatter3d"
           }
          ],
          "scattercarpet": [
           {
            "marker": {
             "colorbar": {
              "outlinewidth": 0,
              "ticks": ""
             }
            },
            "type": "scattercarpet"
           }
          ],
          "scattergeo": [
           {
            "marker": {
             "colorbar": {
              "outlinewidth": 0,
              "ticks": ""
             }
            },
            "type": "scattergeo"
           }
          ],
          "scattergl": [
           {
            "marker": {
             "colorbar": {
              "outlinewidth": 0,
              "ticks": ""
             }
            },
            "type": "scattergl"
           }
          ],
          "scattermapbox": [
           {
            "marker": {
             "colorbar": {
              "outlinewidth": 0,
              "ticks": ""
             }
            },
            "type": "scattermapbox"
           }
          ],
          "scatterpolar": [
           {
            "marker": {
             "colorbar": {
              "outlinewidth": 0,
              "ticks": ""
             }
            },
            "type": "scatterpolar"
           }
          ],
          "scatterpolargl": [
           {
            "marker": {
             "colorbar": {
              "outlinewidth": 0,
              "ticks": ""
             }
            },
            "type": "scatterpolargl"
           }
          ],
          "scatterternary": [
           {
            "marker": {
             "colorbar": {
              "outlinewidth": 0,
              "ticks": ""
             }
            },
            "type": "scatterternary"
           }
          ],
          "surface": [
           {
            "colorbar": {
             "outlinewidth": 0,
             "ticks": ""
            },
            "colorscale": [
             [
              0,
              "#0d0887"
             ],
             [
              0.1111111111111111,
              "#46039f"
             ],
             [
              0.2222222222222222,
              "#7201a8"
             ],
             [
              0.3333333333333333,
              "#9c179e"
             ],
             [
              0.4444444444444444,
              "#bd3786"
             ],
             [
              0.5555555555555556,
              "#d8576b"
             ],
             [
              0.6666666666666666,
              "#ed7953"
             ],
             [
              0.7777777777777778,
              "#fb9f3a"
             ],
             [
              0.8888888888888888,
              "#fdca26"
             ],
             [
              1,
              "#f0f921"
             ]
            ],
            "type": "surface"
           }
          ],
          "table": [
           {
            "cells": {
             "fill": {
              "color": "#EBF0F8"
             },
             "line": {
              "color": "white"
             }
            },
            "header": {
             "fill": {
              "color": "#C8D4E3"
             },
             "line": {
              "color": "white"
             }
            },
            "type": "table"
           }
          ]
         },
         "layout": {
          "annotationdefaults": {
           "arrowcolor": "#2a3f5f",
           "arrowhead": 0,
           "arrowwidth": 1
          },
          "autotypenumbers": "strict",
          "coloraxis": {
           "colorbar": {
            "outlinewidth": 0,
            "ticks": ""
           }
          },
          "colorscale": {
           "diverging": [
            [
             0,
             "#8e0152"
            ],
            [
             0.1,
             "#c51b7d"
            ],
            [
             0.2,
             "#de77ae"
            ],
            [
             0.3,
             "#f1b6da"
            ],
            [
             0.4,
             "#fde0ef"
            ],
            [
             0.5,
             "#f7f7f7"
            ],
            [
             0.6,
             "#e6f5d0"
            ],
            [
             0.7,
             "#b8e186"
            ],
            [
             0.8,
             "#7fbc41"
            ],
            [
             0.9,
             "#4d9221"
            ],
            [
             1,
             "#276419"
            ]
           ],
           "sequential": [
            [
             0,
             "#0d0887"
            ],
            [
             0.1111111111111111,
             "#46039f"
            ],
            [
             0.2222222222222222,
             "#7201a8"
            ],
            [
             0.3333333333333333,
             "#9c179e"
            ],
            [
             0.4444444444444444,
             "#bd3786"
            ],
            [
             0.5555555555555556,
             "#d8576b"
            ],
            [
             0.6666666666666666,
             "#ed7953"
            ],
            [
             0.7777777777777778,
             "#fb9f3a"
            ],
            [
             0.8888888888888888,
             "#fdca26"
            ],
            [
             1,
             "#f0f921"
            ]
           ],
           "sequentialminus": [
            [
             0,
             "#0d0887"
            ],
            [
             0.1111111111111111,
             "#46039f"
            ],
            [
             0.2222222222222222,
             "#7201a8"
            ],
            [
             0.3333333333333333,
             "#9c179e"
            ],
            [
             0.4444444444444444,
             "#bd3786"
            ],
            [
             0.5555555555555556,
             "#d8576b"
            ],
            [
             0.6666666666666666,
             "#ed7953"
            ],
            [
             0.7777777777777778,
             "#fb9f3a"
            ],
            [
             0.8888888888888888,
             "#fdca26"
            ],
            [
             1,
             "#f0f921"
            ]
           ]
          },
          "colorway": [
           "#636efa",
           "#EF553B",
           "#00cc96",
           "#ab63fa",
           "#FFA15A",
           "#19d3f3",
           "#FF6692",
           "#B6E880",
           "#FF97FF",
           "#FECB52"
          ],
          "font": {
           "color": "#2a3f5f"
          },
          "geo": {
           "bgcolor": "white",
           "lakecolor": "white",
           "landcolor": "#E5ECF6",
           "showlakes": true,
           "showland": true,
           "subunitcolor": "white"
          },
          "hoverlabel": {
           "align": "left"
          },
          "hovermode": "closest",
          "mapbox": {
           "style": "light"
          },
          "paper_bgcolor": "white",
          "plot_bgcolor": "#E5ECF6",
          "polar": {
           "angularaxis": {
            "gridcolor": "white",
            "linecolor": "white",
            "ticks": ""
           },
           "bgcolor": "#E5ECF6",
           "radialaxis": {
            "gridcolor": "white",
            "linecolor": "white",
            "ticks": ""
           }
          },
          "scene": {
           "xaxis": {
            "backgroundcolor": "#E5ECF6",
            "gridcolor": "white",
            "gridwidth": 2,
            "linecolor": "white",
            "showbackground": true,
            "ticks": "",
            "zerolinecolor": "white"
           },
           "yaxis": {
            "backgroundcolor": "#E5ECF6",
            "gridcolor": "white",
            "gridwidth": 2,
            "linecolor": "white",
            "showbackground": true,
            "ticks": "",
            "zerolinecolor": "white"
           },
           "zaxis": {
            "backgroundcolor": "#E5ECF6",
            "gridcolor": "white",
            "gridwidth": 2,
            "linecolor": "white",
            "showbackground": true,
            "ticks": "",
            "zerolinecolor": "white"
           }
          },
          "shapedefaults": {
           "line": {
            "color": "#2a3f5f"
           }
          },
          "ternary": {
           "aaxis": {
            "gridcolor": "white",
            "linecolor": "white",
            "ticks": ""
           },
           "baxis": {
            "gridcolor": "white",
            "linecolor": "white",
            "ticks": ""
           },
           "bgcolor": "#E5ECF6",
           "caxis": {
            "gridcolor": "white",
            "linecolor": "white",
            "ticks": ""
           }
          },
          "title": {
           "x": 0.05
          },
          "xaxis": {
           "automargin": true,
           "gridcolor": "white",
           "linecolor": "white",
           "ticks": "",
           "title": {
            "standoff": 15
           },
           "zerolinecolor": "white",
           "zerolinewidth": 2
          },
          "yaxis": {
           "automargin": true,
           "gridcolor": "white",
           "linecolor": "white",
           "ticks": "",
           "title": {
            "standoff": 15
           },
           "zerolinecolor": "white",
           "zerolinewidth": 2
          }
         }
        },
        "title": {
         "text": "Trend of Number of Drink Products for Each Category Over Month"
        },
        "xaxis": {
         "anchor": "y",
         "domain": [
          0,
          1
         ],
         "title": {
          "text": "Month"
         }
        },
        "yaxis": {
         "anchor": "x",
         "domain": [
          0,
          1
         ],
         "title": {
          "text": "Number of Products"
         }
        }
       }
      }
     },
     "metadata": {},
     "output_type": "display_data"
    }
   ],
   "source": [
    "import plotly.express as px\n",
    "\n",
    "products['month'] = products['date'].dt.month\n",
    "# Filter the data for 'Food' super category\n",
    "food_data = products[products['supercat'] == 'Food']\n",
    "# Group by month and category to get the count of products for each combination\n",
    "food_year_cat_counts = food_data.groupby(['month', 'cat'])['p_id'].count().reset_index()\n",
    "\n",
    "# Pivot the data to have months as rows and categories as columns\n",
    "food_year_cat_pivot = food_year_cat_counts.pivot(index='month', columns='cat', values='p_id').fillna(0)\n",
    "\n",
    "# Convert the pivot table to a long format for Plotly\n",
    "food_year_cat_long = food_year_cat_pivot.reset_index().melt(id_vars='month', var_name='Category', value_name='Number of Products')\n",
    "\n",
    "# Create an interactive line plot for 'Food'\n",
    "fig_food = px.line(food_year_cat_long, x='month', y='Number of Products', color='Category', title='Trend of Number of Food Products for Each Category Over Month')\n",
    "\n",
    "# Update layout for better visualization\n",
    "fig_food.update_layout(\n",
    "    xaxis_title='Month',\n",
    "    yaxis_title='Number of Products',\n",
    "    legend_title='Category',\n",
    "    hovermode='x unified'\n",
    ")\n",
    "\n",
    "# Show the plot for 'Food'\n",
    "fig_food.show()\n",
    "\n",
    "# Filter the data for 'Drink' super category\n",
    "drink_data = products[products['supercat'] == 'Drink']\n",
    "# Group by month and category to get the count of products for each combination\n",
    "drink_year_cat_counts = drink_data.groupby(['month', 'cat'])['p_id'].count().reset_index()\n",
    "\n",
    "# Pivot the data to have months as rows and categories as columns\n",
    "drink_year_cat_pivot = drink_year_cat_counts.pivot(index='month', columns='cat', values='p_id').fillna(0)\n",
    "\n",
    "# Convert the pivot table to a long format for Plotly\n",
    "drink_year_cat_long = drink_year_cat_pivot.reset_index().melt(id_vars='month', var_name='Category', value_name='Number of Products')\n",
    "\n",
    "# Create an interactive line plot for 'Drink'\n",
    "fig_drink = px.line(drink_year_cat_long, x='month', y='Number of Products', color='Category', title='Trend of Number of Drink Products for Each Category Over Month')\n",
    "\n",
    "# Update layout for better visualization\n",
    "fig_drink.update_layout(\n",
    "    xaxis_title='Month',\n",
    "    yaxis_title='Number of Products',\n",
    "    legend_title='Category',\n",
    "    hovermode='x unified'\n",
    ")\n",
    "\n",
    "# Show the plot for 'Drink'\n",
    "fig_drink.show()"
   ]
  },
  {
   "cell_type": "markdown",
   "metadata": {},
   "source": [
    "### num_product by region overall"
   ]
  },
  {
   "cell_type": "code",
   "execution_count": 9,
   "metadata": {},
   "outputs": [
    {
     "data": {
      "image/png": "[encoded data removed]",
      "text/plain": [
       "<Figure size 2400x500 with 5 Axes>"
      ]
     },
     "metadata": {},
     "output_type": "display_data"
    },
    {
     "data": {
      "image/png": "[encoded data removed]",
      "text/plain": [
       "<Figure size 2000x500 with 5 Axes>"
      ]
     },
     "metadata": {},
     "output_type": "display_data"
    }
   ],
   "source": [
    "products_with_region = products.merge(countries, on='c_id', how='inner')\n",
    "# Define the necessary variables\n",
    "regions = products_with_region['region'].unique()\n",
    "colors = plt.cm.tab20.colors\n",
    "\n",
    "# Calculate the percentage of each product category for each region\n",
    "region_cat_percentage = products_with_region.groupby(['region', 'cat'])['p_id'].count().unstack().fillna(0)\n",
    "region_cat_percentage = region_cat_percentage.div(region_cat_percentage.sum(axis=1), axis=0) * 100\n",
    "\n",
    "# Define a color mapping for categories\n",
    "category_colors = {category: colors[i % len(colors)] for i, category in enumerate(region_cat_percentage.columns)}\n",
    "\n",
    "# Separate the data for Food and Drink\n",
    "food_cat_counts = products[products['supercat'] == 'Food']['cat'].value_counts()\n",
    "drink_cat_counts = products[products['supercat'] == 'Drink']['cat'].value_counts()\n",
    "region_food_percentage = region_cat_percentage.loc[:, region_cat_percentage.columns.isin(food_cat_counts.index)]\n",
    "region_drink_percentage = region_cat_percentage.loc[:, region_cat_percentage.columns.isin(drink_cat_counts.index)]\n",
    "\n",
    "# Plot the percentage of each product category for each region (Top 3 only) for Food\n",
    "fig, axes = plt.subplots(nrows=1, ncols=5, figsize=(24, 5))\n",
    "fig.suptitle('Top 3 Percentage Distribution of Food Categories for Each Region', fontsize=16)\n",
    "\n",
    "for i, region in enumerate(regions):\n",
    "    ax = axes[i]\n",
    "    top_3_categories = region_food_percentage.loc[region].nlargest(5)\n",
    "    top_3_categories.plot(kind='bar', ax=ax, color=[category_colors[cat] for cat in top_3_categories.index], alpha=0.7)\n",
    "    ax.set_title(f'{region}')\n",
    "    ax.set_xlabel('Category')\n",
    "    ax.set_ylabel('Percentage')\n",
    "    ax.set_ylim(0, 20)\n",
    "\n",
    "# plt.tight_layout(rect=[0, 0, 1, 0.96])\n",
    "plt.show()\n",
    "\n",
    "# Plot the percentage of each product category for each region (Top 3 only) for Drink\n",
    "fig, axes = plt.subplots(nrows=1, ncols=5, figsize=(20, 5))\n",
    "fig.suptitle('Top 3 Percentage Distribution of Drink Categories for Each Region', fontsize=16)\n",
    "\n",
    "for i, region in enumerate(regions):\n",
    "    ax = axes[i]\n",
    "    top_3_categories = region_drink_percentage.loc[region].nlargest(5)\n",
    "    top_3_categories.plot(kind='bar', ax=ax, color=[category_colors[cat] for cat in top_3_categories.index], alpha=0.7)\n",
    "    ax.set_title(f'{region}')\n",
    "    ax.set_xlabel('Category')\n",
    "    ax.set_ylabel('Percentage')\n",
    "    ax.set_ylim(0, 10)\n",
    "\n",
    "# plt.tight_layout(rect=[0, 0, 1, 0.96])\n",
    "plt.show() "
   ]
  },
  {
   "cell_type": "markdown",
   "metadata": {},
   "source": [
    "# 3. flavor"
   ]
  },
  {
   "cell_type": "code",
   "execution_count": 10,
   "metadata": {},
   "outputs": [
    {
     "data": {
      "text/html": [
       "<div>\n",
       "<style scoped>\n",
       "    .dataframe tbody tr th:only-of-type {\n",
       "        vertical-align: middle;\n",
       "    }\n",
       "\n",
       "    .dataframe tbody tr th {\n",
       "        vertical-align: top;\n",
       "    }\n",
       "\n",
       "    .dataframe thead th {\n",
       "        text-align: right;\n",
       "    }\n",
       "</style>\n",
       "<table border=\"1\" class=\"dataframe\">\n",
       "  <thead>\n",
       "    <tr style=\"text-align: right;\">\n",
       "      <th></th>\n",
       "      <th>p_id</th>\n",
       "      <th>b_n</th>\n",
       "      <th>f_id</th>\n",
       "      <th>f_cat</th>\n",
       "    </tr>\n",
       "  </thead>\n",
       "  <tbody>\n",
       "    <tr>\n",
       "      <th>0</th>\n",
       "      <td>5472359</td>\n",
       "      <td>1</td>\n",
       "      <td>206</td>\n",
       "      <td>Citrus Fruit</td>\n",
       "    </tr>\n",
       "    <tr>\n",
       "      <th>1</th>\n",
       "      <td>11805033</td>\n",
       "      <td>1</td>\n",
       "      <td>1255</td>\n",
       "      <td>Other Dairy</td>\n",
       "    </tr>\n",
       "    <tr>\n",
       "      <th>2</th>\n",
       "      <td>13026795</td>\n",
       "      <td>1</td>\n",
       "      <td>8375</td>\n",
       "      <td>Other Savoury</td>\n",
       "    </tr>\n",
       "    <tr>\n",
       "      <th>3</th>\n",
       "      <td>11419655</td>\n",
       "      <td>1</td>\n",
       "      <td>29</td>\n",
       "      <td>Berry Fruit</td>\n",
       "    </tr>\n",
       "    <tr>\n",
       "      <th>4</th>\n",
       "      <td>9911203</td>\n",
       "      <td>1</td>\n",
       "      <td>370</td>\n",
       "      <td>Sugar</td>\n",
       "    </tr>\n",
       "  </tbody>\n",
       "</table>\n",
       "</div>"
      ],
      "text/plain": [
       "       p_id  b_n  f_id          f_cat\n",
       "0   5472359    1   206   Citrus Fruit\n",
       "1  11805033    1  1255    Other Dairy\n",
       "2  13026795    1  8375  Other Savoury\n",
       "3  11419655    1    29    Berry Fruit\n",
       "4   9911203    1   370          Sugar"
      ]
     },
     "metadata": {},
     "output_type": "display_data"
    },
    {
     "name": "stdout",
     "output_type": "stream",
     "text": [
      "<class 'pandas.core.frame.DataFrame'>\n",
      "RangeIndex: 1048575 entries, 0 to 1048574\n",
      "Data columns (total 4 columns):\n",
      " #   Column  Non-Null Count    Dtype \n",
      "---  ------  --------------    ----- \n",
      " 0   p_id    1048575 non-null  int64 \n",
      " 1   b_n     1048575 non-null  int64 \n",
      " 2   f_id    1048575 non-null  int64 \n",
      " 3   f_cat   1047533 non-null  object\n",
      "dtypes: int64(3), object(1)\n",
      "memory usage: 32.0+ MB\n"
     ]
    },
    {
     "data": {
      "text/html": [
       "<div>\n",
       "<style scoped>\n",
       "    .dataframe tbody tr th:only-of-type {\n",
       "        vertical-align: middle;\n",
       "    }\n",
       "\n",
       "    .dataframe tbody tr th {\n",
       "        vertical-align: top;\n",
       "    }\n",
       "\n",
       "    .dataframe thead th {\n",
       "        text-align: right;\n",
       "    }\n",
       "</style>\n",
       "<table border=\"1\" class=\"dataframe\">\n",
       "  <thead>\n",
       "    <tr style=\"text-align: right;\">\n",
       "      <th></th>\n",
       "      <th>p_id</th>\n",
       "      <th>b_n</th>\n",
       "      <th>f_id</th>\n",
       "    </tr>\n",
       "  </thead>\n",
       "  <tbody>\n",
       "    <tr>\n",
       "      <th>count</th>\n",
       "      <td>1.048575e+06</td>\n",
       "      <td>1.048575e+06</td>\n",
       "      <td>1.048575e+06</td>\n",
       "    </tr>\n",
       "    <tr>\n",
       "      <th>mean</th>\n",
       "      <td>1.078589e+07</td>\n",
       "      <td>1.228572e+00</td>\n",
       "      <td>7.297350e+02</td>\n",
       "    </tr>\n",
       "    <tr>\n",
       "      <th>std</th>\n",
       "      <td>3.760687e+06</td>\n",
       "      <td>1.287713e+00</td>\n",
       "      <td>1.427197e+03</td>\n",
       "    </tr>\n",
       "    <tr>\n",
       "      <th>min</th>\n",
       "      <td>3.535847e+06</td>\n",
       "      <td>1.000000e+00</td>\n",
       "      <td>2.000000e+00</td>\n",
       "    </tr>\n",
       "    <tr>\n",
       "      <th>25%</th>\n",
       "      <td>7.340528e+06</td>\n",
       "      <td>1.000000e+00</td>\n",
       "      <td>1.350000e+02</td>\n",
       "    </tr>\n",
       "    <tr>\n",
       "      <th>50%</th>\n",
       "      <td>1.126248e+07</td>\n",
       "      <td>1.000000e+00</td>\n",
       "      <td>2.990000e+02</td>\n",
       "    </tr>\n",
       "    <tr>\n",
       "      <th>75%</th>\n",
       "      <td>1.425196e+07</td>\n",
       "      <td>1.000000e+00</td>\n",
       "      <td>5.270000e+02</td>\n",
       "    </tr>\n",
       "    <tr>\n",
       "      <th>max</th>\n",
       "      <td>1.674837e+07</td>\n",
       "      <td>4.900000e+01</td>\n",
       "      <td>1.173200e+04</td>\n",
       "    </tr>\n",
       "  </tbody>\n",
       "</table>\n",
       "</div>"
      ],
      "text/plain": [
       "               p_id           b_n          f_id\n",
       "count  1.048575e+06  1.048575e+06  1.048575e+06\n",
       "mean   1.078589e+07  1.228572e+00  7.297350e+02\n",
       "std    3.760687e+06  1.287713e+00  1.427197e+03\n",
       "min    3.535847e+06  1.000000e+00  2.000000e+00\n",
       "25%    7.340528e+06  1.000000e+00  1.350000e+02\n",
       "50%    1.126248e+07  1.000000e+00  2.990000e+02\n",
       "75%    1.425196e+07  1.000000e+00  5.270000e+02\n",
       "max    1.674837e+07  4.900000e+01  1.173200e+04"
      ]
     },
     "execution_count": 10,
     "metadata": {},
     "output_type": "execute_result"
    }
   ],
   "source": [
    "display(flavors.head())\n",
    "flavors.info()\n",
    "flavors.describe()"
   ]
  },
  {
   "cell_type": "code",
   "execution_count": 11,
   "metadata": {},
   "outputs": [
    {
     "name": "stdout",
     "output_type": "stream",
     "text": [
      "<class 'pandas.core.frame.DataFrame'>\n",
      "RangeIndex: 1048575 entries, 0 to 1048574\n",
      "Data columns (total 12 columns):\n",
      " #   Column    Non-Null Count    Dtype         \n",
      "---  ------    --------------    -----         \n",
      " 0   p_id      1048575 non-null  int64         \n",
      " 1   b_n       1048575 non-null  int64         \n",
      " 2   f_id      1048575 non-null  int64         \n",
      " 3   f_cat     1047533 non-null  object        \n",
      " 4   c_id      1048575 non-null  object        \n",
      " 5   supercat  1048575 non-null  object        \n",
      " 6   cat       1048575 non-null  object        \n",
      " 7   sub       1048575 non-null  object        \n",
      " 8   date      1048575 non-null  datetime64[ns]\n",
      " 9   month     1048575 non-null  int32         \n",
      " 10  name      1048575 non-null  object        \n",
      " 11  region    1048575 non-null  object        \n",
      "dtypes: datetime64[ns](1), int32(1), int64(3), object(7)\n",
      "memory usage: 92.0+ MB\n"
     ]
    },
    {
     "data": {
      "text/html": [
       "<div>\n",
       "<style scoped>\n",
       "    .dataframe tbody tr th:only-of-type {\n",
       "        vertical-align: middle;\n",
       "    }\n",
       "\n",
       "    .dataframe tbody tr th {\n",
       "        vertical-align: top;\n",
       "    }\n",
       "\n",
       "    .dataframe thead th {\n",
       "        text-align: right;\n",
       "    }\n",
       "</style>\n",
       "<table border=\"1\" class=\"dataframe\">\n",
       "  <thead>\n",
       "    <tr style=\"text-align: right;\">\n",
       "      <th></th>\n",
       "      <th>p_id</th>\n",
       "      <th>b_n</th>\n",
       "      <th>f_id</th>\n",
       "      <th>date</th>\n",
       "      <th>month</th>\n",
       "    </tr>\n",
       "  </thead>\n",
       "  <tbody>\n",
       "    <tr>\n",
       "      <th>count</th>\n",
       "      <td>1.048575e+06</td>\n",
       "      <td>1.048575e+06</td>\n",
       "      <td>1.048575e+06</td>\n",
       "      <td>1048575</td>\n",
       "      <td>1.048575e+06</td>\n",
       "    </tr>\n",
       "    <tr>\n",
       "      <th>mean</th>\n",
       "      <td>1.078589e+07</td>\n",
       "      <td>1.228572e+00</td>\n",
       "      <td>7.297350e+02</td>\n",
       "      <td>2019-07-21 11:44:23.345969664</td>\n",
       "      <td>6.525104e+00</td>\n",
       "    </tr>\n",
       "    <tr>\n",
       "      <th>min</th>\n",
       "      <td>3.535847e+06</td>\n",
       "      <td>1.000000e+00</td>\n",
       "      <td>2.000000e+00</td>\n",
       "      <td>2015-01-01 00:00:00</td>\n",
       "      <td>1.000000e+00</td>\n",
       "    </tr>\n",
       "    <tr>\n",
       "      <th>25%</th>\n",
       "      <td>7.340528e+06</td>\n",
       "      <td>1.000000e+00</td>\n",
       "      <td>1.350000e+02</td>\n",
       "      <td>2017-05-08 00:00:00</td>\n",
       "      <td>3.000000e+00</td>\n",
       "    </tr>\n",
       "    <tr>\n",
       "      <th>50%</th>\n",
       "      <td>1.126248e+07</td>\n",
       "      <td>1.000000e+00</td>\n",
       "      <td>2.990000e+02</td>\n",
       "      <td>2019-08-01 00:00:00</td>\n",
       "      <td>7.000000e+00</td>\n",
       "    </tr>\n",
       "    <tr>\n",
       "      <th>75%</th>\n",
       "      <td>1.425196e+07</td>\n",
       "      <td>1.000000e+00</td>\n",
       "      <td>5.270000e+02</td>\n",
       "      <td>2021-10-14 00:00:00</td>\n",
       "      <td>1.000000e+01</td>\n",
       "    </tr>\n",
       "    <tr>\n",
       "      <th>max</th>\n",
       "      <td>1.674837e+07</td>\n",
       "      <td>4.900000e+01</td>\n",
       "      <td>1.173200e+04</td>\n",
       "      <td>2023-12-29 00:00:00</td>\n",
       "      <td>1.200000e+01</td>\n",
       "    </tr>\n",
       "    <tr>\n",
       "      <th>std</th>\n",
       "      <td>3.760687e+06</td>\n",
       "      <td>1.287713e+00</td>\n",
       "      <td>1.427197e+03</td>\n",
       "      <td>NaN</td>\n",
       "      <td>3.477257e+00</td>\n",
       "    </tr>\n",
       "  </tbody>\n",
       "</table>\n",
       "</div>"
      ],
      "text/plain": [
       "               p_id           b_n          f_id  \\\n",
       "count  1.048575e+06  1.048575e+06  1.048575e+06   \n",
       "mean   1.078589e+07  1.228572e+00  7.297350e+02   \n",
       "min    3.535847e+06  1.000000e+00  2.000000e+00   \n",
       "25%    7.340528e+06  1.000000e+00  1.350000e+02   \n",
       "50%    1.126248e+07  1.000000e+00  2.990000e+02   \n",
       "75%    1.425196e+07  1.000000e+00  5.270000e+02   \n",
       "max    1.674837e+07  4.900000e+01  1.173200e+04   \n",
       "std    3.760687e+06  1.287713e+00  1.427197e+03   \n",
       "\n",
       "                                date         month  \n",
       "count                        1048575  1.048575e+06  \n",
       "mean   2019-07-21 11:44:23.345969664  6.525104e+00  \n",
       "min              2015-01-01 00:00:00  1.000000e+00  \n",
       "25%              2017-05-08 00:00:00  3.000000e+00  \n",
       "50%              2019-08-01 00:00:00  7.000000e+00  \n",
       "75%              2021-10-14 00:00:00  1.000000e+01  \n",
       "max              2023-12-29 00:00:00  1.200000e+01  \n",
       "std                              NaN  3.477257e+00  "
      ]
     },
     "execution_count": 11,
     "metadata": {},
     "output_type": "execute_result"
    }
   ],
   "source": [
    "f_merged = flavors.merge(products_with_region, on=\"p_id\", how = 'inner')\n",
    "f_merged.info()\n",
    "f_merged.describe()"
   ]
  },
  {
   "cell_type": "markdown",
   "metadata": {},
   "source": [
    "## num_product by flavor cat"
   ]
  },
  {
   "cell_type": "code",
   "execution_count": 12,
   "metadata": {},
   "outputs": [
    {
     "data": {
      "image/png": "[encoded data removed]",
      "text/plain": [
       "<Figure size 1600x1000 with 2 Axes>"
      ]
     },
     "metadata": {},
     "output_type": "display_data"
    }
   ],
   "source": [
    "import matplotlib.pyplot as plt\n",
    "\n",
    "# Group by flavor category and count the occurrences for Food\n",
    "food_flavor_counts = f_merged[f_merged['supercat'] == 'Food'].groupby('f_cat')['p_id'].count().sort_values(ascending=False)\n",
    "\n",
    "# Group by flavor category and count the occurrences for Drink\n",
    "drink_flavor_counts = f_merged[f_merged['supercat'] == 'Drink'].groupby('f_cat')['p_id'].count().sort_values(ascending=False)\n",
    "\n",
    "# Ensure the same category order\n",
    "categories = food_flavor_counts.index.union(drink_flavor_counts.index)\n",
    "\n",
    "# Plot the distribution of flavor categories in Food and Drink in one row\n",
    "fig, axes = plt.subplots(nrows=2, ncols=1, figsize=(16, 10))\n",
    "\n",
    "# Plot the distribution of flavor categories in Food\n",
    "food_flavor_counts.reindex(categories).plot(kind='bar', ax=axes[0], color='blue', alpha=0.7)\n",
    "axes[0].set_title('Distribution of Flavor Categories in Food')\n",
    "axes[0].set_xlabel('Flavor Category')\n",
    "axes[0].set_ylabel('Number of Products')\n",
    "axes[0].tick_params(axis='x', rotation=90)\n",
    "\n",
    "# Plot the distribution of flavor categories in Drink\n",
    "drink_flavor_counts.reindex(categories).plot(kind='bar', ax=axes[1], color='orange', alpha=0.7)\n",
    "axes[1].set_title('Distribution of Flavor Categories in Drink')\n",
    "axes[1].set_xlabel('Flavor Category')\n",
    "axes[1].set_ylabel('Number of Products')\n",
    "axes[1].tick_params(axis='x', rotation=90)\n",
    "\n",
    "plt.tight_layout()\n",
    "plt.show()"
   ]
  },
  {
   "cell_type": "markdown",
   "metadata": {},
   "source": [
    "## num_product by f_cat based for each product cat "
   ]
  },
  {
   "cell_type": "code",
   "execution_count": 13,
   "metadata": {},
   "outputs": [
    {
     "data": {
      "application/vnd.plotly.v1+json": {
       "config": {
        "plotlyServerURL": "https://plot.ly"
       },
       "data": [
        {
         "marker": {
          "color": [
           "rgb(180, 151, 231)",
           "rgb(246, 207, 113)",
           "rgb(220, 176, 242)",
           "rgb(201, 219, 116)",
           "rgb(248, 156, 116)",
           "rgb(158, 185, 243)",
           "rgb(102, 197, 204)",
           "rgb(179, 179, 179)",
           "rgb(201, 219, 116)",
           "rgb(254, 136, 177)",
           "rgb(139, 224, 164)",
           "rgb(102, 197, 204)",
           "rgb(254, 136, 177)",
           "rgb(158, 185, 243)",
           "rgb(220, 176, 242)",
           "rgb(135, 197, 95)",
           "rgb(248, 156, 116)",
           "rgb(201, 219, 116)",
           "rgb(135, 197, 95)",
           "rgb(246, 207, 113)",
           "rgb(220, 176, 242)",
           "rgb(248, 156, 116)",
           "rgb(135, 197, 95)",
           "rgb(139, 224, 164)",
           "rgb(179, 179, 179)",
           "rgb(180, 151, 231)",
           "rgb(158, 185, 243)",
           "rgb(180, 151, 231)",
           "rgb(254, 136, 177)",
           "rgb(102, 197, 204)",
           "rgb(139, 224, 164)",
           "rgb(135, 197, 95)",
           "rgb(102, 197, 204)",
           "rgb(246, 207, 113)",
           "rgb(179, 179, 179)",
           "rgb(248, 156, 116)",
           "rgb(246, 207, 113)"
          ]
         },
         "name": "Alcoholic Beverages",
         "type": "bar",
         "x": [
          "Alcohol",
          "Bakery",
          "Berry Fruit",
          "Cereal",
          "Cheese",
          "Chocolate",
          "Citrus Fruit",
          "Coffee",
          "Confectionery",
          "Dessert",
          "Fish",
          "Flower",
          "Fruit",
          "Hardshell",
          "Herb",
          "Meat",
          "Milk",
          "Nut",
          "Oils",
          "Other Dairy",
          "Other Flora",
          "Other Savoury",
          "Pasta",
          "Plant",
          "Poultry",
          "Process",
          "Rice",
          "Sauces",
          "Seed",
          "Sour",
          "Spice",
          "Sugar",
          "Sweet",
          "Syrup",
          "Tea",
          "Tree",
          "Vegetable"
         ],
         "y": [
          2680,
          80,
          2116,
          40,
          1,
          310,
          3584,
          373,
          70,
          76,
          0,
          408,
          4093,
          1,
          720,
          1,
          39,
          345,
          0,
          476,
          9,
          146,
          0,
          128,
          0,
          72,
          6,
          8,
          58,
          186,
          1584,
          241,
          705,
          393,
          215,
          90,
          218
         ]
        },
        {
         "marker": {
          "color": [
           "rgb(180, 151, 231)",
           "rgb(246, 207, 113)",
           "rgb(220, 176, 242)",
           "rgb(201, 219, 116)",
           "rgb(248, 156, 116)",
           "rgb(158, 185, 243)",
           "rgb(102, 197, 204)",
           "rgb(179, 179, 179)",
           "rgb(201, 219, 116)",
           "rgb(254, 136, 177)",
           "rgb(139, 224, 164)",
           "rgb(102, 197, 204)",
           "rgb(254, 136, 177)",
           "rgb(158, 185, 243)",
           "rgb(220, 176, 242)",
           "rgb(135, 197, 95)",
           "rgb(248, 156, 116)",
           "rgb(201, 219, 116)",
           "rgb(135, 197, 95)",
           "rgb(246, 207, 113)",
           "rgb(220, 176, 242)",
           "rgb(248, 156, 116)",
           "rgb(135, 197, 95)",
           "rgb(139, 224, 164)",
           "rgb(179, 179, 179)",
           "rgb(180, 151, 231)",
           "rgb(158, 185, 243)",
           "rgb(180, 151, 231)",
           "rgb(254, 136, 177)",
           "rgb(102, 197, 204)",
           "rgb(139, 224, 164)",
           "rgb(135, 197, 95)",
           "rgb(102, 197, 204)",
           "rgb(246, 207, 113)",
           "rgb(179, 179, 179)",
           "rgb(248, 156, 116)",
           "rgb(246, 207, 113)"
          ]
         },
         "name": "Carbonated Soft Drinks",
         "type": "bar",
         "x": [
          "Alcohol",
          "Bakery",
          "Berry Fruit",
          "Cereal",
          "Cheese",
          "Chocolate",
          "Citrus Fruit",
          "Coffee",
          "Confectionery",
          "Dessert",
          "Fish",
          "Flower",
          "Fruit",
          "Hardshell",
          "Herb",
          "Meat",
          "Milk",
          "Nut",
          "Oils",
          "Other Dairy",
          "Other Flora",
          "Other Savoury",
          "Pasta",
          "Plant",
          "Poultry",
          "Process",
          "Rice",
          "Sauces",
          "Seed",
          "Sour",
          "Spice",
          "Sugar",
          "Sweet",
          "Syrup",
          "Tea",
          "Tree",
          "Vegetable"
         ],
         "y": [
          239,
          6,
          1101,
          261,
          0,
          8,
          4462,
          51,
          25,
          39,
          0,
          345,
          3703,
          0,
          377,
          1,
          22,
          48,
          0,
          63,
          10,
          82,
          0,
          58,
          0,
          5,
          0,
          15,
          141,
          40,
          609,
          33,
          4439,
          69,
          65,
          695,
          132
         ]
        },
        {
         "marker": {
          "color": [
           "rgb(180, 151, 231)",
           "rgb(246, 207, 113)",
           "rgb(220, 176, 242)",
           "rgb(201, 219, 116)",
           "rgb(248, 156, 116)",
           "rgb(158, 185, 243)",
           "rgb(102, 197, 204)",
           "rgb(179, 179, 179)",
           "rgb(201, 219, 116)",
           "rgb(254, 136, 177)",
           "rgb(139, 224, 164)",
           "rgb(102, 197, 204)",
           "rgb(254, 136, 177)",
           "rgb(158, 185, 243)",
           "rgb(220, 176, 242)",
           "rgb(135, 197, 95)",
           "rgb(248, 156, 116)",
           "rgb(201, 219, 116)",
           "rgb(135, 197, 95)",
           "rgb(246, 207, 113)",
           "rgb(220, 176, 242)",
           "rgb(248, 156, 116)",
           "rgb(135, 197, 95)",
           "rgb(139, 224, 164)",
           "rgb(179, 179, 179)",
           "rgb(180, 151, 231)",
           "rgb(158, 185, 243)",
           "rgb(180, 151, 231)",
           "rgb(254, 136, 177)",
           "rgb(102, 197, 204)",
           "rgb(139, 224, 164)",
           "rgb(135, 197, 95)",
           "rgb(102, 197, 204)",
           "rgb(246, 207, 113)",
           "rgb(179, 179, 179)",
           "rgb(248, 156, 116)",
           "rgb(246, 207, 113)"
          ]
         },
         "name": "Hot Beverages",
         "type": "bar",
         "x": [
          "Alcohol",
          "Bakery",
          "Berry Fruit",
          "Cereal",
          "Cheese",
          "Chocolate",
          "Citrus Fruit",
          "Coffee",
          "Confectionery",
          "Dessert",
          "Fish",
          "Flower",
          "Fruit",
          "Hardshell",
          "Herb",
          "Meat",
          "Milk",
          "Nut",
          "Oils",
          "Other Dairy",
          "Other Flora",
          "Other Savoury",
          "Pasta",
          "Plant",
          "Poultry",
          "Process",
          "Rice",
          "Sauces",
          "Seed",
          "Sour",
          "Spice",
          "Sugar",
          "Sweet",
          "Syrup",
          "Tea",
          "Tree",
          "Vegetable"
         ],
         "y": [
          208,
          265,
          2068,
          825,
          10,
          3363,
          2841,
          82,
          274,
          131,
          0,
          2894,
          3388,
          1,
          5846,
          8,
          184,
          1007,
          4,
          107,
          134,
          121,
          0,
          1281,
          1,
          227,
          149,
          34,
          262,
          35,
          6390,
          1218,
          49,
          537,
          204,
          174,
          1177
         ]
        },
        {
         "marker": {
          "color": [
           "rgb(180, 151, 231)",
           "rgb(246, 207, 113)",
           "rgb(220, 176, 242)",
           "rgb(201, 219, 116)",
           "rgb(248, 156, 116)",
           "rgb(158, 185, 243)",
           "rgb(102, 197, 204)",
           "rgb(179, 179, 179)",
           "rgb(201, 219, 116)",
           "rgb(254, 136, 177)",
           "rgb(139, 224, 164)",
           "rgb(102, 197, 204)",
           "rgb(254, 136, 177)",
           "rgb(158, 185, 243)",
           "rgb(220, 176, 242)",
           "rgb(135, 197, 95)",
           "rgb(248, 156, 116)",
           "rgb(201, 219, 116)",
           "rgb(135, 197, 95)",
           "rgb(246, 207, 113)",
           "rgb(220, 176, 242)",
           "rgb(248, 156, 116)",
           "rgb(135, 197, 95)",
           "rgb(139, 224, 164)",
           "rgb(179, 179, 179)",
           "rgb(180, 151, 231)",
           "rgb(158, 185, 243)",
           "rgb(180, 151, 231)",
           "rgb(254, 136, 177)",
           "rgb(102, 197, 204)",
           "rgb(139, 224, 164)",
           "rgb(135, 197, 95)",
           "rgb(102, 197, 204)",
           "rgb(246, 207, 113)",
           "rgb(179, 179, 179)",
           "rgb(248, 156, 116)",
           "rgb(246, 207, 113)"
          ]
         },
         "name": "Juice Drinks",
         "type": "bar",
         "x": [
          "Alcohol",
          "Bakery",
          "Berry Fruit",
          "Cereal",
          "Cheese",
          "Chocolate",
          "Citrus Fruit",
          "Coffee",
          "Confectionery",
          "Dessert",
          "Fish",
          "Flower",
          "Fruit",
          "Hardshell",
          "Herb",
          "Meat",
          "Milk",
          "Nut",
          "Oils",
          "Other Dairy",
          "Other Flora",
          "Other Savoury",
          "Pasta",
          "Plant",
          "Poultry",
          "Process",
          "Rice",
          "Sauces",
          "Seed",
          "Sour",
          "Spice",
          "Sugar",
          "Sweet",
          "Syrup",
          "Tea",
          "Tree",
          "Vegetable"
         ],
         "y": [
          280,
          12,
          5000,
          188,
          2,
          34,
          7815,
          15,
          21,
          59,
          1,
          314,
          21707,
          14,
          712,
          0,
          141,
          689,
          0,
          74,
          98,
          62,
          0,
          1061,
          0,
          13,
          7,
          20,
          659,
          83,
          1539,
          126,
          2250,
          262,
          160,
          155,
          4104
         ]
        },
        {
         "marker": {
          "color": [
           "rgb(180, 151, 231)",
           "rgb(246, 207, 113)",
           "rgb(220, 176, 242)",
           "rgb(201, 219, 116)",
           "rgb(248, 156, 116)",
           "rgb(158, 185, 243)",
           "rgb(102, 197, 204)",
           "rgb(179, 179, 179)",
           "rgb(201, 219, 116)",
           "rgb(254, 136, 177)",
           "rgb(139, 224, 164)",
           "rgb(102, 197, 204)",
           "rgb(254, 136, 177)",
           "rgb(158, 185, 243)",
           "rgb(220, 176, 242)",
           "rgb(135, 197, 95)",
           "rgb(248, 156, 116)",
           "rgb(201, 219, 116)",
           "rgb(135, 197, 95)",
           "rgb(246, 207, 113)",
           "rgb(220, 176, 242)",
           "rgb(248, 156, 116)",
           "rgb(135, 197, 95)",
           "rgb(139, 224, 164)",
           "rgb(179, 179, 179)",
           "rgb(180, 151, 231)",
           "rgb(158, 185, 243)",
           "rgb(180, 151, 231)",
           "rgb(254, 136, 177)",
           "rgb(102, 197, 204)",
           "rgb(139, 224, 164)",
           "rgb(135, 197, 95)",
           "rgb(102, 197, 204)",
           "rgb(246, 207, 113)",
           "rgb(179, 179, 179)",
           "rgb(248, 156, 116)",
           "rgb(246, 207, 113)"
          ]
         },
         "name": "Nutritional Drinks & Other Beverages",
         "type": "bar",
         "x": [
          "Alcohol",
          "Bakery",
          "Berry Fruit",
          "Cereal",
          "Cheese",
          "Chocolate",
          "Citrus Fruit",
          "Coffee",
          "Confectionery",
          "Dessert",
          "Fish",
          "Flower",
          "Fruit",
          "Hardshell",
          "Herb",
          "Meat",
          "Milk",
          "Nut",
          "Oils",
          "Other Dairy",
          "Other Flora",
          "Other Savoury",
          "Pasta",
          "Plant",
          "Poultry",
          "Process",
          "Rice",
          "Sauces",
          "Seed",
          "Sour",
          "Spice",
          "Sugar",
          "Sweet",
          "Syrup",
          "Tea",
          "Tree",
          "Vegetable"
         ],
         "y": [
          390,
          147,
          2753,
          597,
          17,
          2834,
          2629,
          419,
          148,
          287,
          0,
          556,
          4681,
          3,
          466,
          1,
          240,
          554,
          2,
          231,
          67,
          177,
          1,
          212,
          7,
          38,
          61,
          353,
          207,
          87,
          2670,
          384,
          771,
          336,
          1936,
          44,
          622
         ]
        },
        {
         "marker": {
          "color": [
           "rgb(180, 151, 231)",
           "rgb(246, 207, 113)",
           "rgb(220, 176, 242)",
           "rgb(201, 219, 116)",
           "rgb(248, 156, 116)",
           "rgb(158, 185, 243)",
           "rgb(102, 197, 204)",
           "rgb(179, 179, 179)",
           "rgb(201, 219, 116)",
           "rgb(254, 136, 177)",
           "rgb(139, 224, 164)",
           "rgb(102, 197, 204)",
           "rgb(254, 136, 177)",
           "rgb(158, 185, 243)",
           "rgb(220, 176, 242)",
           "rgb(135, 197, 95)",
           "rgb(248, 156, 116)",
           "rgb(201, 219, 116)",
           "rgb(135, 197, 95)",
           "rgb(246, 207, 113)",
           "rgb(220, 176, 242)",
           "rgb(248, 156, 116)",
           "rgb(135, 197, 95)",
           "rgb(139, 224, 164)",
           "rgb(179, 179, 179)",
           "rgb(180, 151, 231)",
           "rgb(158, 185, 243)",
           "rgb(180, 151, 231)",
           "rgb(254, 136, 177)",
           "rgb(102, 197, 204)",
           "rgb(139, 224, 164)",
           "rgb(135, 197, 95)",
           "rgb(102, 197, 204)",
           "rgb(246, 207, 113)",
           "rgb(179, 179, 179)",
           "rgb(248, 156, 116)",
           "rgb(246, 207, 113)"
          ]
         },
         "name": "RTDs",
         "type": "bar",
         "x": [
          "Alcohol",
          "Bakery",
          "Berry Fruit",
          "Cereal",
          "Cheese",
          "Chocolate",
          "Citrus Fruit",
          "Coffee",
          "Confectionery",
          "Dessert",
          "Fish",
          "Flower",
          "Fruit",
          "Hardshell",
          "Herb",
          "Meat",
          "Milk",
          "Nut",
          "Oils",
          "Other Dairy",
          "Other Flora",
          "Other Savoury",
          "Pasta",
          "Plant",
          "Poultry",
          "Process",
          "Rice",
          "Sauces",
          "Seed",
          "Sour",
          "Spice",
          "Sugar",
          "Sweet",
          "Syrup",
          "Tea",
          "Tree",
          "Vegetable"
         ],
         "y": [
          41,
          29,
          561,
          126,
          13,
          224,
          1506,
          16,
          12,
          53,
          0,
          600,
          2002,
          0,
          552,
          0,
          78,
          191,
          0,
          29,
          12,
          37,
          0,
          133,
          0,
          60,
          56,
          4,
          29,
          6,
          559,
          347,
          86,
          254,
          39,
          17,
          125
         ]
        },
        {
         "marker": {
          "color": [
           "rgb(180, 151, 231)",
           "rgb(246, 207, 113)",
           "rgb(220, 176, 242)",
           "rgb(201, 219, 116)",
           "rgb(248, 156, 116)",
           "rgb(158, 185, 243)",
           "rgb(102, 197, 204)",
           "rgb(179, 179, 179)",
           "rgb(201, 219, 116)",
           "rgb(254, 136, 177)",
           "rgb(139, 224, 164)",
           "rgb(102, 197, 204)",
           "rgb(254, 136, 177)",
           "rgb(158, 185, 243)",
           "rgb(220, 176, 242)",
           "rgb(135, 197, 95)",
           "rgb(248, 156, 116)",
           "rgb(201, 219, 116)",
           "rgb(135, 197, 95)",
           "rgb(246, 207, 113)",
           "rgb(220, 176, 242)",
           "rgb(248, 156, 116)",
           "rgb(135, 197, 95)",
           "rgb(139, 224, 164)",
           "rgb(179, 179, 179)",
           "rgb(180, 151, 231)",
           "rgb(158, 185, 243)",
           "rgb(180, 151, 231)",
           "rgb(254, 136, 177)",
           "rgb(102, 197, 204)",
           "rgb(139, 224, 164)",
           "rgb(135, 197, 95)",
           "rgb(102, 197, 204)",
           "rgb(246, 207, 113)",
           "rgb(179, 179, 179)",
           "rgb(248, 156, 116)",
           "rgb(246, 207, 113)"
          ]
         },
         "name": "Sports & Energy Drinks",
         "type": "bar",
         "x": [
          "Alcohol",
          "Bakery",
          "Berry Fruit",
          "Cereal",
          "Cheese",
          "Chocolate",
          "Citrus Fruit",
          "Coffee",
          "Confectionery",
          "Dessert",
          "Fish",
          "Flower",
          "Fruit",
          "Hardshell",
          "Herb",
          "Meat",
          "Milk",
          "Nut",
          "Oils",
          "Other Dairy",
          "Other Flora",
          "Other Savoury",
          "Pasta",
          "Plant",
          "Poultry",
          "Process",
          "Rice",
          "Sauces",
          "Seed",
          "Sour",
          "Spice",
          "Sugar",
          "Sweet",
          "Syrup",
          "Tea",
          "Tree",
          "Vegetable"
         ],
         "y": [
          46,
          2,
          862,
          10,
          0,
          23,
          1578,
          32,
          35,
          28,
          0,
          34,
          1895,
          0,
          143,
          0,
          5,
          78,
          0,
          15,
          11,
          20,
          0,
          28,
          0,
          0,
          0,
          1,
          110,
          27,
          147,
          20,
          323,
          48,
          105,
          15,
          42
         ]
        },
        {
         "marker": {
          "color": [
           "rgb(180, 151, 231)",
           "rgb(246, 207, 113)",
           "rgb(220, 176, 242)",
           "rgb(201, 219, 116)",
           "rgb(248, 156, 116)",
           "rgb(158, 185, 243)",
           "rgb(102, 197, 204)",
           "rgb(179, 179, 179)",
           "rgb(201, 219, 116)",
           "rgb(254, 136, 177)",
           "rgb(139, 224, 164)",
           "rgb(102, 197, 204)",
           "rgb(254, 136, 177)",
           "rgb(158, 185, 243)",
           "rgb(220, 176, 242)",
           "rgb(135, 197, 95)",
           "rgb(248, 156, 116)",
           "rgb(201, 219, 116)",
           "rgb(135, 197, 95)",
           "rgb(246, 207, 113)",
           "rgb(220, 176, 242)",
           "rgb(248, 156, 116)",
           "rgb(135, 197, 95)",
           "rgb(139, 224, 164)",
           "rgb(179, 179, 179)",
           "rgb(180, 151, 231)",
           "rgb(158, 185, 243)",
           "rgb(180, 151, 231)",
           "rgb(254, 136, 177)",
           "rgb(102, 197, 204)",
           "rgb(139, 224, 164)",
           "rgb(135, 197, 95)",
           "rgb(102, 197, 204)",
           "rgb(246, 207, 113)",
           "rgb(179, 179, 179)",
           "rgb(248, 156, 116)",
           "rgb(246, 207, 113)"
          ]
         },
         "name": "Water",
         "type": "bar",
         "x": [
          "Alcohol",
          "Bakery",
          "Berry Fruit",
          "Cereal",
          "Cheese",
          "Chocolate",
          "Citrus Fruit",
          "Coffee",
          "Confectionery",
          "Dessert",
          "Fish",
          "Flower",
          "Fruit",
          "Hardshell",
          "Herb",
          "Meat",
          "Milk",
          "Nut",
          "Oils",
          "Other Dairy",
          "Other Flora",
          "Other Savoury",
          "Pasta",
          "Plant",
          "Poultry",
          "Process",
          "Rice",
          "Sauces",
          "Seed",
          "Sour",
          "Spice",
          "Sugar",
          "Sweet",
          "Syrup",
          "Tea",
          "Tree",
          "Vegetable"
         ],
         "y": [
          19,
          0,
          866,
          0,
          1,
          3,
          1780,
          9,
          6,
          3,
          0,
          172,
          1643,
          0,
          242,
          0,
          3,
          67,
          0,
          34,
          5,
          4,
          0,
          71,
          0,
          1,
          1,
          3,
          7,
          8,
          167,
          4,
          95,
          49,
          41,
          9,
          101
         ]
        }
       ],
       "layout": {
        "barmode": "stack",
        "template": {
         "data": {
          "bar": [
           {
            "error_x": {
             "color": "#2a3f5f"
            },
            "error_y": {
             "color": "#2a3f5f"
            },
            "marker": {
             "line": {
              "color": "#E5ECF6",
              "width": 0.5
             },
             "pattern": {
              "fillmode": "overlay",
              "size": 10,
              "solidity": 0.2
             }
            },
            "type": "bar"
           }
          ],
          "barpolar": [
           {
            "marker": {
             "line": {
              "color": "#E5ECF6",
              "width": 0.5
             },
             "pattern": {
              "fillmode": "overlay",
              "size": 10,
              "solidity": 0.2
             }
            },
            "type": "barpolar"
           }
          ],
          "carpet": [
           {
            "aaxis": {
             "endlinecolor": "#2a3f5f",
             "gridcolor": "white",
             "linecolor": "white",
             "minorgridcolor": "white",
             "startlinecolor": "#2a3f5f"
            },
            "baxis": {
             "endlinecolor": "#2a3f5f",
             "gridcolor": "white",
             "linecolor": "white",
             "minorgridcolor": "white",
             "startlinecolor": "#2a3f5f"
            },
            "type": "carpet"
           }
          ],
          "choropleth": [
           {
            "colorbar": {
             "outlinewidth": 0,
             "ticks": ""
            },
            "type": "choropleth"
           }
          ],
          "contour": [
           {
            "colorbar": {
             "outlinewidth": 0,
             "ticks": ""
            },
            "colorscale": [
             [
              0,
              "#0d0887"
             ],
             [
              0.1111111111111111,
              "#46039f"
             ],
             [
              0.2222222222222222,
              "#7201a8"
             ],
             [
              0.3333333333333333,
              "#9c179e"
             ],
             [
              0.4444444444444444,
              "#bd3786"
             ],
             [
              0.5555555555555556,
              "#d8576b"
             ],
             [
              0.6666666666666666,
              "#ed7953"
             ],
             [
              0.7777777777777778,
              "#fb9f3a"
             ],
             [
              0.8888888888888888,
              "#fdca26"
             ],
             [
              1,
              "#f0f921"
             ]
            ],
            "type": "contour"
           }
          ],
          "contourcarpet": [
           {
            "colorbar": {
             "outlinewidth": 0,
             "ticks": ""
            },
            "type": "contourcarpet"
           }
          ],
          "heatmap": [
           {
            "colorbar": {
             "outlinewidth": 0,
             "ticks": ""
            },
            "colorscale": [
             [
              0,
              "#0d0887"
             ],
             [
              0.1111111111111111,
              "#46039f"
             ],
             [
              0.2222222222222222,
              "#7201a8"
             ],
             [
              0.3333333333333333,
              "#9c179e"
             ],
             [
              0.4444444444444444,
              "#bd3786"
             ],
             [
              0.5555555555555556,
              "#d8576b"
             ],
             [
              0.6666666666666666,
              "#ed7953"
             ],
             [
              0.7777777777777778,
              "#fb9f3a"
             ],
             [
              0.8888888888888888,
              "#fdca26"
             ],
             [
              1,
              "#f0f921"
             ]
            ],
            "type": "heatmap"
           }
          ],
          "heatmapgl": [
           {
            "colorbar": {
             "outlinewidth": 0,
             "ticks": ""
            },
            "colorscale": [
             [
              0,
              "#0d0887"
             ],
             [
              0.1111111111111111,
              "#46039f"
             ],
             [
              0.2222222222222222,
              "#7201a8"
             ],
             [
              0.3333333333333333,
              "#9c179e"
             ],
             [
              0.4444444444444444,
              "#bd3786"
             ],
             [
              0.5555555555555556,
              "#d8576b"
             ],
             [
              0.6666666666666666,
              "#ed7953"
             ],
             [
              0.7777777777777778,
              "#fb9f3a"
             ],
             [
              0.8888888888888888,
              "#fdca26"
             ],
             [
              1,
              "#f0f921"
             ]
            ],
            "type": "heatmapgl"
           }
          ],
          "histogram": [
           {
            "marker": {
             "pattern": {
              "fillmode": "overlay",
              "size": 10,
              "solidity": 0.2
             }
            },
            "type": "histogram"
           }
          ],
          "histogram2d": [
           {
            "colorbar": {
             "outlinewidth": 0,
             "ticks": ""
            },
            "colorscale": [
             [
              0,
              "#0d0887"
             ],
             [
              0.1111111111111111,
              "#46039f"
             ],
             [
              0.2222222222222222,
              "#7201a8"
             ],
             [
              0.3333333333333333,
              "#9c179e"
             ],
             [
              0.4444444444444444,
              "#bd3786"
             ],
             [
              0.5555555555555556,
              "#d8576b"
             ],
             [
              0.6666666666666666,
              "#ed7953"
             ],
             [
              0.7777777777777778,
              "#fb9f3a"
             ],
             [
              0.8888888888888888,
              "#fdca26"
             ],
             [
              1,
              "#f0f921"
             ]
            ],
            "type": "histogram2d"
           }
          ],
          "histogram2dcontour": [
           {
            "colorbar": {
             "outlinewidth": 0,
             "ticks": ""
            },
            "colorscale": [
             [
              0,
              "#0d0887"
             ],
             [
              0.1111111111111111,
              "#46039f"
             ],
             [
              0.2222222222222222,
              "#7201a8"
             ],
             [
              0.3333333333333333,
              "#9c179e"
             ],
             [
              0.4444444444444444,
              "#bd3786"
             ],
             [
              0.5555555555555556,
              "#d8576b"
             ],
             [
              0.6666666666666666,
              "#ed7953"
             ],
             [
              0.7777777777777778,
              "#fb9f3a"
             ],
             [
              0.8888888888888888,
              "#fdca26"
             ],
             [
              1,
              "#f0f921"
             ]
            ],
            "type": "histogram2dcontour"
           }
          ],
          "mesh3d": [
           {
            "colorbar": {
             "outlinewidth": 0,
             "ticks": ""
            },
            "type": "mesh3d"
           }
          ],
          "parcoords": [
           {
            "line": {
             "colorbar": {
              "outlinewidth": 0,
              "ticks": ""
             }
            },
            "type": "parcoords"
           }
          ],
          "pie": [
           {
            "automargin": true,
            "type": "pie"
           }
          ],
          "scatter": [
           {
            "fillpattern": {
             "fillmode": "overlay",
             "size": 10,
             "solidity": 0.2
            },
            "type": "scatter"
           }
          ],
          "scatter3d": [
           {
            "line": {
             "colorbar": {
              "outlinewidth": 0,
              "ticks": ""
             }
            },
            "marker": {
             "colorbar": {
              "outlinewidth": 0,
              "ticks": ""
             }
            },
            "type": "scatter3d"
           }
          ],
          "scattercarpet": [
           {
            "marker": {
             "colorbar": {
              "outlinewidth": 0,
              "ticks": ""
             }
            },
            "type": "scattercarpet"
           }
          ],
          "scattergeo": [
           {
            "marker": {
             "colorbar": {
              "outlinewidth": 0,
              "ticks": ""
             }
            },
            "type": "scattergeo"
           }
          ],
          "scattergl": [
           {
            "marker": {
             "colorbar": {
              "outlinewidth": 0,
              "ticks": ""
             }
            },
            "type": "scattergl"
           }
          ],
          "scattermapbox": [
           {
            "marker": {
             "colorbar": {
              "outlinewidth": 0,
              "ticks": ""
             }
            },
            "type": "scattermapbox"
           }
          ],
          "scatterpolar": [
           {
            "marker": {
             "colorbar": {
              "outlinewidth": 0,
              "ticks": ""
             }
            },
            "type": "scatterpolar"
           }
          ],
          "scatterpolargl": [
           {
            "marker": {
             "colorbar": {
              "outlinewidth": 0,
              "ticks": ""
             }
            },
            "type": "scatterpolargl"
           }
          ],
          "scatterternary": [
           {
            "marker": {
             "colorbar": {
              "outlinewidth": 0,
              "ticks": ""
             }
            },
            "type": "scatterternary"
           }
          ],
          "surface": [
           {
            "colorbar": {
             "outlinewidth": 0,
             "ticks": ""
            },
            "colorscale": [
             [
              0,
              "#0d0887"
             ],
             [
              0.1111111111111111,
              "#46039f"
             ],
             [
              0.2222222222222222,
              "#7201a8"
             ],
             [
              0.3333333333333333,
              "#9c179e"
             ],
             [
              0.4444444444444444,
              "#bd3786"
             ],
             [
              0.5555555555555556,
              "#d8576b"
             ],
             [
              0.6666666666666666,
              "#ed7953"
             ],
             [
              0.7777777777777778,
              "#fb9f3a"
             ],
             [
              0.8888888888888888,
              "#fdca26"
             ],
             [
              1,
              "#f0f921"
             ]
            ],
            "type": "surface"
           }
          ],
          "table": [
           {
            "cells": {
             "fill": {
              "color": "#EBF0F8"
             },
             "line": {
              "color": "white"
             }
            },
            "header": {
             "fill": {
              "color": "#C8D4E3"
             },
             "line": {
              "color": "white"
             }
            },
            "type": "table"
           }
          ]
         },
         "layout": {
          "annotationdefaults": {
           "arrowcolor": "#2a3f5f",
           "arrowhead": 0,
           "arrowwidth": 1
          },
          "autotypenumbers": "strict",
          "coloraxis": {
           "colorbar": {
            "outlinewidth": 0,
            "ticks": ""
           }
          },
          "colorscale": {
           "diverging": [
            [
             0,
             "#8e0152"
            ],
            [
             0.1,
             "#c51b7d"
            ],
            [
             0.2,
             "#de77ae"
            ],
            [
             0.3,
             "#f1b6da"
            ],
            [
             0.4,
             "#fde0ef"
            ],
            [
             0.5,
             "#f7f7f7"
            ],
            [
             0.6,
             "#e6f5d0"
            ],
            [
             0.7,
             "#b8e186"
            ],
            [
             0.8,
             "#7fbc41"
            ],
            [
             0.9,
             "#4d9221"
            ],
            [
             1,
             "#276419"
            ]
           ],
           "sequential": [
            [
             0,
             "#0d0887"
            ],
            [
             0.1111111111111111,
             "#46039f"
            ],
            [
             0.2222222222222222,
             "#7201a8"
            ],
            [
             0.3333333333333333,
             "#9c179e"
            ],
            [
             0.4444444444444444,
             "#bd3786"
            ],
            [
             0.5555555555555556,
             "#d8576b"
            ],
            [
             0.6666666666666666,
             "#ed7953"
            ],
            [
             0.7777777777777778,
             "#fb9f3a"
            ],
            [
             0.8888888888888888,
             "#fdca26"
            ],
            [
             1,
             "#f0f921"
            ]
           ],
           "sequentialminus": [
            [
             0,
             "#0d0887"
            ],
            [
             0.1111111111111111,
             "#46039f"
            ],
            [
             0.2222222222222222,
             "#7201a8"
            ],
            [
             0.3333333333333333,
             "#9c179e"
            ],
            [
             0.4444444444444444,
             "#bd3786"
            ],
            [
             0.5555555555555556,
             "#d8576b"
            ],
            [
             0.6666666666666666,
             "#ed7953"
            ],
            [
             0.7777777777777778,
             "#fb9f3a"
            ],
            [
             0.8888888888888888,
             "#fdca26"
            ],
            [
             1,
             "#f0f921"
            ]
           ]
          },
          "colorway": [
           "#636efa",
           "#EF553B",
           "#00cc96",
           "#ab63fa",
           "#FFA15A",
           "#19d3f3",
           "#FF6692",
           "#B6E880",
           "#FF97FF",
           "#FECB52"
          ],
          "font": {
           "color": "#2a3f5f"
          },
          "geo": {
           "bgcolor": "white",
           "lakecolor": "white",
           "landcolor": "#E5ECF6",
           "showlakes": true,
           "showland": true,
           "subunitcolor": "white"
          },
          "hoverlabel": {
           "align": "left"
          },
          "hovermode": "closest",
          "mapbox": {
           "style": "light"
          },
          "paper_bgcolor": "white",
          "plot_bgcolor": "#E5ECF6",
          "polar": {
           "angularaxis": {
            "gridcolor": "white",
            "linecolor": "white",
            "ticks": ""
           },
           "bgcolor": "#E5ECF6",
           "radialaxis": {
            "gridcolor": "white",
            "linecolor": "white",
            "ticks": ""
           }
          },
          "scene": {
           "xaxis": {
            "backgroundcolor": "#E5ECF6",
            "gridcolor": "white",
            "gridwidth": 2,
            "linecolor": "white",
            "showbackground": true,
            "ticks": "",
            "zerolinecolor": "white"
           },
           "yaxis": {
            "backgroundcolor": "#E5ECF6",
            "gridcolor": "white",
            "gridwidth": 2,
            "linecolor": "white",
            "showbackground": true,
            "ticks": "",
            "zerolinecolor": "white"
           },
           "zaxis": {
            "backgroundcolor": "#E5ECF6",
            "gridcolor": "white",
            "gridwidth": 2,
            "linecolor": "white",
            "showbackground": true,
            "ticks": "",
            "zerolinecolor": "white"
           }
          },
          "shapedefaults": {
           "line": {
            "color": "#2a3f5f"
           }
          },
          "ternary": {
           "aaxis": {
            "gridcolor": "white",
            "linecolor": "white",
            "ticks": ""
           },
           "baxis": {
            "gridcolor": "white",
            "linecolor": "white",
            "ticks": ""
           },
           "bgcolor": "#E5ECF6",
           "caxis": {
            "gridcolor": "white",
            "linecolor": "white",
            "ticks": ""
           }
          },
          "title": {
           "x": 0.05
          },
          "xaxis": {
           "automargin": true,
           "gridcolor": "white",
           "linecolor": "white",
           "ticks": "",
           "title": {
            "standoff": 15
           },
           "zerolinecolor": "white",
           "zerolinewidth": 2
          },
          "yaxis": {
           "automargin": true,
           "gridcolor": "white",
           "linecolor": "white",
           "ticks": "",
           "title": {
            "standoff": 15
           },
           "zerolinecolor": "white",
           "zerolinewidth": 2
          }
         }
        },
        "title": {
         "text": "Distribution of Flavor Categories for Each Drink Category"
        },
        "xaxis": {
         "title": {
          "text": "Flavor Category"
         }
        },
        "yaxis": {
         "title": {
          "text": "Count"
         }
        }
       }
      }
     },
     "metadata": {},
     "output_type": "display_data"
    }
   ],
   "source": [
    "import plotly.express as px\n",
    "import plotly.graph_objects as go\n",
    "\n",
    "# Define Color Palette\n",
    "palette = px.colors.qualitative.Pastel\n",
    "color_mapping = {f_cat: palette[i % len(palette)] for i, f_cat in enumerate(f_merged['f_cat'].unique())}\n",
    "# Group Data\n",
    "grouped_data = f_merged.groupby(['supercat', 'cat', 'f_cat'])['p_id'].nunique().reset_index()\n",
    "\n",
    "# Filter the data for supercat 'Drink'\n",
    "drink_data = f_merged[f_merged['supercat'] == 'Drink']\n",
    "\n",
    "# Group by cat and f_cat, and count the occurrences\n",
    "drink_cat_flavor_counts = drink_data.groupby(['cat', 'f_cat'])['p_id'].count().unstack().fillna(0)\n",
    "\n",
    "# Create an interactive plot using Plotly\n",
    "fig = go.Figure()\n",
    "\n",
    "for cat in drink_cat_flavor_counts.index:\n",
    "    fig.add_trace(go.Bar(\n",
    "        x=drink_cat_flavor_counts.columns,\n",
    "        y=drink_cat_flavor_counts.loc[cat],\n",
    "        name=cat,\n",
    "        marker_color=[color_mapping[f_cat] for f_cat in drink_cat_flavor_counts.columns]\n",
    "    ))\n",
    "\n",
    "fig.update_layout(\n",
    "    title='Distribution of Flavor Categories for Each Drink Category',\n",
    "    xaxis_title='Flavor Category',\n",
    "    yaxis_title='Count',\n",
    "    barmode='stack'\n",
    ")\n",
    "\n",
    "fig.show()"
   ]
  },
  {
   "cell_type": "code",
   "execution_count": 14,
   "metadata": {},
   "outputs": [
    {
     "data": {
      "application/vnd.plotly.v1+json": {
       "config": {
        "plotlyServerURL": "https://plot.ly"
       },
       "data": [
        {
         "marker": {
          "color": [
           "rgb(180, 151, 231)",
           "rgb(246, 207, 113)",
           "rgb(220, 176, 242)",
           "rgb(201, 219, 116)",
           "rgb(248, 156, 116)",
           "rgb(158, 185, 243)",
           "rgb(102, 197, 204)",
           "rgb(179, 179, 179)",
           "rgb(201, 219, 116)",
           "rgb(254, 136, 177)",
           "rgb(139, 224, 164)",
           "rgb(102, 197, 204)",
           "rgb(254, 136, 177)",
           "rgb(158, 185, 243)",
           "rgb(220, 176, 242)",
           "rgb(135, 197, 95)",
           "rgb(248, 156, 116)",
           "rgb(201, 219, 116)",
           "rgb(135, 197, 95)",
           "rgb(246, 207, 113)",
           "rgb(220, 176, 242)",
           "rgb(248, 156, 116)",
           "rgb(135, 197, 95)",
           "rgb(139, 224, 164)",
           "rgb(179, 179, 179)",
           "rgb(180, 151, 231)",
           "rgb(158, 185, 243)",
           "rgb(180, 151, 231)",
           "rgb(254, 136, 177)",
           "rgb(102, 197, 204)",
           "rgb(139, 224, 164)",
           "rgb(135, 197, 95)",
           "rgb(102, 197, 204)",
           "rgb(246, 207, 113)",
           "rgb(179, 179, 179)",
           "rgb(248, 156, 116)",
           "rgb(246, 207, 113)"
          ]
         },
         "name": "Baby Food",
         "type": "bar",
         "x": [
          "Alcohol",
          "Bakery",
          "Berry Fruit",
          "Cereal",
          "Cheese",
          "Chocolate",
          "Citrus Fruit",
          "Coffee",
          "Confectionery",
          "Dessert",
          "Fish",
          "Flower",
          "Fruit",
          "Hardshell",
          "Herb",
          "Meat",
          "Milk",
          "Nut",
          "Oils",
          "Other Dairy",
          "Other Flora",
          "Other Savoury",
          "Pasta",
          "Plant",
          "Poultry",
          "Process",
          "Rice",
          "Sauces",
          "Seed",
          "Sour",
          "Spice",
          "Sugar",
          "Sweet",
          "Syrup",
          "Tea",
          "Tree",
          "Vegetable"
         ],
         "y": [
          0,
          121,
          1608,
          564,
          219,
          204,
          160,
          0,
          2,
          47,
          299,
          16,
          6024,
          39,
          126,
          528,
          302,
          125,
          11,
          341,
          59,
          94,
          234,
          14,
          415,
          18,
          310,
          69,
          95,
          5,
          503,
          25,
          13,
          123,
          19,
          13,
          3428
         ]
        },
        {
         "marker": {
          "color": [
           "rgb(180, 151, 231)",
           "rgb(246, 207, 113)",
           "rgb(220, 176, 242)",
           "rgb(201, 219, 116)",
           "rgb(248, 156, 116)",
           "rgb(158, 185, 243)",
           "rgb(102, 197, 204)",
           "rgb(179, 179, 179)",
           "rgb(201, 219, 116)",
           "rgb(254, 136, 177)",
           "rgb(139, 224, 164)",
           "rgb(102, 197, 204)",
           "rgb(254, 136, 177)",
           "rgb(158, 185, 243)",
           "rgb(220, 176, 242)",
           "rgb(135, 197, 95)",
           "rgb(248, 156, 116)",
           "rgb(201, 219, 116)",
           "rgb(135, 197, 95)",
           "rgb(246, 207, 113)",
           "rgb(220, 176, 242)",
           "rgb(248, 156, 116)",
           "rgb(135, 197, 95)",
           "rgb(139, 224, 164)",
           "rgb(179, 179, 179)",
           "rgb(180, 151, 231)",
           "rgb(158, 185, 243)",
           "rgb(180, 151, 231)",
           "rgb(254, 136, 177)",
           "rgb(102, 197, 204)",
           "rgb(139, 224, 164)",
           "rgb(135, 197, 95)",
           "rgb(102, 197, 204)",
           "rgb(246, 207, 113)",
           "rgb(179, 179, 179)",
           "rgb(248, 156, 116)",
           "rgb(246, 207, 113)"
          ]
         },
         "name": "Bakery",
         "type": "bar",
         "x": [
          "Alcohol",
          "Bakery",
          "Berry Fruit",
          "Cereal",
          "Cheese",
          "Chocolate",
          "Citrus Fruit",
          "Coffee",
          "Confectionery",
          "Dessert",
          "Fish",
          "Flower",
          "Fruit",
          "Hardshell",
          "Herb",
          "Meat",
          "Milk",
          "Nut",
          "Oils",
          "Other Dairy",
          "Other Flora",
          "Other Savoury",
          "Pasta",
          "Plant",
          "Poultry",
          "Process",
          "Rice",
          "Sauces",
          "Seed",
          "Sour",
          "Spice",
          "Sugar",
          "Sweet",
          "Syrup",
          "Tea",
          "Tree",
          "Vegetable"
         ],
         "y": [
          711,
          6393,
          6797,
          1432,
          4457,
          34201,
          4315,
          1186,
          546,
          4442,
          100,
          462,
          9287,
          80,
          2011,
          589,
          3298,
          13782,
          391,
          9009,
          288,
          911,
          50,
          357,
          155,
          823,
          176,
          313,
          5143,
          84,
          11132,
          6923,
          100,
          1729,
          1181,
          26,
          6768
         ]
        },
        {
         "marker": {
          "color": [
           "rgb(180, 151, 231)",
           "rgb(246, 207, 113)",
           "rgb(220, 176, 242)",
           "rgb(201, 219, 116)",
           "rgb(248, 156, 116)",
           "rgb(158, 185, 243)",
           "rgb(102, 197, 204)",
           "rgb(179, 179, 179)",
           "rgb(201, 219, 116)",
           "rgb(254, 136, 177)",
           "rgb(139, 224, 164)",
           "rgb(102, 197, 204)",
           "rgb(254, 136, 177)",
           "rgb(158, 185, 243)",
           "rgb(220, 176, 242)",
           "rgb(135, 197, 95)",
           "rgb(248, 156, 116)",
           "rgb(201, 219, 116)",
           "rgb(135, 197, 95)",
           "rgb(246, 207, 113)",
           "rgb(220, 176, 242)",
           "rgb(248, 156, 116)",
           "rgb(135, 197, 95)",
           "rgb(139, 224, 164)",
           "rgb(179, 179, 179)",
           "rgb(180, 151, 231)",
           "rgb(158, 185, 243)",
           "rgb(180, 151, 231)",
           "rgb(254, 136, 177)",
           "rgb(102, 197, 204)",
           "rgb(139, 224, 164)",
           "rgb(135, 197, 95)",
           "rgb(102, 197, 204)",
           "rgb(246, 207, 113)",
           "rgb(179, 179, 179)",
           "rgb(248, 156, 116)",
           "rgb(246, 207, 113)"
          ]
         },
         "name": "Breakfast Cereals",
         "type": "bar",
         "x": [
          "Alcohol",
          "Bakery",
          "Berry Fruit",
          "Cereal",
          "Cheese",
          "Chocolate",
          "Citrus Fruit",
          "Coffee",
          "Confectionery",
          "Dessert",
          "Fish",
          "Flower",
          "Fruit",
          "Hardshell",
          "Herb",
          "Meat",
          "Milk",
          "Nut",
          "Oils",
          "Other Dairy",
          "Other Flora",
          "Other Savoury",
          "Pasta",
          "Plant",
          "Poultry",
          "Process",
          "Rice",
          "Sauces",
          "Seed",
          "Sour",
          "Spice",
          "Sugar",
          "Sweet",
          "Syrup",
          "Tea",
          "Tree",
          "Vegetable"
         ],
         "y": [
          2,
          299,
          3011,
          249,
          20,
          4301,
          139,
          68,
          21,
          85,
          4,
          27,
          4524,
          1,
          21,
          8,
          138,
          4592,
          3,
          228,
          40,
          53,
          1,
          50,
          15,
          692,
          11,
          15,
          1562,
          13,
          1620,
          1239,
          8,
          1771,
          74,
          3,
          458
         ]
        },
        {
         "marker": {
          "color": [
           "rgb(180, 151, 231)",
           "rgb(246, 207, 113)",
           "rgb(220, 176, 242)",
           "rgb(201, 219, 116)",
           "rgb(248, 156, 116)",
           "rgb(158, 185, 243)",
           "rgb(102, 197, 204)",
           "rgb(179, 179, 179)",
           "rgb(201, 219, 116)",
           "rgb(254, 136, 177)",
           "rgb(139, 224, 164)",
           "rgb(102, 197, 204)",
           "rgb(254, 136, 177)",
           "rgb(158, 185, 243)",
           "rgb(220, 176, 242)",
           "rgb(135, 197, 95)",
           "rgb(248, 156, 116)",
           "rgb(201, 219, 116)",
           "rgb(135, 197, 95)",
           "rgb(246, 207, 113)",
           "rgb(220, 176, 242)",
           "rgb(248, 156, 116)",
           "rgb(135, 197, 95)",
           "rgb(139, 224, 164)",
           "rgb(179, 179, 179)",
           "rgb(180, 151, 231)",
           "rgb(158, 185, 243)",
           "rgb(180, 151, 231)",
           "rgb(254, 136, 177)",
           "rgb(102, 197, 204)",
           "rgb(139, 224, 164)",
           "rgb(135, 197, 95)",
           "rgb(102, 197, 204)",
           "rgb(246, 207, 113)",
           "rgb(179, 179, 179)",
           "rgb(248, 156, 116)",
           "rgb(246, 207, 113)"
          ]
         },
         "name": "Chocolate Confectionery",
         "type": "bar",
         "x": [
          "Alcohol",
          "Bakery",
          "Berry Fruit",
          "Cereal",
          "Cheese",
          "Chocolate",
          "Citrus Fruit",
          "Coffee",
          "Confectionery",
          "Dessert",
          "Fish",
          "Flower",
          "Fruit",
          "Hardshell",
          "Herb",
          "Meat",
          "Milk",
          "Nut",
          "Oils",
          "Other Dairy",
          "Other Flora",
          "Other Savoury",
          "Pasta",
          "Plant",
          "Poultry",
          "Process",
          "Rice",
          "Sauces",
          "Seed",
          "Sour",
          "Spice",
          "Sugar",
          "Sweet",
          "Syrup",
          "Tea",
          "Tree",
          "Vegetable"
         ],
         "y": [
          2233,
          3183,
          4179,
          1486,
          70,
          228,
          2521,
          1775,
          1129,
          1519,
          3,
          176,
          3690,
          9,
          1299,
          9,
          2650,
          20884,
          9,
          1453,
          39,
          93,
          1,
          52,
          0,
          970,
          726,
          44,
          282,
          58,
          3396,
          11553,
          83,
          634,
          522,
          14,
          390
         ]
        },
        {
         "marker": {
          "color": [
           "rgb(180, 151, 231)",
           "rgb(246, 207, 113)",
           "rgb(220, 176, 242)",
           "rgb(201, 219, 116)",
           "rgb(248, 156, 116)",
           "rgb(158, 185, 243)",
           "rgb(102, 197, 204)",
           "rgb(179, 179, 179)",
           "rgb(201, 219, 116)",
           "rgb(254, 136, 177)",
           "rgb(139, 224, 164)",
           "rgb(102, 197, 204)",
           "rgb(254, 136, 177)",
           "rgb(158, 185, 243)",
           "rgb(220, 176, 242)",
           "rgb(135, 197, 95)",
           "rgb(248, 156, 116)",
           "rgb(201, 219, 116)",
           "rgb(135, 197, 95)",
           "rgb(246, 207, 113)",
           "rgb(220, 176, 242)",
           "rgb(248, 156, 116)",
           "rgb(135, 197, 95)",
           "rgb(139, 224, 164)",
           "rgb(179, 179, 179)",
           "rgb(180, 151, 231)",
           "rgb(158, 185, 243)",
           "rgb(180, 151, 231)",
           "rgb(254, 136, 177)",
           "rgb(102, 197, 204)",
           "rgb(139, 224, 164)",
           "rgb(135, 197, 95)",
           "rgb(102, 197, 204)",
           "rgb(246, 207, 113)",
           "rgb(179, 179, 179)",
           "rgb(248, 156, 116)",
           "rgb(246, 207, 113)"
          ]
         },
         "name": "Dairy",
         "type": "bar",
         "x": [
          "Alcohol",
          "Bakery",
          "Berry Fruit",
          "Cereal",
          "Cheese",
          "Chocolate",
          "Citrus Fruit",
          "Coffee",
          "Confectionery",
          "Dessert",
          "Fish",
          "Flower",
          "Fruit",
          "Hardshell",
          "Herb",
          "Meat",
          "Milk",
          "Nut",
          "Oils",
          "Other Dairy",
          "Other Flora",
          "Other Savoury",
          "Pasta",
          "Plant",
          "Poultry",
          "Process",
          "Rice",
          "Sauces",
          "Seed",
          "Sour",
          "Spice",
          "Sugar",
          "Sweet",
          "Syrup",
          "Tea",
          "Tree",
          "Vegetable"
         ],
         "y": [
          370,
          458,
          8968,
          1562,
          132,
          3570,
          1610,
          281,
          50,
          603,
          69,
          204,
          9987,
          18,
          2037,
          191,
          48,
          1981,
          38,
          360,
          282,
          300,
          69,
          268,
          13,
          1002,
          63,
          177,
          606,
          66,
          5692,
          739,
          79,
          603,
          145,
          12,
          2952
         ]
        },
        {
         "marker": {
          "color": [
           "rgb(180, 151, 231)",
           "rgb(246, 207, 113)",
           "rgb(220, 176, 242)",
           "rgb(201, 219, 116)",
           "rgb(248, 156, 116)",
           "rgb(158, 185, 243)",
           "rgb(102, 197, 204)",
           "rgb(179, 179, 179)",
           "rgb(201, 219, 116)",
           "rgb(254, 136, 177)",
           "rgb(139, 224, 164)",
           "rgb(102, 197, 204)",
           "rgb(254, 136, 177)",
           "rgb(158, 185, 243)",
           "rgb(220, 176, 242)",
           "rgb(135, 197, 95)",
           "rgb(248, 156, 116)",
           "rgb(201, 219, 116)",
           "rgb(135, 197, 95)",
           "rgb(246, 207, 113)",
           "rgb(220, 176, 242)",
           "rgb(248, 156, 116)",
           "rgb(135, 197, 95)",
           "rgb(139, 224, 164)",
           "rgb(179, 179, 179)",
           "rgb(180, 151, 231)",
           "rgb(158, 185, 243)",
           "rgb(180, 151, 231)",
           "rgb(254, 136, 177)",
           "rgb(102, 197, 204)",
           "rgb(139, 224, 164)",
           "rgb(135, 197, 95)",
           "rgb(102, 197, 204)",
           "rgb(246, 207, 113)",
           "rgb(179, 179, 179)",
           "rgb(248, 156, 116)",
           "rgb(246, 207, 113)"
          ]
         },
         "name": "Desserts & Ice Cream",
         "type": "bar",
         "x": [
          "Alcohol",
          "Bakery",
          "Berry Fruit",
          "Cereal",
          "Cheese",
          "Chocolate",
          "Citrus Fruit",
          "Coffee",
          "Confectionery",
          "Dessert",
          "Fish",
          "Flower",
          "Fruit",
          "Hardshell",
          "Herb",
          "Meat",
          "Milk",
          "Nut",
          "Oils",
          "Other Dairy",
          "Other Flora",
          "Other Savoury",
          "Pasta",
          "Plant",
          "Poultry",
          "Process",
          "Rice",
          "Sauces",
          "Seed",
          "Sour",
          "Spice",
          "Sugar",
          "Sweet",
          "Syrup",
          "Tea",
          "Tree",
          "Vegetable"
         ],
         "y": [
          486,
          2381,
          5862,
          289,
          492,
          9670,
          2442,
          877,
          397,
          5312,
          18,
          204,
          7685,
          0,
          575,
          21,
          1044,
          4557,
          2,
          1724,
          12,
          223,
          9,
          117,
          2,
          157,
          185,
          49,
          475,
          61,
          5159,
          3733,
          407,
          298,
          787,
          24,
          1043
         ]
        },
        {
         "marker": {
          "color": [
           "rgb(180, 151, 231)",
           "rgb(246, 207, 113)",
           "rgb(220, 176, 242)",
           "rgb(201, 219, 116)",
           "rgb(248, 156, 116)",
           "rgb(158, 185, 243)",
           "rgb(102, 197, 204)",
           "rgb(179, 179, 179)",
           "rgb(201, 219, 116)",
           "rgb(254, 136, 177)",
           "rgb(139, 224, 164)",
           "rgb(102, 197, 204)",
           "rgb(254, 136, 177)",
           "rgb(158, 185, 243)",
           "rgb(220, 176, 242)",
           "rgb(135, 197, 95)",
           "rgb(248, 156, 116)",
           "rgb(201, 219, 116)",
           "rgb(135, 197, 95)",
           "rgb(246, 207, 113)",
           "rgb(220, 176, 242)",
           "rgb(248, 156, 116)",
           "rgb(135, 197, 95)",
           "rgb(139, 224, 164)",
           "rgb(179, 179, 179)",
           "rgb(180, 151, 231)",
           "rgb(158, 185, 243)",
           "rgb(180, 151, 231)",
           "rgb(254, 136, 177)",
           "rgb(102, 197, 204)",
           "rgb(139, 224, 164)",
           "rgb(135, 197, 95)",
           "rgb(102, 197, 204)",
           "rgb(246, 207, 113)",
           "rgb(179, 179, 179)",
           "rgb(248, 156, 116)",
           "rgb(246, 207, 113)"
          ]
         },
         "name": "Fruit & Vegetables",
         "type": "bar",
         "x": [
          "Alcohol",
          "Bakery",
          "Berry Fruit",
          "Cereal",
          "Cheese",
          "Chocolate",
          "Citrus Fruit",
          "Coffee",
          "Confectionery",
          "Dessert",
          "Fish",
          "Flower",
          "Fruit",
          "Hardshell",
          "Herb",
          "Meat",
          "Milk",
          "Nut",
          "Oils",
          "Other Dairy",
          "Other Flora",
          "Other Savoury",
          "Pasta",
          "Plant",
          "Poultry",
          "Process",
          "Rice",
          "Sauces",
          "Seed",
          "Sour",
          "Spice",
          "Sugar",
          "Sweet",
          "Syrup",
          "Tea",
          "Tree",
          "Vegetable"
         ],
         "y": [
          78,
          1,
          104,
          30,
          140,
          17,
          83,
          0,
          0,
          1,
          18,
          9,
          276,
          9,
          472,
          45,
          10,
          47,
          30,
          216,
          21,
          358,
          11,
          16,
          0,
          589,
          1,
          224,
          70,
          23,
          589,
          84,
          7,
          80,
          3,
          0,
          1050
         ]
        },
        {
         "marker": {
          "color": [
           "rgb(180, 151, 231)",
           "rgb(246, 207, 113)",
           "rgb(220, 176, 242)",
           "rgb(201, 219, 116)",
           "rgb(248, 156, 116)",
           "rgb(158, 185, 243)",
           "rgb(102, 197, 204)",
           "rgb(179, 179, 179)",
           "rgb(201, 219, 116)",
           "rgb(254, 136, 177)",
           "rgb(139, 224, 164)",
           "rgb(102, 197, 204)",
           "rgb(254, 136, 177)",
           "rgb(158, 185, 243)",
           "rgb(220, 176, 242)",
           "rgb(135, 197, 95)",
           "rgb(248, 156, 116)",
           "rgb(201, 219, 116)",
           "rgb(135, 197, 95)",
           "rgb(246, 207, 113)",
           "rgb(220, 176, 242)",
           "rgb(248, 156, 116)",
           "rgb(135, 197, 95)",
           "rgb(139, 224, 164)",
           "rgb(179, 179, 179)",
           "rgb(180, 151, 231)",
           "rgb(158, 185, 243)",
           "rgb(180, 151, 231)",
           "rgb(254, 136, 177)",
           "rgb(102, 197, 204)",
           "rgb(139, 224, 164)",
           "rgb(135, 197, 95)",
           "rgb(102, 197, 204)",
           "rgb(246, 207, 113)",
           "rgb(179, 179, 179)",
           "rgb(248, 156, 116)",
           "rgb(246, 207, 113)"
          ]
         },
         "name": "Meals & Meal Centers",
         "type": "bar",
         "x": [
          "Alcohol",
          "Bakery",
          "Berry Fruit",
          "Cereal",
          "Cheese",
          "Chocolate",
          "Citrus Fruit",
          "Coffee",
          "Confectionery",
          "Dessert",
          "Fish",
          "Flower",
          "Fruit",
          "Hardshell",
          "Herb",
          "Meat",
          "Milk",
          "Nut",
          "Oils",
          "Other Dairy",
          "Other Flora",
          "Other Savoury",
          "Pasta",
          "Plant",
          "Poultry",
          "Process",
          "Rice",
          "Sauces",
          "Seed",
          "Sour",
          "Spice",
          "Sugar",
          "Sweet",
          "Syrup",
          "Tea",
          "Tree",
          "Vegetable"
         ],
         "y": [
          279,
          128,
          178,
          1013,
          7299,
          27,
          449,
          2,
          11,
          34,
          3587,
          47,
          667,
          2434,
          1377,
          12479,
          103,
          593,
          131,
          2160,
          453,
          7784,
          2535,
          108,
          7798,
          1958,
          377,
          4757,
          604,
          487,
          7795,
          135,
          5,
          161,
          19,
          2,
          17998
         ]
        },
        {
         "marker": {
          "color": [
           "rgb(180, 151, 231)",
           "rgb(246, 207, 113)",
           "rgb(220, 176, 242)",
           "rgb(201, 219, 116)",
           "rgb(248, 156, 116)",
           "rgb(158, 185, 243)",
           "rgb(102, 197, 204)",
           "rgb(179, 179, 179)",
           "rgb(201, 219, 116)",
           "rgb(254, 136, 177)",
           "rgb(139, 224, 164)",
           "rgb(102, 197, 204)",
           "rgb(254, 136, 177)",
           "rgb(158, 185, 243)",
           "rgb(220, 176, 242)",
           "rgb(135, 197, 95)",
           "rgb(248, 156, 116)",
           "rgb(201, 219, 116)",
           "rgb(135, 197, 95)",
           "rgb(246, 207, 113)",
           "rgb(220, 176, 242)",
           "rgb(248, 156, 116)",
           "rgb(135, 197, 95)",
           "rgb(139, 224, 164)",
           "rgb(179, 179, 179)",
           "rgb(180, 151, 231)",
           "rgb(158, 185, 243)",
           "rgb(180, 151, 231)",
           "rgb(254, 136, 177)",
           "rgb(102, 197, 204)",
           "rgb(139, 224, 164)",
           "rgb(135, 197, 95)",
           "rgb(102, 197, 204)",
           "rgb(246, 207, 113)",
           "rgb(179, 179, 179)",
           "rgb(248, 156, 116)",
           "rgb(246, 207, 113)"
          ]
         },
         "name": "Processed Fish, Meat & Egg Products",
         "type": "bar",
         "x": [
          "Alcohol",
          "Bakery",
          "Berry Fruit",
          "Cereal",
          "Cheese",
          "Chocolate",
          "Citrus Fruit",
          "Coffee",
          "Confectionery",
          "Dessert",
          "Fish",
          "Flower",
          "Fruit",
          "Hardshell",
          "Herb",
          "Meat",
          "Milk",
          "Nut",
          "Oils",
          "Other Dairy",
          "Other Flora",
          "Other Savoury",
          "Pasta",
          "Plant",
          "Poultry",
          "Process",
          "Rice",
          "Sauces",
          "Seed",
          "Sour",
          "Spice",
          "Sugar",
          "Sweet",
          "Syrup",
          "Tea",
          "Tree",
          "Vegetable"
         ],
         "y": [
          637,
          58,
          169,
          331,
          2613,
          8,
          1135,
          1,
          8,
          10,
          227,
          20,
          585,
          182,
          3146,
          1211,
          49,
          411,
          151,
          668,
          326,
          4113,
          156,
          68,
          350,
          10540,
          73,
          3842,
          326,
          292,
          7813,
          328,
          5,
          775,
          18,
          9,
          9221
         ]
        },
        {
         "marker": {
          "color": [
           "rgb(180, 151, 231)",
           "rgb(246, 207, 113)",
           "rgb(220, 176, 242)",
           "rgb(201, 219, 116)",
           "rgb(248, 156, 116)",
           "rgb(158, 185, 243)",
           "rgb(102, 197, 204)",
           "rgb(179, 179, 179)",
           "rgb(201, 219, 116)",
           "rgb(254, 136, 177)",
           "rgb(139, 224, 164)",
           "rgb(102, 197, 204)",
           "rgb(254, 136, 177)",
           "rgb(158, 185, 243)",
           "rgb(220, 176, 242)",
           "rgb(135, 197, 95)",
           "rgb(248, 156, 116)",
           "rgb(201, 219, 116)",
           "rgb(135, 197, 95)",
           "rgb(246, 207, 113)",
           "rgb(220, 176, 242)",
           "rgb(248, 156, 116)",
           "rgb(135, 197, 95)",
           "rgb(139, 224, 164)",
           "rgb(179, 179, 179)",
           "rgb(180, 151, 231)",
           "rgb(158, 185, 243)",
           "rgb(180, 151, 231)",
           "rgb(254, 136, 177)",
           "rgb(102, 197, 204)",
           "rgb(139, 224, 164)",
           "rgb(135, 197, 95)",
           "rgb(102, 197, 204)",
           "rgb(246, 207, 113)",
           "rgb(179, 179, 179)",
           "rgb(248, 156, 116)",
           "rgb(246, 207, 113)"
          ]
         },
         "name": "Sauces & Seasonings",
         "type": "bar",
         "x": [
          "Alcohol",
          "Bakery",
          "Berry Fruit",
          "Cereal",
          "Cheese",
          "Chocolate",
          "Citrus Fruit",
          "Coffee",
          "Confectionery",
          "Dessert",
          "Fish",
          "Flower",
          "Fruit",
          "Hardshell",
          "Herb",
          "Meat",
          "Milk",
          "Nut",
          "Oils",
          "Other Dairy",
          "Other Flora",
          "Other Savoury",
          "Pasta",
          "Plant",
          "Poultry",
          "Process",
          "Rice",
          "Sauces",
          "Seed",
          "Sour",
          "Spice",
          "Sugar",
          "Sweet",
          "Syrup",
          "Tea",
          "Tree",
          "Vegetable"
         ],
         "y": [
          771,
          58,
          566,
          141,
          1609,
          46,
          2316,
          24,
          12,
          7,
          1274,
          162,
          1913,
          1059,
          7593,
          1681,
          790,
          1006,
          234,
          988,
          1123,
          6926,
          3046,
          208,
          1139,
          2283,
          74,
          13917,
          2090,
          830,
          22265,
          633,
          13,
          883,
          32,
          6,
          24970
         ]
        },
        {
         "marker": {
          "color": [
           "rgb(180, 151, 231)",
           "rgb(246, 207, 113)",
           "rgb(220, 176, 242)",
           "rgb(201, 219, 116)",
           "rgb(248, 156, 116)",
           "rgb(158, 185, 243)",
           "rgb(102, 197, 204)",
           "rgb(179, 179, 179)",
           "rgb(201, 219, 116)",
           "rgb(254, 136, 177)",
           "rgb(139, 224, 164)",
           "rgb(102, 197, 204)",
           "rgb(254, 136, 177)",
           "rgb(158, 185, 243)",
           "rgb(220, 176, 242)",
           "rgb(135, 197, 95)",
           "rgb(248, 156, 116)",
           "rgb(201, 219, 116)",
           "rgb(135, 197, 95)",
           "rgb(246, 207, 113)",
           "rgb(220, 176, 242)",
           "rgb(248, 156, 116)",
           "rgb(135, 197, 95)",
           "rgb(139, 224, 164)",
           "rgb(179, 179, 179)",
           "rgb(180, 151, 231)",
           "rgb(158, 185, 243)",
           "rgb(180, 151, 231)",
           "rgb(254, 136, 177)",
           "rgb(102, 197, 204)",
           "rgb(139, 224, 164)",
           "rgb(135, 197, 95)",
           "rgb(102, 197, 204)",
           "rgb(246, 207, 113)",
           "rgb(179, 179, 179)",
           "rgb(248, 156, 116)",
           "rgb(246, 207, 113)"
          ]
         },
         "name": "Savoury Spreads",
         "type": "bar",
         "x": [
          "Alcohol",
          "Bakery",
          "Berry Fruit",
          "Cereal",
          "Cheese",
          "Chocolate",
          "Citrus Fruit",
          "Coffee",
          "Confectionery",
          "Dessert",
          "Fish",
          "Flower",
          "Fruit",
          "Hardshell",
          "Herb",
          "Meat",
          "Milk",
          "Nut",
          "Oils",
          "Other Dairy",
          "Other Flora",
          "Other Savoury",
          "Pasta",
          "Plant",
          "Poultry",
          "Process",
          "Rice",
          "Sauces",
          "Seed",
          "Sour",
          "Spice",
          "Sugar",
          "Sweet",
          "Syrup",
          "Tea",
          "Tree",
          "Vegetable"
         ],
         "y": [
          204,
          46,
          99,
          89,
          567,
          7,
          178,
          2,
          0,
          5,
          841,
          6,
          248,
          174,
          669,
          1243,
          14,
          265,
          40,
          239,
          174,
          2411,
          56,
          11,
          1086,
          488,
          5,
          1101,
          194,
          34,
          998,
          44,
          0,
          33,
          4,
          2,
          4882
         ]
        },
        {
         "marker": {
          "color": [
           "rgb(180, 151, 231)",
           "rgb(246, 207, 113)",
           "rgb(220, 176, 242)",
           "rgb(201, 219, 116)",
           "rgb(248, 156, 116)",
           "rgb(158, 185, 243)",
           "rgb(102, 197, 204)",
           "rgb(179, 179, 179)",
           "rgb(201, 219, 116)",
           "rgb(254, 136, 177)",
           "rgb(139, 224, 164)",
           "rgb(102, 197, 204)",
           "rgb(254, 136, 177)",
           "rgb(158, 185, 243)",
           "rgb(220, 176, 242)",
           "rgb(135, 197, 95)",
           "rgb(248, 156, 116)",
           "rgb(201, 219, 116)",
           "rgb(135, 197, 95)",
           "rgb(246, 207, 113)",
           "rgb(220, 176, 242)",
           "rgb(248, 156, 116)",
           "rgb(135, 197, 95)",
           "rgb(139, 224, 164)",
           "rgb(179, 179, 179)",
           "rgb(180, 151, 231)",
           "rgb(158, 185, 243)",
           "rgb(180, 151, 231)",
           "rgb(254, 136, 177)",
           "rgb(102, 197, 204)",
           "rgb(139, 224, 164)",
           "rgb(135, 197, 95)",
           "rgb(102, 197, 204)",
           "rgb(246, 207, 113)",
           "rgb(179, 179, 179)",
           "rgb(248, 156, 116)",
           "rgb(246, 207, 113)"
          ]
         },
         "name": "Side Dishes",
         "type": "bar",
         "x": [
          "Alcohol",
          "Bakery",
          "Berry Fruit",
          "Cereal",
          "Cheese",
          "Chocolate",
          "Citrus Fruit",
          "Coffee",
          "Confectionery",
          "Dessert",
          "Fish",
          "Flower",
          "Fruit",
          "Hardshell",
          "Herb",
          "Meat",
          "Milk",
          "Nut",
          "Oils",
          "Other Dairy",
          "Other Flora",
          "Other Savoury",
          "Pasta",
          "Plant",
          "Poultry",
          "Process",
          "Rice",
          "Sauces",
          "Seed",
          "Sour",
          "Spice",
          "Sugar",
          "Sweet",
          "Syrup",
          "Tea",
          "Tree",
          "Vegetable"
         ],
         "y": [
          43,
          21,
          61,
          149,
          2441,
          9,
          220,
          4,
          0,
          1,
          178,
          15,
          143,
          98,
          1100,
          1224,
          30,
          236,
          48,
          410,
          270,
          787,
          157,
          33,
          273,
          414,
          21,
          334,
          133,
          27,
          1229,
          33,
          0,
          26,
          15,
          0,
          6374
         ]
        },
        {
         "marker": {
          "color": [
           "rgb(180, 151, 231)",
           "rgb(246, 207, 113)",
           "rgb(220, 176, 242)",
           "rgb(201, 219, 116)",
           "rgb(248, 156, 116)",
           "rgb(158, 185, 243)",
           "rgb(102, 197, 204)",
           "rgb(179, 179, 179)",
           "rgb(201, 219, 116)",
           "rgb(254, 136, 177)",
           "rgb(139, 224, 164)",
           "rgb(102, 197, 204)",
           "rgb(254, 136, 177)",
           "rgb(158, 185, 243)",
           "rgb(220, 176, 242)",
           "rgb(135, 197, 95)",
           "rgb(248, 156, 116)",
           "rgb(201, 219, 116)",
           "rgb(135, 197, 95)",
           "rgb(246, 207, 113)",
           "rgb(220, 176, 242)",
           "rgb(248, 156, 116)",
           "rgb(135, 197, 95)",
           "rgb(139, 224, 164)",
           "rgb(179, 179, 179)",
           "rgb(180, 151, 231)",
           "rgb(158, 185, 243)",
           "rgb(180, 151, 231)",
           "rgb(254, 136, 177)",
           "rgb(102, 197, 204)",
           "rgb(139, 224, 164)",
           "rgb(135, 197, 95)",
           "rgb(102, 197, 204)",
           "rgb(246, 207, 113)",
           "rgb(179, 179, 179)",
           "rgb(248, 156, 116)",
           "rgb(246, 207, 113)"
          ]
         },
         "name": "Snacks",
         "type": "bar",
         "x": [
          "Alcohol",
          "Bakery",
          "Berry Fruit",
          "Cereal",
          "Cheese",
          "Chocolate",
          "Citrus Fruit",
          "Coffee",
          "Confectionery",
          "Dessert",
          "Fish",
          "Flower",
          "Fruit",
          "Hardshell",
          "Herb",
          "Meat",
          "Milk",
          "Nut",
          "Oils",
          "Other Dairy",
          "Other Flora",
          "Other Savoury",
          "Pasta",
          "Plant",
          "Poultry",
          "Process",
          "Rice",
          "Sauces",
          "Seed",
          "Sour",
          "Spice",
          "Sugar",
          "Sweet",
          "Syrup",
          "Tea",
          "Tree",
          "Vegetable"
         ],
         "y": [
          198,
          1293,
          7344,
          1457,
          8643,
          6577,
          2345,
          331,
          304,
          582,
          2925,
          135,
          18705,
          2643,
          2660,
          8490,
          482,
          13418,
          289,
          4222,
          2424,
          6926,
          289,
          450,
          3100,
          9055,
          430,
          5045,
          3099,
          704,
          22690,
          4088,
          71,
          1961,
          227,
          395,
          17310
         ]
        },
        {
         "marker": {
          "color": [
           "rgb(180, 151, 231)",
           "rgb(246, 207, 113)",
           "rgb(220, 176, 242)",
           "rgb(201, 219, 116)",
           "rgb(248, 156, 116)",
           "rgb(158, 185, 243)",
           "rgb(102, 197, 204)",
           "rgb(179, 179, 179)",
           "rgb(201, 219, 116)",
           "rgb(254, 136, 177)",
           "rgb(139, 224, 164)",
           "rgb(102, 197, 204)",
           "rgb(254, 136, 177)",
           "rgb(158, 185, 243)",
           "rgb(220, 176, 242)",
           "rgb(135, 197, 95)",
           "rgb(248, 156, 116)",
           "rgb(201, 219, 116)",
           "rgb(135, 197, 95)",
           "rgb(246, 207, 113)",
           "rgb(220, 176, 242)",
           "rgb(248, 156, 116)",
           "rgb(135, 197, 95)",
           "rgb(139, 224, 164)",
           "rgb(179, 179, 179)",
           "rgb(180, 151, 231)",
           "rgb(158, 185, 243)",
           "rgb(180, 151, 231)",
           "rgb(254, 136, 177)",
           "rgb(102, 197, 204)",
           "rgb(139, 224, 164)",
           "rgb(135, 197, 95)",
           "rgb(102, 197, 204)",
           "rgb(246, 207, 113)",
           "rgb(179, 179, 179)",
           "rgb(248, 156, 116)",
           "rgb(246, 207, 113)"
          ]
         },
         "name": "Soup",
         "type": "bar",
         "x": [
          "Alcohol",
          "Bakery",
          "Berry Fruit",
          "Cereal",
          "Cheese",
          "Chocolate",
          "Citrus Fruit",
          "Coffee",
          "Confectionery",
          "Dessert",
          "Fish",
          "Flower",
          "Fruit",
          "Hardshell",
          "Herb",
          "Meat",
          "Milk",
          "Nut",
          "Oils",
          "Other Dairy",
          "Other Flora",
          "Other Savoury",
          "Pasta",
          "Plant",
          "Poultry",
          "Process",
          "Rice",
          "Sauces",
          "Seed",
          "Sour",
          "Spice",
          "Sugar",
          "Sweet",
          "Syrup",
          "Tea",
          "Tree",
          "Vegetable"
         ],
         "y": [
          27,
          81,
          42,
          539,
          244,
          1,
          85,
          1,
          0,
          5,
          285,
          5,
          107,
          475,
          484,
          1340,
          58,
          209,
          18,
          322,
          208,
          1666,
          570,
          35,
          1457,
          144,
          146,
          375,
          69,
          81,
          950,
          11,
          1,
          15,
          2,
          3,
          6089
         ]
        },
        {
         "marker": {
          "color": [
           "rgb(180, 151, 231)",
           "rgb(246, 207, 113)",
           "rgb(220, 176, 242)",
           "rgb(201, 219, 116)",
           "rgb(248, 156, 116)",
           "rgb(158, 185, 243)",
           "rgb(102, 197, 204)",
           "rgb(179, 179, 179)",
           "rgb(201, 219, 116)",
           "rgb(254, 136, 177)",
           "rgb(139, 224, 164)",
           "rgb(102, 197, 204)",
           "rgb(254, 136, 177)",
           "rgb(158, 185, 243)",
           "rgb(220, 176, 242)",
           "rgb(135, 197, 95)",
           "rgb(248, 156, 116)",
           "rgb(201, 219, 116)",
           "rgb(135, 197, 95)",
           "rgb(246, 207, 113)",
           "rgb(220, 176, 242)",
           "rgb(248, 156, 116)",
           "rgb(135, 197, 95)",
           "rgb(139, 224, 164)",
           "rgb(179, 179, 179)",
           "rgb(180, 151, 231)",
           "rgb(158, 185, 243)",
           "rgb(180, 151, 231)",
           "rgb(254, 136, 177)",
           "rgb(102, 197, 204)",
           "rgb(139, 224, 164)",
           "rgb(135, 197, 95)",
           "rgb(102, 197, 204)",
           "rgb(246, 207, 113)",
           "rgb(179, 179, 179)",
           "rgb(248, 156, 116)",
           "rgb(246, 207, 113)"
          ]
         },
         "name": "Sugar & Gum Confectionery",
         "type": "bar",
         "x": [
          "Alcohol",
          "Bakery",
          "Berry Fruit",
          "Cereal",
          "Cheese",
          "Chocolate",
          "Citrus Fruit",
          "Coffee",
          "Confectionery",
          "Dessert",
          "Fish",
          "Flower",
          "Fruit",
          "Hardshell",
          "Herb",
          "Meat",
          "Milk",
          "Nut",
          "Oils",
          "Other Dairy",
          "Other Flora",
          "Other Savoury",
          "Pasta",
          "Plant",
          "Poultry",
          "Process",
          "Rice",
          "Sauces",
          "Seed",
          "Sour",
          "Spice",
          "Sugar",
          "Sweet",
          "Syrup",
          "Tea",
          "Tree",
          "Vegetable"
         ],
         "y": [
          354,
          237,
          7169,
          122,
          24,
          1548,
          6048,
          365,
          2022,
          747,
          5,
          300,
          13853,
          0,
          3800,
          12,
          1217,
          3502,
          2,
          1240,
          24,
          97,
          0,
          93,
          0,
          106,
          35,
          40,
          542,
          2639,
          2340,
          4620,
          1929,
          812,
          320,
          320,
          409
         ]
        },
        {
         "marker": {
          "color": [
           "rgb(180, 151, 231)",
           "rgb(246, 207, 113)",
           "rgb(220, 176, 242)",
           "rgb(201, 219, 116)",
           "rgb(248, 156, 116)",
           "rgb(158, 185, 243)",
           "rgb(102, 197, 204)",
           "rgb(179, 179, 179)",
           "rgb(201, 219, 116)",
           "rgb(254, 136, 177)",
           "rgb(139, 224, 164)",
           "rgb(102, 197, 204)",
           "rgb(254, 136, 177)",
           "rgb(158, 185, 243)",
           "rgb(220, 176, 242)",
           "rgb(135, 197, 95)",
           "rgb(248, 156, 116)",
           "rgb(201, 219, 116)",
           "rgb(135, 197, 95)",
           "rgb(246, 207, 113)",
           "rgb(220, 176, 242)",
           "rgb(248, 156, 116)",
           "rgb(135, 197, 95)",
           "rgb(139, 224, 164)",
           "rgb(179, 179, 179)",
           "rgb(180, 151, 231)",
           "rgb(158, 185, 243)",
           "rgb(180, 151, 231)",
           "rgb(254, 136, 177)",
           "rgb(102, 197, 204)",
           "rgb(139, 224, 164)",
           "rgb(135, 197, 95)",
           "rgb(102, 197, 204)",
           "rgb(246, 207, 113)",
           "rgb(179, 179, 179)",
           "rgb(248, 156, 116)",
           "rgb(246, 207, 113)"
          ]
         },
         "name": "Sweet Spreads",
         "type": "bar",
         "x": [
          "Alcohol",
          "Bakery",
          "Berry Fruit",
          "Cereal",
          "Cheese",
          "Chocolate",
          "Citrus Fruit",
          "Coffee",
          "Confectionery",
          "Dessert",
          "Fish",
          "Flower",
          "Fruit",
          "Hardshell",
          "Herb",
          "Meat",
          "Milk",
          "Nut",
          "Oils",
          "Other Dairy",
          "Other Flora",
          "Other Savoury",
          "Pasta",
          "Plant",
          "Poultry",
          "Process",
          "Rice",
          "Sauces",
          "Seed",
          "Sour",
          "Spice",
          "Sugar",
          "Sweet",
          "Syrup",
          "Tea",
          "Tree",
          "Vegetable"
         ],
         "y": [
          182,
          337,
          3697,
          95,
          6,
          216,
          1111,
          66,
          41,
          573,
          0,
          193,
          4189,
          0,
          135,
          3,
          242,
          6673,
          16,
          150,
          37,
          18,
          0,
          77,
          0,
          137,
          18,
          29,
          380,
          12,
          933,
          711,
          5,
          1245,
          62,
          12,
          351
         ]
        },
        {
         "marker": {
          "color": [
           "rgb(180, 151, 231)",
           "rgb(246, 207, 113)",
           "rgb(220, 176, 242)",
           "rgb(201, 219, 116)",
           "rgb(248, 156, 116)",
           "rgb(158, 185, 243)",
           "rgb(102, 197, 204)",
           "rgb(179, 179, 179)",
           "rgb(201, 219, 116)",
           "rgb(254, 136, 177)",
           "rgb(139, 224, 164)",
           "rgb(102, 197, 204)",
           "rgb(254, 136, 177)",
           "rgb(158, 185, 243)",
           "rgb(220, 176, 242)",
           "rgb(135, 197, 95)",
           "rgb(248, 156, 116)",
           "rgb(201, 219, 116)",
           "rgb(135, 197, 95)",
           "rgb(246, 207, 113)",
           "rgb(220, 176, 242)",
           "rgb(248, 156, 116)",
           "rgb(135, 197, 95)",
           "rgb(139, 224, 164)",
           "rgb(179, 179, 179)",
           "rgb(180, 151, 231)",
           "rgb(158, 185, 243)",
           "rgb(180, 151, 231)",
           "rgb(254, 136, 177)",
           "rgb(102, 197, 204)",
           "rgb(139, 224, 164)",
           "rgb(135, 197, 95)",
           "rgb(102, 197, 204)",
           "rgb(246, 207, 113)",
           "rgb(179, 179, 179)",
           "rgb(248, 156, 116)",
           "rgb(246, 207, 113)"
          ]
         },
         "name": "Sweeteners & Sugar",
         "type": "bar",
         "x": [
          "Alcohol",
          "Bakery",
          "Berry Fruit",
          "Cereal",
          "Cheese",
          "Chocolate",
          "Citrus Fruit",
          "Coffee",
          "Confectionery",
          "Dessert",
          "Fish",
          "Flower",
          "Fruit",
          "Hardshell",
          "Herb",
          "Meat",
          "Milk",
          "Nut",
          "Oils",
          "Other Dairy",
          "Other Flora",
          "Other Savoury",
          "Pasta",
          "Plant",
          "Poultry",
          "Process",
          "Rice",
          "Sauces",
          "Seed",
          "Sour",
          "Spice",
          "Sugar",
          "Sweet",
          "Syrup",
          "Tea",
          "Tree",
          "Vegetable"
         ],
         "y": [
          5,
          1,
          13,
          2,
          0,
          15,
          26,
          0,
          1,
          1,
          0,
          18,
          56,
          0,
          8,
          0,
          0,
          12,
          0,
          0,
          0,
          2,
          0,
          7,
          0,
          4,
          0,
          0,
          4,
          1,
          178,
          31,
          1,
          26,
          2,
          0,
          5
         ]
        }
       ],
       "layout": {
        "barmode": "stack",
        "template": {
         "data": {
          "bar": [
           {
            "error_x": {
             "color": "#2a3f5f"
            },
            "error_y": {
             "color": "#2a3f5f"
            },
            "marker": {
             "line": {
              "color": "#E5ECF6",
              "width": 0.5
             },
             "pattern": {
              "fillmode": "overlay",
              "size": 10,
              "solidity": 0.2
             }
            },
            "type": "bar"
           }
          ],
          "barpolar": [
           {
            "marker": {
             "line": {
              "color": "#E5ECF6",
              "width": 0.5
             },
             "pattern": {
              "fillmode": "overlay",
              "size": 10,
              "solidity": 0.2
             }
            },
            "type": "barpolar"
           }
          ],
          "carpet": [
           {
            "aaxis": {
             "endlinecolor": "#2a3f5f",
             "gridcolor": "white",
             "linecolor": "white",
             "minorgridcolor": "white",
             "startlinecolor": "#2a3f5f"
            },
            "baxis": {
             "endlinecolor": "#2a3f5f",
             "gridcolor": "white",
             "linecolor": "white",
             "minorgridcolor": "white",
             "startlinecolor": "#2a3f5f"
            },
            "type": "carpet"
           }
          ],
          "choropleth": [
           {
            "colorbar": {
             "outlinewidth": 0,
             "ticks": ""
            },
            "type": "choropleth"
           }
          ],
          "contour": [
           {
            "colorbar": {
             "outlinewidth": 0,
             "ticks": ""
            },
            "colorscale": [
             [
              0,
              "#0d0887"
             ],
             [
              0.1111111111111111,
              "#46039f"
             ],
             [
              0.2222222222222222,
              "#7201a8"
             ],
             [
              0.3333333333333333,
              "#9c179e"
             ],
             [
              0.4444444444444444,
              "#bd3786"
             ],
             [
              0.5555555555555556,
              "#d8576b"
             ],
             [
              0.6666666666666666,
              "#ed7953"
             ],
             [
              0.7777777777777778,
              "#fb9f3a"
             ],
             [
              0.8888888888888888,
              "#fdca26"
             ],
             [
              1,
              "#f0f921"
             ]
            ],
            "type": "contour"
           }
          ],
          "contourcarpet": [
           {
            "colorbar": {
             "outlinewidth": 0,
             "ticks": ""
            },
            "type": "contourcarpet"
           }
          ],
          "heatmap": [
           {
            "colorbar": {
             "outlinewidth": 0,
             "ticks": ""
            },
            "colorscale": [
             [
              0,
              "#0d0887"
             ],
             [
              0.1111111111111111,
              "#46039f"
             ],
             [
              0.2222222222222222,
              "#7201a8"
             ],
             [
              0.3333333333333333,
              "#9c179e"
             ],
             [
              0.4444444444444444,
              "#bd3786"
             ],
             [
              0.5555555555555556,
              "#d8576b"
             ],
             [
              0.6666666666666666,
              "#ed7953"
             ],
             [
              0.7777777777777778,
              "#fb9f3a"
             ],
             [
              0.8888888888888888,
              "#fdca26"
             ],
             [
              1,
              "#f0f921"
             ]
            ],
            "type": "heatmap"
           }
          ],
          "heatmapgl": [
           {
            "colorbar": {
             "outlinewidth": 0,
             "ticks": ""
            },
            "colorscale": [
             [
              0,
              "#0d0887"
             ],
             [
              0.1111111111111111,
              "#46039f"
             ],
             [
              0.2222222222222222,
              "#7201a8"
             ],
             [
              0.3333333333333333,
              "#9c179e"
             ],
             [
              0.4444444444444444,
              "#bd3786"
             ],
             [
              0.5555555555555556,
              "#d8576b"
             ],
             [
              0.6666666666666666,
              "#ed7953"
             ],
             [
              0.7777777777777778,
              "#fb9f3a"
             ],
             [
              0.8888888888888888,
              "#fdca26"
             ],
             [
              1,
              "#f0f921"
             ]
            ],
            "type": "heatmapgl"
           }
          ],
          "histogram": [
           {
            "marker": {
             "pattern": {
              "fillmode": "overlay",
              "size": 10,
              "solidity": 0.2
             }
            },
            "type": "histogram"
           }
          ],
          "histogram2d": [
           {
            "colorbar": {
             "outlinewidth": 0,
             "ticks": ""
            },
            "colorscale": [
             [
              0,
              "#0d0887"
             ],
             [
              0.1111111111111111,
              "#46039f"
             ],
             [
              0.2222222222222222,
              "#7201a8"
             ],
             [
              0.3333333333333333,
              "#9c179e"
             ],
             [
              0.4444444444444444,
              "#bd3786"
             ],
             [
              0.5555555555555556,
              "#d8576b"
             ],
             [
              0.6666666666666666,
              "#ed7953"
             ],
             [
              0.7777777777777778,
              "#fb9f3a"
             ],
             [
              0.8888888888888888,
              "#fdca26"
             ],
             [
              1,
              "#f0f921"
             ]
            ],
            "type": "histogram2d"
           }
          ],
          "histogram2dcontour": [
           {
            "colorbar": {
             "outlinewidth": 0,
             "ticks": ""
            },
            "colorscale": [
             [
              0,
              "#0d0887"
             ],
             [
              0.1111111111111111,
              "#46039f"
             ],
             [
              0.2222222222222222,
              "#7201a8"
             ],
             [
              0.3333333333333333,
              "#9c179e"
             ],
             [
              0.4444444444444444,
              "#bd3786"
             ],
             [
              0.5555555555555556,
              "#d8576b"
             ],
             [
              0.6666666666666666,
              "#ed7953"
             ],
             [
              0.7777777777777778,
              "#fb9f3a"
             ],
             [
              0.8888888888888888,
              "#fdca26"
             ],
             [
              1,
              "#f0f921"
             ]
            ],
            "type": "histogram2dcontour"
           }
          ],
          "mesh3d": [
           {
            "colorbar": {
             "outlinewidth": 0,
             "ticks": ""
            },
            "type": "mesh3d"
           }
          ],
          "parcoords": [
           {
            "line": {
             "colorbar": {
              "outlinewidth": 0,
              "ticks": ""
             }
            },
            "type": "parcoords"
           }
          ],
          "pie": [
           {
            "automargin": true,
            "type": "pie"
           }
          ],
          "scatter": [
           {
            "fillpattern": {
             "fillmode": "overlay",
             "size": 10,
             "solidity": 0.2
            },
            "type": "scatter"
           }
          ],
          "scatter3d": [
           {
            "line": {
             "colorbar": {
              "outlinewidth": 0,
              "ticks": ""
             }
            },
            "marker": {
             "colorbar": {
              "outlinewidth": 0,
              "ticks": ""
             }
            },
            "type": "scatter3d"
           }
          ],
          "scattercarpet": [
           {
            "marker": {
             "colorbar": {
              "outlinewidth": 0,
              "ticks": ""
             }
            },
            "type": "scattercarpet"
           }
          ],
          "scattergeo": [
           {
            "marker": {
             "colorbar": {
              "outlinewidth": 0,
              "ticks": ""
             }
            },
            "type": "scattergeo"
           }
          ],
          "scattergl": [
           {
            "marker": {
             "colorbar": {
              "outlinewidth": 0,
              "ticks": ""
             }
            },
            "type": "scattergl"
           }
          ],
          "scattermapbox": [
           {
            "marker": {
             "colorbar": {
              "outlinewidth": 0,
              "ticks": ""
             }
            },
            "type": "scattermapbox"
           }
          ],
          "scatterpolar": [
           {
            "marker": {
             "colorbar": {
              "outlinewidth": 0,
              "ticks": ""
             }
            },
            "type": "scatterpolar"
           }
          ],
          "scatterpolargl": [
           {
            "marker": {
             "colorbar": {
              "outlinewidth": 0,
              "ticks": ""
             }
            },
            "type": "scatterpolargl"
           }
          ],
          "scatterternary": [
           {
            "marker": {
             "colorbar": {
              "outlinewidth": 0,
              "ticks": ""
             }
            },
            "type": "scatterternary"
           }
          ],
          "surface": [
           {
            "colorbar": {
             "outlinewidth": 0,
             "ticks": ""
            },
            "colorscale": [
             [
              0,
              "#0d0887"
             ],
             [
              0.1111111111111111,
              "#46039f"
             ],
             [
              0.2222222222222222,
              "#7201a8"
             ],
             [
              0.3333333333333333,
              "#9c179e"
             ],
             [
              0.4444444444444444,
              "#bd3786"
             ],
             [
              0.5555555555555556,
              "#d8576b"
             ],
             [
              0.6666666666666666,
              "#ed7953"
             ],
             [
              0.7777777777777778,
              "#fb9f3a"
             ],
             [
              0.8888888888888888,
              "#fdca26"
             ],
             [
              1,
              "#f0f921"
             ]
            ],
            "type": "surface"
           }
          ],
          "table": [
           {
            "cells": {
             "fill": {
              "color": "#EBF0F8"
             },
             "line": {
              "color": "white"
             }
            },
            "header": {
             "fill": {
              "color": "#C8D4E3"
             },
             "line": {
              "color": "white"
             }
            },
            "type": "table"
           }
          ]
         },
         "layout": {
          "annotationdefaults": {
           "arrowcolor": "#2a3f5f",
           "arrowhead": 0,
           "arrowwidth": 1
          },
          "autotypenumbers": "strict",
          "coloraxis": {
           "colorbar": {
            "outlinewidth": 0,
            "ticks": ""
           }
          },
          "colorscale": {
           "diverging": [
            [
             0,
             "#8e0152"
            ],
            [
             0.1,
             "#c51b7d"
            ],
            [
             0.2,
             "#de77ae"
            ],
            [
             0.3,
             "#f1b6da"
            ],
            [
             0.4,
             "#fde0ef"
            ],
            [
             0.5,
             "#f7f7f7"
            ],
            [
             0.6,
             "#e6f5d0"
            ],
            [
             0.7,
             "#b8e186"
            ],
            [
             0.8,
             "#7fbc41"
            ],
            [
             0.9,
             "#4d9221"
            ],
            [
             1,
             "#276419"
            ]
           ],
           "sequential": [
            [
             0,
             "#0d0887"
            ],
            [
             0.1111111111111111,
             "#46039f"
            ],
            [
             0.2222222222222222,
             "#7201a8"
            ],
            [
             0.3333333333333333,
             "#9c179e"
            ],
            [
             0.4444444444444444,
             "#bd3786"
            ],
            [
             0.5555555555555556,
             "#d8576b"
            ],
            [
             0.6666666666666666,
             "#ed7953"
            ],
            [
             0.7777777777777778,
             "#fb9f3a"
            ],
            [
             0.8888888888888888,
             "#fdca26"
            ],
            [
             1,
             "#f0f921"
            ]
           ],
           "sequentialminus": [
            [
             0,
             "#0d0887"
            ],
            [
             0.1111111111111111,
             "#46039f"
            ],
            [
             0.2222222222222222,
             "#7201a8"
            ],
            [
             0.3333333333333333,
             "#9c179e"
            ],
            [
             0.4444444444444444,
             "#bd3786"
            ],
            [
             0.5555555555555556,
             "#d8576b"
            ],
            [
             0.6666666666666666,
             "#ed7953"
            ],
            [
             0.7777777777777778,
             "#fb9f3a"
            ],
            [
             0.8888888888888888,
             "#fdca26"
            ],
            [
             1,
             "#f0f921"
            ]
           ]
          },
          "colorway": [
           "#636efa",
           "#EF553B",
           "#00cc96",
           "#ab63fa",
           "#FFA15A",
           "#19d3f3",
           "#FF6692",
           "#B6E880",
           "#FF97FF",
           "#FECB52"
          ],
          "font": {
           "color": "#2a3f5f"
          },
          "geo": {
           "bgcolor": "white",
           "lakecolor": "white",
           "landcolor": "#E5ECF6",
           "showlakes": true,
           "showland": true,
           "subunitcolor": "white"
          },
          "hoverlabel": {
           "align": "left"
          },
          "hovermode": "closest",
          "mapbox": {
           "style": "light"
          },
          "paper_bgcolor": "white",
          "plot_bgcolor": "#E5ECF6",
          "polar": {
           "angularaxis": {
            "gridcolor": "white",
            "linecolor": "white",
            "ticks": ""
           },
           "bgcolor": "#E5ECF6",
           "radialaxis": {
            "gridcolor": "white",
            "linecolor": "white",
            "ticks": ""
           }
          },
          "scene": {
           "xaxis": {
            "backgroundcolor": "#E5ECF6",
            "gridcolor": "white",
            "gridwidth": 2,
            "linecolor": "white",
            "showbackground": true,
            "ticks": "",
            "zerolinecolor": "white"
           },
           "yaxis": {
            "backgroundcolor": "#E5ECF6",
            "gridcolor": "white",
            "gridwidth": 2,
            "linecolor": "white",
            "showbackground": true,
            "ticks": "",
            "zerolinecolor": "white"
           },
           "zaxis": {
            "backgroundcolor": "#E5ECF6",
            "gridcolor": "white",
            "gridwidth": 2,
            "linecolor": "white",
            "showbackground": true,
            "ticks": "",
            "zerolinecolor": "white"
           }
          },
          "shapedefaults": {
           "line": {
            "color": "#2a3f5f"
           }
          },
          "ternary": {
           "aaxis": {
            "gridcolor": "white",
            "linecolor": "white",
            "ticks": ""
           },
           "baxis": {
            "gridcolor": "white",
            "linecolor": "white",
            "ticks": ""
           },
           "bgcolor": "#E5ECF6",
           "caxis": {
            "gridcolor": "white",
            "linecolor": "white",
            "ticks": ""
           }
          },
          "title": {
           "x": 0.05
          },
          "xaxis": {
           "automargin": true,
           "gridcolor": "white",
           "linecolor": "white",
           "ticks": "",
           "title": {
            "standoff": 15
           },
           "zerolinecolor": "white",
           "zerolinewidth": 2
          },
          "yaxis": {
           "automargin": true,
           "gridcolor": "white",
           "linecolor": "white",
           "ticks": "",
           "title": {
            "standoff": 15
           },
           "zerolinecolor": "white",
           "zerolinewidth": 2
          }
         }
        },
        "title": {
         "text": "Distribution of Flavor Categories for Each Food Category"
        },
        "xaxis": {
         "title": {
          "text": "Flavor Category"
         }
        },
        "yaxis": {
         "title": {
          "text": "Count"
         }
        }
       }
      }
     },
     "metadata": {},
     "output_type": "display_data"
    }
   ],
   "source": [
    "# Filter Data for 'Drink' Supercategory\n",
    "# Filter the data for supercat 'Drink'\n",
    "food_data = f_merged[f_merged['supercat'] == 'Food']\n",
    "\n",
    "# Group by cat and f_cat, and count the occurrences\n",
    "food_cat_flavor_counts = food_data.groupby(['cat', 'f_cat'])['p_id'].count().unstack().fillna(0)\n",
    "\n",
    "# Create an interactive plot using Plotly\n",
    "fig = go.Figure()\n",
    "\n",
    "for cat in food_cat_flavor_counts.index:\n",
    "    fig.add_trace(go.Bar(\n",
    "        x=food_cat_flavor_counts.columns,\n",
    "        y=food_cat_flavor_counts.loc[cat],\n",
    "        name=cat,\n",
    "        marker_color=[color_mapping[f_cat] for f_cat in food_cat_flavor_counts.columns]\n",
    "    ))\n",
    "\n",
    "fig.update_layout(\n",
    "    title='Distribution of Flavor Categories for Each Food Category',\n",
    "    xaxis_title='Flavor Category',\n",
    "    yaxis_title='Count',\n",
    "    barmode='stack'\n",
    ")\n",
    "\n",
    "fig.show()"
   ]
  },
  {
   "cell_type": "markdown",
   "metadata": {},
   "source": [
    "## num_prod by f_cat for each country"
   ]
  },
  {
   "cell_type": "code",
   "execution_count": 15,
   "metadata": {},
   "outputs": [
    {
     "data": {
      "application/vnd.plotly.v1+json": {
       "config": {
        "plotlyServerURL": "https://plot.ly"
       },
       "data": [
        {
         "marker": {
          "color": [
           "rgb(180, 151, 231)",
           "rgb(246, 207, 113)",
           "rgb(220, 176, 242)",
           "rgb(201, 219, 116)",
           "rgb(248, 156, 116)",
           "rgb(158, 185, 243)",
           "rgb(102, 197, 204)",
           "rgb(179, 179, 179)",
           "rgb(201, 219, 116)",
           "rgb(254, 136, 177)",
           "rgb(139, 224, 164)",
           "rgb(102, 197, 204)",
           "rgb(254, 136, 177)",
           "rgb(158, 185, 243)",
           "rgb(220, 176, 242)",
           "rgb(135, 197, 95)",
           "rgb(248, 156, 116)",
           "rgb(201, 219, 116)",
           "rgb(135, 197, 95)",
           "rgb(246, 207, 113)",
           "rgb(220, 176, 242)",
           "rgb(248, 156, 116)",
           "rgb(135, 197, 95)",
           "rgb(139, 224, 164)",
           "rgb(179, 179, 179)",
           "rgb(180, 151, 231)",
           "rgb(158, 185, 243)",
           "rgb(180, 151, 231)",
           "rgb(254, 136, 177)",
           "rgb(102, 197, 204)",
           "rgb(139, 224, 164)",
           "rgb(135, 197, 95)",
           "rgb(102, 197, 204)",
           "rgb(246, 207, 113)",
           "rgb(179, 179, 179)",
           "rgb(248, 156, 116)",
           "rgb(246, 207, 113)"
          ]
         },
         "name": "AE",
         "type": "bar",
         "x": [
          "Alcohol",
          "Bakery",
          "Berry Fruit",
          "Cereal",
          "Cheese",
          "Chocolate",
          "Citrus Fruit",
          "Coffee",
          "Confectionery",
          "Dessert",
          "Fish",
          "Flower",
          "Fruit",
          "Hardshell",
          "Herb",
          "Meat",
          "Milk",
          "Nut",
          "Oils",
          "Other Dairy",
          "Other Flora",
          "Other Savoury",
          "Pasta",
          "Plant",
          "Poultry",
          "Process",
          "Rice",
          "Sauces",
          "Seed",
          "Sour",
          "Spice",
          "Sugar",
          "Sweet",
          "Syrup",
          "Tea",
          "Tree",
          "Vegetable"
         ],
         "y": [
          10,
          0,
          74,
          27,
          0,
          30,
          108,
          2,
          0,
          3,
          0,
          23,
          266,
          0,
          48,
          0,
          2,
          7,
          0,
          0,
          1,
          0,
          0,
          7,
          0,
          1,
          0,
          1,
          5,
          0,
          59,
          18,
          43,
          9,
          5,
          0,
          14
         ]
        },
        {
         "marker": {
          "color": [
           "rgb(180, 151, 231)",
           "rgb(246, 207, 113)",
           "rgb(220, 176, 242)",
           "rgb(201, 219, 116)",
           "rgb(248, 156, 116)",
           "rgb(158, 185, 243)",
           "rgb(102, 197, 204)",
           "rgb(179, 179, 179)",
           "rgb(201, 219, 116)",
           "rgb(254, 136, 177)",
           "rgb(139, 224, 164)",
           "rgb(102, 197, 204)",
           "rgb(254, 136, 177)",
           "rgb(158, 185, 243)",
           "rgb(220, 176, 242)",
           "rgb(135, 197, 95)",
           "rgb(248, 156, 116)",
           "rgb(201, 219, 116)",
           "rgb(135, 197, 95)",
           "rgb(246, 207, 113)",
           "rgb(220, 176, 242)",
           "rgb(248, 156, 116)",
           "rgb(135, 197, 95)",
           "rgb(139, 224, 164)",
           "rgb(179, 179, 179)",
           "rgb(180, 151, 231)",
           "rgb(158, 185, 243)",
           "rgb(180, 151, 231)",
           "rgb(254, 136, 177)",
           "rgb(102, 197, 204)",
           "rgb(139, 224, 164)",
           "rgb(135, 197, 95)",
           "rgb(102, 197, 204)",
           "rgb(246, 207, 113)",
           "rgb(179, 179, 179)",
           "rgb(248, 156, 116)",
           "rgb(246, 207, 113)"
          ]
         },
         "name": "AR",
         "type": "bar",
         "x": [
          "Alcohol",
          "Bakery",
          "Berry Fruit",
          "Cereal",
          "Cheese",
          "Chocolate",
          "Citrus Fruit",
          "Coffee",
          "Confectionery",
          "Dessert",
          "Fish",
          "Flower",
          "Fruit",
          "Hardshell",
          "Herb",
          "Meat",
          "Milk",
          "Nut",
          "Oils",
          "Other Dairy",
          "Other Flora",
          "Other Savoury",
          "Pasta",
          "Plant",
          "Poultry",
          "Process",
          "Rice",
          "Sauces",
          "Seed",
          "Sour",
          "Spice",
          "Sugar",
          "Sweet",
          "Syrup",
          "Tea",
          "Tree",
          "Vegetable"
         ],
         "y": [
          26,
          3,
          127,
          9,
          0,
          85,
          431,
          5,
          2,
          13,
          0,
          53,
          395,
          0,
          154,
          0,
          9,
          14,
          0,
          1,
          3,
          8,
          0,
          29,
          0,
          7,
          0,
          1,
          23,
          5,
          159,
          29,
          95,
          34,
          19,
          12,
          25
         ]
        },
        {
         "marker": {
          "color": [
           "rgb(180, 151, 231)",
           "rgb(246, 207, 113)",
           "rgb(220, 176, 242)",
           "rgb(201, 219, 116)",
           "rgb(248, 156, 116)",
           "rgb(158, 185, 243)",
           "rgb(102, 197, 204)",
           "rgb(179, 179, 179)",
           "rgb(201, 219, 116)",
           "rgb(254, 136, 177)",
           "rgb(139, 224, 164)",
           "rgb(102, 197, 204)",
           "rgb(254, 136, 177)",
           "rgb(158, 185, 243)",
           "rgb(220, 176, 242)",
           "rgb(135, 197, 95)",
           "rgb(248, 156, 116)",
           "rgb(201, 219, 116)",
           "rgb(135, 197, 95)",
           "rgb(246, 207, 113)",
           "rgb(220, 176, 242)",
           "rgb(248, 156, 116)",
           "rgb(135, 197, 95)",
           "rgb(139, 224, 164)",
           "rgb(179, 179, 179)",
           "rgb(180, 151, 231)",
           "rgb(158, 185, 243)",
           "rgb(180, 151, 231)",
           "rgb(254, 136, 177)",
           "rgb(102, 197, 204)",
           "rgb(139, 224, 164)",
           "rgb(135, 197, 95)",
           "rgb(102, 197, 204)",
           "rgb(246, 207, 113)",
           "rgb(179, 179, 179)",
           "rgb(248, 156, 116)",
           "rgb(246, 207, 113)"
          ]
         },
         "name": "AT",
         "type": "bar",
         "x": [
          "Alcohol",
          "Bakery",
          "Berry Fruit",
          "Cereal",
          "Cheese",
          "Chocolate",
          "Citrus Fruit",
          "Coffee",
          "Confectionery",
          "Dessert",
          "Fish",
          "Flower",
          "Fruit",
          "Hardshell",
          "Herb",
          "Meat",
          "Milk",
          "Nut",
          "Oils",
          "Other Dairy",
          "Other Flora",
          "Other Savoury",
          "Pasta",
          "Plant",
          "Poultry",
          "Process",
          "Rice",
          "Sauces",
          "Seed",
          "Sour",
          "Spice",
          "Sugar",
          "Sweet",
          "Syrup",
          "Tea",
          "Tree",
          "Vegetable"
         ],
         "y": [
          44,
          4,
          229,
          5,
          0,
          48,
          282,
          12,
          3,
          3,
          0,
          83,
          613,
          0,
          206,
          0,
          1,
          31,
          0,
          10,
          3,
          9,
          0,
          29,
          0,
          1,
          0,
          3,
          30,
          3,
          160,
          11,
          85,
          14,
          13,
          20,
          81
         ]
        },
        {
         "marker": {
          "color": [
           "rgb(180, 151, 231)",
           "rgb(246, 207, 113)",
           "rgb(220, 176, 242)",
           "rgb(201, 219, 116)",
           "rgb(248, 156, 116)",
           "rgb(158, 185, 243)",
           "rgb(102, 197, 204)",
           "rgb(179, 179, 179)",
           "rgb(201, 219, 116)",
           "rgb(254, 136, 177)",
           "rgb(139, 224, 164)",
           "rgb(102, 197, 204)",
           "rgb(254, 136, 177)",
           "rgb(158, 185, 243)",
           "rgb(220, 176, 242)",
           "rgb(135, 197, 95)",
           "rgb(248, 156, 116)",
           "rgb(201, 219, 116)",
           "rgb(135, 197, 95)",
           "rgb(246, 207, 113)",
           "rgb(220, 176, 242)",
           "rgb(248, 156, 116)",
           "rgb(135, 197, 95)",
           "rgb(139, 224, 164)",
           "rgb(179, 179, 179)",
           "rgb(180, 151, 231)",
           "rgb(158, 185, 243)",
           "rgb(180, 151, 231)",
           "rgb(254, 136, 177)",
           "rgb(102, 197, 204)",
           "rgb(139, 224, 164)",
           "rgb(135, 197, 95)",
           "rgb(102, 197, 204)",
           "rgb(246, 207, 113)",
           "rgb(179, 179, 179)",
           "rgb(248, 156, 116)",
           "rgb(246, 207, 113)"
          ]
         },
         "name": "AU",
         "type": "bar",
         "x": [
          "Alcohol",
          "Bakery",
          "Berry Fruit",
          "Cereal",
          "Cheese",
          "Chocolate",
          "Citrus Fruit",
          "Coffee",
          "Confectionery",
          "Dessert",
          "Fish",
          "Flower",
          "Fruit",
          "Hardshell",
          "Herb",
          "Meat",
          "Milk",
          "Nut",
          "Oils",
          "Other Dairy",
          "Other Flora",
          "Other Savoury",
          "Pasta",
          "Plant",
          "Poultry",
          "Process",
          "Rice",
          "Sauces",
          "Seed",
          "Sour",
          "Spice",
          "Sugar",
          "Sweet",
          "Syrup",
          "Tea",
          "Tree",
          "Vegetable"
         ],
         "y": [
          234,
          32,
          503,
          27,
          0,
          271,
          800,
          57,
          41,
          43,
          0,
          160,
          1310,
          0,
          262,
          0,
          7,
          70,
          0,
          38,
          11,
          19,
          0,
          95,
          0,
          8,
          0,
          7,
          28,
          24,
          535,
          105,
          299,
          35,
          99,
          50,
          180
         ]
        },
        {
         "marker": {
          "color": [
           "rgb(180, 151, 231)",
           "rgb(246, 207, 113)",
           "rgb(220, 176, 242)",
           "rgb(201, 219, 116)",
           "rgb(248, 156, 116)",
           "rgb(158, 185, 243)",
           "rgb(102, 197, 204)",
           "rgb(179, 179, 179)",
           "rgb(201, 219, 116)",
           "rgb(254, 136, 177)",
           "rgb(139, 224, 164)",
           "rgb(102, 197, 204)",
           "rgb(254, 136, 177)",
           "rgb(158, 185, 243)",
           "rgb(220, 176, 242)",
           "rgb(135, 197, 95)",
           "rgb(248, 156, 116)",
           "rgb(201, 219, 116)",
           "rgb(135, 197, 95)",
           "rgb(246, 207, 113)",
           "rgb(220, 176, 242)",
           "rgb(248, 156, 116)",
           "rgb(135, 197, 95)",
           "rgb(139, 224, 164)",
           "rgb(179, 179, 179)",
           "rgb(180, 151, 231)",
           "rgb(158, 185, 243)",
           "rgb(180, 151, 231)",
           "rgb(254, 136, 177)",
           "rgb(102, 197, 204)",
           "rgb(139, 224, 164)",
           "rgb(135, 197, 95)",
           "rgb(102, 197, 204)",
           "rgb(246, 207, 113)",
           "rgb(179, 179, 179)",
           "rgb(248, 156, 116)",
           "rgb(246, 207, 113)"
          ]
         },
         "name": "BD",
         "type": "bar",
         "x": [
          "Alcohol",
          "Bakery",
          "Berry Fruit",
          "Cereal",
          "Cheese",
          "Chocolate",
          "Citrus Fruit",
          "Coffee",
          "Confectionery",
          "Dessert",
          "Fish",
          "Flower",
          "Fruit",
          "Hardshell",
          "Herb",
          "Meat",
          "Milk",
          "Nut",
          "Oils",
          "Other Dairy",
          "Other Flora",
          "Other Savoury",
          "Pasta",
          "Plant",
          "Poultry",
          "Process",
          "Rice",
          "Sauces",
          "Seed",
          "Sour",
          "Spice",
          "Sugar",
          "Sweet",
          "Syrup",
          "Tea",
          "Tree",
          "Vegetable"
         ],
         "y": [
          3,
          0,
          34,
          15,
          0,
          15,
          124,
          0,
          0,
          0,
          0,
          5,
          265,
          0,
          11,
          0,
          5,
          7,
          0,
          0,
          0,
          0,
          0,
          17,
          0,
          0,
          0,
          1,
          17,
          0,
          24,
          4,
          39,
          4,
          1,
          2,
          2
         ]
        },
        {
         "marker": {
          "color": [
           "rgb(180, 151, 231)",
           "rgb(246, 207, 113)",
           "rgb(220, 176, 242)",
           "rgb(201, 219, 116)",
           "rgb(248, 156, 116)",
           "rgb(158, 185, 243)",
           "rgb(102, 197, 204)",
           "rgb(179, 179, 179)",
           "rgb(201, 219, 116)",
           "rgb(254, 136, 177)",
           "rgb(139, 224, 164)",
           "rgb(102, 197, 204)",
           "rgb(254, 136, 177)",
           "rgb(158, 185, 243)",
           "rgb(220, 176, 242)",
           "rgb(135, 197, 95)",
           "rgb(248, 156, 116)",
           "rgb(201, 219, 116)",
           "rgb(135, 197, 95)",
           "rgb(246, 207, 113)",
           "rgb(220, 176, 242)",
           "rgb(248, 156, 116)",
           "rgb(135, 197, 95)",
           "rgb(139, 224, 164)",
           "rgb(179, 179, 179)",
           "rgb(180, 151, 231)",
           "rgb(158, 185, 243)",
           "rgb(180, 151, 231)",
           "rgb(254, 136, 177)",
           "rgb(102, 197, 204)",
           "rgb(139, 224, 164)",
           "rgb(135, 197, 95)",
           "rgb(102, 197, 204)",
           "rgb(246, 207, 113)",
           "rgb(179, 179, 179)",
           "rgb(248, 156, 116)",
           "rgb(246, 207, 113)"
          ]
         },
         "name": "BE",
         "type": "bar",
         "x": [
          "Alcohol",
          "Bakery",
          "Berry Fruit",
          "Cereal",
          "Cheese",
          "Chocolate",
          "Citrus Fruit",
          "Coffee",
          "Confectionery",
          "Dessert",
          "Fish",
          "Flower",
          "Fruit",
          "Hardshell",
          "Herb",
          "Meat",
          "Milk",
          "Nut",
          "Oils",
          "Other Dairy",
          "Other Flora",
          "Other Savoury",
          "Pasta",
          "Plant",
          "Poultry",
          "Process",
          "Rice",
          "Sauces",
          "Seed",
          "Sour",
          "Spice",
          "Sugar",
          "Sweet",
          "Syrup",
          "Tea",
          "Tree",
          "Vegetable"
         ],
         "y": [
          62,
          4,
          125,
          5,
          0,
          25,
          208,
          3,
          8,
          4,
          0,
          53,
          276,
          0,
          111,
          0,
          2,
          11,
          0,
          4,
          2,
          6,
          0,
          18,
          0,
          4,
          0,
          1,
          5,
          4,
          148,
          9,
          54,
          12,
          27,
          22,
          29
         ]
        },
        {
         "marker": {
          "color": [
           "rgb(180, 151, 231)",
           "rgb(246, 207, 113)",
           "rgb(220, 176, 242)",
           "rgb(201, 219, 116)",
           "rgb(248, 156, 116)",
           "rgb(158, 185, 243)",
           "rgb(102, 197, 204)",
           "rgb(179, 179, 179)",
           "rgb(201, 219, 116)",
           "rgb(254, 136, 177)",
           "rgb(139, 224, 164)",
           "rgb(102, 197, 204)",
           "rgb(254, 136, 177)",
           "rgb(158, 185, 243)",
           "rgb(220, 176, 242)",
           "rgb(135, 197, 95)",
           "rgb(248, 156, 116)",
           "rgb(201, 219, 116)",
           "rgb(135, 197, 95)",
           "rgb(246, 207, 113)",
           "rgb(220, 176, 242)",
           "rgb(248, 156, 116)",
           "rgb(135, 197, 95)",
           "rgb(139, 224, 164)",
           "rgb(179, 179, 179)",
           "rgb(180, 151, 231)",
           "rgb(158, 185, 243)",
           "rgb(180, 151, 231)",
           "rgb(254, 136, 177)",
           "rgb(102, 197, 204)",
           "rgb(139, 224, 164)",
           "rgb(135, 197, 95)",
           "rgb(102, 197, 204)",
           "rgb(246, 207, 113)",
           "rgb(179, 179, 179)",
           "rgb(248, 156, 116)",
           "rgb(246, 207, 113)"
          ]
         },
         "name": "BG",
         "type": "bar",
         "x": [
          "Alcohol",
          "Bakery",
          "Berry Fruit",
          "Cereal",
          "Cheese",
          "Chocolate",
          "Citrus Fruit",
          "Coffee",
          "Confectionery",
          "Dessert",
          "Fish",
          "Flower",
          "Fruit",
          "Hardshell",
          "Herb",
          "Meat",
          "Milk",
          "Nut",
          "Oils",
          "Other Dairy",
          "Other Flora",
          "Other Savoury",
          "Pasta",
          "Plant",
          "Poultry",
          "Process",
          "Rice",
          "Sauces",
          "Seed",
          "Sour",
          "Spice",
          "Sugar",
          "Sweet",
          "Syrup",
          "Tea",
          "Tree",
          "Vegetable"
         ],
         "y": [
          5,
          1,
          23,
          0,
          0,
          11,
          25,
          2,
          2,
          0,
          0,
          12,
          46,
          0,
          30,
          0,
          2,
          1,
          0,
          5,
          0,
          2,
          0,
          6,
          0,
          1,
          0,
          0,
          2,
          0,
          12,
          1,
          7,
          6,
          9,
          3,
          4
         ]
        },
        {
         "marker": {
          "color": [
           "rgb(180, 151, 231)",
           "rgb(246, 207, 113)",
           "rgb(220, 176, 242)",
           "rgb(201, 219, 116)",
           "rgb(248, 156, 116)",
           "rgb(158, 185, 243)",
           "rgb(102, 197, 204)",
           "rgb(179, 179, 179)",
           "rgb(201, 219, 116)",
           "rgb(254, 136, 177)",
           "rgb(139, 224, 164)",
           "rgb(102, 197, 204)",
           "rgb(254, 136, 177)",
           "rgb(158, 185, 243)",
           "rgb(220, 176, 242)",
           "rgb(135, 197, 95)",
           "rgb(248, 156, 116)",
           "rgb(201, 219, 116)",
           "rgb(135, 197, 95)",
           "rgb(246, 207, 113)",
           "rgb(220, 176, 242)",
           "rgb(248, 156, 116)",
           "rgb(135, 197, 95)",
           "rgb(139, 224, 164)",
           "rgb(179, 179, 179)",
           "rgb(180, 151, 231)",
           "rgb(158, 185, 243)",
           "rgb(180, 151, 231)",
           "rgb(254, 136, 177)",
           "rgb(102, 197, 204)",
           "rgb(139, 224, 164)",
           "rgb(135, 197, 95)",
           "rgb(102, 197, 204)",
           "rgb(246, 207, 113)",
           "rgb(179, 179, 179)",
           "rgb(248, 156, 116)",
           "rgb(246, 207, 113)"
          ]
         },
         "name": "BR",
         "type": "bar",
         "x": [
          "Alcohol",
          "Bakery",
          "Berry Fruit",
          "Cereal",
          "Cheese",
          "Chocolate",
          "Citrus Fruit",
          "Coffee",
          "Confectionery",
          "Dessert",
          "Fish",
          "Flower",
          "Fruit",
          "Hardshell",
          "Herb",
          "Meat",
          "Milk",
          "Nut",
          "Oils",
          "Other Dairy",
          "Other Flora",
          "Other Savoury",
          "Pasta",
          "Plant",
          "Poultry",
          "Process",
          "Rice",
          "Sauces",
          "Seed",
          "Sour",
          "Spice",
          "Sugar",
          "Sweet",
          "Syrup",
          "Tea",
          "Tree",
          "Vegetable"
         ],
         "y": [
          78,
          19,
          591,
          22,
          0,
          388,
          1031,
          42,
          13,
          65,
          0,
          157,
          1945,
          0,
          435,
          0,
          10,
          88,
          0,
          29,
          10,
          11,
          0,
          48,
          0,
          27,
          0,
          3,
          202,
          16,
          567,
          48,
          325,
          43,
          193,
          54,
          234
         ]
        },
        {
         "marker": {
          "color": [
           "rgb(180, 151, 231)",
           "rgb(246, 207, 113)",
           "rgb(220, 176, 242)",
           "rgb(201, 219, 116)",
           "rgb(248, 156, 116)",
           "rgb(158, 185, 243)",
           "rgb(102, 197, 204)",
           "rgb(179, 179, 179)",
           "rgb(201, 219, 116)",
           "rgb(254, 136, 177)",
           "rgb(139, 224, 164)",
           "rgb(102, 197, 204)",
           "rgb(254, 136, 177)",
           "rgb(158, 185, 243)",
           "rgb(220, 176, 242)",
           "rgb(135, 197, 95)",
           "rgb(248, 156, 116)",
           "rgb(201, 219, 116)",
           "rgb(135, 197, 95)",
           "rgb(246, 207, 113)",
           "rgb(220, 176, 242)",
           "rgb(248, 156, 116)",
           "rgb(135, 197, 95)",
           "rgb(139, 224, 164)",
           "rgb(179, 179, 179)",
           "rgb(180, 151, 231)",
           "rgb(158, 185, 243)",
           "rgb(180, 151, 231)",
           "rgb(254, 136, 177)",
           "rgb(102, 197, 204)",
           "rgb(139, 224, 164)",
           "rgb(135, 197, 95)",
           "rgb(102, 197, 204)",
           "rgb(246, 207, 113)",
           "rgb(179, 179, 179)",
           "rgb(248, 156, 116)",
           "rgb(246, 207, 113)"
          ]
         },
         "name": "BY",
         "type": "bar",
         "x": [
          "Alcohol",
          "Bakery",
          "Berry Fruit",
          "Cereal",
          "Cheese",
          "Chocolate",
          "Citrus Fruit",
          "Coffee",
          "Confectionery",
          "Dessert",
          "Fish",
          "Flower",
          "Fruit",
          "Hardshell",
          "Herb",
          "Meat",
          "Milk",
          "Nut",
          "Oils",
          "Other Dairy",
          "Other Flora",
          "Other Savoury",
          "Pasta",
          "Plant",
          "Poultry",
          "Process",
          "Rice",
          "Sauces",
          "Seed",
          "Sour",
          "Spice",
          "Sugar",
          "Sweet",
          "Syrup",
          "Tea",
          "Tree",
          "Vegetable"
         ],
         "y": [
          2,
          0,
          23,
          6,
          0,
          5,
          18,
          0,
          0,
          0,
          0,
          18,
          42,
          0,
          17,
          0,
          3,
          1,
          0,
          0,
          0,
          1,
          0,
          8,
          0,
          0,
          0,
          0,
          0,
          0,
          33,
          4,
          11,
          3,
          0,
          3,
          5
         ]
        },
        {
         "marker": {
          "color": [
           "rgb(180, 151, 231)",
           "rgb(246, 207, 113)",
           "rgb(220, 176, 242)",
           "rgb(201, 219, 116)",
           "rgb(248, 156, 116)",
           "rgb(158, 185, 243)",
           "rgb(102, 197, 204)",
           "rgb(179, 179, 179)",
           "rgb(201, 219, 116)",
           "rgb(254, 136, 177)",
           "rgb(139, 224, 164)",
           "rgb(102, 197, 204)",
           "rgb(254, 136, 177)",
           "rgb(158, 185, 243)",
           "rgb(220, 176, 242)",
           "rgb(135, 197, 95)",
           "rgb(248, 156, 116)",
           "rgb(201, 219, 116)",
           "rgb(135, 197, 95)",
           "rgb(246, 207, 113)",
           "rgb(220, 176, 242)",
           "rgb(248, 156, 116)",
           "rgb(135, 197, 95)",
           "rgb(139, 224, 164)",
           "rgb(179, 179, 179)",
           "rgb(180, 151, 231)",
           "rgb(158, 185, 243)",
           "rgb(180, 151, 231)",
           "rgb(254, 136, 177)",
           "rgb(102, 197, 204)",
           "rgb(139, 224, 164)",
           "rgb(135, 197, 95)",
           "rgb(102, 197, 204)",
           "rgb(246, 207, 113)",
           "rgb(179, 179, 179)",
           "rgb(248, 156, 116)",
           "rgb(246, 207, 113)"
          ]
         },
         "name": "CA",
         "type": "bar",
         "x": [
          "Alcohol",
          "Bakery",
          "Berry Fruit",
          "Cereal",
          "Cheese",
          "Chocolate",
          "Citrus Fruit",
          "Coffee",
          "Confectionery",
          "Dessert",
          "Fish",
          "Flower",
          "Fruit",
          "Hardshell",
          "Herb",
          "Meat",
          "Milk",
          "Nut",
          "Oils",
          "Other Dairy",
          "Other Flora",
          "Other Savoury",
          "Pasta",
          "Plant",
          "Poultry",
          "Process",
          "Rice",
          "Sauces",
          "Seed",
          "Sour",
          "Spice",
          "Sugar",
          "Sweet",
          "Syrup",
          "Tea",
          "Tree",
          "Vegetable"
         ],
         "y": [
          201,
          29,
          599,
          37,
          0,
          279,
          902,
          31,
          33,
          21,
          0,
          124,
          1328,
          5,
          282,
          0,
          12,
          105,
          0,
          44,
          11,
          15,
          0,
          62,
          0,
          17,
          9,
          8,
          48,
          20,
          528,
          59,
          467,
          83,
          174,
          24,
          241
         ]
        },
        {
         "marker": {
          "color": [
           "rgb(180, 151, 231)",
           "rgb(246, 207, 113)",
           "rgb(220, 176, 242)",
           "rgb(201, 219, 116)",
           "rgb(248, 156, 116)",
           "rgb(158, 185, 243)",
           "rgb(102, 197, 204)",
           "rgb(179, 179, 179)",
           "rgb(201, 219, 116)",
           "rgb(254, 136, 177)",
           "rgb(139, 224, 164)",
           "rgb(102, 197, 204)",
           "rgb(254, 136, 177)",
           "rgb(158, 185, 243)",
           "rgb(220, 176, 242)",
           "rgb(135, 197, 95)",
           "rgb(248, 156, 116)",
           "rgb(201, 219, 116)",
           "rgb(135, 197, 95)",
           "rgb(246, 207, 113)",
           "rgb(220, 176, 242)",
           "rgb(248, 156, 116)",
           "rgb(135, 197, 95)",
           "rgb(139, 224, 164)",
           "rgb(179, 179, 179)",
           "rgb(180, 151, 231)",
           "rgb(158, 185, 243)",
           "rgb(180, 151, 231)",
           "rgb(254, 136, 177)",
           "rgb(102, 197, 204)",
           "rgb(139, 224, 164)",
           "rgb(135, 197, 95)",
           "rgb(102, 197, 204)",
           "rgb(246, 207, 113)",
           "rgb(179, 179, 179)",
           "rgb(248, 156, 116)",
           "rgb(246, 207, 113)"
          ]
         },
         "name": "CH",
         "type": "bar",
         "x": [
          "Alcohol",
          "Bakery",
          "Berry Fruit",
          "Cereal",
          "Cheese",
          "Chocolate",
          "Citrus Fruit",
          "Coffee",
          "Confectionery",
          "Dessert",
          "Fish",
          "Flower",
          "Fruit",
          "Hardshell",
          "Herb",
          "Meat",
          "Milk",
          "Nut",
          "Oils",
          "Other Dairy",
          "Other Flora",
          "Other Savoury",
          "Pasta",
          "Plant",
          "Poultry",
          "Process",
          "Rice",
          "Sauces",
          "Seed",
          "Sour",
          "Spice",
          "Sugar",
          "Sweet",
          "Syrup",
          "Tea",
          "Tree",
          "Vegetable"
         ],
         "y": [
          37,
          6,
          134,
          14,
          0,
          64,
          312,
          8,
          4,
          4,
          0,
          56,
          409,
          0,
          108,
          0,
          7,
          26,
          0,
          10,
          3,
          11,
          0,
          16,
          0,
          0,
          1,
          1,
          18,
          1,
          85,
          18,
          128,
          7,
          12,
          13,
          50
         ]
        },
        {
         "marker": {
          "color": [
           "rgb(180, 151, 231)",
           "rgb(246, 207, 113)",
           "rgb(220, 176, 242)",
           "rgb(201, 219, 116)",
           "rgb(248, 156, 116)",
           "rgb(158, 185, 243)",
           "rgb(102, 197, 204)",
           "rgb(179, 179, 179)",
           "rgb(201, 219, 116)",
           "rgb(254, 136, 177)",
           "rgb(139, 224, 164)",
           "rgb(102, 197, 204)",
           "rgb(254, 136, 177)",
           "rgb(158, 185, 243)",
           "rgb(220, 176, 242)",
           "rgb(135, 197, 95)",
           "rgb(248, 156, 116)",
           "rgb(201, 219, 116)",
           "rgb(135, 197, 95)",
           "rgb(246, 207, 113)",
           "rgb(220, 176, 242)",
           "rgb(248, 156, 116)",
           "rgb(135, 197, 95)",
           "rgb(139, 224, 164)",
           "rgb(179, 179, 179)",
           "rgb(180, 151, 231)",
           "rgb(158, 185, 243)",
           "rgb(180, 151, 231)",
           "rgb(254, 136, 177)",
           "rgb(102, 197, 204)",
           "rgb(139, 224, 164)",
           "rgb(135, 197, 95)",
           "rgb(102, 197, 204)",
           "rgb(246, 207, 113)",
           "rgb(179, 179, 179)",
           "rgb(248, 156, 116)",
           "rgb(246, 207, 113)"
          ]
         },
         "name": "CI",
         "type": "bar",
         "x": [
          "Alcohol",
          "Bakery",
          "Berry Fruit",
          "Cereal",
          "Cheese",
          "Chocolate",
          "Citrus Fruit",
          "Coffee",
          "Confectionery",
          "Dessert",
          "Fish",
          "Flower",
          "Fruit",
          "Hardshell",
          "Herb",
          "Meat",
          "Milk",
          "Nut",
          "Oils",
          "Other Dairy",
          "Other Flora",
          "Other Savoury",
          "Pasta",
          "Plant",
          "Poultry",
          "Process",
          "Rice",
          "Sauces",
          "Seed",
          "Sour",
          "Spice",
          "Sugar",
          "Sweet",
          "Syrup",
          "Tea",
          "Tree",
          "Vegetable"
         ],
         "y": [
          17,
          0,
          9,
          6,
          0,
          15,
          41,
          3,
          3,
          0,
          0,
          8,
          53,
          0,
          16,
          0,
          1,
          2,
          0,
          3,
          0,
          1,
          0,
          2,
          0,
          1,
          0,
          0,
          2,
          0,
          16,
          0,
          8,
          2,
          2,
          0,
          1
         ]
        },
        {
         "marker": {
          "color": [
           "rgb(180, 151, 231)",
           "rgb(246, 207, 113)",
           "rgb(220, 176, 242)",
           "rgb(201, 219, 116)",
           "rgb(248, 156, 116)",
           "rgb(158, 185, 243)",
           "rgb(102, 197, 204)",
           "rgb(179, 179, 179)",
           "rgb(201, 219, 116)",
           "rgb(254, 136, 177)",
           "rgb(139, 224, 164)",
           "rgb(102, 197, 204)",
           "rgb(254, 136, 177)",
           "rgb(158, 185, 243)",
           "rgb(220, 176, 242)",
           "rgb(135, 197, 95)",
           "rgb(248, 156, 116)",
           "rgb(201, 219, 116)",
           "rgb(135, 197, 95)",
           "rgb(246, 207, 113)",
           "rgb(220, 176, 242)",
           "rgb(248, 156, 116)",
           "rgb(135, 197, 95)",
           "rgb(139, 224, 164)",
           "rgb(179, 179, 179)",
           "rgb(180, 151, 231)",
           "rgb(158, 185, 243)",
           "rgb(180, 151, 231)",
           "rgb(254, 136, 177)",
           "rgb(102, 197, 204)",
           "rgb(139, 224, 164)",
           "rgb(135, 197, 95)",
           "rgb(102, 197, 204)",
           "rgb(246, 207, 113)",
           "rgb(179, 179, 179)",
           "rgb(248, 156, 116)",
           "rgb(246, 207, 113)"
          ]
         },
         "name": "CL",
         "type": "bar",
         "x": [
          "Alcohol",
          "Bakery",
          "Berry Fruit",
          "Cereal",
          "Cheese",
          "Chocolate",
          "Citrus Fruit",
          "Coffee",
          "Confectionery",
          "Dessert",
          "Fish",
          "Flower",
          "Fruit",
          "Hardshell",
          "Herb",
          "Meat",
          "Milk",
          "Nut",
          "Oils",
          "Other Dairy",
          "Other Flora",
          "Other Savoury",
          "Pasta",
          "Plant",
          "Poultry",
          "Process",
          "Rice",
          "Sauces",
          "Seed",
          "Sour",
          "Spice",
          "Sugar",
          "Sweet",
          "Syrup",
          "Tea",
          "Tree",
          "Vegetable"
         ],
         "y": [
          23,
          0,
          54,
          0,
          0,
          21,
          106,
          1,
          1,
          1,
          0,
          7,
          184,
          0,
          22,
          0,
          1,
          10,
          0,
          1,
          3,
          1,
          0,
          8,
          0,
          0,
          0,
          0,
          7,
          5,
          38,
          13,
          48,
          4,
          10,
          5,
          15
         ]
        },
        {
         "marker": {
          "color": [
           "rgb(180, 151, 231)",
           "rgb(246, 207, 113)",
           "rgb(220, 176, 242)",
           "rgb(201, 219, 116)",
           "rgb(248, 156, 116)",
           "rgb(158, 185, 243)",
           "rgb(102, 197, 204)",
           "rgb(179, 179, 179)",
           "rgb(201, 219, 116)",
           "rgb(254, 136, 177)",
           "rgb(139, 224, 164)",
           "rgb(102, 197, 204)",
           "rgb(254, 136, 177)",
           "rgb(158, 185, 243)",
           "rgb(220, 176, 242)",
           "rgb(135, 197, 95)",
           "rgb(248, 156, 116)",
           "rgb(201, 219, 116)",
           "rgb(135, 197, 95)",
           "rgb(246, 207, 113)",
           "rgb(220, 176, 242)",
           "rgb(248, 156, 116)",
           "rgb(135, 197, 95)",
           "rgb(139, 224, 164)",
           "rgb(179, 179, 179)",
           "rgb(180, 151, 231)",
           "rgb(158, 185, 243)",
           "rgb(180, 151, 231)",
           "rgb(254, 136, 177)",
           "rgb(102, 197, 204)",
           "rgb(139, 224, 164)",
           "rgb(135, 197, 95)",
           "rgb(102, 197, 204)",
           "rgb(246, 207, 113)",
           "rgb(179, 179, 179)",
           "rgb(248, 156, 116)",
           "rgb(246, 207, 113)"
          ]
         },
         "name": "CM",
         "type": "bar",
         "x": [
          "Alcohol",
          "Bakery",
          "Berry Fruit",
          "Cereal",
          "Cheese",
          "Chocolate",
          "Citrus Fruit",
          "Coffee",
          "Confectionery",
          "Dessert",
          "Fish",
          "Flower",
          "Fruit",
          "Hardshell",
          "Herb",
          "Meat",
          "Milk",
          "Nut",
          "Oils",
          "Other Dairy",
          "Other Flora",
          "Other Savoury",
          "Pasta",
          "Plant",
          "Poultry",
          "Process",
          "Rice",
          "Sauces",
          "Seed",
          "Sour",
          "Spice",
          "Sugar",
          "Sweet",
          "Syrup",
          "Tea",
          "Tree",
          "Vegetable"
         ],
         "y": [
          24,
          0,
          22,
          11,
          0,
          38,
          69,
          9,
          0,
          0,
          0,
          2,
          139,
          0,
          14,
          0,
          1,
          10,
          0,
          11,
          1,
          1,
          0,
          0,
          0,
          0,
          0,
          1,
          1,
          0,
          17,
          2,
          13,
          10,
          1,
          2,
          8
         ]
        },
        {
         "marker": {
          "color": [
           "rgb(180, 151, 231)",
           "rgb(246, 207, 113)",
           "rgb(220, 176, 242)",
           "rgb(201, 219, 116)",
           "rgb(248, 156, 116)",
           "rgb(158, 185, 243)",
           "rgb(102, 197, 204)",
           "rgb(179, 179, 179)",
           "rgb(201, 219, 116)",
           "rgb(254, 136, 177)",
           "rgb(139, 224, 164)",
           "rgb(102, 197, 204)",
           "rgb(254, 136, 177)",
           "rgb(158, 185, 243)",
           "rgb(220, 176, 242)",
           "rgb(135, 197, 95)",
           "rgb(248, 156, 116)",
           "rgb(201, 219, 116)",
           "rgb(135, 197, 95)",
           "rgb(246, 207, 113)",
           "rgb(220, 176, 242)",
           "rgb(248, 156, 116)",
           "rgb(135, 197, 95)",
           "rgb(139, 224, 164)",
           "rgb(179, 179, 179)",
           "rgb(180, 151, 231)",
           "rgb(158, 185, 243)",
           "rgb(180, 151, 231)",
           "rgb(254, 136, 177)",
           "rgb(102, 197, 204)",
           "rgb(139, 224, 164)",
           "rgb(135, 197, 95)",
           "rgb(102, 197, 204)",
           "rgb(246, 207, 113)",
           "rgb(179, 179, 179)",
           "rgb(248, 156, 116)",
           "rgb(246, 207, 113)"
          ]
         },
         "name": "CN",
         "type": "bar",
         "x": [
          "Alcohol",
          "Bakery",
          "Berry Fruit",
          "Cereal",
          "Cheese",
          "Chocolate",
          "Citrus Fruit",
          "Coffee",
          "Confectionery",
          "Dessert",
          "Fish",
          "Flower",
          "Fruit",
          "Hardshell",
          "Herb",
          "Meat",
          "Milk",
          "Nut",
          "Oils",
          "Other Dairy",
          "Other Flora",
          "Other Savoury",
          "Pasta",
          "Plant",
          "Poultry",
          "Process",
          "Rice",
          "Sauces",
          "Seed",
          "Sour",
          "Spice",
          "Sugar",
          "Sweet",
          "Syrup",
          "Tea",
          "Tree",
          "Vegetable"
         ],
         "y": [
          97,
          12,
          678,
          256,
          30,
          108,
          1437,
          45,
          13,
          41,
          1,
          622,
          2653,
          1,
          137,
          2,
          87,
          283,
          0,
          96,
          46,
          35,
          0,
          222,
          0,
          35,
          39,
          88,
          47,
          62,
          329,
          228,
          260,
          162,
          148,
          99,
          373
         ]
        },
        {
         "marker": {
          "color": [
           "rgb(180, 151, 231)",
           "rgb(246, 207, 113)",
           "rgb(220, 176, 242)",
           "rgb(201, 219, 116)",
           "rgb(248, 156, 116)",
           "rgb(158, 185, 243)",
           "rgb(102, 197, 204)",
           "rgb(179, 179, 179)",
           "rgb(201, 219, 116)",
           "rgb(254, 136, 177)",
           "rgb(139, 224, 164)",
           "rgb(102, 197, 204)",
           "rgb(254, 136, 177)",
           "rgb(158, 185, 243)",
           "rgb(220, 176, 242)",
           "rgb(135, 197, 95)",
           "rgb(248, 156, 116)",
           "rgb(201, 219, 116)",
           "rgb(135, 197, 95)",
           "rgb(246, 207, 113)",
           "rgb(220, 176, 242)",
           "rgb(248, 156, 116)",
           "rgb(135, 197, 95)",
           "rgb(139, 224, 164)",
           "rgb(179, 179, 179)",
           "rgb(180, 151, 231)",
           "rgb(158, 185, 243)",
           "rgb(180, 151, 231)",
           "rgb(254, 136, 177)",
           "rgb(102, 197, 204)",
           "rgb(139, 224, 164)",
           "rgb(135, 197, 95)",
           "rgb(102, 197, 204)",
           "rgb(246, 207, 113)",
           "rgb(179, 179, 179)",
           "rgb(248, 156, 116)",
           "rgb(246, 207, 113)"
          ]
         },
         "name": "CO",
         "type": "bar",
         "x": [
          "Alcohol",
          "Bakery",
          "Berry Fruit",
          "Cereal",
          "Cheese",
          "Chocolate",
          "Citrus Fruit",
          "Coffee",
          "Confectionery",
          "Dessert",
          "Fish",
          "Flower",
          "Fruit",
          "Hardshell",
          "Herb",
          "Meat",
          "Milk",
          "Nut",
          "Oils",
          "Other Dairy",
          "Other Flora",
          "Other Savoury",
          "Pasta",
          "Plant",
          "Poultry",
          "Process",
          "Rice",
          "Sauces",
          "Seed",
          "Sour",
          "Spice",
          "Sugar",
          "Sweet",
          "Syrup",
          "Tea",
          "Tree",
          "Vegetable"
         ],
         "y": [
          61,
          2,
          179,
          30,
          0,
          168,
          383,
          16,
          4,
          12,
          0,
          60,
          627,
          0,
          146,
          0,
          2,
          47,
          0,
          13,
          8,
          2,
          0,
          89,
          0,
          0,
          1,
          1,
          11,
          4,
          261,
          64,
          159,
          16,
          47,
          26,
          51
         ]
        },
        {
         "marker": {
          "color": [
           "rgb(180, 151, 231)",
           "rgb(246, 207, 113)",
           "rgb(220, 176, 242)",
           "rgb(201, 219, 116)",
           "rgb(248, 156, 116)",
           "rgb(158, 185, 243)",
           "rgb(102, 197, 204)",
           "rgb(179, 179, 179)",
           "rgb(201, 219, 116)",
           "rgb(254, 136, 177)",
           "rgb(139, 224, 164)",
           "rgb(102, 197, 204)",
           "rgb(254, 136, 177)",
           "rgb(158, 185, 243)",
           "rgb(220, 176, 242)",
           "rgb(135, 197, 95)",
           "rgb(248, 156, 116)",
           "rgb(201, 219, 116)",
           "rgb(135, 197, 95)",
           "rgb(246, 207, 113)",
           "rgb(220, 176, 242)",
           "rgb(248, 156, 116)",
           "rgb(135, 197, 95)",
           "rgb(139, 224, 164)",
           "rgb(179, 179, 179)",
           "rgb(180, 151, 231)",
           "rgb(158, 185, 243)",
           "rgb(180, 151, 231)",
           "rgb(254, 136, 177)",
           "rgb(102, 197, 204)",
           "rgb(139, 224, 164)",
           "rgb(135, 197, 95)",
           "rgb(102, 197, 204)",
           "rgb(246, 207, 113)",
           "rgb(179, 179, 179)",
           "rgb(248, 156, 116)",
           "rgb(246, 207, 113)"
          ]
         },
         "name": "CR",
         "type": "bar",
         "x": [
          "Alcohol",
          "Bakery",
          "Berry Fruit",
          "Cereal",
          "Cheese",
          "Chocolate",
          "Citrus Fruit",
          "Coffee",
          "Confectionery",
          "Dessert",
          "Fish",
          "Flower",
          "Fruit",
          "Hardshell",
          "Herb",
          "Meat",
          "Milk",
          "Nut",
          "Oils",
          "Other Dairy",
          "Other Flora",
          "Other Savoury",
          "Pasta",
          "Plant",
          "Poultry",
          "Process",
          "Rice",
          "Sauces",
          "Seed",
          "Sour",
          "Spice",
          "Sugar",
          "Sweet",
          "Syrup",
          "Tea",
          "Tree",
          "Vegetable"
         ],
         "y": [
          55,
          0,
          78,
          9,
          0,
          30,
          127,
          1,
          4,
          3,
          0,
          25,
          230,
          0,
          35,
          0,
          0,
          14,
          0,
          5,
          1,
          1,
          0,
          22,
          0,
          0,
          1,
          0,
          8,
          3,
          55,
          7,
          51,
          8,
          6,
          0,
          17
         ]
        },
        {
         "marker": {
          "color": [
           "rgb(180, 151, 231)",
           "rgb(246, 207, 113)",
           "rgb(220, 176, 242)",
           "rgb(201, 219, 116)",
           "rgb(248, 156, 116)",
           "rgb(158, 185, 243)",
           "rgb(102, 197, 204)",
           "rgb(179, 179, 179)",
           "rgb(201, 219, 116)",
           "rgb(254, 136, 177)",
           "rgb(139, 224, 164)",
           "rgb(102, 197, 204)",
           "rgb(254, 136, 177)",
           "rgb(158, 185, 243)",
           "rgb(220, 176, 242)",
           "rgb(135, 197, 95)",
           "rgb(248, 156, 116)",
           "rgb(201, 219, 116)",
           "rgb(135, 197, 95)",
           "rgb(246, 207, 113)",
           "rgb(220, 176, 242)",
           "rgb(248, 156, 116)",
           "rgb(135, 197, 95)",
           "rgb(139, 224, 164)",
           "rgb(179, 179, 179)",
           "rgb(180, 151, 231)",
           "rgb(158, 185, 243)",
           "rgb(180, 151, 231)",
           "rgb(254, 136, 177)",
           "rgb(102, 197, 204)",
           "rgb(139, 224, 164)",
           "rgb(135, 197, 95)",
           "rgb(102, 197, 204)",
           "rgb(246, 207, 113)",
           "rgb(179, 179, 179)",
           "rgb(248, 156, 116)",
           "rgb(246, 207, 113)"
          ]
         },
         "name": "CZ",
         "type": "bar",
         "x": [
          "Alcohol",
          "Bakery",
          "Berry Fruit",
          "Cereal",
          "Cheese",
          "Chocolate",
          "Citrus Fruit",
          "Coffee",
          "Confectionery",
          "Dessert",
          "Fish",
          "Flower",
          "Fruit",
          "Hardshell",
          "Herb",
          "Meat",
          "Milk",
          "Nut",
          "Oils",
          "Other Dairy",
          "Other Flora",
          "Other Savoury",
          "Pasta",
          "Plant",
          "Poultry",
          "Process",
          "Rice",
          "Sauces",
          "Seed",
          "Sour",
          "Spice",
          "Sugar",
          "Sweet",
          "Syrup",
          "Tea",
          "Tree",
          "Vegetable"
         ],
         "y": [
          15,
          6,
          221,
          2,
          0,
          34,
          230,
          5,
          5,
          4,
          0,
          76,
          424,
          0,
          172,
          0,
          1,
          16,
          0,
          1,
          1,
          9,
          0,
          31,
          0,
          0,
          1,
          1,
          11,
          1,
          137,
          7,
          69,
          7,
          26,
          15,
          66
         ]
        },
        {
         "marker": {
          "color": [
           "rgb(180, 151, 231)",
           "rgb(246, 207, 113)",
           "rgb(220, 176, 242)",
           "rgb(201, 219, 116)",
           "rgb(248, 156, 116)",
           "rgb(158, 185, 243)",
           "rgb(102, 197, 204)",
           "rgb(179, 179, 179)",
           "rgb(201, 219, 116)",
           "rgb(254, 136, 177)",
           "rgb(139, 224, 164)",
           "rgb(102, 197, 204)",
           "rgb(254, 136, 177)",
           "rgb(158, 185, 243)",
           "rgb(220, 176, 242)",
           "rgb(135, 197, 95)",
           "rgb(248, 156, 116)",
           "rgb(201, 219, 116)",
           "rgb(135, 197, 95)",
           "rgb(246, 207, 113)",
           "rgb(220, 176, 242)",
           "rgb(248, 156, 116)",
           "rgb(135, 197, 95)",
           "rgb(139, 224, 164)",
           "rgb(179, 179, 179)",
           "rgb(180, 151, 231)",
           "rgb(158, 185, 243)",
           "rgb(180, 151, 231)",
           "rgb(254, 136, 177)",
           "rgb(102, 197, 204)",
           "rgb(139, 224, 164)",
           "rgb(135, 197, 95)",
           "rgb(102, 197, 204)",
           "rgb(246, 207, 113)",
           "rgb(179, 179, 179)",
           "rgb(248, 156, 116)",
           "rgb(246, 207, 113)"
          ]
         },
         "name": "DE",
         "type": "bar",
         "x": [
          "Alcohol",
          "Bakery",
          "Berry Fruit",
          "Cereal",
          "Cheese",
          "Chocolate",
          "Citrus Fruit",
          "Coffee",
          "Confectionery",
          "Dessert",
          "Fish",
          "Flower",
          "Fruit",
          "Hardshell",
          "Herb",
          "Meat",
          "Milk",
          "Nut",
          "Oils",
          "Other Dairy",
          "Other Flora",
          "Other Savoury",
          "Pasta",
          "Plant",
          "Poultry",
          "Process",
          "Rice",
          "Sauces",
          "Seed",
          "Sour",
          "Spice",
          "Sugar",
          "Sweet",
          "Syrup",
          "Tea",
          "Tree",
          "Vegetable"
         ],
         "y": [
          231,
          54,
          1120,
          46,
          3,
          389,
          1412,
          65,
          41,
          49,
          0,
          353,
          2652,
          0,
          807,
          1,
          12,
          173,
          0,
          78,
          22,
          40,
          0,
          237,
          0,
          15,
          2,
          12,
          102,
          21,
          983,
          109,
          423,
          58,
          102,
          51,
          403
         ]
        },
        {
         "marker": {
          "color": [
           "rgb(180, 151, 231)",
           "rgb(246, 207, 113)",
           "rgb(220, 176, 242)",
           "rgb(201, 219, 116)",
           "rgb(248, 156, 116)",
           "rgb(158, 185, 243)",
           "rgb(102, 197, 204)",
           "rgb(179, 179, 179)",
           "rgb(201, 219, 116)",
           "rgb(254, 136, 177)",
           "rgb(139, 224, 164)",
           "rgb(102, 197, 204)",
           "rgb(254, 136, 177)",
           "rgb(158, 185, 243)",
           "rgb(220, 176, 242)",
           "rgb(135, 197, 95)",
           "rgb(248, 156, 116)",
           "rgb(201, 219, 116)",
           "rgb(135, 197, 95)",
           "rgb(246, 207, 113)",
           "rgb(220, 176, 242)",
           "rgb(248, 156, 116)",
           "rgb(135, 197, 95)",
           "rgb(139, 224, 164)",
           "rgb(179, 179, 179)",
           "rgb(180, 151, 231)",
           "rgb(158, 185, 243)",
           "rgb(180, 151, 231)",
           "rgb(254, 136, 177)",
           "rgb(102, 197, 204)",
           "rgb(139, 224, 164)",
           "rgb(135, 197, 95)",
           "rgb(102, 197, 204)",
           "rgb(246, 207, 113)",
           "rgb(179, 179, 179)",
           "rgb(248, 156, 116)",
           "rgb(246, 207, 113)"
          ]
         },
         "name": "DK",
         "type": "bar",
         "x": [
          "Alcohol",
          "Bakery",
          "Berry Fruit",
          "Cereal",
          "Cheese",
          "Chocolate",
          "Citrus Fruit",
          "Coffee",
          "Confectionery",
          "Dessert",
          "Fish",
          "Flower",
          "Fruit",
          "Hardshell",
          "Herb",
          "Meat",
          "Milk",
          "Nut",
          "Oils",
          "Other Dairy",
          "Other Flora",
          "Other Savoury",
          "Pasta",
          "Plant",
          "Poultry",
          "Process",
          "Rice",
          "Sauces",
          "Seed",
          "Sour",
          "Spice",
          "Sugar",
          "Sweet",
          "Syrup",
          "Tea",
          "Tree",
          "Vegetable"
         ],
         "y": [
          53,
          6,
          254,
          7,
          0,
          53,
          309,
          6,
          16,
          3,
          0,
          94,
          480,
          1,
          113,
          0,
          1,
          14,
          0,
          3,
          4,
          2,
          0,
          34,
          0,
          3,
          0,
          2,
          18,
          5,
          267,
          24,
          90,
          7,
          32,
          20,
          66
         ]
        },
        {
         "marker": {
          "color": [
           "rgb(180, 151, 231)",
           "rgb(246, 207, 113)",
           "rgb(220, 176, 242)",
           "rgb(201, 219, 116)",
           "rgb(248, 156, 116)",
           "rgb(158, 185, 243)",
           "rgb(102, 197, 204)",
           "rgb(179, 179, 179)",
           "rgb(201, 219, 116)",
           "rgb(254, 136, 177)",
           "rgb(139, 224, 164)",
           "rgb(102, 197, 204)",
           "rgb(254, 136, 177)",
           "rgb(158, 185, 243)",
           "rgb(220, 176, 242)",
           "rgb(135, 197, 95)",
           "rgb(248, 156, 116)",
           "rgb(201, 219, 116)",
           "rgb(135, 197, 95)",
           "rgb(246, 207, 113)",
           "rgb(220, 176, 242)",
           "rgb(248, 156, 116)",
           "rgb(135, 197, 95)",
           "rgb(139, 224, 164)",
           "rgb(179, 179, 179)",
           "rgb(180, 151, 231)",
           "rgb(158, 185, 243)",
           "rgb(180, 151, 231)",
           "rgb(254, 136, 177)",
           "rgb(102, 197, 204)",
           "rgb(139, 224, 164)",
           "rgb(135, 197, 95)",
           "rgb(102, 197, 204)",
           "rgb(246, 207, 113)",
           "rgb(179, 179, 179)",
           "rgb(248, 156, 116)",
           "rgb(246, 207, 113)"
          ]
         },
         "name": "DZ",
         "type": "bar",
         "x": [
          "Alcohol",
          "Bakery",
          "Berry Fruit",
          "Cereal",
          "Cheese",
          "Chocolate",
          "Citrus Fruit",
          "Coffee",
          "Confectionery",
          "Dessert",
          "Fish",
          "Flower",
          "Fruit",
          "Hardshell",
          "Herb",
          "Meat",
          "Milk",
          "Nut",
          "Oils",
          "Other Dairy",
          "Other Flora",
          "Other Savoury",
          "Pasta",
          "Plant",
          "Poultry",
          "Process",
          "Rice",
          "Sauces",
          "Seed",
          "Sour",
          "Spice",
          "Sugar",
          "Sweet",
          "Syrup",
          "Tea",
          "Tree",
          "Vegetable"
         ],
         "y": [
          10,
          0,
          15,
          2,
          0,
          9,
          60,
          0,
          4,
          0,
          0,
          3,
          69,
          0,
          22,
          0,
          4,
          2,
          0,
          0,
          0,
          3,
          0,
          2,
          0,
          0,
          0,
          0,
          0,
          0,
          8,
          2,
          14,
          4,
          0,
          1,
          4
         ]
        },
        {
         "marker": {
          "color": [
           "rgb(180, 151, 231)",
           "rgb(246, 207, 113)",
           "rgb(220, 176, 242)",
           "rgb(201, 219, 116)",
           "rgb(248, 156, 116)",
           "rgb(158, 185, 243)",
           "rgb(102, 197, 204)",
           "rgb(179, 179, 179)",
           "rgb(201, 219, 116)",
           "rgb(254, 136, 177)",
           "rgb(139, 224, 164)",
           "rgb(102, 197, 204)",
           "rgb(254, 136, 177)",
           "rgb(158, 185, 243)",
           "rgb(220, 176, 242)",
           "rgb(135, 197, 95)",
           "rgb(248, 156, 116)",
           "rgb(201, 219, 116)",
           "rgb(135, 197, 95)",
           "rgb(246, 207, 113)",
           "rgb(220, 176, 242)",
           "rgb(248, 156, 116)",
           "rgb(135, 197, 95)",
           "rgb(139, 224, 164)",
           "rgb(179, 179, 179)",
           "rgb(180, 151, 231)",
           "rgb(158, 185, 243)",
           "rgb(180, 151, 231)",
           "rgb(254, 136, 177)",
           "rgb(102, 197, 204)",
           "rgb(139, 224, 164)",
           "rgb(135, 197, 95)",
           "rgb(102, 197, 204)",
           "rgb(246, 207, 113)",
           "rgb(179, 179, 179)",
           "rgb(248, 156, 116)",
           "rgb(246, 207, 113)"
          ]
         },
         "name": "EC",
         "type": "bar",
         "x": [
          "Alcohol",
          "Bakery",
          "Berry Fruit",
          "Cereal",
          "Cheese",
          "Chocolate",
          "Citrus Fruit",
          "Coffee",
          "Confectionery",
          "Dessert",
          "Fish",
          "Flower",
          "Fruit",
          "Hardshell",
          "Herb",
          "Meat",
          "Milk",
          "Nut",
          "Oils",
          "Other Dairy",
          "Other Flora",
          "Other Savoury",
          "Pasta",
          "Plant",
          "Poultry",
          "Process",
          "Rice",
          "Sauces",
          "Seed",
          "Sour",
          "Spice",
          "Sugar",
          "Sweet",
          "Syrup",
          "Tea",
          "Tree",
          "Vegetable"
         ],
         "y": [
          27,
          0,
          75,
          10,
          0,
          47,
          193,
          0,
          0,
          3,
          0,
          24,
          244,
          0,
          30,
          0,
          1,
          19,
          0,
          7,
          0,
          3,
          0,
          18,
          0,
          0,
          0,
          2,
          6,
          0,
          58,
          3,
          56,
          4,
          9,
          17,
          13
         ]
        },
        {
         "marker": {
          "color": [
           "rgb(180, 151, 231)",
           "rgb(246, 207, 113)",
           "rgb(220, 176, 242)",
           "rgb(201, 219, 116)",
           "rgb(248, 156, 116)",
           "rgb(158, 185, 243)",
           "rgb(102, 197, 204)",
           "rgb(179, 179, 179)",
           "rgb(201, 219, 116)",
           "rgb(254, 136, 177)",
           "rgb(139, 224, 164)",
           "rgb(102, 197, 204)",
           "rgb(254, 136, 177)",
           "rgb(158, 185, 243)",
           "rgb(220, 176, 242)",
           "rgb(135, 197, 95)",
           "rgb(248, 156, 116)",
           "rgb(201, 219, 116)",
           "rgb(135, 197, 95)",
           "rgb(246, 207, 113)",
           "rgb(220, 176, 242)",
           "rgb(248, 156, 116)",
           "rgb(135, 197, 95)",
           "rgb(139, 224, 164)",
           "rgb(179, 179, 179)",
           "rgb(180, 151, 231)",
           "rgb(158, 185, 243)",
           "rgb(180, 151, 231)",
           "rgb(254, 136, 177)",
           "rgb(102, 197, 204)",
           "rgb(139, 224, 164)",
           "rgb(135, 197, 95)",
           "rgb(102, 197, 204)",
           "rgb(246, 207, 113)",
           "rgb(179, 179, 179)",
           "rgb(248, 156, 116)",
           "rgb(246, 207, 113)"
          ]
         },
         "name": "EE",
         "type": "bar",
         "x": [
          "Alcohol",
          "Bakery",
          "Berry Fruit",
          "Cereal",
          "Cheese",
          "Chocolate",
          "Citrus Fruit",
          "Coffee",
          "Confectionery",
          "Dessert",
          "Fish",
          "Flower",
          "Fruit",
          "Hardshell",
          "Herb",
          "Meat",
          "Milk",
          "Nut",
          "Oils",
          "Other Dairy",
          "Other Flora",
          "Other Savoury",
          "Pasta",
          "Plant",
          "Poultry",
          "Process",
          "Rice",
          "Sauces",
          "Seed",
          "Sour",
          "Spice",
          "Sugar",
          "Sweet",
          "Syrup",
          "Tea",
          "Tree",
          "Vegetable"
         ],
         "y": [
          11,
          0,
          53,
          0,
          0,
          8,
          53,
          0,
          1,
          1,
          0,
          10,
          69,
          0,
          21,
          0,
          1,
          3,
          0,
          1,
          0,
          6,
          0,
          6,
          0,
          2,
          0,
          0,
          1,
          0,
          42,
          5,
          29,
          7,
          5,
          9,
          7
         ]
        },
        {
         "marker": {
          "color": [
           "rgb(180, 151, 231)",
           "rgb(246, 207, 113)",
           "rgb(220, 176, 242)",
           "rgb(201, 219, 116)",
           "rgb(248, 156, 116)",
           "rgb(158, 185, 243)",
           "rgb(102, 197, 204)",
           "rgb(179, 179, 179)",
           "rgb(201, 219, 116)",
           "rgb(254, 136, 177)",
           "rgb(139, 224, 164)",
           "rgb(102, 197, 204)",
           "rgb(254, 136, 177)",
           "rgb(158, 185, 243)",
           "rgb(220, 176, 242)",
           "rgb(135, 197, 95)",
           "rgb(248, 156, 116)",
           "rgb(201, 219, 116)",
           "rgb(135, 197, 95)",
           "rgb(246, 207, 113)",
           "rgb(220, 176, 242)",
           "rgb(248, 156, 116)",
           "rgb(135, 197, 95)",
           "rgb(139, 224, 164)",
           "rgb(179, 179, 179)",
           "rgb(180, 151, 231)",
           "rgb(158, 185, 243)",
           "rgb(180, 151, 231)",
           "rgb(254, 136, 177)",
           "rgb(102, 197, 204)",
           "rgb(139, 224, 164)",
           "rgb(135, 197, 95)",
           "rgb(102, 197, 204)",
           "rgb(246, 207, 113)",
           "rgb(179, 179, 179)",
           "rgb(248, 156, 116)",
           "rgb(246, 207, 113)"
          ]
         },
         "name": "EG",
         "type": "bar",
         "x": [
          "Alcohol",
          "Bakery",
          "Berry Fruit",
          "Cereal",
          "Cheese",
          "Chocolate",
          "Citrus Fruit",
          "Coffee",
          "Confectionery",
          "Dessert",
          "Fish",
          "Flower",
          "Fruit",
          "Hardshell",
          "Herb",
          "Meat",
          "Milk",
          "Nut",
          "Oils",
          "Other Dairy",
          "Other Flora",
          "Other Savoury",
          "Pasta",
          "Plant",
          "Poultry",
          "Process",
          "Rice",
          "Sauces",
          "Seed",
          "Sour",
          "Spice",
          "Sugar",
          "Sweet",
          "Syrup",
          "Tea",
          "Tree",
          "Vegetable"
         ],
         "y": [
          17,
          2,
          60,
          31,
          0,
          43,
          81,
          4,
          6,
          2,
          0,
          14,
          247,
          0,
          51,
          0,
          9,
          14,
          0,
          0,
          0,
          1,
          0,
          3,
          0,
          1,
          0,
          1,
          12,
          0,
          78,
          11,
          45,
          4,
          0,
          2,
          3
         ]
        },
        {
         "marker": {
          "color": [
           "rgb(180, 151, 231)",
           "rgb(246, 207, 113)",
           "rgb(220, 176, 242)",
           "rgb(201, 219, 116)",
           "rgb(248, 156, 116)",
           "rgb(158, 185, 243)",
           "rgb(102, 197, 204)",
           "rgb(179, 179, 179)",
           "rgb(201, 219, 116)",
           "rgb(254, 136, 177)",
           "rgb(139, 224, 164)",
           "rgb(102, 197, 204)",
           "rgb(254, 136, 177)",
           "rgb(158, 185, 243)",
           "rgb(220, 176, 242)",
           "rgb(135, 197, 95)",
           "rgb(248, 156, 116)",
           "rgb(201, 219, 116)",
           "rgb(135, 197, 95)",
           "rgb(246, 207, 113)",
           "rgb(220, 176, 242)",
           "rgb(248, 156, 116)",
           "rgb(135, 197, 95)",
           "rgb(139, 224, 164)",
           "rgb(179, 179, 179)",
           "rgb(180, 151, 231)",
           "rgb(158, 185, 243)",
           "rgb(180, 151, 231)",
           "rgb(254, 136, 177)",
           "rgb(102, 197, 204)",
           "rgb(139, 224, 164)",
           "rgb(135, 197, 95)",
           "rgb(102, 197, 204)",
           "rgb(246, 207, 113)",
           "rgb(179, 179, 179)",
           "rgb(248, 156, 116)",
           "rgb(246, 207, 113)"
          ]
         },
         "name": "ES",
         "type": "bar",
         "x": [
          "Alcohol",
          "Bakery",
          "Berry Fruit",
          "Cereal",
          "Cheese",
          "Chocolate",
          "Citrus Fruit",
          "Coffee",
          "Confectionery",
          "Dessert",
          "Fish",
          "Flower",
          "Fruit",
          "Hardshell",
          "Herb",
          "Meat",
          "Milk",
          "Nut",
          "Oils",
          "Other Dairy",
          "Other Flora",
          "Other Savoury",
          "Pasta",
          "Plant",
          "Poultry",
          "Process",
          "Rice",
          "Sauces",
          "Seed",
          "Sour",
          "Spice",
          "Sugar",
          "Sweet",
          "Syrup",
          "Tea",
          "Tree",
          "Vegetable"
         ],
         "y": [
          102,
          21,
          285,
          19,
          0,
          237,
          652,
          23,
          19,
          19,
          0,
          92,
          871,
          0,
          247,
          0,
          17,
          62,
          0,
          36,
          7,
          9,
          0,
          71,
          0,
          11,
          3,
          2,
          27,
          4,
          321,
          37,
          157,
          26,
          56,
          47,
          152
         ]
        },
        {
         "marker": {
          "color": [
           "rgb(180, 151, 231)",
           "rgb(246, 207, 113)",
           "rgb(220, 176, 242)",
           "rgb(201, 219, 116)",
           "rgb(248, 156, 116)",
           "rgb(158, 185, 243)",
           "rgb(102, 197, 204)",
           "rgb(179, 179, 179)",
           "rgb(201, 219, 116)",
           "rgb(254, 136, 177)",
           "rgb(139, 224, 164)",
           "rgb(102, 197, 204)",
           "rgb(254, 136, 177)",
           "rgb(158, 185, 243)",
           "rgb(220, 176, 242)",
           "rgb(135, 197, 95)",
           "rgb(248, 156, 116)",
           "rgb(201, 219, 116)",
           "rgb(135, 197, 95)",
           "rgb(246, 207, 113)",
           "rgb(220, 176, 242)",
           "rgb(248, 156, 116)",
           "rgb(135, 197, 95)",
           "rgb(139, 224, 164)",
           "rgb(179, 179, 179)",
           "rgb(180, 151, 231)",
           "rgb(158, 185, 243)",
           "rgb(180, 151, 231)",
           "rgb(254, 136, 177)",
           "rgb(102, 197, 204)",
           "rgb(139, 224, 164)",
           "rgb(135, 197, 95)",
           "rgb(102, 197, 204)",
           "rgb(246, 207, 113)",
           "rgb(179, 179, 179)",
           "rgb(248, 156, 116)",
           "rgb(246, 207, 113)"
          ]
         },
         "name": "ET",
         "type": "bar",
         "x": [
          "Alcohol",
          "Bakery",
          "Berry Fruit",
          "Cereal",
          "Cheese",
          "Chocolate",
          "Citrus Fruit",
          "Coffee",
          "Confectionery",
          "Dessert",
          "Fish",
          "Flower",
          "Fruit",
          "Hardshell",
          "Herb",
          "Meat",
          "Milk",
          "Nut",
          "Oils",
          "Other Dairy",
          "Other Flora",
          "Other Savoury",
          "Pasta",
          "Plant",
          "Poultry",
          "Process",
          "Rice",
          "Sauces",
          "Seed",
          "Sour",
          "Spice",
          "Sugar",
          "Sweet",
          "Syrup",
          "Tea",
          "Tree",
          "Vegetable"
         ],
         "y": [
          8,
          0,
          11,
          3,
          0,
          7,
          35,
          3,
          0,
          0,
          0,
          4,
          137,
          0,
          8,
          0,
          0,
          0,
          0,
          0,
          0,
          0,
          0,
          2,
          0,
          0,
          0,
          2,
          0,
          0,
          9,
          0,
          7,
          3,
          0,
          0,
          5
         ]
        },
        {
         "marker": {
          "color": [
           "rgb(180, 151, 231)",
           "rgb(246, 207, 113)",
           "rgb(220, 176, 242)",
           "rgb(201, 219, 116)",
           "rgb(248, 156, 116)",
           "rgb(158, 185, 243)",
           "rgb(102, 197, 204)",
           "rgb(179, 179, 179)",
           "rgb(201, 219, 116)",
           "rgb(254, 136, 177)",
           "rgb(139, 224, 164)",
           "rgb(102, 197, 204)",
           "rgb(254, 136, 177)",
           "rgb(158, 185, 243)",
           "rgb(220, 176, 242)",
           "rgb(135, 197, 95)",
           "rgb(248, 156, 116)",
           "rgb(201, 219, 116)",
           "rgb(135, 197, 95)",
           "rgb(246, 207, 113)",
           "rgb(220, 176, 242)",
           "rgb(248, 156, 116)",
           "rgb(135, 197, 95)",
           "rgb(139, 224, 164)",
           "rgb(179, 179, 179)",
           "rgb(180, 151, 231)",
           "rgb(158, 185, 243)",
           "rgb(180, 151, 231)",
           "rgb(254, 136, 177)",
           "rgb(102, 197, 204)",
           "rgb(139, 224, 164)",
           "rgb(135, 197, 95)",
           "rgb(102, 197, 204)",
           "rgb(246, 207, 113)",
           "rgb(179, 179, 179)",
           "rgb(248, 156, 116)",
           "rgb(246, 207, 113)"
          ]
         },
         "name": "FI",
         "type": "bar",
         "x": [
          "Alcohol",
          "Bakery",
          "Berry Fruit",
          "Cereal",
          "Cheese",
          "Chocolate",
          "Citrus Fruit",
          "Coffee",
          "Confectionery",
          "Dessert",
          "Fish",
          "Flower",
          "Fruit",
          "Hardshell",
          "Herb",
          "Meat",
          "Milk",
          "Nut",
          "Oils",
          "Other Dairy",
          "Other Flora",
          "Other Savoury",
          "Pasta",
          "Plant",
          "Poultry",
          "Process",
          "Rice",
          "Sauces",
          "Seed",
          "Sour",
          "Spice",
          "Sugar",
          "Sweet",
          "Syrup",
          "Tea",
          "Tree",
          "Vegetable"
         ],
         "y": [
          38,
          8,
          183,
          5,
          0,
          69,
          186,
          9,
          8,
          6,
          0,
          31,
          269,
          0,
          73,
          0,
          3,
          18,
          1,
          4,
          2,
          4,
          0,
          31,
          0,
          4,
          1,
          1,
          4,
          0,
          121,
          14,
          43,
          9,
          10,
          10,
          37
         ]
        },
        {
         "marker": {
          "color": [
           "rgb(180, 151, 231)",
           "rgb(246, 207, 113)",
           "rgb(220, 176, 242)",
           "rgb(201, 219, 116)",
           "rgb(248, 156, 116)",
           "rgb(158, 185, 243)",
           "rgb(102, 197, 204)",
           "rgb(179, 179, 179)",
           "rgb(201, 219, 116)",
           "rgb(254, 136, 177)",
           "rgb(139, 224, 164)",
           "rgb(102, 197, 204)",
           "rgb(254, 136, 177)",
           "rgb(158, 185, 243)",
           "rgb(220, 176, 242)",
           "rgb(135, 197, 95)",
           "rgb(248, 156, 116)",
           "rgb(201, 219, 116)",
           "rgb(135, 197, 95)",
           "rgb(246, 207, 113)",
           "rgb(220, 176, 242)",
           "rgb(248, 156, 116)",
           "rgb(135, 197, 95)",
           "rgb(139, 224, 164)",
           "rgb(179, 179, 179)",
           "rgb(180, 151, 231)",
           "rgb(158, 185, 243)",
           "rgb(180, 151, 231)",
           "rgb(254, 136, 177)",
           "rgb(102, 197, 204)",
           "rgb(139, 224, 164)",
           "rgb(135, 197, 95)",
           "rgb(102, 197, 204)",
           "rgb(246, 207, 113)",
           "rgb(179, 179, 179)",
           "rgb(248, 156, 116)",
           "rgb(246, 207, 113)"
          ]
         },
         "name": "FR",
         "type": "bar",
         "x": [
          "Alcohol",
          "Bakery",
          "Berry Fruit",
          "Cereal",
          "Cheese",
          "Chocolate",
          "Citrus Fruit",
          "Coffee",
          "Confectionery",
          "Dessert",
          "Fish",
          "Flower",
          "Fruit",
          "Hardshell",
          "Herb",
          "Meat",
          "Milk",
          "Nut",
          "Oils",
          "Other Dairy",
          "Other Flora",
          "Other Savoury",
          "Pasta",
          "Plant",
          "Poultry",
          "Process",
          "Rice",
          "Sauces",
          "Seed",
          "Sour",
          "Spice",
          "Sugar",
          "Sweet",
          "Syrup",
          "Tea",
          "Tree",
          "Vegetable"
         ],
         "y": [
          264,
          29,
          602,
          24,
          0,
          224,
          1225,
          26,
          27,
          16,
          0,
          263,
          2019,
          0,
          606,
          0,
          12,
          120,
          0,
          23,
          14,
          15,
          1,
          109,
          0,
          17,
          3,
          5,
          51,
          9,
          557,
          90,
          329,
          118,
          76,
          48,
          206
         ]
        },
        {
         "marker": {
          "color": [
           "rgb(180, 151, 231)",
           "rgb(246, 207, 113)",
           "rgb(220, 176, 242)",
           "rgb(201, 219, 116)",
           "rgb(248, 156, 116)",
           "rgb(158, 185, 243)",
           "rgb(102, 197, 204)",
           "rgb(179, 179, 179)",
           "rgb(201, 219, 116)",
           "rgb(254, 136, 177)",
           "rgb(139, 224, 164)",
           "rgb(102, 197, 204)",
           "rgb(254, 136, 177)",
           "rgb(158, 185, 243)",
           "rgb(220, 176, 242)",
           "rgb(135, 197, 95)",
           "rgb(248, 156, 116)",
           "rgb(201, 219, 116)",
           "rgb(135, 197, 95)",
           "rgb(246, 207, 113)",
           "rgb(220, 176, 242)",
           "rgb(248, 156, 116)",
           "rgb(135, 197, 95)",
           "rgb(139, 224, 164)",
           "rgb(179, 179, 179)",
           "rgb(180, 151, 231)",
           "rgb(158, 185, 243)",
           "rgb(180, 151, 231)",
           "rgb(254, 136, 177)",
           "rgb(102, 197, 204)",
           "rgb(139, 224, 164)",
           "rgb(135, 197, 95)",
           "rgb(102, 197, 204)",
           "rgb(246, 207, 113)",
           "rgb(179, 179, 179)",
           "rgb(248, 156, 116)",
           "rgb(246, 207, 113)"
          ]
         },
         "name": "GB",
         "type": "bar",
         "x": [
          "Alcohol",
          "Bakery",
          "Berry Fruit",
          "Cereal",
          "Cheese",
          "Chocolate",
          "Citrus Fruit",
          "Coffee",
          "Confectionery",
          "Dessert",
          "Fish",
          "Flower",
          "Fruit",
          "Hardshell",
          "Herb",
          "Meat",
          "Milk",
          "Nut",
          "Oils",
          "Other Dairy",
          "Other Flora",
          "Other Savoury",
          "Pasta",
          "Plant",
          "Poultry",
          "Process",
          "Rice",
          "Sauces",
          "Seed",
          "Sour",
          "Spice",
          "Sugar",
          "Sweet",
          "Syrup",
          "Tea",
          "Tree",
          "Vegetable"
         ],
         "y": [
          315,
          48,
          1064,
          37,
          1,
          446,
          1209,
          61,
          48,
          49,
          0,
          280,
          1952,
          0,
          370,
          2,
          23,
          127,
          1,
          52,
          18,
          27,
          0,
          78,
          1,
          13,
          2,
          10,
          23,
          45,
          707,
          163,
          421,
          49,
          127,
          112,
          355
         ]
        },
        {
         "marker": {
          "color": [
           "rgb(180, 151, 231)",
           "rgb(246, 207, 113)",
           "rgb(220, 176, 242)",
           "rgb(201, 219, 116)",
           "rgb(248, 156, 116)",
           "rgb(158, 185, 243)",
           "rgb(102, 197, 204)",
           "rgb(179, 179, 179)",
           "rgb(201, 219, 116)",
           "rgb(254, 136, 177)",
           "rgb(139, 224, 164)",
           "rgb(102, 197, 204)",
           "rgb(254, 136, 177)",
           "rgb(158, 185, 243)",
           "rgb(220, 176, 242)",
           "rgb(135, 197, 95)",
           "rgb(248, 156, 116)",
           "rgb(201, 219, 116)",
           "rgb(135, 197, 95)",
           "rgb(246, 207, 113)",
           "rgb(220, 176, 242)",
           "rgb(248, 156, 116)",
           "rgb(135, 197, 95)",
           "rgb(139, 224, 164)",
           "rgb(179, 179, 179)",
           "rgb(180, 151, 231)",
           "rgb(158, 185, 243)",
           "rgb(180, 151, 231)",
           "rgb(254, 136, 177)",
           "rgb(102, 197, 204)",
           "rgb(139, 224, 164)",
           "rgb(135, 197, 95)",
           "rgb(102, 197, 204)",
           "rgb(246, 207, 113)",
           "rgb(179, 179, 179)",
           "rgb(248, 156, 116)",
           "rgb(246, 207, 113)"
          ]
         },
         "name": "GH",
         "type": "bar",
         "x": [
          "Alcohol",
          "Bakery",
          "Berry Fruit",
          "Cereal",
          "Cheese",
          "Chocolate",
          "Citrus Fruit",
          "Coffee",
          "Confectionery",
          "Dessert",
          "Fish",
          "Flower",
          "Fruit",
          "Hardshell",
          "Herb",
          "Meat",
          "Milk",
          "Nut",
          "Oils",
          "Other Dairy",
          "Other Flora",
          "Other Savoury",
          "Pasta",
          "Plant",
          "Poultry",
          "Process",
          "Rice",
          "Sauces",
          "Seed",
          "Sour",
          "Spice",
          "Sugar",
          "Sweet",
          "Syrup",
          "Tea",
          "Tree",
          "Vegetable"
         ],
         "y": [
          9,
          1,
          33,
          20,
          0,
          39,
          52,
          0,
          1,
          0,
          0,
          5,
          156,
          0,
          14,
          0,
          1,
          8,
          0,
          0,
          1,
          1,
          0,
          8,
          0,
          0,
          0,
          0,
          2,
          0,
          15,
          1,
          31,
          1,
          0,
          2,
          8
         ]
        },
        {
         "marker": {
          "color": [
           "rgb(180, 151, 231)",
           "rgb(246, 207, 113)",
           "rgb(220, 176, 242)",
           "rgb(201, 219, 116)",
           "rgb(248, 156, 116)",
           "rgb(158, 185, 243)",
           "rgb(102, 197, 204)",
           "rgb(179, 179, 179)",
           "rgb(201, 219, 116)",
           "rgb(254, 136, 177)",
           "rgb(139, 224, 164)",
           "rgb(102, 197, 204)",
           "rgb(254, 136, 177)",
           "rgb(158, 185, 243)",
           "rgb(220, 176, 242)",
           "rgb(135, 197, 95)",
           "rgb(248, 156, 116)",
           "rgb(201, 219, 116)",
           "rgb(135, 197, 95)",
           "rgb(246, 207, 113)",
           "rgb(220, 176, 242)",
           "rgb(248, 156, 116)",
           "rgb(135, 197, 95)",
           "rgb(139, 224, 164)",
           "rgb(179, 179, 179)",
           "rgb(180, 151, 231)",
           "rgb(158, 185, 243)",
           "rgb(180, 151, 231)",
           "rgb(254, 136, 177)",
           "rgb(102, 197, 204)",
           "rgb(139, 224, 164)",
           "rgb(135, 197, 95)",
           "rgb(102, 197, 204)",
           "rgb(246, 207, 113)",
           "rgb(179, 179, 179)",
           "rgb(248, 156, 116)",
           "rgb(246, 207, 113)"
          ]
         },
         "name": "GR",
         "type": "bar",
         "x": [
          "Alcohol",
          "Bakery",
          "Berry Fruit",
          "Cereal",
          "Cheese",
          "Chocolate",
          "Citrus Fruit",
          "Coffee",
          "Confectionery",
          "Dessert",
          "Fish",
          "Flower",
          "Fruit",
          "Hardshell",
          "Herb",
          "Meat",
          "Milk",
          "Nut",
          "Oils",
          "Other Dairy",
          "Other Flora",
          "Other Savoury",
          "Pasta",
          "Plant",
          "Poultry",
          "Process",
          "Rice",
          "Sauces",
          "Seed",
          "Sour",
          "Spice",
          "Sugar",
          "Sweet",
          "Syrup",
          "Tea",
          "Tree",
          "Vegetable"
         ],
         "y": [
          32,
          1,
          84,
          0,
          0,
          20,
          301,
          0,
          2,
          2,
          0,
          18,
          321,
          0,
          45,
          0,
          0,
          23,
          0,
          0,
          1,
          6,
          0,
          10,
          0,
          1,
          0,
          1,
          1,
          1,
          58,
          18,
          104,
          11,
          4,
          28,
          20
         ]
        },
        {
         "marker": {
          "color": [
           "rgb(180, 151, 231)",
           "rgb(246, 207, 113)",
           "rgb(220, 176, 242)",
           "rgb(201, 219, 116)",
           "rgb(248, 156, 116)",
           "rgb(158, 185, 243)",
           "rgb(102, 197, 204)",
           "rgb(179, 179, 179)",
           "rgb(201, 219, 116)",
           "rgb(254, 136, 177)",
           "rgb(139, 224, 164)",
           "rgb(102, 197, 204)",
           "rgb(254, 136, 177)",
           "rgb(158, 185, 243)",
           "rgb(220, 176, 242)",
           "rgb(135, 197, 95)",
           "rgb(248, 156, 116)",
           "rgb(201, 219, 116)",
           "rgb(135, 197, 95)",
           "rgb(246, 207, 113)",
           "rgb(220, 176, 242)",
           "rgb(248, 156, 116)",
           "rgb(135, 197, 95)",
           "rgb(139, 224, 164)",
           "rgb(179, 179, 179)",
           "rgb(180, 151, 231)",
           "rgb(158, 185, 243)",
           "rgb(180, 151, 231)",
           "rgb(254, 136, 177)",
           "rgb(102, 197, 204)",
           "rgb(139, 224, 164)",
           "rgb(135, 197, 95)",
           "rgb(102, 197, 204)",
           "rgb(246, 207, 113)",
           "rgb(179, 179, 179)",
           "rgb(248, 156, 116)",
           "rgb(246, 207, 113)"
          ]
         },
         "name": "GT",
         "type": "bar",
         "x": [
          "Alcohol",
          "Bakery",
          "Berry Fruit",
          "Cereal",
          "Cheese",
          "Chocolate",
          "Citrus Fruit",
          "Coffee",
          "Confectionery",
          "Dessert",
          "Fish",
          "Flower",
          "Fruit",
          "Hardshell",
          "Herb",
          "Meat",
          "Milk",
          "Nut",
          "Oils",
          "Other Dairy",
          "Other Flora",
          "Other Savoury",
          "Pasta",
          "Plant",
          "Poultry",
          "Process",
          "Rice",
          "Sauces",
          "Seed",
          "Sour",
          "Spice",
          "Sugar",
          "Sweet",
          "Syrup",
          "Tea",
          "Tree",
          "Vegetable"
         ],
         "y": [
          6,
          0,
          23,
          5,
          0,
          18,
          45,
          1,
          0,
          0,
          0,
          7,
          68,
          0,
          21,
          0,
          0,
          0,
          0,
          2,
          0,
          2,
          0,
          9,
          0,
          0,
          1,
          1,
          3,
          0,
          22,
          5,
          20,
          1,
          6,
          1,
          7
         ]
        },
        {
         "marker": {
          "color": [
           "rgb(180, 151, 231)",
           "rgb(246, 207, 113)",
           "rgb(220, 176, 242)",
           "rgb(201, 219, 116)",
           "rgb(248, 156, 116)",
           "rgb(158, 185, 243)",
           "rgb(102, 197, 204)",
           "rgb(179, 179, 179)",
           "rgb(201, 219, 116)",
           "rgb(254, 136, 177)",
           "rgb(139, 224, 164)",
           "rgb(102, 197, 204)",
           "rgb(254, 136, 177)",
           "rgb(158, 185, 243)",
           "rgb(220, 176, 242)",
           "rgb(135, 197, 95)",
           "rgb(248, 156, 116)",
           "rgb(201, 219, 116)",
           "rgb(135, 197, 95)",
           "rgb(246, 207, 113)",
           "rgb(220, 176, 242)",
           "rgb(248, 156, 116)",
           "rgb(135, 197, 95)",
           "rgb(139, 224, 164)",
           "rgb(179, 179, 179)",
           "rgb(180, 151, 231)",
           "rgb(158, 185, 243)",
           "rgb(180, 151, 231)",
           "rgb(254, 136, 177)",
           "rgb(102, 197, 204)",
           "rgb(139, 224, 164)",
           "rgb(135, 197, 95)",
           "rgb(102, 197, 204)",
           "rgb(246, 207, 113)",
           "rgb(179, 179, 179)",
           "rgb(248, 156, 116)",
           "rgb(246, 207, 113)"
          ]
         },
         "name": "HK",
         "type": "bar",
         "x": [
          "Alcohol",
          "Bakery",
          "Berry Fruit",
          "Cereal",
          "Cheese",
          "Chocolate",
          "Citrus Fruit",
          "Coffee",
          "Confectionery",
          "Dessert",
          "Fish",
          "Flower",
          "Fruit",
          "Hardshell",
          "Herb",
          "Meat",
          "Milk",
          "Nut",
          "Oils",
          "Other Dairy",
          "Other Flora",
          "Other Savoury",
          "Pasta",
          "Plant",
          "Poultry",
          "Process",
          "Rice",
          "Sauces",
          "Seed",
          "Sour",
          "Spice",
          "Sugar",
          "Sweet",
          "Syrup",
          "Tea",
          "Tree",
          "Vegetable"
         ],
         "y": [
          8,
          4,
          88,
          18,
          0,
          48,
          202,
          6,
          4,
          1,
          0,
          102,
          355,
          0,
          82,
          0,
          18,
          15,
          0,
          7,
          4,
          6,
          0,
          34,
          0,
          5,
          10,
          5,
          5,
          5,
          123,
          30,
          64,
          31,
          29,
          13,
          46
         ]
        },
        {
         "marker": {
          "color": [
           "rgb(180, 151, 231)",
           "rgb(246, 207, 113)",
           "rgb(220, 176, 242)",
           "rgb(201, 219, 116)",
           "rgb(248, 156, 116)",
           "rgb(158, 185, 243)",
           "rgb(102, 197, 204)",
           "rgb(179, 179, 179)",
           "rgb(201, 219, 116)",
           "rgb(254, 136, 177)",
           "rgb(139, 224, 164)",
           "rgb(102, 197, 204)",
           "rgb(254, 136, 177)",
           "rgb(158, 185, 243)",
           "rgb(220, 176, 242)",
           "rgb(135, 197, 95)",
           "rgb(248, 156, 116)",
           "rgb(201, 219, 116)",
           "rgb(135, 197, 95)",
           "rgb(246, 207, 113)",
           "rgb(220, 176, 242)",
           "rgb(248, 156, 116)",
           "rgb(135, 197, 95)",
           "rgb(139, 224, 164)",
           "rgb(179, 179, 179)",
           "rgb(180, 151, 231)",
           "rgb(158, 185, 243)",
           "rgb(180, 151, 231)",
           "rgb(254, 136, 177)",
           "rgb(102, 197, 204)",
           "rgb(139, 224, 164)",
           "rgb(135, 197, 95)",
           "rgb(102, 197, 204)",
           "rgb(246, 207, 113)",
           "rgb(179, 179, 179)",
           "rgb(248, 156, 116)",
           "rgb(246, 207, 113)"
          ]
         },
         "name": "HR",
         "type": "bar",
         "x": [
          "Alcohol",
          "Bakery",
          "Berry Fruit",
          "Cereal",
          "Cheese",
          "Chocolate",
          "Citrus Fruit",
          "Coffee",
          "Confectionery",
          "Dessert",
          "Fish",
          "Flower",
          "Fruit",
          "Hardshell",
          "Herb",
          "Meat",
          "Milk",
          "Nut",
          "Oils",
          "Other Dairy",
          "Other Flora",
          "Other Savoury",
          "Pasta",
          "Plant",
          "Poultry",
          "Process",
          "Rice",
          "Sauces",
          "Seed",
          "Sour",
          "Spice",
          "Sugar",
          "Sweet",
          "Syrup",
          "Tea",
          "Tree",
          "Vegetable"
         ],
         "y": [
          17,
          2,
          94,
          4,
          0,
          15,
          179,
          2,
          0,
          4,
          0,
          15,
          204,
          0,
          62,
          0,
          1,
          3,
          0,
          3,
          2,
          3,
          0,
          24,
          0,
          0,
          0,
          0,
          3,
          0,
          31,
          4,
          39,
          9,
          6,
          14,
          24
         ]
        },
        {
         "marker": {
          "color": [
           "rgb(180, 151, 231)",
           "rgb(246, 207, 113)",
           "rgb(220, 176, 242)",
           "rgb(201, 219, 116)",
           "rgb(248, 156, 116)",
           "rgb(158, 185, 243)",
           "rgb(102, 197, 204)",
           "rgb(179, 179, 179)",
           "rgb(201, 219, 116)",
           "rgb(254, 136, 177)",
           "rgb(139, 224, 164)",
           "rgb(102, 197, 204)",
           "rgb(254, 136, 177)",
           "rgb(158, 185, 243)",
           "rgb(220, 176, 242)",
           "rgb(135, 197, 95)",
           "rgb(248, 156, 116)",
           "rgb(201, 219, 116)",
           "rgb(135, 197, 95)",
           "rgb(246, 207, 113)",
           "rgb(220, 176, 242)",
           "rgb(248, 156, 116)",
           "rgb(135, 197, 95)",
           "rgb(139, 224, 164)",
           "rgb(179, 179, 179)",
           "rgb(180, 151, 231)",
           "rgb(158, 185, 243)",
           "rgb(180, 151, 231)",
           "rgb(254, 136, 177)",
           "rgb(102, 197, 204)",
           "rgb(139, 224, 164)",
           "rgb(135, 197, 95)",
           "rgb(102, 197, 204)",
           "rgb(246, 207, 113)",
           "rgb(179, 179, 179)",
           "rgb(248, 156, 116)",
           "rgb(246, 207, 113)"
          ]
         },
         "name": "HU",
         "type": "bar",
         "x": [
          "Alcohol",
          "Bakery",
          "Berry Fruit",
          "Cereal",
          "Cheese",
          "Chocolate",
          "Citrus Fruit",
          "Coffee",
          "Confectionery",
          "Dessert",
          "Fish",
          "Flower",
          "Fruit",
          "Hardshell",
          "Herb",
          "Meat",
          "Milk",
          "Nut",
          "Oils",
          "Other Dairy",
          "Other Flora",
          "Other Savoury",
          "Pasta",
          "Plant",
          "Poultry",
          "Process",
          "Rice",
          "Sauces",
          "Seed",
          "Sour",
          "Spice",
          "Sugar",
          "Sweet",
          "Syrup",
          "Tea",
          "Tree",
          "Vegetable"
         ],
         "y": [
          12,
          9,
          127,
          4,
          0,
          36,
          142,
          7,
          4,
          7,
          0,
          23,
          286,
          0,
          54,
          0,
          1,
          18,
          0,
          4,
          1,
          6,
          0,
          9,
          0,
          1,
          0,
          2,
          5,
          0,
          70,
          9,
          40,
          6,
          7,
          8,
          17
         ]
        },
        {
         "marker": {
          "color": [
           "rgb(180, 151, 231)",
           "rgb(246, 207, 113)",
           "rgb(220, 176, 242)",
           "rgb(201, 219, 116)",
           "rgb(248, 156, 116)",
           "rgb(158, 185, 243)",
           "rgb(102, 197, 204)",
           "rgb(179, 179, 179)",
           "rgb(201, 219, 116)",
           "rgb(254, 136, 177)",
           "rgb(139, 224, 164)",
           "rgb(102, 197, 204)",
           "rgb(254, 136, 177)",
           "rgb(158, 185, 243)",
           "rgb(220, 176, 242)",
           "rgb(135, 197, 95)",
           "rgb(248, 156, 116)",
           "rgb(201, 219, 116)",
           "rgb(135, 197, 95)",
           "rgb(246, 207, 113)",
           "rgb(220, 176, 242)",
           "rgb(248, 156, 116)",
           "rgb(135, 197, 95)",
           "rgb(139, 224, 164)",
           "rgb(179, 179, 179)",
           "rgb(180, 151, 231)",
           "rgb(158, 185, 243)",
           "rgb(180, 151, 231)",
           "rgb(254, 136, 177)",
           "rgb(102, 197, 204)",
           "rgb(139, 224, 164)",
           "rgb(135, 197, 95)",
           "rgb(102, 197, 204)",
           "rgb(246, 207, 113)",
           "rgb(179, 179, 179)",
           "rgb(248, 156, 116)",
           "rgb(246, 207, 113)"
          ]
         },
         "name": "ID",
         "type": "bar",
         "x": [
          "Alcohol",
          "Bakery",
          "Berry Fruit",
          "Cereal",
          "Cheese",
          "Chocolate",
          "Citrus Fruit",
          "Coffee",
          "Confectionery",
          "Dessert",
          "Fish",
          "Flower",
          "Fruit",
          "Hardshell",
          "Herb",
          "Meat",
          "Milk",
          "Nut",
          "Oils",
          "Other Dairy",
          "Other Flora",
          "Other Savoury",
          "Pasta",
          "Plant",
          "Poultry",
          "Process",
          "Rice",
          "Sauces",
          "Seed",
          "Sour",
          "Spice",
          "Sugar",
          "Sweet",
          "Syrup",
          "Tea",
          "Tree",
          "Vegetable"
         ],
         "y": [
          39,
          10,
          181,
          56,
          2,
          211,
          454,
          25,
          7,
          38,
          0,
          241,
          778,
          0,
          141,
          0,
          44,
          93,
          0,
          9,
          10,
          33,
          0,
          58,
          0,
          10,
          20,
          9,
          23,
          1,
          356,
          92,
          134,
          82,
          60,
          7,
          183
         ]
        },
        {
         "marker": {
          "color": [
           "rgb(180, 151, 231)",
           "rgb(246, 207, 113)",
           "rgb(220, 176, 242)",
           "rgb(201, 219, 116)",
           "rgb(248, 156, 116)",
           "rgb(158, 185, 243)",
           "rgb(102, 197, 204)",
           "rgb(179, 179, 179)",
           "rgb(201, 219, 116)",
           "rgb(254, 136, 177)",
           "rgb(139, 224, 164)",
           "rgb(102, 197, 204)",
           "rgb(254, 136, 177)",
           "rgb(158, 185, 243)",
           "rgb(220, 176, 242)",
           "rgb(135, 197, 95)",
           "rgb(248, 156, 116)",
           "rgb(201, 219, 116)",
           "rgb(135, 197, 95)",
           "rgb(246, 207, 113)",
           "rgb(220, 176, 242)",
           "rgb(248, 156, 116)",
           "rgb(135, 197, 95)",
           "rgb(139, 224, 164)",
           "rgb(179, 179, 179)",
           "rgb(180, 151, 231)",
           "rgb(158, 185, 243)",
           "rgb(180, 151, 231)",
           "rgb(254, 136, 177)",
           "rgb(102, 197, 204)",
           "rgb(139, 224, 164)",
           "rgb(135, 197, 95)",
           "rgb(102, 197, 204)",
           "rgb(246, 207, 113)",
           "rgb(179, 179, 179)",
           "rgb(248, 156, 116)",
           "rgb(246, 207, 113)"
          ]
         },
         "name": "IE",
         "type": "bar",
         "x": [
          "Alcohol",
          "Bakery",
          "Berry Fruit",
          "Cereal",
          "Cheese",
          "Chocolate",
          "Citrus Fruit",
          "Coffee",
          "Confectionery",
          "Dessert",
          "Fish",
          "Flower",
          "Fruit",
          "Hardshell",
          "Herb",
          "Meat",
          "Milk",
          "Nut",
          "Oils",
          "Other Dairy",
          "Other Flora",
          "Other Savoury",
          "Pasta",
          "Plant",
          "Poultry",
          "Process",
          "Rice",
          "Sauces",
          "Seed",
          "Sour",
          "Spice",
          "Sugar",
          "Sweet",
          "Syrup",
          "Tea",
          "Tree",
          "Vegetable"
         ],
         "y": [
          17,
          4,
          154,
          6,
          0,
          31,
          153,
          3,
          1,
          1,
          0,
          36,
          280,
          0,
          22,
          0,
          2,
          12,
          0,
          3,
          6,
          2,
          0,
          6,
          0,
          1,
          1,
          0,
          6,
          1,
          50,
          9,
          40,
          9,
          5,
          6,
          88
         ]
        },
        {
         "marker": {
          "color": [
           "rgb(180, 151, 231)",
           "rgb(246, 207, 113)",
           "rgb(220, 176, 242)",
           "rgb(201, 219, 116)",
           "rgb(248, 156, 116)",
           "rgb(158, 185, 243)",
           "rgb(102, 197, 204)",
           "rgb(179, 179, 179)",
           "rgb(201, 219, 116)",
           "rgb(254, 136, 177)",
           "rgb(139, 224, 164)",
           "rgb(102, 197, 204)",
           "rgb(254, 136, 177)",
           "rgb(158, 185, 243)",
           "rgb(220, 176, 242)",
           "rgb(135, 197, 95)",
           "rgb(248, 156, 116)",
           "rgb(201, 219, 116)",
           "rgb(135, 197, 95)",
           "rgb(246, 207, 113)",
           "rgb(220, 176, 242)",
           "rgb(248, 156, 116)",
           "rgb(135, 197, 95)",
           "rgb(139, 224, 164)",
           "rgb(179, 179, 179)",
           "rgb(180, 151, 231)",
           "rgb(158, 185, 243)",
           "rgb(180, 151, 231)",
           "rgb(254, 136, 177)",
           "rgb(102, 197, 204)",
           "rgb(139, 224, 164)",
           "rgb(135, 197, 95)",
           "rgb(102, 197, 204)",
           "rgb(246, 207, 113)",
           "rgb(179, 179, 179)",
           "rgb(248, 156, 116)",
           "rgb(246, 207, 113)"
          ]
         },
         "name": "IL",
         "type": "bar",
         "x": [
          "Alcohol",
          "Bakery",
          "Berry Fruit",
          "Cereal",
          "Cheese",
          "Chocolate",
          "Citrus Fruit",
          "Coffee",
          "Confectionery",
          "Dessert",
          "Fish",
          "Flower",
          "Fruit",
          "Hardshell",
          "Herb",
          "Meat",
          "Milk",
          "Nut",
          "Oils",
          "Other Dairy",
          "Other Flora",
          "Other Savoury",
          "Pasta",
          "Plant",
          "Poultry",
          "Process",
          "Rice",
          "Sauces",
          "Seed",
          "Sour",
          "Spice",
          "Sugar",
          "Sweet",
          "Syrup",
          "Tea",
          "Tree",
          "Vegetable"
         ],
         "y": [
          23,
          0,
          54,
          3,
          0,
          19,
          74,
          0,
          1,
          1,
          0,
          12,
          160,
          0,
          64,
          0,
          0,
          21,
          0,
          3,
          2,
          3,
          0,
          7,
          0,
          0,
          2,
          0,
          7,
          1,
          45,
          11,
          45,
          6,
          6,
          1,
          7
         ]
        },
        {
         "marker": {
          "color": [
           "rgb(180, 151, 231)",
           "rgb(246, 207, 113)",
           "rgb(220, 176, 242)",
           "rgb(201, 219, 116)",
           "rgb(248, 156, 116)",
           "rgb(158, 185, 243)",
           "rgb(102, 197, 204)",
           "rgb(179, 179, 179)",
           "rgb(201, 219, 116)",
           "rgb(254, 136, 177)",
           "rgb(139, 224, 164)",
           "rgb(102, 197, 204)",
           "rgb(254, 136, 177)",
           "rgb(158, 185, 243)",
           "rgb(220, 176, 242)",
           "rgb(135, 197, 95)",
           "rgb(248, 156, 116)",
           "rgb(201, 219, 116)",
           "rgb(135, 197, 95)",
           "rgb(246, 207, 113)",
           "rgb(220, 176, 242)",
           "rgb(248, 156, 116)",
           "rgb(135, 197, 95)",
           "rgb(139, 224, 164)",
           "rgb(179, 179, 179)",
           "rgb(180, 151, 231)",
           "rgb(158, 185, 243)",
           "rgb(180, 151, 231)",
           "rgb(254, 136, 177)",
           "rgb(102, 197, 204)",
           "rgb(139, 224, 164)",
           "rgb(135, 197, 95)",
           "rgb(102, 197, 204)",
           "rgb(246, 207, 113)",
           "rgb(179, 179, 179)",
           "rgb(248, 156, 116)",
           "rgb(246, 207, 113)"
          ]
         },
         "name": "IN",
         "type": "bar",
         "x": [
          "Alcohol",
          "Bakery",
          "Berry Fruit",
          "Cereal",
          "Cheese",
          "Chocolate",
          "Citrus Fruit",
          "Coffee",
          "Confectionery",
          "Dessert",
          "Fish",
          "Flower",
          "Fruit",
          "Hardshell",
          "Herb",
          "Meat",
          "Milk",
          "Nut",
          "Oils",
          "Other Dairy",
          "Other Flora",
          "Other Savoury",
          "Pasta",
          "Plant",
          "Poultry",
          "Process",
          "Rice",
          "Sauces",
          "Seed",
          "Sour",
          "Spice",
          "Sugar",
          "Sweet",
          "Syrup",
          "Tea",
          "Tree",
          "Vegetable"
         ],
         "y": [
          106,
          2,
          288,
          127,
          0,
          327,
          736,
          47,
          20,
          33,
          0,
          204,
          1306,
          0,
          349,
          0,
          10,
          185,
          0,
          12,
          1,
          18,
          0,
          262,
          0,
          15,
          1,
          18,
          105,
          27,
          1006,
          96,
          273,
          45,
          66,
          11,
          110
         ]
        },
        {
         "marker": {
          "color": [
           "rgb(180, 151, 231)",
           "rgb(246, 207, 113)",
           "rgb(220, 176, 242)",
           "rgb(201, 219, 116)",
           "rgb(248, 156, 116)",
           "rgb(158, 185, 243)",
           "rgb(102, 197, 204)",
           "rgb(179, 179, 179)",
           "rgb(201, 219, 116)",
           "rgb(254, 136, 177)",
           "rgb(139, 224, 164)",
           "rgb(102, 197, 204)",
           "rgb(254, 136, 177)",
           "rgb(158, 185, 243)",
           "rgb(220, 176, 242)",
           "rgb(135, 197, 95)",
           "rgb(248, 156, 116)",
           "rgb(201, 219, 116)",
           "rgb(135, 197, 95)",
           "rgb(246, 207, 113)",
           "rgb(220, 176, 242)",
           "rgb(248, 156, 116)",
           "rgb(135, 197, 95)",
           "rgb(139, 224, 164)",
           "rgb(179, 179, 179)",
           "rgb(180, 151, 231)",
           "rgb(158, 185, 243)",
           "rgb(180, 151, 231)",
           "rgb(254, 136, 177)",
           "rgb(102, 197, 204)",
           "rgb(139, 224, 164)",
           "rgb(135, 197, 95)",
           "rgb(102, 197, 204)",
           "rgb(246, 207, 113)",
           "rgb(179, 179, 179)",
           "rgb(248, 156, 116)",
           "rgb(246, 207, 113)"
          ]
         },
         "name": "IT",
         "type": "bar",
         "x": [
          "Alcohol",
          "Bakery",
          "Berry Fruit",
          "Cereal",
          "Cheese",
          "Chocolate",
          "Citrus Fruit",
          "Coffee",
          "Confectionery",
          "Dessert",
          "Fish",
          "Flower",
          "Fruit",
          "Hardshell",
          "Herb",
          "Meat",
          "Milk",
          "Nut",
          "Oils",
          "Other Dairy",
          "Other Flora",
          "Other Savoury",
          "Pasta",
          "Plant",
          "Poultry",
          "Process",
          "Rice",
          "Sauces",
          "Seed",
          "Sour",
          "Spice",
          "Sugar",
          "Sweet",
          "Syrup",
          "Tea",
          "Tree",
          "Vegetable"
         ],
         "y": [
          109,
          8,
          272,
          35,
          0,
          163,
          631,
          29,
          40,
          3,
          0,
          75,
          794,
          0,
          282,
          0,
          11,
          59,
          0,
          41,
          2,
          20,
          0,
          76,
          1,
          9,
          3,
          0,
          17,
          1,
          282,
          15,
          243,
          27,
          33,
          47,
          165
         ]
        },
        {
         "marker": {
          "color": [
           "rgb(180, 151, 231)",
           "rgb(246, 207, 113)",
           "rgb(220, 176, 242)",
           "rgb(201, 219, 116)",
           "rgb(248, 156, 116)",
           "rgb(158, 185, 243)",
           "rgb(102, 197, 204)",
           "rgb(179, 179, 179)",
           "rgb(201, 219, 116)",
           "rgb(254, 136, 177)",
           "rgb(139, 224, 164)",
           "rgb(102, 197, 204)",
           "rgb(254, 136, 177)",
           "rgb(158, 185, 243)",
           "rgb(220, 176, 242)",
           "rgb(135, 197, 95)",
           "rgb(248, 156, 116)",
           "rgb(201, 219, 116)",
           "rgb(135, 197, 95)",
           "rgb(246, 207, 113)",
           "rgb(220, 176, 242)",
           "rgb(248, 156, 116)",
           "rgb(135, 197, 95)",
           "rgb(139, 224, 164)",
           "rgb(179, 179, 179)",
           "rgb(180, 151, 231)",
           "rgb(158, 185, 243)",
           "rgb(180, 151, 231)",
           "rgb(254, 136, 177)",
           "rgb(102, 197, 204)",
           "rgb(139, 224, 164)",
           "rgb(135, 197, 95)",
           "rgb(102, 197, 204)",
           "rgb(246, 207, 113)",
           "rgb(179, 179, 179)",
           "rgb(248, 156, 116)",
           "rgb(246, 207, 113)"
          ]
         },
         "name": "JO",
         "type": "bar",
         "x": [
          "Alcohol",
          "Bakery",
          "Berry Fruit",
          "Cereal",
          "Cheese",
          "Chocolate",
          "Citrus Fruit",
          "Coffee",
          "Confectionery",
          "Dessert",
          "Fish",
          "Flower",
          "Fruit",
          "Hardshell",
          "Herb",
          "Meat",
          "Milk",
          "Nut",
          "Oils",
          "Other Dairy",
          "Other Flora",
          "Other Savoury",
          "Pasta",
          "Plant",
          "Poultry",
          "Process",
          "Rice",
          "Sauces",
          "Seed",
          "Sour",
          "Spice",
          "Sugar",
          "Sweet",
          "Syrup",
          "Tea",
          "Tree",
          "Vegetable"
         ],
         "y": [
          5,
          0,
          33,
          8,
          0,
          21,
          19,
          0,
          2,
          0,
          0,
          2,
          78,
          0,
          9,
          0,
          1,
          3,
          0,
          0,
          0,
          0,
          0,
          0,
          0,
          0,
          0,
          1,
          1,
          0,
          9,
          4,
          6,
          0,
          1,
          1,
          3
         ]
        },
        {
         "marker": {
          "color": [
           "rgb(180, 151, 231)",
           "rgb(246, 207, 113)",
           "rgb(220, 176, 242)",
           "rgb(201, 219, 116)",
           "rgb(248, 156, 116)",
           "rgb(158, 185, 243)",
           "rgb(102, 197, 204)",
           "rgb(179, 179, 179)",
           "rgb(201, 219, 116)",
           "rgb(254, 136, 177)",
           "rgb(139, 224, 164)",
           "rgb(102, 197, 204)",
           "rgb(254, 136, 177)",
           "rgb(158, 185, 243)",
           "rgb(220, 176, 242)",
           "rgb(135, 197, 95)",
           "rgb(248, 156, 116)",
           "rgb(201, 219, 116)",
           "rgb(135, 197, 95)",
           "rgb(246, 207, 113)",
           "rgb(220, 176, 242)",
           "rgb(248, 156, 116)",
           "rgb(135, 197, 95)",
           "rgb(139, 224, 164)",
           "rgb(179, 179, 179)",
           "rgb(180, 151, 231)",
           "rgb(158, 185, 243)",
           "rgb(180, 151, 231)",
           "rgb(254, 136, 177)",
           "rgb(102, 197, 204)",
           "rgb(139, 224, 164)",
           "rgb(135, 197, 95)",
           "rgb(102, 197, 204)",
           "rgb(246, 207, 113)",
           "rgb(179, 179, 179)",
           "rgb(248, 156, 116)",
           "rgb(246, 207, 113)"
          ]
         },
         "name": "JP",
         "type": "bar",
         "x": [
          "Alcohol",
          "Bakery",
          "Berry Fruit",
          "Cereal",
          "Cheese",
          "Chocolate",
          "Citrus Fruit",
          "Coffee",
          "Confectionery",
          "Dessert",
          "Fish",
          "Flower",
          "Fruit",
          "Hardshell",
          "Herb",
          "Meat",
          "Milk",
          "Nut",
          "Oils",
          "Other Dairy",
          "Other Flora",
          "Other Savoury",
          "Pasta",
          "Plant",
          "Poultry",
          "Process",
          "Rice",
          "Sauces",
          "Seed",
          "Sour",
          "Spice",
          "Sugar",
          "Sweet",
          "Syrup",
          "Tea",
          "Tree",
          "Vegetable"
         ],
         "y": [
          86,
          8,
          310,
          86,
          3,
          88,
          1368,
          54,
          5,
          14,
          0,
          98,
          1794,
          0,
          66,
          0,
          71,
          47,
          0,
          107,
          0,
          33,
          0,
          34,
          0,
          29,
          28,
          68,
          9,
          20,
          205,
          70,
          228,
          99,
          137,
          13,
          337
         ]
        },
        {
         "marker": {
          "color": [
           "rgb(180, 151, 231)",
           "rgb(246, 207, 113)",
           "rgb(220, 176, 242)",
           "rgb(201, 219, 116)",
           "rgb(248, 156, 116)",
           "rgb(158, 185, 243)",
           "rgb(102, 197, 204)",
           "rgb(179, 179, 179)",
           "rgb(201, 219, 116)",
           "rgb(254, 136, 177)",
           "rgb(139, 224, 164)",
           "rgb(102, 197, 204)",
           "rgb(254, 136, 177)",
           "rgb(158, 185, 243)",
           "rgb(220, 176, 242)",
           "rgb(135, 197, 95)",
           "rgb(248, 156, 116)",
           "rgb(201, 219, 116)",
           "rgb(135, 197, 95)",
           "rgb(246, 207, 113)",
           "rgb(220, 176, 242)",
           "rgb(248, 156, 116)",
           "rgb(135, 197, 95)",
           "rgb(139, 224, 164)",
           "rgb(179, 179, 179)",
           "rgb(180, 151, 231)",
           "rgb(158, 185, 243)",
           "rgb(180, 151, 231)",
           "rgb(254, 136, 177)",
           "rgb(102, 197, 204)",
           "rgb(139, 224, 164)",
           "rgb(135, 197, 95)",
           "rgb(102, 197, 204)",
           "rgb(246, 207, 113)",
           "rgb(179, 179, 179)",
           "rgb(248, 156, 116)",
           "rgb(246, 207, 113)"
          ]
         },
         "name": "KE",
         "type": "bar",
         "x": [
          "Alcohol",
          "Bakery",
          "Berry Fruit",
          "Cereal",
          "Cheese",
          "Chocolate",
          "Citrus Fruit",
          "Coffee",
          "Confectionery",
          "Dessert",
          "Fish",
          "Flower",
          "Fruit",
          "Hardshell",
          "Herb",
          "Meat",
          "Milk",
          "Nut",
          "Oils",
          "Other Dairy",
          "Other Flora",
          "Other Savoury",
          "Pasta",
          "Plant",
          "Poultry",
          "Process",
          "Rice",
          "Sauces",
          "Seed",
          "Sour",
          "Spice",
          "Sugar",
          "Sweet",
          "Syrup",
          "Tea",
          "Tree",
          "Vegetable"
         ],
         "y": [
          7,
          0,
          46,
          9,
          0,
          6,
          45,
          2,
          1,
          0,
          0,
          9,
          113,
          0,
          11,
          0,
          1,
          1,
          0,
          3,
          0,
          0,
          0,
          3,
          0,
          0,
          0,
          1,
          0,
          0,
          16,
          3,
          9,
          6,
          1,
          2,
          7
         ]
        },
        {
         "marker": {
          "color": [
           "rgb(180, 151, 231)",
           "rgb(246, 207, 113)",
           "rgb(220, 176, 242)",
           "rgb(201, 219, 116)",
           "rgb(248, 156, 116)",
           "rgb(158, 185, 243)",
           "rgb(102, 197, 204)",
           "rgb(179, 179, 179)",
           "rgb(201, 219, 116)",
           "rgb(254, 136, 177)",
           "rgb(139, 224, 164)",
           "rgb(102, 197, 204)",
           "rgb(254, 136, 177)",
           "rgb(158, 185, 243)",
           "rgb(220, 176, 242)",
           "rgb(135, 197, 95)",
           "rgb(248, 156, 116)",
           "rgb(201, 219, 116)",
           "rgb(135, 197, 95)",
           "rgb(246, 207, 113)",
           "rgb(220, 176, 242)",
           "rgb(248, 156, 116)",
           "rgb(135, 197, 95)",
           "rgb(139, 224, 164)",
           "rgb(179, 179, 179)",
           "rgb(180, 151, 231)",
           "rgb(158, 185, 243)",
           "rgb(180, 151, 231)",
           "rgb(254, 136, 177)",
           "rgb(102, 197, 204)",
           "rgb(139, 224, 164)",
           "rgb(135, 197, 95)",
           "rgb(102, 197, 204)",
           "rgb(246, 207, 113)",
           "rgb(179, 179, 179)",
           "rgb(248, 156, 116)",
           "rgb(246, 207, 113)"
          ]
         },
         "name": "KH",
         "type": "bar",
         "x": [
          "Alcohol",
          "Bakery",
          "Berry Fruit",
          "Cereal",
          "Cheese",
          "Chocolate",
          "Citrus Fruit",
          "Coffee",
          "Confectionery",
          "Dessert",
          "Fish",
          "Flower",
          "Fruit",
          "Hardshell",
          "Herb",
          "Meat",
          "Milk",
          "Nut",
          "Oils",
          "Other Dairy",
          "Other Flora",
          "Other Savoury",
          "Pasta",
          "Plant",
          "Poultry",
          "Process",
          "Rice",
          "Sauces",
          "Seed",
          "Sour",
          "Spice",
          "Sugar",
          "Sweet",
          "Syrup",
          "Tea",
          "Tree",
          "Vegetable"
         ],
         "y": [
          4,
          0,
          16,
          6,
          0,
          16,
          21,
          1,
          1,
          1,
          0,
          6,
          48,
          0,
          15,
          0,
          2,
          6,
          0,
          0,
          0,
          10,
          0,
          7,
          0,
          2,
          0,
          1,
          1,
          1,
          20,
          6,
          11,
          2,
          6,
          0,
          3
         ]
        },
        {
         "marker": {
          "color": [
           "rgb(180, 151, 231)",
           "rgb(246, 207, 113)",
           "rgb(220, 176, 242)",
           "rgb(201, 219, 116)",
           "rgb(248, 156, 116)",
           "rgb(158, 185, 243)",
           "rgb(102, 197, 204)",
           "rgb(179, 179, 179)",
           "rgb(201, 219, 116)",
           "rgb(254, 136, 177)",
           "rgb(139, 224, 164)",
           "rgb(102, 197, 204)",
           "rgb(254, 136, 177)",
           "rgb(158, 185, 243)",
           "rgb(220, 176, 242)",
           "rgb(135, 197, 95)",
           "rgb(248, 156, 116)",
           "rgb(201, 219, 116)",
           "rgb(135, 197, 95)",
           "rgb(246, 207, 113)",
           "rgb(220, 176, 242)",
           "rgb(248, 156, 116)",
           "rgb(135, 197, 95)",
           "rgb(139, 224, 164)",
           "rgb(179, 179, 179)",
           "rgb(180, 151, 231)",
           "rgb(158, 185, 243)",
           "rgb(180, 151, 231)",
           "rgb(254, 136, 177)",
           "rgb(102, 197, 204)",
           "rgb(139, 224, 164)",
           "rgb(135, 197, 95)",
           "rgb(102, 197, 204)",
           "rgb(246, 207, 113)",
           "rgb(179, 179, 179)",
           "rgb(248, 156, 116)",
           "rgb(246, 207, 113)"
          ]
         },
         "name": "KR",
         "type": "bar",
         "x": [
          "Alcohol",
          "Bakery",
          "Berry Fruit",
          "Cereal",
          "Cheese",
          "Chocolate",
          "Citrus Fruit",
          "Coffee",
          "Confectionery",
          "Dessert",
          "Fish",
          "Flower",
          "Fruit",
          "Hardshell",
          "Herb",
          "Meat",
          "Milk",
          "Nut",
          "Oils",
          "Other Dairy",
          "Other Flora",
          "Other Savoury",
          "Pasta",
          "Plant",
          "Poultry",
          "Process",
          "Rice",
          "Sauces",
          "Seed",
          "Sour",
          "Spice",
          "Sugar",
          "Sweet",
          "Syrup",
          "Tea",
          "Tree",
          "Vegetable"
         ],
         "y": [
          44,
          3,
          236,
          233,
          0,
          150,
          679,
          38,
          6,
          16,
          0,
          117,
          927,
          0,
          195,
          0,
          39,
          106,
          3,
          37,
          57,
          3,
          0,
          68,
          0,
          21,
          66,
          35,
          25,
          1,
          140,
          76,
          118,
          73,
          145,
          16,
          441
         ]
        },
        {
         "marker": {
          "color": [
           "rgb(180, 151, 231)",
           "rgb(246, 207, 113)",
           "rgb(220, 176, 242)",
           "rgb(201, 219, 116)",
           "rgb(248, 156, 116)",
           "rgb(158, 185, 243)",
           "rgb(102, 197, 204)",
           "rgb(179, 179, 179)",
           "rgb(201, 219, 116)",
           "rgb(254, 136, 177)",
           "rgb(139, 224, 164)",
           "rgb(102, 197, 204)",
           "rgb(254, 136, 177)",
           "rgb(158, 185, 243)",
           "rgb(220, 176, 242)",
           "rgb(135, 197, 95)",
           "rgb(248, 156, 116)",
           "rgb(201, 219, 116)",
           "rgb(135, 197, 95)",
           "rgb(246, 207, 113)",
           "rgb(220, 176, 242)",
           "rgb(248, 156, 116)",
           "rgb(135, 197, 95)",
           "rgb(139, 224, 164)",
           "rgb(179, 179, 179)",
           "rgb(180, 151, 231)",
           "rgb(158, 185, 243)",
           "rgb(180, 151, 231)",
           "rgb(254, 136, 177)",
           "rgb(102, 197, 204)",
           "rgb(139, 224, 164)",
           "rgb(135, 197, 95)",
           "rgb(102, 197, 204)",
           "rgb(246, 207, 113)",
           "rgb(179, 179, 179)",
           "rgb(248, 156, 116)",
           "rgb(246, 207, 113)"
          ]
         },
         "name": "KW",
         "type": "bar",
         "x": [
          "Alcohol",
          "Bakery",
          "Berry Fruit",
          "Cereal",
          "Cheese",
          "Chocolate",
          "Citrus Fruit",
          "Coffee",
          "Confectionery",
          "Dessert",
          "Fish",
          "Flower",
          "Fruit",
          "Hardshell",
          "Herb",
          "Meat",
          "Milk",
          "Nut",
          "Oils",
          "Other Dairy",
          "Other Flora",
          "Other Savoury",
          "Pasta",
          "Plant",
          "Poultry",
          "Process",
          "Rice",
          "Sauces",
          "Seed",
          "Sour",
          "Spice",
          "Sugar",
          "Sweet",
          "Syrup",
          "Tea",
          "Tree",
          "Vegetable"
         ],
         "y": [
          4,
          0,
          25,
          4,
          0,
          10,
          29,
          0,
          1,
          1,
          0,
          5,
          70,
          0,
          10,
          0,
          1,
          4,
          0,
          0,
          0,
          1,
          0,
          1,
          0,
          0,
          0,
          0,
          5,
          0,
          22,
          6,
          17,
          2,
          1,
          3,
          2
         ]
        },
        {
         "marker": {
          "color": [
           "rgb(180, 151, 231)",
           "rgb(246, 207, 113)",
           "rgb(220, 176, 242)",
           "rgb(201, 219, 116)",
           "rgb(248, 156, 116)",
           "rgb(158, 185, 243)",
           "rgb(102, 197, 204)",
           "rgb(179, 179, 179)",
           "rgb(201, 219, 116)",
           "rgb(254, 136, 177)",
           "rgb(139, 224, 164)",
           "rgb(102, 197, 204)",
           "rgb(254, 136, 177)",
           "rgb(158, 185, 243)",
           "rgb(220, 176, 242)",
           "rgb(135, 197, 95)",
           "rgb(248, 156, 116)",
           "rgb(201, 219, 116)",
           "rgb(135, 197, 95)",
           "rgb(246, 207, 113)",
           "rgb(220, 176, 242)",
           "rgb(248, 156, 116)",
           "rgb(135, 197, 95)",
           "rgb(139, 224, 164)",
           "rgb(179, 179, 179)",
           "rgb(180, 151, 231)",
           "rgb(158, 185, 243)",
           "rgb(180, 151, 231)",
           "rgb(254, 136, 177)",
           "rgb(102, 197, 204)",
           "rgb(139, 224, 164)",
           "rgb(135, 197, 95)",
           "rgb(102, 197, 204)",
           "rgb(246, 207, 113)",
           "rgb(179, 179, 179)",
           "rgb(248, 156, 116)",
           "rgb(246, 207, 113)"
          ]
         },
         "name": "LA",
         "type": "bar",
         "x": [
          "Alcohol",
          "Bakery",
          "Berry Fruit",
          "Cereal",
          "Cheese",
          "Chocolate",
          "Citrus Fruit",
          "Coffee",
          "Confectionery",
          "Dessert",
          "Fish",
          "Flower",
          "Fruit",
          "Hardshell",
          "Herb",
          "Meat",
          "Milk",
          "Nut",
          "Oils",
          "Other Dairy",
          "Other Flora",
          "Other Savoury",
          "Pasta",
          "Plant",
          "Poultry",
          "Process",
          "Rice",
          "Sauces",
          "Seed",
          "Sour",
          "Spice",
          "Sugar",
          "Sweet",
          "Syrup",
          "Tea",
          "Tree",
          "Vegetable"
         ],
         "y": [
          2,
          0,
          19,
          8,
          0,
          7,
          46,
          1,
          0,
          0,
          0,
          10,
          64,
          0,
          16,
          0,
          3,
          4,
          0,
          2,
          1,
          2,
          0,
          8,
          0,
          0,
          0,
          0,
          10,
          0,
          8,
          1,
          15,
          10,
          2,
          0,
          12
         ]
        },
        {
         "marker": {
          "color": [
           "rgb(180, 151, 231)",
           "rgb(246, 207, 113)",
           "rgb(220, 176, 242)",
           "rgb(201, 219, 116)",
           "rgb(248, 156, 116)",
           "rgb(158, 185, 243)",
           "rgb(102, 197, 204)",
           "rgb(179, 179, 179)",
           "rgb(201, 219, 116)",
           "rgb(254, 136, 177)",
           "rgb(139, 224, 164)",
           "rgb(102, 197, 204)",
           "rgb(254, 136, 177)",
           "rgb(158, 185, 243)",
           "rgb(220, 176, 242)",
           "rgb(135, 197, 95)",
           "rgb(248, 156, 116)",
           "rgb(201, 219, 116)",
           "rgb(135, 197, 95)",
           "rgb(246, 207, 113)",
           "rgb(220, 176, 242)",
           "rgb(248, 156, 116)",
           "rgb(135, 197, 95)",
           "rgb(139, 224, 164)",
           "rgb(179, 179, 179)",
           "rgb(180, 151, 231)",
           "rgb(158, 185, 243)",
           "rgb(180, 151, 231)",
           "rgb(254, 136, 177)",
           "rgb(102, 197, 204)",
           "rgb(139, 224, 164)",
           "rgb(135, 197, 95)",
           "rgb(102, 197, 204)",
           "rgb(246, 207, 113)",
           "rgb(179, 179, 179)",
           "rgb(248, 156, 116)",
           "rgb(246, 207, 113)"
          ]
         },
         "name": "LB",
         "type": "bar",
         "x": [
          "Alcohol",
          "Bakery",
          "Berry Fruit",
          "Cereal",
          "Cheese",
          "Chocolate",
          "Citrus Fruit",
          "Coffee",
          "Confectionery",
          "Dessert",
          "Fish",
          "Flower",
          "Fruit",
          "Hardshell",
          "Herb",
          "Meat",
          "Milk",
          "Nut",
          "Oils",
          "Other Dairy",
          "Other Flora",
          "Other Savoury",
          "Pasta",
          "Plant",
          "Poultry",
          "Process",
          "Rice",
          "Sauces",
          "Seed",
          "Sour",
          "Spice",
          "Sugar",
          "Sweet",
          "Syrup",
          "Tea",
          "Tree",
          "Vegetable"
         ],
         "y": [
          8,
          0,
          13,
          2,
          0,
          24,
          14,
          1,
          0,
          2,
          0,
          4,
          42,
          0,
          11,
          0,
          1,
          3,
          0,
          0,
          1,
          1,
          0,
          2,
          0,
          0,
          0,
          0,
          2,
          0,
          29,
          3,
          10,
          4,
          2,
          4,
          2
         ]
        },
        {
         "marker": {
          "color": [
           "rgb(180, 151, 231)",
           "rgb(246, 207, 113)",
           "rgb(220, 176, 242)",
           "rgb(201, 219, 116)",
           "rgb(248, 156, 116)",
           "rgb(158, 185, 243)",
           "rgb(102, 197, 204)",
           "rgb(179, 179, 179)",
           "rgb(201, 219, 116)",
           "rgb(254, 136, 177)",
           "rgb(139, 224, 164)",
           "rgb(102, 197, 204)",
           "rgb(254, 136, 177)",
           "rgb(158, 185, 243)",
           "rgb(220, 176, 242)",
           "rgb(135, 197, 95)",
           "rgb(248, 156, 116)",
           "rgb(201, 219, 116)",
           "rgb(135, 197, 95)",
           "rgb(246, 207, 113)",
           "rgb(220, 176, 242)",
           "rgb(248, 156, 116)",
           "rgb(135, 197, 95)",
           "rgb(139, 224, 164)",
           "rgb(179, 179, 179)",
           "rgb(180, 151, 231)",
           "rgb(158, 185, 243)",
           "rgb(180, 151, 231)",
           "rgb(254, 136, 177)",
           "rgb(102, 197, 204)",
           "rgb(139, 224, 164)",
           "rgb(135, 197, 95)",
           "rgb(102, 197, 204)",
           "rgb(246, 207, 113)",
           "rgb(179, 179, 179)",
           "rgb(248, 156, 116)",
           "rgb(246, 207, 113)"
          ]
         },
         "name": "LK",
         "type": "bar",
         "x": [
          "Alcohol",
          "Bakery",
          "Berry Fruit",
          "Cereal",
          "Cheese",
          "Chocolate",
          "Citrus Fruit",
          "Coffee",
          "Confectionery",
          "Dessert",
          "Fish",
          "Flower",
          "Fruit",
          "Hardshell",
          "Herb",
          "Meat",
          "Milk",
          "Nut",
          "Oils",
          "Other Dairy",
          "Other Flora",
          "Other Savoury",
          "Pasta",
          "Plant",
          "Poultry",
          "Process",
          "Rice",
          "Sauces",
          "Seed",
          "Sour",
          "Spice",
          "Sugar",
          "Sweet",
          "Syrup",
          "Tea",
          "Tree",
          "Vegetable"
         ],
         "y": [
          9,
          1,
          70,
          23,
          0,
          25,
          128,
          0,
          0,
          0,
          0,
          6,
          328,
          0,
          48,
          0,
          4,
          8,
          0,
          1,
          0,
          1,
          0,
          30,
          0,
          1,
          0,
          0,
          15,
          0,
          95,
          8,
          63,
          0,
          6,
          6,
          10
         ]
        },
        {
         "marker": {
          "color": [
           "rgb(180, 151, 231)",
           "rgb(246, 207, 113)",
           "rgb(220, 176, 242)",
           "rgb(201, 219, 116)",
           "rgb(248, 156, 116)",
           "rgb(158, 185, 243)",
           "rgb(102, 197, 204)",
           "rgb(179, 179, 179)",
           "rgb(201, 219, 116)",
           "rgb(254, 136, 177)",
           "rgb(139, 224, 164)",
           "rgb(102, 197, 204)",
           "rgb(254, 136, 177)",
           "rgb(158, 185, 243)",
           "rgb(220, 176, 242)",
           "rgb(135, 197, 95)",
           "rgb(248, 156, 116)",
           "rgb(201, 219, 116)",
           "rgb(135, 197, 95)",
           "rgb(246, 207, 113)",
           "rgb(220, 176, 242)",
           "rgb(248, 156, 116)",
           "rgb(135, 197, 95)",
           "rgb(139, 224, 164)",
           "rgb(179, 179, 179)",
           "rgb(180, 151, 231)",
           "rgb(158, 185, 243)",
           "rgb(180, 151, 231)",
           "rgb(254, 136, 177)",
           "rgb(102, 197, 204)",
           "rgb(139, 224, 164)",
           "rgb(135, 197, 95)",
           "rgb(102, 197, 204)",
           "rgb(246, 207, 113)",
           "rgb(179, 179, 179)",
           "rgb(248, 156, 116)",
           "rgb(246, 207, 113)"
          ]
         },
         "name": "LT",
         "type": "bar",
         "x": [
          "Alcohol",
          "Bakery",
          "Berry Fruit",
          "Cereal",
          "Cheese",
          "Chocolate",
          "Citrus Fruit",
          "Coffee",
          "Confectionery",
          "Dessert",
          "Fish",
          "Flower",
          "Fruit",
          "Hardshell",
          "Herb",
          "Meat",
          "Milk",
          "Nut",
          "Oils",
          "Other Dairy",
          "Other Flora",
          "Other Savoury",
          "Pasta",
          "Plant",
          "Poultry",
          "Process",
          "Rice",
          "Sauces",
          "Seed",
          "Sour",
          "Spice",
          "Sugar",
          "Sweet",
          "Syrup",
          "Tea",
          "Tree",
          "Vegetable"
         ],
         "y": [
          21,
          1,
          52,
          0,
          0,
          15,
          62,
          2,
          0,
          0,
          0,
          18,
          142,
          0,
          40,
          0,
          0,
          5,
          0,
          4,
          1,
          0,
          0,
          11,
          0,
          0,
          1,
          0,
          2,
          1,
          41,
          4,
          22,
          3,
          10,
          6,
          12
         ]
        },
        {
         "marker": {
          "color": [
           "rgb(180, 151, 231)",
           "rgb(246, 207, 113)",
           "rgb(220, 176, 242)",
           "rgb(201, 219, 116)",
           "rgb(248, 156, 116)",
           "rgb(158, 185, 243)",
           "rgb(102, 197, 204)",
           "rgb(179, 179, 179)",
           "rgb(201, 219, 116)",
           "rgb(254, 136, 177)",
           "rgb(139, 224, 164)",
           "rgb(102, 197, 204)",
           "rgb(254, 136, 177)",
           "rgb(158, 185, 243)",
           "rgb(220, 176, 242)",
           "rgb(135, 197, 95)",
           "rgb(248, 156, 116)",
           "rgb(201, 219, 116)",
           "rgb(135, 197, 95)",
           "rgb(246, 207, 113)",
           "rgb(220, 176, 242)",
           "rgb(248, 156, 116)",
           "rgb(135, 197, 95)",
           "rgb(139, 224, 164)",
           "rgb(179, 179, 179)",
           "rgb(180, 151, 231)",
           "rgb(158, 185, 243)",
           "rgb(180, 151, 231)",
           "rgb(254, 136, 177)",
           "rgb(102, 197, 204)",
           "rgb(139, 224, 164)",
           "rgb(135, 197, 95)",
           "rgb(102, 197, 204)",
           "rgb(246, 207, 113)",
           "rgb(179, 179, 179)",
           "rgb(248, 156, 116)",
           "rgb(246, 207, 113)"
          ]
         },
         "name": "LV",
         "type": "bar",
         "x": [
          "Alcohol",
          "Bakery",
          "Berry Fruit",
          "Cereal",
          "Cheese",
          "Chocolate",
          "Citrus Fruit",
          "Coffee",
          "Confectionery",
          "Dessert",
          "Fish",
          "Flower",
          "Fruit",
          "Hardshell",
          "Herb",
          "Meat",
          "Milk",
          "Nut",
          "Oils",
          "Other Dairy",
          "Other Flora",
          "Other Savoury",
          "Pasta",
          "Plant",
          "Poultry",
          "Process",
          "Rice",
          "Sauces",
          "Seed",
          "Sour",
          "Spice",
          "Sugar",
          "Sweet",
          "Syrup",
          "Tea",
          "Tree",
          "Vegetable"
         ],
         "y": [
          16,
          1,
          39,
          3,
          1,
          7,
          36,
          2,
          1,
          2,
          0,
          11,
          69,
          0,
          10,
          0,
          1,
          4,
          0,
          4,
          1,
          0,
          0,
          5,
          0,
          2,
          0,
          0,
          0,
          1,
          17,
          3,
          5,
          5,
          8,
          2,
          3
         ]
        },
        {
         "marker": {
          "color": [
           "rgb(180, 151, 231)",
           "rgb(246, 207, 113)",
           "rgb(220, 176, 242)",
           "rgb(201, 219, 116)",
           "rgb(248, 156, 116)",
           "rgb(158, 185, 243)",
           "rgb(102, 197, 204)",
           "rgb(179, 179, 179)",
           "rgb(201, 219, 116)",
           "rgb(254, 136, 177)",
           "rgb(139, 224, 164)",
           "rgb(102, 197, 204)",
           "rgb(254, 136, 177)",
           "rgb(158, 185, 243)",
           "rgb(220, 176, 242)",
           "rgb(135, 197, 95)",
           "rgb(248, 156, 116)",
           "rgb(201, 219, 116)",
           "rgb(135, 197, 95)",
           "rgb(246, 207, 113)",
           "rgb(220, 176, 242)",
           "rgb(248, 156, 116)",
           "rgb(135, 197, 95)",
           "rgb(139, 224, 164)",
           "rgb(179, 179, 179)",
           "rgb(180, 151, 231)",
           "rgb(158, 185, 243)",
           "rgb(180, 151, 231)",
           "rgb(254, 136, 177)",
           "rgb(102, 197, 204)",
           "rgb(139, 224, 164)",
           "rgb(135, 197, 95)",
           "rgb(102, 197, 204)",
           "rgb(246, 207, 113)",
           "rgb(179, 179, 179)",
           "rgb(248, 156, 116)",
           "rgb(246, 207, 113)"
          ]
         },
         "name": "MA",
         "type": "bar",
         "x": [
          "Alcohol",
          "Bakery",
          "Berry Fruit",
          "Cereal",
          "Cheese",
          "Chocolate",
          "Citrus Fruit",
          "Coffee",
          "Confectionery",
          "Dessert",
          "Fish",
          "Flower",
          "Fruit",
          "Hardshell",
          "Herb",
          "Meat",
          "Milk",
          "Nut",
          "Oils",
          "Other Dairy",
          "Other Flora",
          "Other Savoury",
          "Pasta",
          "Plant",
          "Poultry",
          "Process",
          "Rice",
          "Sauces",
          "Seed",
          "Sour",
          "Spice",
          "Sugar",
          "Sweet",
          "Syrup",
          "Tea",
          "Tree",
          "Vegetable"
         ],
         "y": [
          13,
          0,
          33,
          2,
          0,
          35,
          126,
          0,
          5,
          2,
          0,
          26,
          181,
          0,
          65,
          0,
          3,
          5,
          0,
          0,
          0,
          0,
          0,
          4,
          0,
          0,
          0,
          0,
          3,
          1,
          23,
          6,
          31,
          6,
          3,
          7,
          9
         ]
        },
        {
         "marker": {
          "color": [
           "rgb(180, 151, 231)",
           "rgb(246, 207, 113)",
           "rgb(220, 176, 242)",
           "rgb(201, 219, 116)",
           "rgb(248, 156, 116)",
           "rgb(158, 185, 243)",
           "rgb(102, 197, 204)",
           "rgb(179, 179, 179)",
           "rgb(201, 219, 116)",
           "rgb(254, 136, 177)",
           "rgb(139, 224, 164)",
           "rgb(102, 197, 204)",
           "rgb(254, 136, 177)",
           "rgb(158, 185, 243)",
           "rgb(220, 176, 242)",
           "rgb(135, 197, 95)",
           "rgb(248, 156, 116)",
           "rgb(201, 219, 116)",
           "rgb(135, 197, 95)",
           "rgb(246, 207, 113)",
           "rgb(220, 176, 242)",
           "rgb(248, 156, 116)",
           "rgb(135, 197, 95)",
           "rgb(139, 224, 164)",
           "rgb(179, 179, 179)",
           "rgb(180, 151, 231)",
           "rgb(158, 185, 243)",
           "rgb(180, 151, 231)",
           "rgb(254, 136, 177)",
           "rgb(102, 197, 204)",
           "rgb(139, 224, 164)",
           "rgb(135, 197, 95)",
           "rgb(102, 197, 204)",
           "rgb(246, 207, 113)",
           "rgb(179, 179, 179)",
           "rgb(248, 156, 116)",
           "rgb(246, 207, 113)"
          ]
         },
         "name": "MM",
         "type": "bar",
         "x": [
          "Alcohol",
          "Bakery",
          "Berry Fruit",
          "Cereal",
          "Cheese",
          "Chocolate",
          "Citrus Fruit",
          "Coffee",
          "Confectionery",
          "Dessert",
          "Fish",
          "Flower",
          "Fruit",
          "Hardshell",
          "Herb",
          "Meat",
          "Milk",
          "Nut",
          "Oils",
          "Other Dairy",
          "Other Flora",
          "Other Savoury",
          "Pasta",
          "Plant",
          "Poultry",
          "Process",
          "Rice",
          "Sauces",
          "Seed",
          "Sour",
          "Spice",
          "Sugar",
          "Sweet",
          "Syrup",
          "Tea",
          "Tree",
          "Vegetable"
         ],
         "y": [
          11,
          0,
          58,
          17,
          0,
          16,
          109,
          1,
          0,
          2,
          0,
          18,
          186,
          0,
          22,
          0,
          4,
          9,
          0,
          2,
          3,
          2,
          0,
          15,
          0,
          1,
          2,
          1,
          10,
          0,
          29,
          8,
          43,
          7,
          7,
          0,
          18
         ]
        },
        {
         "marker": {
          "color": [
           "rgb(180, 151, 231)",
           "rgb(246, 207, 113)",
           "rgb(220, 176, 242)",
           "rgb(201, 219, 116)",
           "rgb(248, 156, 116)",
           "rgb(158, 185, 243)",
           "rgb(102, 197, 204)",
           "rgb(179, 179, 179)",
           "rgb(201, 219, 116)",
           "rgb(254, 136, 177)",
           "rgb(139, 224, 164)",
           "rgb(102, 197, 204)",
           "rgb(254, 136, 177)",
           "rgb(158, 185, 243)",
           "rgb(220, 176, 242)",
           "rgb(135, 197, 95)",
           "rgb(248, 156, 116)",
           "rgb(201, 219, 116)",
           "rgb(135, 197, 95)",
           "rgb(246, 207, 113)",
           "rgb(220, 176, 242)",
           "rgb(248, 156, 116)",
           "rgb(135, 197, 95)",
           "rgb(139, 224, 164)",
           "rgb(179, 179, 179)",
           "rgb(180, 151, 231)",
           "rgb(158, 185, 243)",
           "rgb(180, 151, 231)",
           "rgb(254, 136, 177)",
           "rgb(102, 197, 204)",
           "rgb(139, 224, 164)",
           "rgb(135, 197, 95)",
           "rgb(102, 197, 204)",
           "rgb(246, 207, 113)",
           "rgb(179, 179, 179)",
           "rgb(248, 156, 116)",
           "rgb(246, 207, 113)"
          ]
         },
         "name": "MX",
         "type": "bar",
         "x": [
          "Alcohol",
          "Bakery",
          "Berry Fruit",
          "Cereal",
          "Cheese",
          "Chocolate",
          "Citrus Fruit",
          "Coffee",
          "Confectionery",
          "Dessert",
          "Fish",
          "Flower",
          "Fruit",
          "Hardshell",
          "Herb",
          "Meat",
          "Milk",
          "Nut",
          "Oils",
          "Other Dairy",
          "Other Flora",
          "Other Savoury",
          "Pasta",
          "Plant",
          "Poultry",
          "Process",
          "Rice",
          "Sauces",
          "Seed",
          "Sour",
          "Spice",
          "Sugar",
          "Sweet",
          "Syrup",
          "Tea",
          "Tree",
          "Vegetable"
         ],
         "y": [
          94,
          13,
          411,
          14,
          0,
          234,
          659,
          33,
          6,
          18,
          0,
          131,
          1027,
          12,
          196,
          1,
          11,
          74,
          0,
          9,
          6,
          5,
          0,
          90,
          0,
          8,
          2,
          2,
          41,
          4,
          393,
          45,
          332,
          39,
          68,
          16,
          171
         ]
        },
        {
         "marker": {
          "color": [
           "rgb(180, 151, 231)",
           "rgb(246, 207, 113)",
           "rgb(220, 176, 242)",
           "rgb(201, 219, 116)",
           "rgb(248, 156, 116)",
           "rgb(158, 185, 243)",
           "rgb(102, 197, 204)",
           "rgb(179, 179, 179)",
           "rgb(201, 219, 116)",
           "rgb(254, 136, 177)",
           "rgb(139, 224, 164)",
           "rgb(102, 197, 204)",
           "rgb(254, 136, 177)",
           "rgb(158, 185, 243)",
           "rgb(220, 176, 242)",
           "rgb(135, 197, 95)",
           "rgb(248, 156, 116)",
           "rgb(201, 219, 116)",
           "rgb(135, 197, 95)",
           "rgb(246, 207, 113)",
           "rgb(220, 176, 242)",
           "rgb(248, 156, 116)",
           "rgb(135, 197, 95)",
           "rgb(139, 224, 164)",
           "rgb(179, 179, 179)",
           "rgb(180, 151, 231)",
           "rgb(158, 185, 243)",
           "rgb(180, 151, 231)",
           "rgb(254, 136, 177)",
           "rgb(102, 197, 204)",
           "rgb(139, 224, 164)",
           "rgb(135, 197, 95)",
           "rgb(102, 197, 204)",
           "rgb(246, 207, 113)",
           "rgb(179, 179, 179)",
           "rgb(248, 156, 116)",
           "rgb(246, 207, 113)"
          ]
         },
         "name": "MY",
         "type": "bar",
         "x": [
          "Alcohol",
          "Bakery",
          "Berry Fruit",
          "Cereal",
          "Cheese",
          "Chocolate",
          "Citrus Fruit",
          "Coffee",
          "Confectionery",
          "Dessert",
          "Fish",
          "Flower",
          "Fruit",
          "Hardshell",
          "Herb",
          "Meat",
          "Milk",
          "Nut",
          "Oils",
          "Other Dairy",
          "Other Flora",
          "Other Savoury",
          "Pasta",
          "Plant",
          "Poultry",
          "Process",
          "Rice",
          "Sauces",
          "Seed",
          "Sour",
          "Spice",
          "Sugar",
          "Sweet",
          "Syrup",
          "Tea",
          "Tree",
          "Vegetable"
         ],
         "y": [
          3,
          1,
          104,
          93,
          0,
          111,
          206,
          10,
          3,
          8,
          0,
          60,
          336,
          0,
          59,
          0,
          16,
          41,
          0,
          7,
          2,
          21,
          0,
          29,
          1,
          7,
          11,
          2,
          17,
          4,
          100,
          41,
          77,
          36,
          33,
          2,
          48
         ]
        },
        {
         "marker": {
          "color": [
           "rgb(180, 151, 231)",
           "rgb(246, 207, 113)",
           "rgb(220, 176, 242)",
           "rgb(201, 219, 116)",
           "rgb(248, 156, 116)",
           "rgb(158, 185, 243)",
           "rgb(102, 197, 204)",
           "rgb(179, 179, 179)",
           "rgb(201, 219, 116)",
           "rgb(254, 136, 177)",
           "rgb(139, 224, 164)",
           "rgb(102, 197, 204)",
           "rgb(254, 136, 177)",
           "rgb(158, 185, 243)",
           "rgb(220, 176, 242)",
           "rgb(135, 197, 95)",
           "rgb(248, 156, 116)",
           "rgb(201, 219, 116)",
           "rgb(135, 197, 95)",
           "rgb(246, 207, 113)",
           "rgb(220, 176, 242)",
           "rgb(248, 156, 116)",
           "rgb(135, 197, 95)",
           "rgb(139, 224, 164)",
           "rgb(179, 179, 179)",
           "rgb(180, 151, 231)",
           "rgb(158, 185, 243)",
           "rgb(180, 151, 231)",
           "rgb(254, 136, 177)",
           "rgb(102, 197, 204)",
           "rgb(139, 224, 164)",
           "rgb(135, 197, 95)",
           "rgb(102, 197, 204)",
           "rgb(246, 207, 113)",
           "rgb(179, 179, 179)",
           "rgb(248, 156, 116)",
           "rgb(246, 207, 113)"
          ]
         },
         "name": "NG",
         "type": "bar",
         "x": [
          "Alcohol",
          "Bakery",
          "Berry Fruit",
          "Cereal",
          "Cheese",
          "Chocolate",
          "Citrus Fruit",
          "Coffee",
          "Confectionery",
          "Dessert",
          "Fish",
          "Flower",
          "Fruit",
          "Hardshell",
          "Herb",
          "Meat",
          "Milk",
          "Nut",
          "Oils",
          "Other Dairy",
          "Other Flora",
          "Other Savoury",
          "Pasta",
          "Plant",
          "Poultry",
          "Process",
          "Rice",
          "Sauces",
          "Seed",
          "Sour",
          "Spice",
          "Sugar",
          "Sweet",
          "Syrup",
          "Tea",
          "Tree",
          "Vegetable"
         ],
         "y": [
          45,
          1,
          132,
          59,
          0,
          80,
          245,
          12,
          3,
          2,
          0,
          33,
          574,
          0,
          194,
          1,
          16,
          31,
          0,
          9,
          2,
          14,
          0,
          49,
          0,
          0,
          0,
          0,
          41,
          2,
          169,
          12,
          75,
          35,
          3,
          9,
          39
         ]
        },
        {
         "marker": {
          "color": [
           "rgb(180, 151, 231)",
           "rgb(246, 207, 113)",
           "rgb(220, 176, 242)",
           "rgb(201, 219, 116)",
           "rgb(248, 156, 116)",
           "rgb(158, 185, 243)",
           "rgb(102, 197, 204)",
           "rgb(179, 179, 179)",
           "rgb(201, 219, 116)",
           "rgb(254, 136, 177)",
           "rgb(139, 224, 164)",
           "rgb(102, 197, 204)",
           "rgb(254, 136, 177)",
           "rgb(158, 185, 243)",
           "rgb(220, 176, 242)",
           "rgb(135, 197, 95)",
           "rgb(248, 156, 116)",
           "rgb(201, 219, 116)",
           "rgb(135, 197, 95)",
           "rgb(246, 207, 113)",
           "rgb(220, 176, 242)",
           "rgb(248, 156, 116)",
           "rgb(135, 197, 95)",
           "rgb(139, 224, 164)",
           "rgb(179, 179, 179)",
           "rgb(180, 151, 231)",
           "rgb(158, 185, 243)",
           "rgb(180, 151, 231)",
           "rgb(254, 136, 177)",
           "rgb(102, 197, 204)",
           "rgb(139, 224, 164)",
           "rgb(135, 197, 95)",
           "rgb(102, 197, 204)",
           "rgb(246, 207, 113)",
           "rgb(179, 179, 179)",
           "rgb(248, 156, 116)",
           "rgb(246, 207, 113)"
          ]
         },
         "name": "NL",
         "type": "bar",
         "x": [
          "Alcohol",
          "Bakery",
          "Berry Fruit",
          "Cereal",
          "Cheese",
          "Chocolate",
          "Citrus Fruit",
          "Coffee",
          "Confectionery",
          "Dessert",
          "Fish",
          "Flower",
          "Fruit",
          "Hardshell",
          "Herb",
          "Meat",
          "Milk",
          "Nut",
          "Oils",
          "Other Dairy",
          "Other Flora",
          "Other Savoury",
          "Pasta",
          "Plant",
          "Poultry",
          "Process",
          "Rice",
          "Sauces",
          "Seed",
          "Sour",
          "Spice",
          "Sugar",
          "Sweet",
          "Syrup",
          "Tea",
          "Tree",
          "Vegetable"
         ],
         "y": [
          46,
          11,
          322,
          14,
          1,
          64,
          509,
          8,
          14,
          7,
          0,
          135,
          695,
          0,
          254,
          0,
          4,
          33,
          0,
          11,
          8,
          10,
          0,
          64,
          0,
          6,
          0,
          6,
          16,
          6,
          371,
          25,
          126,
          38,
          62,
          34,
          145
         ]
        },
        {
         "marker": {
          "color": [
           "rgb(180, 151, 231)",
           "rgb(246, 207, 113)",
           "rgb(220, 176, 242)",
           "rgb(201, 219, 116)",
           "rgb(248, 156, 116)",
           "rgb(158, 185, 243)",
           "rgb(102, 197, 204)",
           "rgb(179, 179, 179)",
           "rgb(201, 219, 116)",
           "rgb(254, 136, 177)",
           "rgb(139, 224, 164)",
           "rgb(102, 197, 204)",
           "rgb(254, 136, 177)",
           "rgb(158, 185, 243)",
           "rgb(220, 176, 242)",
           "rgb(135, 197, 95)",
           "rgb(248, 156, 116)",
           "rgb(201, 219, 116)",
           "rgb(135, 197, 95)",
           "rgb(246, 207, 113)",
           "rgb(220, 176, 242)",
           "rgb(248, 156, 116)",
           "rgb(135, 197, 95)",
           "rgb(139, 224, 164)",
           "rgb(179, 179, 179)",
           "rgb(180, 151, 231)",
           "rgb(158, 185, 243)",
           "rgb(180, 151, 231)",
           "rgb(254, 136, 177)",
           "rgb(102, 197, 204)",
           "rgb(139, 224, 164)",
           "rgb(135, 197, 95)",
           "rgb(102, 197, 204)",
           "rgb(246, 207, 113)",
           "rgb(179, 179, 179)",
           "rgb(248, 156, 116)",
           "rgb(246, 207, 113)"
          ]
         },
         "name": "NO",
         "type": "bar",
         "x": [
          "Alcohol",
          "Bakery",
          "Berry Fruit",
          "Cereal",
          "Cheese",
          "Chocolate",
          "Citrus Fruit",
          "Coffee",
          "Confectionery",
          "Dessert",
          "Fish",
          "Flower",
          "Fruit",
          "Hardshell",
          "Herb",
          "Meat",
          "Milk",
          "Nut",
          "Oils",
          "Other Dairy",
          "Other Flora",
          "Other Savoury",
          "Pasta",
          "Plant",
          "Poultry",
          "Process",
          "Rice",
          "Sauces",
          "Seed",
          "Sour",
          "Spice",
          "Sugar",
          "Sweet",
          "Syrup",
          "Tea",
          "Tree",
          "Vegetable"
         ],
         "y": [
          42,
          6,
          266,
          7,
          0,
          57,
          370,
          9,
          17,
          2,
          0,
          48,
          597,
          0,
          88,
          0,
          2,
          25,
          0,
          6,
          3,
          3,
          0,
          28,
          0,
          4,
          0,
          0,
          5,
          12,
          219,
          23,
          70,
          14,
          40,
          15,
          79
         ]
        },
        {
         "marker": {
          "color": [
           "rgb(180, 151, 231)",
           "rgb(246, 207, 113)",
           "rgb(220, 176, 242)",
           "rgb(201, 219, 116)",
           "rgb(248, 156, 116)",
           "rgb(158, 185, 243)",
           "rgb(102, 197, 204)",
           "rgb(179, 179, 179)",
           "rgb(201, 219, 116)",
           "rgb(254, 136, 177)",
           "rgb(139, 224, 164)",
           "rgb(102, 197, 204)",
           "rgb(254, 136, 177)",
           "rgb(158, 185, 243)",
           "rgb(220, 176, 242)",
           "rgb(135, 197, 95)",
           "rgb(248, 156, 116)",
           "rgb(201, 219, 116)",
           "rgb(135, 197, 95)",
           "rgb(246, 207, 113)",
           "rgb(220, 176, 242)",
           "rgb(248, 156, 116)",
           "rgb(135, 197, 95)",
           "rgb(139, 224, 164)",
           "rgb(179, 179, 179)",
           "rgb(180, 151, 231)",
           "rgb(158, 185, 243)",
           "rgb(180, 151, 231)",
           "rgb(254, 136, 177)",
           "rgb(102, 197, 204)",
           "rgb(139, 224, 164)",
           "rgb(135, 197, 95)",
           "rgb(102, 197, 204)",
           "rgb(246, 207, 113)",
           "rgb(179, 179, 179)",
           "rgb(248, 156, 116)",
           "rgb(246, 207, 113)"
          ]
         },
         "name": "NZ",
         "type": "bar",
         "x": [
          "Alcohol",
          "Bakery",
          "Berry Fruit",
          "Cereal",
          "Cheese",
          "Chocolate",
          "Citrus Fruit",
          "Coffee",
          "Confectionery",
          "Dessert",
          "Fish",
          "Flower",
          "Fruit",
          "Hardshell",
          "Herb",
          "Meat",
          "Milk",
          "Nut",
          "Oils",
          "Other Dairy",
          "Other Flora",
          "Other Savoury",
          "Pasta",
          "Plant",
          "Poultry",
          "Process",
          "Rice",
          "Sauces",
          "Seed",
          "Sour",
          "Spice",
          "Sugar",
          "Sweet",
          "Syrup",
          "Tea",
          "Tree",
          "Vegetable"
         ],
         "y": [
          40,
          2,
          116,
          7,
          0,
          50,
          166,
          7,
          6,
          0,
          0,
          23,
          254,
          0,
          33,
          0,
          3,
          24,
          0,
          3,
          1,
          4,
          0,
          16,
          0,
          1,
          0,
          2,
          12,
          6,
          103,
          10,
          86,
          16,
          33,
          15,
          22
         ]
        },
        {
         "marker": {
          "color": [
           "rgb(180, 151, 231)",
           "rgb(246, 207, 113)",
           "rgb(220, 176, 242)",
           "rgb(201, 219, 116)",
           "rgb(248, 156, 116)",
           "rgb(158, 185, 243)",
           "rgb(102, 197, 204)",
           "rgb(179, 179, 179)",
           "rgb(201, 219, 116)",
           "rgb(254, 136, 177)",
           "rgb(139, 224, 164)",
           "rgb(102, 197, 204)",
           "rgb(254, 136, 177)",
           "rgb(158, 185, 243)",
           "rgb(220, 176, 242)",
           "rgb(135, 197, 95)",
           "rgb(248, 156, 116)",
           "rgb(201, 219, 116)",
           "rgb(135, 197, 95)",
           "rgb(246, 207, 113)",
           "rgb(220, 176, 242)",
           "rgb(248, 156, 116)",
           "rgb(135, 197, 95)",
           "rgb(139, 224, 164)",
           "rgb(179, 179, 179)",
           "rgb(180, 151, 231)",
           "rgb(158, 185, 243)",
           "rgb(180, 151, 231)",
           "rgb(254, 136, 177)",
           "rgb(102, 197, 204)",
           "rgb(139, 224, 164)",
           "rgb(135, 197, 95)",
           "rgb(102, 197, 204)",
           "rgb(246, 207, 113)",
           "rgb(179, 179, 179)",
           "rgb(248, 156, 116)",
           "rgb(246, 207, 113)"
          ]
         },
         "name": "OM",
         "type": "bar",
         "x": [
          "Alcohol",
          "Bakery",
          "Berry Fruit",
          "Cereal",
          "Cheese",
          "Chocolate",
          "Citrus Fruit",
          "Coffee",
          "Confectionery",
          "Dessert",
          "Fish",
          "Flower",
          "Fruit",
          "Hardshell",
          "Herb",
          "Meat",
          "Milk",
          "Nut",
          "Oils",
          "Other Dairy",
          "Other Flora",
          "Other Savoury",
          "Pasta",
          "Plant",
          "Poultry",
          "Process",
          "Rice",
          "Sauces",
          "Seed",
          "Sour",
          "Spice",
          "Sugar",
          "Sweet",
          "Syrup",
          "Tea",
          "Tree",
          "Vegetable"
         ],
         "y": [
          4,
          0,
          26,
          5,
          0,
          21,
          22,
          0,
          2,
          1,
          0,
          8,
          41,
          0,
          14,
          0,
          0,
          4,
          0,
          0,
          0,
          1,
          0,
          0,
          0,
          0,
          0,
          1,
          0,
          0,
          25,
          3,
          10,
          2,
          2,
          1,
          8
         ]
        },
        {
         "marker": {
          "color": [
           "rgb(180, 151, 231)",
           "rgb(246, 207, 113)",
           "rgb(220, 176, 242)",
           "rgb(201, 219, 116)",
           "rgb(248, 156, 116)",
           "rgb(158, 185, 243)",
           "rgb(102, 197, 204)",
           "rgb(179, 179, 179)",
           "rgb(201, 219, 116)",
           "rgb(254, 136, 177)",
           "rgb(139, 224, 164)",
           "rgb(102, 197, 204)",
           "rgb(254, 136, 177)",
           "rgb(158, 185, 243)",
           "rgb(220, 176, 242)",
           "rgb(135, 197, 95)",
           "rgb(248, 156, 116)",
           "rgb(201, 219, 116)",
           "rgb(135, 197, 95)",
           "rgb(246, 207, 113)",
           "rgb(220, 176, 242)",
           "rgb(248, 156, 116)",
           "rgb(135, 197, 95)",
           "rgb(139, 224, 164)",
           "rgb(179, 179, 179)",
           "rgb(180, 151, 231)",
           "rgb(158, 185, 243)",
           "rgb(180, 151, 231)",
           "rgb(254, 136, 177)",
           "rgb(102, 197, 204)",
           "rgb(139, 224, 164)",
           "rgb(135, 197, 95)",
           "rgb(102, 197, 204)",
           "rgb(246, 207, 113)",
           "rgb(179, 179, 179)",
           "rgb(248, 156, 116)",
           "rgb(246, 207, 113)"
          ]
         },
         "name": "PA",
         "type": "bar",
         "x": [
          "Alcohol",
          "Bakery",
          "Berry Fruit",
          "Cereal",
          "Cheese",
          "Chocolate",
          "Citrus Fruit",
          "Coffee",
          "Confectionery",
          "Dessert",
          "Fish",
          "Flower",
          "Fruit",
          "Hardshell",
          "Herb",
          "Meat",
          "Milk",
          "Nut",
          "Oils",
          "Other Dairy",
          "Other Flora",
          "Other Savoury",
          "Pasta",
          "Plant",
          "Poultry",
          "Process",
          "Rice",
          "Sauces",
          "Seed",
          "Sour",
          "Spice",
          "Sugar",
          "Sweet",
          "Syrup",
          "Tea",
          "Tree",
          "Vegetable"
         ],
         "y": [
          7,
          0,
          19,
          3,
          0,
          5,
          32,
          2,
          1,
          1,
          0,
          3,
          42,
          0,
          7,
          0,
          0,
          4,
          0,
          0,
          0,
          0,
          0,
          1,
          0,
          1,
          0,
          0,
          1,
          0,
          5,
          0,
          11,
          2,
          1,
          3,
          5
         ]
        },
        {
         "marker": {
          "color": [
           "rgb(180, 151, 231)",
           "rgb(246, 207, 113)",
           "rgb(220, 176, 242)",
           "rgb(201, 219, 116)",
           "rgb(248, 156, 116)",
           "rgb(158, 185, 243)",
           "rgb(102, 197, 204)",
           "rgb(179, 179, 179)",
           "rgb(201, 219, 116)",
           "rgb(254, 136, 177)",
           "rgb(139, 224, 164)",
           "rgb(102, 197, 204)",
           "rgb(254, 136, 177)",
           "rgb(158, 185, 243)",
           "rgb(220, 176, 242)",
           "rgb(135, 197, 95)",
           "rgb(248, 156, 116)",
           "rgb(201, 219, 116)",
           "rgb(135, 197, 95)",
           "rgb(246, 207, 113)",
           "rgb(220, 176, 242)",
           "rgb(248, 156, 116)",
           "rgb(135, 197, 95)",
           "rgb(139, 224, 164)",
           "rgb(179, 179, 179)",
           "rgb(180, 151, 231)",
           "rgb(158, 185, 243)",
           "rgb(180, 151, 231)",
           "rgb(254, 136, 177)",
           "rgb(102, 197, 204)",
           "rgb(139, 224, 164)",
           "rgb(135, 197, 95)",
           "rgb(102, 197, 204)",
           "rgb(246, 207, 113)",
           "rgb(179, 179, 179)",
           "rgb(248, 156, 116)",
           "rgb(246, 207, 113)"
          ]
         },
         "name": "PE",
         "type": "bar",
         "x": [
          "Alcohol",
          "Bakery",
          "Berry Fruit",
          "Cereal",
          "Cheese",
          "Chocolate",
          "Citrus Fruit",
          "Coffee",
          "Confectionery",
          "Dessert",
          "Fish",
          "Flower",
          "Fruit",
          "Hardshell",
          "Herb",
          "Meat",
          "Milk",
          "Nut",
          "Oils",
          "Other Dairy",
          "Other Flora",
          "Other Savoury",
          "Pasta",
          "Plant",
          "Poultry",
          "Process",
          "Rice",
          "Sauces",
          "Seed",
          "Sour",
          "Spice",
          "Sugar",
          "Sweet",
          "Syrup",
          "Tea",
          "Tree",
          "Vegetable"
         ],
         "y": [
          40,
          0,
          117,
          50,
          1,
          68,
          181,
          5,
          2,
          2,
          0,
          21,
          305,
          0,
          82,
          0,
          3,
          10,
          0,
          7,
          8,
          2,
          0,
          33,
          0,
          4,
          0,
          0,
          22,
          2,
          89,
          8,
          56,
          6,
          8,
          11,
          18
         ]
        },
        {
         "marker": {
          "color": [
           "rgb(180, 151, 231)",
           "rgb(246, 207, 113)",
           "rgb(220, 176, 242)",
           "rgb(201, 219, 116)",
           "rgb(248, 156, 116)",
           "rgb(158, 185, 243)",
           "rgb(102, 197, 204)",
           "rgb(179, 179, 179)",
           "rgb(201, 219, 116)",
           "rgb(254, 136, 177)",
           "rgb(139, 224, 164)",
           "rgb(102, 197, 204)",
           "rgb(254, 136, 177)",
           "rgb(158, 185, 243)",
           "rgb(220, 176, 242)",
           "rgb(135, 197, 95)",
           "rgb(248, 156, 116)",
           "rgb(201, 219, 116)",
           "rgb(135, 197, 95)",
           "rgb(246, 207, 113)",
           "rgb(220, 176, 242)",
           "rgb(248, 156, 116)",
           "rgb(135, 197, 95)",
           "rgb(139, 224, 164)",
           "rgb(179, 179, 179)",
           "rgb(180, 151, 231)",
           "rgb(158, 185, 243)",
           "rgb(180, 151, 231)",
           "rgb(254, 136, 177)",
           "rgb(102, 197, 204)",
           "rgb(139, 224, 164)",
           "rgb(135, 197, 95)",
           "rgb(102, 197, 204)",
           "rgb(246, 207, 113)",
           "rgb(179, 179, 179)",
           "rgb(248, 156, 116)",
           "rgb(246, 207, 113)"
          ]
         },
         "name": "PH",
         "type": "bar",
         "x": [
          "Alcohol",
          "Bakery",
          "Berry Fruit",
          "Cereal",
          "Cheese",
          "Chocolate",
          "Citrus Fruit",
          "Coffee",
          "Confectionery",
          "Dessert",
          "Fish",
          "Flower",
          "Fruit",
          "Hardshell",
          "Herb",
          "Meat",
          "Milk",
          "Nut",
          "Oils",
          "Other Dairy",
          "Other Flora",
          "Other Savoury",
          "Pasta",
          "Plant",
          "Poultry",
          "Process",
          "Rice",
          "Sauces",
          "Seed",
          "Sour",
          "Spice",
          "Sugar",
          "Sweet",
          "Syrup",
          "Tea",
          "Tree",
          "Vegetable"
         ],
         "y": [
          11,
          0,
          78,
          25,
          0,
          90,
          275,
          4,
          0,
          3,
          0,
          11,
          375,
          0,
          27,
          0,
          20,
          15,
          0,
          9,
          0,
          5,
          0,
          16,
          0,
          0,
          1,
          5,
          4,
          4,
          55,
          28,
          99,
          28,
          31,
          2,
          38
         ]
        },
        {
         "marker": {
          "color": [
           "rgb(180, 151, 231)",
           "rgb(246, 207, 113)",
           "rgb(220, 176, 242)",
           "rgb(201, 219, 116)",
           "rgb(248, 156, 116)",
           "rgb(158, 185, 243)",
           "rgb(102, 197, 204)",
           "rgb(179, 179, 179)",
           "rgb(201, 219, 116)",
           "rgb(254, 136, 177)",
           "rgb(139, 224, 164)",
           "rgb(102, 197, 204)",
           "rgb(254, 136, 177)",
           "rgb(158, 185, 243)",
           "rgb(220, 176, 242)",
           "rgb(135, 197, 95)",
           "rgb(248, 156, 116)",
           "rgb(201, 219, 116)",
           "rgb(135, 197, 95)",
           "rgb(246, 207, 113)",
           "rgb(220, 176, 242)",
           "rgb(248, 156, 116)",
           "rgb(135, 197, 95)",
           "rgb(139, 224, 164)",
           "rgb(179, 179, 179)",
           "rgb(180, 151, 231)",
           "rgb(158, 185, 243)",
           "rgb(180, 151, 231)",
           "rgb(254, 136, 177)",
           "rgb(102, 197, 204)",
           "rgb(139, 224, 164)",
           "rgb(135, 197, 95)",
           "rgb(102, 197, 204)",
           "rgb(246, 207, 113)",
           "rgb(179, 179, 179)",
           "rgb(248, 156, 116)",
           "rgb(246, 207, 113)"
          ]
         },
         "name": "PK",
         "type": "bar",
         "x": [
          "Alcohol",
          "Bakery",
          "Berry Fruit",
          "Cereal",
          "Cheese",
          "Chocolate",
          "Citrus Fruit",
          "Coffee",
          "Confectionery",
          "Dessert",
          "Fish",
          "Flower",
          "Fruit",
          "Hardshell",
          "Herb",
          "Meat",
          "Milk",
          "Nut",
          "Oils",
          "Other Dairy",
          "Other Flora",
          "Other Savoury",
          "Pasta",
          "Plant",
          "Poultry",
          "Process",
          "Rice",
          "Sauces",
          "Seed",
          "Sour",
          "Spice",
          "Sugar",
          "Sweet",
          "Syrup",
          "Tea",
          "Tree",
          "Vegetable"
         ],
         "y": [
          3,
          0,
          9,
          6,
          0,
          8,
          35,
          1,
          0,
          1,
          0,
          5,
          75,
          0,
          22,
          0,
          0,
          4,
          0,
          0,
          0,
          1,
          0,
          4,
          0,
          0,
          0,
          1,
          3,
          0,
          21,
          2,
          7,
          7,
          0,
          0,
          2
         ]
        },
        {
         "marker": {
          "color": [
           "rgb(180, 151, 231)",
           "rgb(246, 207, 113)",
           "rgb(220, 176, 242)",
           "rgb(201, 219, 116)",
           "rgb(248, 156, 116)",
           "rgb(158, 185, 243)",
           "rgb(102, 197, 204)",
           "rgb(179, 179, 179)",
           "rgb(201, 219, 116)",
           "rgb(254, 136, 177)",
           "rgb(139, 224, 164)",
           "rgb(102, 197, 204)",
           "rgb(254, 136, 177)",
           "rgb(158, 185, 243)",
           "rgb(220, 176, 242)",
           "rgb(135, 197, 95)",
           "rgb(248, 156, 116)",
           "rgb(201, 219, 116)",
           "rgb(135, 197, 95)",
           "rgb(246, 207, 113)",
           "rgb(220, 176, 242)",
           "rgb(248, 156, 116)",
           "rgb(135, 197, 95)",
           "rgb(139, 224, 164)",
           "rgb(179, 179, 179)",
           "rgb(180, 151, 231)",
           "rgb(158, 185, 243)",
           "rgb(180, 151, 231)",
           "rgb(254, 136, 177)",
           "rgb(102, 197, 204)",
           "rgb(139, 224, 164)",
           "rgb(135, 197, 95)",
           "rgb(102, 197, 204)",
           "rgb(246, 207, 113)",
           "rgb(179, 179, 179)",
           "rgb(248, 156, 116)",
           "rgb(246, 207, 113)"
          ]
         },
         "name": "PL",
         "type": "bar",
         "x": [
          "Alcohol",
          "Bakery",
          "Berry Fruit",
          "Cereal",
          "Cheese",
          "Chocolate",
          "Citrus Fruit",
          "Coffee",
          "Confectionery",
          "Dessert",
          "Fish",
          "Flower",
          "Fruit",
          "Hardshell",
          "Herb",
          "Meat",
          "Milk",
          "Nut",
          "Oils",
          "Other Dairy",
          "Other Flora",
          "Other Savoury",
          "Pasta",
          "Plant",
          "Poultry",
          "Process",
          "Rice",
          "Sauces",
          "Seed",
          "Sour",
          "Spice",
          "Sugar",
          "Sweet",
          "Syrup",
          "Tea",
          "Tree",
          "Vegetable"
         ],
         "y": [
          93,
          16,
          552,
          11,
          1,
          108,
          673,
          20,
          6,
          4,
          0,
          131,
          1328,
          0,
          317,
          0,
          8,
          47,
          0,
          14,
          6,
          13,
          0,
          84,
          0,
          8,
          0,
          3,
          42,
          12,
          287,
          38,
          162,
          55,
          80,
          29,
          214
         ]
        },
        {
         "marker": {
          "color": [
           "rgb(180, 151, 231)",
           "rgb(246, 207, 113)",
           "rgb(220, 176, 242)",
           "rgb(201, 219, 116)",
           "rgb(248, 156, 116)",
           "rgb(158, 185, 243)",
           "rgb(102, 197, 204)",
           "rgb(179, 179, 179)",
           "rgb(201, 219, 116)",
           "rgb(254, 136, 177)",
           "rgb(139, 224, 164)",
           "rgb(102, 197, 204)",
           "rgb(254, 136, 177)",
           "rgb(158, 185, 243)",
           "rgb(220, 176, 242)",
           "rgb(135, 197, 95)",
           "rgb(248, 156, 116)",
           "rgb(201, 219, 116)",
           "rgb(135, 197, 95)",
           "rgb(246, 207, 113)",
           "rgb(220, 176, 242)",
           "rgb(248, 156, 116)",
           "rgb(135, 197, 95)",
           "rgb(139, 224, 164)",
           "rgb(179, 179, 179)",
           "rgb(180, 151, 231)",
           "rgb(158, 185, 243)",
           "rgb(180, 151, 231)",
           "rgb(254, 136, 177)",
           "rgb(102, 197, 204)",
           "rgb(139, 224, 164)",
           "rgb(135, 197, 95)",
           "rgb(102, 197, 204)",
           "rgb(246, 207, 113)",
           "rgb(179, 179, 179)",
           "rgb(248, 156, 116)",
           "rgb(246, 207, 113)"
          ]
         },
         "name": "PR",
         "type": "bar",
         "x": [
          "Alcohol",
          "Bakery",
          "Berry Fruit",
          "Cereal",
          "Cheese",
          "Chocolate",
          "Citrus Fruit",
          "Coffee",
          "Confectionery",
          "Dessert",
          "Fish",
          "Flower",
          "Fruit",
          "Hardshell",
          "Herb",
          "Meat",
          "Milk",
          "Nut",
          "Oils",
          "Other Dairy",
          "Other Flora",
          "Other Savoury",
          "Pasta",
          "Plant",
          "Poultry",
          "Process",
          "Rice",
          "Sauces",
          "Seed",
          "Sour",
          "Spice",
          "Sugar",
          "Sweet",
          "Syrup",
          "Tea",
          "Tree",
          "Vegetable"
         ],
         "y": [
          23,
          0,
          108,
          6,
          0,
          22,
          173,
          4,
          0,
          1,
          0,
          5,
          343,
          0,
          10,
          0,
          0,
          13,
          0,
          2,
          0,
          3,
          0,
          6,
          0,
          0,
          0,
          0,
          1,
          1,
          25,
          1,
          118,
          5,
          12,
          0,
          20
         ]
        },
        {
         "marker": {
          "color": [
           "rgb(180, 151, 231)",
           "rgb(246, 207, 113)",
           "rgb(220, 176, 242)",
           "rgb(201, 219, 116)",
           "rgb(248, 156, 116)",
           "rgb(158, 185, 243)",
           "rgb(102, 197, 204)",
           "rgb(179, 179, 179)",
           "rgb(201, 219, 116)",
           "rgb(254, 136, 177)",
           "rgb(139, 224, 164)",
           "rgb(102, 197, 204)",
           "rgb(254, 136, 177)",
           "rgb(158, 185, 243)",
           "rgb(220, 176, 242)",
           "rgb(135, 197, 95)",
           "rgb(248, 156, 116)",
           "rgb(201, 219, 116)",
           "rgb(135, 197, 95)",
           "rgb(246, 207, 113)",
           "rgb(220, 176, 242)",
           "rgb(248, 156, 116)",
           "rgb(135, 197, 95)",
           "rgb(139, 224, 164)",
           "rgb(179, 179, 179)",
           "rgb(180, 151, 231)",
           "rgb(158, 185, 243)",
           "rgb(180, 151, 231)",
           "rgb(254, 136, 177)",
           "rgb(102, 197, 204)",
           "rgb(139, 224, 164)",
           "rgb(135, 197, 95)",
           "rgb(102, 197, 204)",
           "rgb(246, 207, 113)",
           "rgb(179, 179, 179)",
           "rgb(248, 156, 116)",
           "rgb(246, 207, 113)"
          ]
         },
         "name": "PT",
         "type": "bar",
         "x": [
          "Alcohol",
          "Bakery",
          "Berry Fruit",
          "Cereal",
          "Cheese",
          "Chocolate",
          "Citrus Fruit",
          "Coffee",
          "Confectionery",
          "Dessert",
          "Fish",
          "Flower",
          "Fruit",
          "Hardshell",
          "Herb",
          "Meat",
          "Milk",
          "Nut",
          "Oils",
          "Other Dairy",
          "Other Flora",
          "Other Savoury",
          "Pasta",
          "Plant",
          "Poultry",
          "Process",
          "Rice",
          "Sauces",
          "Seed",
          "Sour",
          "Spice",
          "Sugar",
          "Sweet",
          "Syrup",
          "Tea",
          "Tree",
          "Vegetable"
         ],
         "y": [
          12,
          3,
          83,
          8,
          0,
          23,
          144,
          2,
          3,
          2,
          0,
          21,
          243,
          0,
          60,
          0,
          3,
          15,
          0,
          4,
          2,
          2,
          0,
          22,
          0,
          3,
          0,
          1,
          7,
          3,
          71,
          3,
          52,
          5,
          12,
          15,
          36
         ]
        },
        {
         "marker": {
          "color": [
           "rgb(180, 151, 231)",
           "rgb(246, 207, 113)",
           "rgb(220, 176, 242)",
           "rgb(201, 219, 116)",
           "rgb(248, 156, 116)",
           "rgb(158, 185, 243)",
           "rgb(102, 197, 204)",
           "rgb(179, 179, 179)",
           "rgb(201, 219, 116)",
           "rgb(254, 136, 177)",
           "rgb(139, 224, 164)",
           "rgb(102, 197, 204)",
           "rgb(254, 136, 177)",
           "rgb(158, 185, 243)",
           "rgb(220, 176, 242)",
           "rgb(135, 197, 95)",
           "rgb(248, 156, 116)",
           "rgb(201, 219, 116)",
           "rgb(135, 197, 95)",
           "rgb(246, 207, 113)",
           "rgb(220, 176, 242)",
           "rgb(248, 156, 116)",
           "rgb(135, 197, 95)",
           "rgb(139, 224, 164)",
           "rgb(179, 179, 179)",
           "rgb(180, 151, 231)",
           "rgb(158, 185, 243)",
           "rgb(180, 151, 231)",
           "rgb(254, 136, 177)",
           "rgb(102, 197, 204)",
           "rgb(139, 224, 164)",
           "rgb(135, 197, 95)",
           "rgb(102, 197, 204)",
           "rgb(246, 207, 113)",
           "rgb(179, 179, 179)",
           "rgb(248, 156, 116)",
           "rgb(246, 207, 113)"
          ]
         },
         "name": "QA",
         "type": "bar",
         "x": [
          "Alcohol",
          "Bakery",
          "Berry Fruit",
          "Cereal",
          "Cheese",
          "Chocolate",
          "Citrus Fruit",
          "Coffee",
          "Confectionery",
          "Dessert",
          "Fish",
          "Flower",
          "Fruit",
          "Hardshell",
          "Herb",
          "Meat",
          "Milk",
          "Nut",
          "Oils",
          "Other Dairy",
          "Other Flora",
          "Other Savoury",
          "Pasta",
          "Plant",
          "Poultry",
          "Process",
          "Rice",
          "Sauces",
          "Seed",
          "Sour",
          "Spice",
          "Sugar",
          "Sweet",
          "Syrup",
          "Tea",
          "Tree",
          "Vegetable"
         ],
         "y": [
          3,
          0,
          22,
          11,
          0,
          13,
          30,
          0,
          0,
          2,
          0,
          3,
          97,
          0,
          6,
          0,
          1,
          4,
          0,
          1,
          0,
          0,
          0,
          1,
          0,
          0,
          0,
          0,
          3,
          0,
          9,
          6,
          9,
          0,
          0,
          0,
          0
         ]
        },
        {
         "marker": {
          "color": [
           "rgb(180, 151, 231)",
           "rgb(246, 207, 113)",
           "rgb(220, 176, 242)",
           "rgb(201, 219, 116)",
           "rgb(248, 156, 116)",
           "rgb(158, 185, 243)",
           "rgb(102, 197, 204)",
           "rgb(179, 179, 179)",
           "rgb(201, 219, 116)",
           "rgb(254, 136, 177)",
           "rgb(139, 224, 164)",
           "rgb(102, 197, 204)",
           "rgb(254, 136, 177)",
           "rgb(158, 185, 243)",
           "rgb(220, 176, 242)",
           "rgb(135, 197, 95)",
           "rgb(248, 156, 116)",
           "rgb(201, 219, 116)",
           "rgb(135, 197, 95)",
           "rgb(246, 207, 113)",
           "rgb(220, 176, 242)",
           "rgb(248, 156, 116)",
           "rgb(135, 197, 95)",
           "rgb(139, 224, 164)",
           "rgb(179, 179, 179)",
           "rgb(180, 151, 231)",
           "rgb(158, 185, 243)",
           "rgb(180, 151, 231)",
           "rgb(254, 136, 177)",
           "rgb(102, 197, 204)",
           "rgb(139, 224, 164)",
           "rgb(135, 197, 95)",
           "rgb(102, 197, 204)",
           "rgb(246, 207, 113)",
           "rgb(179, 179, 179)",
           "rgb(248, 156, 116)",
           "rgb(246, 207, 113)"
          ]
         },
         "name": "RO",
         "type": "bar",
         "x": [
          "Alcohol",
          "Bakery",
          "Berry Fruit",
          "Cereal",
          "Cheese",
          "Chocolate",
          "Citrus Fruit",
          "Coffee",
          "Confectionery",
          "Dessert",
          "Fish",
          "Flower",
          "Fruit",
          "Hardshell",
          "Herb",
          "Meat",
          "Milk",
          "Nut",
          "Oils",
          "Other Dairy",
          "Other Flora",
          "Other Savoury",
          "Pasta",
          "Plant",
          "Poultry",
          "Process",
          "Rice",
          "Sauces",
          "Seed",
          "Sour",
          "Spice",
          "Sugar",
          "Sweet",
          "Syrup",
          "Tea",
          "Tree",
          "Vegetable"
         ],
         "y": [
          28,
          4,
          99,
          1,
          0,
          34,
          134,
          9,
          0,
          1,
          0,
          23,
          219,
          0,
          43,
          0,
          4,
          7,
          0,
          13,
          0,
          7,
          0,
          17,
          0,
          0,
          0,
          1,
          2,
          0,
          42,
          6,
          54,
          9,
          9,
          9,
          29
         ]
        },
        {
         "marker": {
          "color": [
           "rgb(180, 151, 231)",
           "rgb(246, 207, 113)",
           "rgb(220, 176, 242)",
           "rgb(201, 219, 116)",
           "rgb(248, 156, 116)",
           "rgb(158, 185, 243)",
           "rgb(102, 197, 204)",
           "rgb(179, 179, 179)",
           "rgb(201, 219, 116)",
           "rgb(254, 136, 177)",
           "rgb(139, 224, 164)",
           "rgb(102, 197, 204)",
           "rgb(254, 136, 177)",
           "rgb(158, 185, 243)",
           "rgb(220, 176, 242)",
           "rgb(135, 197, 95)",
           "rgb(248, 156, 116)",
           "rgb(201, 219, 116)",
           "rgb(135, 197, 95)",
           "rgb(246, 207, 113)",
           "rgb(220, 176, 242)",
           "rgb(248, 156, 116)",
           "rgb(135, 197, 95)",
           "rgb(139, 224, 164)",
           "rgb(179, 179, 179)",
           "rgb(180, 151, 231)",
           "rgb(158, 185, 243)",
           "rgb(180, 151, 231)",
           "rgb(254, 136, 177)",
           "rgb(102, 197, 204)",
           "rgb(139, 224, 164)",
           "rgb(135, 197, 95)",
           "rgb(102, 197, 204)",
           "rgb(246, 207, 113)",
           "rgb(179, 179, 179)",
           "rgb(248, 156, 116)",
           "rgb(246, 207, 113)"
          ]
         },
         "name": "RS",
         "type": "bar",
         "x": [
          "Alcohol",
          "Bakery",
          "Berry Fruit",
          "Cereal",
          "Cheese",
          "Chocolate",
          "Citrus Fruit",
          "Coffee",
          "Confectionery",
          "Dessert",
          "Fish",
          "Flower",
          "Fruit",
          "Hardshell",
          "Herb",
          "Meat",
          "Milk",
          "Nut",
          "Oils",
          "Other Dairy",
          "Other Flora",
          "Other Savoury",
          "Pasta",
          "Plant",
          "Poultry",
          "Process",
          "Rice",
          "Sauces",
          "Seed",
          "Sour",
          "Spice",
          "Sugar",
          "Sweet",
          "Syrup",
          "Tea",
          "Tree",
          "Vegetable"
         ],
         "y": [
          8,
          1,
          30,
          1,
          0,
          10,
          52,
          2,
          1,
          2,
          0,
          9,
          90,
          0,
          23,
          0,
          0,
          1,
          0,
          0,
          0,
          0,
          0,
          8,
          0,
          0,
          0,
          0,
          1,
          0,
          20,
          7,
          23,
          2,
          0,
          4,
          6
         ]
        },
        {
         "marker": {
          "color": [
           "rgb(180, 151, 231)",
           "rgb(246, 207, 113)",
           "rgb(220, 176, 242)",
           "rgb(201, 219, 116)",
           "rgb(248, 156, 116)",
           "rgb(158, 185, 243)",
           "rgb(102, 197, 204)",
           "rgb(179, 179, 179)",
           "rgb(201, 219, 116)",
           "rgb(254, 136, 177)",
           "rgb(139, 224, 164)",
           "rgb(102, 197, 204)",
           "rgb(254, 136, 177)",
           "rgb(158, 185, 243)",
           "rgb(220, 176, 242)",
           "rgb(135, 197, 95)",
           "rgb(248, 156, 116)",
           "rgb(201, 219, 116)",
           "rgb(135, 197, 95)",
           "rgb(246, 207, 113)",
           "rgb(220, 176, 242)",
           "rgb(248, 156, 116)",
           "rgb(135, 197, 95)",
           "rgb(139, 224, 164)",
           "rgb(179, 179, 179)",
           "rgb(180, 151, 231)",
           "rgb(158, 185, 243)",
           "rgb(180, 151, 231)",
           "rgb(254, 136, 177)",
           "rgb(102, 197, 204)",
           "rgb(139, 224, 164)",
           "rgb(135, 197, 95)",
           "rgb(102, 197, 204)",
           "rgb(246, 207, 113)",
           "rgb(179, 179, 179)",
           "rgb(248, 156, 116)",
           "rgb(246, 207, 113)"
          ]
         },
         "name": "RU",
         "type": "bar",
         "x": [
          "Alcohol",
          "Bakery",
          "Berry Fruit",
          "Cereal",
          "Cheese",
          "Chocolate",
          "Citrus Fruit",
          "Coffee",
          "Confectionery",
          "Dessert",
          "Fish",
          "Flower",
          "Fruit",
          "Hardshell",
          "Herb",
          "Meat",
          "Milk",
          "Nut",
          "Oils",
          "Other Dairy",
          "Other Flora",
          "Other Savoury",
          "Pasta",
          "Plant",
          "Poultry",
          "Process",
          "Rice",
          "Sauces",
          "Seed",
          "Sour",
          "Spice",
          "Sugar",
          "Sweet",
          "Syrup",
          "Tea",
          "Tree",
          "Vegetable"
         ],
         "y": [
          19,
          3,
          164,
          11,
          0,
          17,
          188,
          4,
          4,
          1,
          0,
          41,
          331,
          0,
          107,
          0,
          4,
          15,
          0,
          7,
          2,
          5,
          0,
          30,
          0,
          0,
          0,
          0,
          9,
          0,
          87,
          8,
          48,
          19,
          20,
          6,
          40
         ]
        },
        {
         "marker": {
          "color": [
           "rgb(180, 151, 231)",
           "rgb(246, 207, 113)",
           "rgb(220, 176, 242)",
           "rgb(201, 219, 116)",
           "rgb(248, 156, 116)",
           "rgb(158, 185, 243)",
           "rgb(102, 197, 204)",
           "rgb(179, 179, 179)",
           "rgb(201, 219, 116)",
           "rgb(254, 136, 177)",
           "rgb(139, 224, 164)",
           "rgb(102, 197, 204)",
           "rgb(254, 136, 177)",
           "rgb(158, 185, 243)",
           "rgb(220, 176, 242)",
           "rgb(135, 197, 95)",
           "rgb(248, 156, 116)",
           "rgb(201, 219, 116)",
           "rgb(135, 197, 95)",
           "rgb(246, 207, 113)",
           "rgb(220, 176, 242)",
           "rgb(248, 156, 116)",
           "rgb(135, 197, 95)",
           "rgb(139, 224, 164)",
           "rgb(179, 179, 179)",
           "rgb(180, 151, 231)",
           "rgb(158, 185, 243)",
           "rgb(180, 151, 231)",
           "rgb(254, 136, 177)",
           "rgb(102, 197, 204)",
           "rgb(139, 224, 164)",
           "rgb(135, 197, 95)",
           "rgb(102, 197, 204)",
           "rgb(246, 207, 113)",
           "rgb(179, 179, 179)",
           "rgb(248, 156, 116)",
           "rgb(246, 207, 113)"
          ]
         },
         "name": "SA",
         "type": "bar",
         "x": [
          "Alcohol",
          "Bakery",
          "Berry Fruit",
          "Cereal",
          "Cheese",
          "Chocolate",
          "Citrus Fruit",
          "Coffee",
          "Confectionery",
          "Dessert",
          "Fish",
          "Flower",
          "Fruit",
          "Hardshell",
          "Herb",
          "Meat",
          "Milk",
          "Nut",
          "Oils",
          "Other Dairy",
          "Other Flora",
          "Other Savoury",
          "Pasta",
          "Plant",
          "Poultry",
          "Process",
          "Rice",
          "Sauces",
          "Seed",
          "Sour",
          "Spice",
          "Sugar",
          "Sweet",
          "Syrup",
          "Tea",
          "Tree",
          "Vegetable"
         ],
         "y": [
          6,
          2,
          44,
          18,
          0,
          21,
          73,
          0,
          2,
          1,
          0,
          11,
          189,
          0,
          21,
          0,
          4,
          9,
          0,
          0,
          0,
          2,
          0,
          0,
          0,
          0,
          0,
          0,
          7,
          0,
          52,
          9,
          23,
          2,
          0,
          2,
          7
         ]
        },
        {
         "marker": {
          "color": [
           "rgb(180, 151, 231)",
           "rgb(246, 207, 113)",
           "rgb(220, 176, 242)",
           "rgb(201, 219, 116)",
           "rgb(248, 156, 116)",
           "rgb(158, 185, 243)",
           "rgb(102, 197, 204)",
           "rgb(179, 179, 179)",
           "rgb(201, 219, 116)",
           "rgb(254, 136, 177)",
           "rgb(139, 224, 164)",
           "rgb(102, 197, 204)",
           "rgb(254, 136, 177)",
           "rgb(158, 185, 243)",
           "rgb(220, 176, 242)",
           "rgb(135, 197, 95)",
           "rgb(248, 156, 116)",
           "rgb(201, 219, 116)",
           "rgb(135, 197, 95)",
           "rgb(246, 207, 113)",
           "rgb(220, 176, 242)",
           "rgb(248, 156, 116)",
           "rgb(135, 197, 95)",
           "rgb(139, 224, 164)",
           "rgb(179, 179, 179)",
           "rgb(180, 151, 231)",
           "rgb(158, 185, 243)",
           "rgb(180, 151, 231)",
           "rgb(254, 136, 177)",
           "rgb(102, 197, 204)",
           "rgb(139, 224, 164)",
           "rgb(135, 197, 95)",
           "rgb(102, 197, 204)",
           "rgb(246, 207, 113)",
           "rgb(179, 179, 179)",
           "rgb(248, 156, 116)",
           "rgb(246, 207, 113)"
          ]
         },
         "name": "SE",
         "type": "bar",
         "x": [
          "Alcohol",
          "Bakery",
          "Berry Fruit",
          "Cereal",
          "Cheese",
          "Chocolate",
          "Citrus Fruit",
          "Coffee",
          "Confectionery",
          "Dessert",
          "Fish",
          "Flower",
          "Fruit",
          "Hardshell",
          "Herb",
          "Meat",
          "Milk",
          "Nut",
          "Oils",
          "Other Dairy",
          "Other Flora",
          "Other Savoury",
          "Pasta",
          "Plant",
          "Poultry",
          "Process",
          "Rice",
          "Sauces",
          "Seed",
          "Sour",
          "Spice",
          "Sugar",
          "Sweet",
          "Syrup",
          "Tea",
          "Tree",
          "Vegetable"
         ],
         "y": [
          28,
          6,
          202,
          5,
          0,
          44,
          256,
          12,
          10,
          4,
          0,
          36,
          420,
          0,
          69,
          0,
          6,
          17,
          0,
          6,
          4,
          5,
          0,
          25,
          0,
          6,
          2,
          1,
          12,
          6,
          189,
          17,
          73,
          8,
          31,
          28,
          85
         ]
        },
        {
         "marker": {
          "color": [
           "rgb(180, 151, 231)",
           "rgb(246, 207, 113)",
           "rgb(220, 176, 242)",
           "rgb(201, 219, 116)",
           "rgb(248, 156, 116)",
           "rgb(158, 185, 243)",
           "rgb(102, 197, 204)",
           "rgb(179, 179, 179)",
           "rgb(201, 219, 116)",
           "rgb(254, 136, 177)",
           "rgb(139, 224, 164)",
           "rgb(102, 197, 204)",
           "rgb(254, 136, 177)",
           "rgb(158, 185, 243)",
           "rgb(220, 176, 242)",
           "rgb(135, 197, 95)",
           "rgb(248, 156, 116)",
           "rgb(201, 219, 116)",
           "rgb(135, 197, 95)",
           "rgb(246, 207, 113)",
           "rgb(220, 176, 242)",
           "rgb(248, 156, 116)",
           "rgb(135, 197, 95)",
           "rgb(139, 224, 164)",
           "rgb(179, 179, 179)",
           "rgb(180, 151, 231)",
           "rgb(158, 185, 243)",
           "rgb(180, 151, 231)",
           "rgb(254, 136, 177)",
           "rgb(102, 197, 204)",
           "rgb(139, 224, 164)",
           "rgb(135, 197, 95)",
           "rgb(102, 197, 204)",
           "rgb(246, 207, 113)",
           "rgb(179, 179, 179)",
           "rgb(248, 156, 116)",
           "rgb(246, 207, 113)"
          ]
         },
         "name": "SG",
         "type": "bar",
         "x": [
          "Alcohol",
          "Bakery",
          "Berry Fruit",
          "Cereal",
          "Cheese",
          "Chocolate",
          "Citrus Fruit",
          "Coffee",
          "Confectionery",
          "Dessert",
          "Fish",
          "Flower",
          "Fruit",
          "Hardshell",
          "Herb",
          "Meat",
          "Milk",
          "Nut",
          "Oils",
          "Other Dairy",
          "Other Flora",
          "Other Savoury",
          "Pasta",
          "Plant",
          "Poultry",
          "Process",
          "Rice",
          "Sauces",
          "Seed",
          "Sour",
          "Spice",
          "Sugar",
          "Sweet",
          "Syrup",
          "Tea",
          "Tree",
          "Vegetable"
         ],
         "y": [
          5,
          1,
          72,
          38,
          1,
          51,
          114,
          3,
          4,
          5,
          0,
          62,
          240,
          0,
          56,
          0,
          7,
          29,
          0,
          2,
          2,
          11,
          0,
          29,
          1,
          8,
          8,
          3,
          10,
          0,
          70,
          23,
          44,
          22,
          18,
          2,
          34
         ]
        },
        {
         "marker": {
          "color": [
           "rgb(180, 151, 231)",
           "rgb(246, 207, 113)",
           "rgb(220, 176, 242)",
           "rgb(201, 219, 116)",
           "rgb(248, 156, 116)",
           "rgb(158, 185, 243)",
           "rgb(102, 197, 204)",
           "rgb(179, 179, 179)",
           "rgb(201, 219, 116)",
           "rgb(254, 136, 177)",
           "rgb(139, 224, 164)",
           "rgb(102, 197, 204)",
           "rgb(254, 136, 177)",
           "rgb(158, 185, 243)",
           "rgb(220, 176, 242)",
           "rgb(135, 197, 95)",
           "rgb(248, 156, 116)",
           "rgb(201, 219, 116)",
           "rgb(135, 197, 95)",
           "rgb(246, 207, 113)",
           "rgb(220, 176, 242)",
           "rgb(248, 156, 116)",
           "rgb(135, 197, 95)",
           "rgb(139, 224, 164)",
           "rgb(179, 179, 179)",
           "rgb(180, 151, 231)",
           "rgb(158, 185, 243)",
           "rgb(180, 151, 231)",
           "rgb(254, 136, 177)",
           "rgb(102, 197, 204)",
           "rgb(139, 224, 164)",
           "rgb(135, 197, 95)",
           "rgb(102, 197, 204)",
           "rgb(246, 207, 113)",
           "rgb(179, 179, 179)",
           "rgb(248, 156, 116)",
           "rgb(246, 207, 113)"
          ]
         },
         "name": "SI",
         "type": "bar",
         "x": [
          "Alcohol",
          "Bakery",
          "Berry Fruit",
          "Cereal",
          "Cheese",
          "Chocolate",
          "Citrus Fruit",
          "Coffee",
          "Confectionery",
          "Dessert",
          "Fish",
          "Flower",
          "Fruit",
          "Hardshell",
          "Herb",
          "Meat",
          "Milk",
          "Nut",
          "Oils",
          "Other Dairy",
          "Other Flora",
          "Other Savoury",
          "Pasta",
          "Plant",
          "Poultry",
          "Process",
          "Rice",
          "Sauces",
          "Seed",
          "Sour",
          "Spice",
          "Sugar",
          "Sweet",
          "Syrup",
          "Tea",
          "Tree",
          "Vegetable"
         ],
         "y": [
          3,
          1,
          33,
          0,
          0,
          5,
          67,
          2,
          1,
          1,
          0,
          10,
          76,
          0,
          31,
          0,
          0,
          4,
          0,
          0,
          1,
          0,
          0,
          8,
          0,
          0,
          0,
          0,
          1,
          0,
          19,
          3,
          11,
          1,
          4,
          1,
          5
         ]
        },
        {
         "marker": {
          "color": [
           "rgb(180, 151, 231)",
           "rgb(246, 207, 113)",
           "rgb(220, 176, 242)",
           "rgb(201, 219, 116)",
           "rgb(248, 156, 116)",
           "rgb(158, 185, 243)",
           "rgb(102, 197, 204)",
           "rgb(179, 179, 179)",
           "rgb(201, 219, 116)",
           "rgb(254, 136, 177)",
           "rgb(139, 224, 164)",
           "rgb(102, 197, 204)",
           "rgb(254, 136, 177)",
           "rgb(158, 185, 243)",
           "rgb(220, 176, 242)",
           "rgb(135, 197, 95)",
           "rgb(248, 156, 116)",
           "rgb(201, 219, 116)",
           "rgb(135, 197, 95)",
           "rgb(246, 207, 113)",
           "rgb(220, 176, 242)",
           "rgb(248, 156, 116)",
           "rgb(135, 197, 95)",
           "rgb(139, 224, 164)",
           "rgb(179, 179, 179)",
           "rgb(180, 151, 231)",
           "rgb(158, 185, 243)",
           "rgb(180, 151, 231)",
           "rgb(254, 136, 177)",
           "rgb(102, 197, 204)",
           "rgb(139, 224, 164)",
           "rgb(135, 197, 95)",
           "rgb(102, 197, 204)",
           "rgb(246, 207, 113)",
           "rgb(179, 179, 179)",
           "rgb(248, 156, 116)",
           "rgb(246, 207, 113)"
          ]
         },
         "name": "SK",
         "type": "bar",
         "x": [
          "Alcohol",
          "Bakery",
          "Berry Fruit",
          "Cereal",
          "Cheese",
          "Chocolate",
          "Citrus Fruit",
          "Coffee",
          "Confectionery",
          "Dessert",
          "Fish",
          "Flower",
          "Fruit",
          "Hardshell",
          "Herb",
          "Meat",
          "Milk",
          "Nut",
          "Oils",
          "Other Dairy",
          "Other Flora",
          "Other Savoury",
          "Pasta",
          "Plant",
          "Poultry",
          "Process",
          "Rice",
          "Sauces",
          "Seed",
          "Sour",
          "Spice",
          "Sugar",
          "Sweet",
          "Syrup",
          "Tea",
          "Tree",
          "Vegetable"
         ],
         "y": [
          25,
          2,
          143,
          1,
          0,
          22,
          171,
          4,
          0,
          2,
          0,
          37,
          278,
          0,
          83,
          0,
          1,
          15,
          1,
          1,
          1,
          3,
          0,
          27,
          0,
          1,
          0,
          0,
          7,
          1,
          86,
          9,
          55,
          8,
          11,
          7,
          29
         ]
        },
        {
         "marker": {
          "color": [
           "rgb(180, 151, 231)",
           "rgb(246, 207, 113)",
           "rgb(220, 176, 242)",
           "rgb(201, 219, 116)",
           "rgb(248, 156, 116)",
           "rgb(158, 185, 243)",
           "rgb(102, 197, 204)",
           "rgb(179, 179, 179)",
           "rgb(201, 219, 116)",
           "rgb(254, 136, 177)",
           "rgb(139, 224, 164)",
           "rgb(102, 197, 204)",
           "rgb(254, 136, 177)",
           "rgb(158, 185, 243)",
           "rgb(220, 176, 242)",
           "rgb(135, 197, 95)",
           "rgb(248, 156, 116)",
           "rgb(201, 219, 116)",
           "rgb(135, 197, 95)",
           "rgb(246, 207, 113)",
           "rgb(220, 176, 242)",
           "rgb(248, 156, 116)",
           "rgb(135, 197, 95)",
           "rgb(139, 224, 164)",
           "rgb(179, 179, 179)",
           "rgb(180, 151, 231)",
           "rgb(158, 185, 243)",
           "rgb(180, 151, 231)",
           "rgb(254, 136, 177)",
           "rgb(102, 197, 204)",
           "rgb(139, 224, 164)",
           "rgb(135, 197, 95)",
           "rgb(102, 197, 204)",
           "rgb(246, 207, 113)",
           "rgb(179, 179, 179)",
           "rgb(248, 156, 116)",
           "rgb(246, 207, 113)"
          ]
         },
         "name": "TH",
         "type": "bar",
         "x": [
          "Alcohol",
          "Bakery",
          "Berry Fruit",
          "Cereal",
          "Cheese",
          "Chocolate",
          "Citrus Fruit",
          "Coffee",
          "Confectionery",
          "Dessert",
          "Fish",
          "Flower",
          "Fruit",
          "Hardshell",
          "Herb",
          "Meat",
          "Milk",
          "Nut",
          "Oils",
          "Other Dairy",
          "Other Flora",
          "Other Savoury",
          "Pasta",
          "Plant",
          "Poultry",
          "Process",
          "Rice",
          "Sauces",
          "Seed",
          "Sour",
          "Spice",
          "Sugar",
          "Sweet",
          "Syrup",
          "Tea",
          "Tree",
          "Vegetable"
         ],
         "y": [
          37,
          2,
          219,
          83,
          0,
          116,
          380,
          10,
          5,
          13,
          0,
          122,
          675,
          0,
          88,
          0,
          20,
          40,
          0,
          20,
          3,
          21,
          0,
          90,
          4,
          7,
          18,
          7,
          45,
          0,
          141,
          37,
          153,
          102,
          44,
          8,
          121
         ]
        },
        {
         "marker": {
          "color": [
           "rgb(180, 151, 231)",
           "rgb(246, 207, 113)",
           "rgb(220, 176, 242)",
           "rgb(201, 219, 116)",
           "rgb(248, 156, 116)",
           "rgb(158, 185, 243)",
           "rgb(102, 197, 204)",
           "rgb(179, 179, 179)",
           "rgb(201, 219, 116)",
           "rgb(254, 136, 177)",
           "rgb(139, 224, 164)",
           "rgb(102, 197, 204)",
           "rgb(254, 136, 177)",
           "rgb(158, 185, 243)",
           "rgb(220, 176, 242)",
           "rgb(135, 197, 95)",
           "rgb(248, 156, 116)",
           "rgb(201, 219, 116)",
           "rgb(135, 197, 95)",
           "rgb(246, 207, 113)",
           "rgb(220, 176, 242)",
           "rgb(248, 156, 116)",
           "rgb(135, 197, 95)",
           "rgb(139, 224, 164)",
           "rgb(179, 179, 179)",
           "rgb(180, 151, 231)",
           "rgb(158, 185, 243)",
           "rgb(180, 151, 231)",
           "rgb(254, 136, 177)",
           "rgb(102, 197, 204)",
           "rgb(139, 224, 164)",
           "rgb(135, 197, 95)",
           "rgb(102, 197, 204)",
           "rgb(246, 207, 113)",
           "rgb(179, 179, 179)",
           "rgb(248, 156, 116)",
           "rgb(246, 207, 113)"
          ]
         },
         "name": "TN",
         "type": "bar",
         "x": [
          "Alcohol",
          "Bakery",
          "Berry Fruit",
          "Cereal",
          "Cheese",
          "Chocolate",
          "Citrus Fruit",
          "Coffee",
          "Confectionery",
          "Dessert",
          "Fish",
          "Flower",
          "Fruit",
          "Hardshell",
          "Herb",
          "Meat",
          "Milk",
          "Nut",
          "Oils",
          "Other Dairy",
          "Other Flora",
          "Other Savoury",
          "Pasta",
          "Plant",
          "Poultry",
          "Process",
          "Rice",
          "Sauces",
          "Seed",
          "Sour",
          "Spice",
          "Sugar",
          "Sweet",
          "Syrup",
          "Tea",
          "Tree",
          "Vegetable"
         ],
         "y": [
          14,
          0,
          19,
          1,
          0,
          14,
          43,
          0,
          0,
          0,
          0,
          7,
          77,
          0,
          24,
          0,
          2,
          1,
          0,
          0,
          0,
          1,
          0,
          4,
          0,
          0,
          0,
          0,
          1,
          0,
          19,
          2,
          7,
          2,
          1,
          0,
          7
         ]
        },
        {
         "marker": {
          "color": [
           "rgb(180, 151, 231)",
           "rgb(246, 207, 113)",
           "rgb(220, 176, 242)",
           "rgb(201, 219, 116)",
           "rgb(248, 156, 116)",
           "rgb(158, 185, 243)",
           "rgb(102, 197, 204)",
           "rgb(179, 179, 179)",
           "rgb(201, 219, 116)",
           "rgb(254, 136, 177)",
           "rgb(139, 224, 164)",
           "rgb(102, 197, 204)",
           "rgb(254, 136, 177)",
           "rgb(158, 185, 243)",
           "rgb(220, 176, 242)",
           "rgb(135, 197, 95)",
           "rgb(248, 156, 116)",
           "rgb(201, 219, 116)",
           "rgb(135, 197, 95)",
           "rgb(246, 207, 113)",
           "rgb(220, 176, 242)",
           "rgb(248, 156, 116)",
           "rgb(135, 197, 95)",
           "rgb(139, 224, 164)",
           "rgb(179, 179, 179)",
           "rgb(180, 151, 231)",
           "rgb(158, 185, 243)",
           "rgb(180, 151, 231)",
           "rgb(254, 136, 177)",
           "rgb(102, 197, 204)",
           "rgb(139, 224, 164)",
           "rgb(135, 197, 95)",
           "rgb(102, 197, 204)",
           "rgb(246, 207, 113)",
           "rgb(179, 179, 179)",
           "rgb(248, 156, 116)",
           "rgb(246, 207, 113)"
          ]
         },
         "name": "TR",
         "type": "bar",
         "x": [
          "Alcohol",
          "Bakery",
          "Berry Fruit",
          "Cereal",
          "Cheese",
          "Chocolate",
          "Citrus Fruit",
          "Coffee",
          "Confectionery",
          "Dessert",
          "Fish",
          "Flower",
          "Fruit",
          "Hardshell",
          "Herb",
          "Meat",
          "Milk",
          "Nut",
          "Oils",
          "Other Dairy",
          "Other Flora",
          "Other Savoury",
          "Pasta",
          "Plant",
          "Poultry",
          "Process",
          "Rice",
          "Sauces",
          "Seed",
          "Sour",
          "Spice",
          "Sugar",
          "Sweet",
          "Syrup",
          "Tea",
          "Tree",
          "Vegetable"
         ],
         "y": [
          10,
          0,
          57,
          4,
          0,
          29,
          128,
          1,
          1,
          2,
          0,
          17,
          258,
          0,
          84,
          0,
          5,
          10,
          0,
          0,
          0,
          1,
          0,
          7,
          0,
          1,
          0,
          1,
          5,
          3,
          144,
          7,
          53,
          6,
          2,
          13,
          36
         ]
        },
        {
         "marker": {
          "color": [
           "rgb(180, 151, 231)",
           "rgb(246, 207, 113)",
           "rgb(220, 176, 242)",
           "rgb(201, 219, 116)",
           "rgb(248, 156, 116)",
           "rgb(158, 185, 243)",
           "rgb(102, 197, 204)",
           "rgb(179, 179, 179)",
           "rgb(201, 219, 116)",
           "rgb(254, 136, 177)",
           "rgb(139, 224, 164)",
           "rgb(102, 197, 204)",
           "rgb(254, 136, 177)",
           "rgb(158, 185, 243)",
           "rgb(220, 176, 242)",
           "rgb(135, 197, 95)",
           "rgb(248, 156, 116)",
           "rgb(201, 219, 116)",
           "rgb(135, 197, 95)",
           "rgb(246, 207, 113)",
           "rgb(220, 176, 242)",
           "rgb(248, 156, 116)",
           "rgb(135, 197, 95)",
           "rgb(139, 224, 164)",
           "rgb(179, 179, 179)",
           "rgb(180, 151, 231)",
           "rgb(158, 185, 243)",
           "rgb(180, 151, 231)",
           "rgb(254, 136, 177)",
           "rgb(102, 197, 204)",
           "rgb(139, 224, 164)",
           "rgb(135, 197, 95)",
           "rgb(102, 197, 204)",
           "rgb(246, 207, 113)",
           "rgb(179, 179, 179)",
           "rgb(248, 156, 116)",
           "rgb(246, 207, 113)"
          ]
         },
         "name": "TW",
         "type": "bar",
         "x": [
          "Alcohol",
          "Bakery",
          "Berry Fruit",
          "Cereal",
          "Cheese",
          "Chocolate",
          "Citrus Fruit",
          "Coffee",
          "Confectionery",
          "Dessert",
          "Fish",
          "Flower",
          "Fruit",
          "Hardshell",
          "Herb",
          "Meat",
          "Milk",
          "Nut",
          "Oils",
          "Other Dairy",
          "Other Flora",
          "Other Savoury",
          "Pasta",
          "Plant",
          "Poultry",
          "Process",
          "Rice",
          "Sauces",
          "Seed",
          "Sour",
          "Spice",
          "Sugar",
          "Sweet",
          "Syrup",
          "Tea",
          "Tree",
          "Vegetable"
         ],
         "y": [
          16,
          2,
          74,
          76,
          0,
          59,
          202,
          11,
          1,
          4,
          0,
          70,
          376,
          0,
          49,
          0,
          32,
          59,
          0,
          13,
          4,
          8,
          0,
          18,
          0,
          18,
          15,
          46,
          21,
          12,
          56,
          48,
          51,
          47,
          26,
          4,
          84
         ]
        },
        {
         "marker": {
          "color": [
           "rgb(180, 151, 231)",
           "rgb(246, 207, 113)",
           "rgb(220, 176, 242)",
           "rgb(201, 219, 116)",
           "rgb(248, 156, 116)",
           "rgb(158, 185, 243)",
           "rgb(102, 197, 204)",
           "rgb(179, 179, 179)",
           "rgb(201, 219, 116)",
           "rgb(254, 136, 177)",
           "rgb(139, 224, 164)",
           "rgb(102, 197, 204)",
           "rgb(254, 136, 177)",
           "rgb(158, 185, 243)",
           "rgb(220, 176, 242)",
           "rgb(135, 197, 95)",
           "rgb(248, 156, 116)",
           "rgb(201, 219, 116)",
           "rgb(135, 197, 95)",
           "rgb(246, 207, 113)",
           "rgb(220, 176, 242)",
           "rgb(248, 156, 116)",
           "rgb(135, 197, 95)",
           "rgb(139, 224, 164)",
           "rgb(179, 179, 179)",
           "rgb(180, 151, 231)",
           "rgb(158, 185, 243)",
           "rgb(180, 151, 231)",
           "rgb(254, 136, 177)",
           "rgb(102, 197, 204)",
           "rgb(139, 224, 164)",
           "rgb(135, 197, 95)",
           "rgb(102, 197, 204)",
           "rgb(246, 207, 113)",
           "rgb(179, 179, 179)",
           "rgb(248, 156, 116)",
           "rgb(246, 207, 113)"
          ]
         },
         "name": "TZ",
         "type": "bar",
         "x": [
          "Alcohol",
          "Bakery",
          "Berry Fruit",
          "Cereal",
          "Cheese",
          "Chocolate",
          "Citrus Fruit",
          "Coffee",
          "Confectionery",
          "Dessert",
          "Fish",
          "Flower",
          "Fruit",
          "Hardshell",
          "Herb",
          "Meat",
          "Milk",
          "Nut",
          "Oils",
          "Other Dairy",
          "Other Flora",
          "Other Savoury",
          "Pasta",
          "Plant",
          "Poultry",
          "Process",
          "Rice",
          "Sauces",
          "Seed",
          "Sour",
          "Spice",
          "Sugar",
          "Sweet",
          "Syrup",
          "Tea",
          "Tree",
          "Vegetable"
         ],
         "y": [
          3,
          1,
          33,
          4,
          0,
          13,
          44,
          0,
          1,
          0,
          0,
          2,
          110,
          0,
          11,
          0,
          1,
          8,
          0,
          0,
          0,
          0,
          0,
          3,
          0,
          0,
          0,
          0,
          3,
          1,
          19,
          0,
          14,
          0,
          1,
          3,
          4
         ]
        },
        {
         "marker": {
          "color": [
           "rgb(180, 151, 231)",
           "rgb(246, 207, 113)",
           "rgb(220, 176, 242)",
           "rgb(201, 219, 116)",
           "rgb(248, 156, 116)",
           "rgb(158, 185, 243)",
           "rgb(102, 197, 204)",
           "rgb(179, 179, 179)",
           "rgb(201, 219, 116)",
           "rgb(254, 136, 177)",
           "rgb(139, 224, 164)",
           "rgb(102, 197, 204)",
           "rgb(254, 136, 177)",
           "rgb(158, 185, 243)",
           "rgb(220, 176, 242)",
           "rgb(135, 197, 95)",
           "rgb(248, 156, 116)",
           "rgb(201, 219, 116)",
           "rgb(135, 197, 95)",
           "rgb(246, 207, 113)",
           "rgb(220, 176, 242)",
           "rgb(248, 156, 116)",
           "rgb(135, 197, 95)",
           "rgb(139, 224, 164)",
           "rgb(179, 179, 179)",
           "rgb(180, 151, 231)",
           "rgb(158, 185, 243)",
           "rgb(180, 151, 231)",
           "rgb(254, 136, 177)",
           "rgb(102, 197, 204)",
           "rgb(139, 224, 164)",
           "rgb(135, 197, 95)",
           "rgb(102, 197, 204)",
           "rgb(246, 207, 113)",
           "rgb(179, 179, 179)",
           "rgb(248, 156, 116)",
           "rgb(246, 207, 113)"
          ]
         },
         "name": "UA",
         "type": "bar",
         "x": [
          "Alcohol",
          "Bakery",
          "Berry Fruit",
          "Cereal",
          "Cheese",
          "Chocolate",
          "Citrus Fruit",
          "Coffee",
          "Confectionery",
          "Dessert",
          "Fish",
          "Flower",
          "Fruit",
          "Hardshell",
          "Herb",
          "Meat",
          "Milk",
          "Nut",
          "Oils",
          "Other Dairy",
          "Other Flora",
          "Other Savoury",
          "Pasta",
          "Plant",
          "Poultry",
          "Process",
          "Rice",
          "Sauces",
          "Seed",
          "Sour",
          "Spice",
          "Sugar",
          "Sweet",
          "Syrup",
          "Tea",
          "Tree",
          "Vegetable"
         ],
         "y": [
          17,
          0,
          40,
          3,
          0,
          25,
          32,
          0,
          0,
          0,
          0,
          10,
          86,
          0,
          32,
          0,
          1,
          3,
          0,
          11,
          0,
          2,
          0,
          7,
          0,
          0,
          0,
          0,
          3,
          0,
          21,
          2,
          6,
          2,
          6,
          6,
          7
         ]
        },
        {
         "marker": {
          "color": [
           "rgb(180, 151, 231)",
           "rgb(246, 207, 113)",
           "rgb(220, 176, 242)",
           "rgb(201, 219, 116)",
           "rgb(248, 156, 116)",
           "rgb(158, 185, 243)",
           "rgb(102, 197, 204)",
           "rgb(179, 179, 179)",
           "rgb(201, 219, 116)",
           "rgb(254, 136, 177)",
           "rgb(139, 224, 164)",
           "rgb(102, 197, 204)",
           "rgb(254, 136, 177)",
           "rgb(158, 185, 243)",
           "rgb(220, 176, 242)",
           "rgb(135, 197, 95)",
           "rgb(248, 156, 116)",
           "rgb(201, 219, 116)",
           "rgb(135, 197, 95)",
           "rgb(246, 207, 113)",
           "rgb(220, 176, 242)",
           "rgb(248, 156, 116)",
           "rgb(135, 197, 95)",
           "rgb(139, 224, 164)",
           "rgb(179, 179, 179)",
           "rgb(180, 151, 231)",
           "rgb(158, 185, 243)",
           "rgb(180, 151, 231)",
           "rgb(254, 136, 177)",
           "rgb(102, 197, 204)",
           "rgb(139, 224, 164)",
           "rgb(135, 197, 95)",
           "rgb(102, 197, 204)",
           "rgb(246, 207, 113)",
           "rgb(179, 179, 179)",
           "rgb(248, 156, 116)",
           "rgb(246, 207, 113)"
          ]
         },
         "name": "US",
         "type": "bar",
         "x": [
          "Alcohol",
          "Bakery",
          "Berry Fruit",
          "Cereal",
          "Cheese",
          "Chocolate",
          "Citrus Fruit",
          "Coffee",
          "Confectionery",
          "Dessert",
          "Fish",
          "Flower",
          "Fruit",
          "Hardshell",
          "Herb",
          "Meat",
          "Milk",
          "Nut",
          "Oils",
          "Other Dairy",
          "Other Flora",
          "Other Savoury",
          "Pasta",
          "Plant",
          "Poultry",
          "Process",
          "Rice",
          "Sauces",
          "Seed",
          "Sour",
          "Spice",
          "Sugar",
          "Sweet",
          "Syrup",
          "Tea",
          "Tree",
          "Vegetable"
         ],
         "y": [
          440,
          105,
          1468,
          40,
          0,
          632,
          2119,
          120,
          80,
          68,
          0,
          271,
          2886,
          0,
          496,
          2,
          26,
          355,
          0,
          89,
          15,
          48,
          0,
          109,
          0,
          52,
          1,
          47,
          64,
          88,
          1291,
          288,
          1097,
          175,
          318,
          51,
          705
         ]
        },
        {
         "marker": {
          "color": [
           "rgb(180, 151, 231)",
           "rgb(246, 207, 113)",
           "rgb(220, 176, 242)",
           "rgb(201, 219, 116)",
           "rgb(248, 156, 116)",
           "rgb(158, 185, 243)",
           "rgb(102, 197, 204)",
           "rgb(179, 179, 179)",
           "rgb(201, 219, 116)",
           "rgb(254, 136, 177)",
           "rgb(139, 224, 164)",
           "rgb(102, 197, 204)",
           "rgb(254, 136, 177)",
           "rgb(158, 185, 243)",
           "rgb(220, 176, 242)",
           "rgb(135, 197, 95)",
           "rgb(248, 156, 116)",
           "rgb(201, 219, 116)",
           "rgb(135, 197, 95)",
           "rgb(246, 207, 113)",
           "rgb(220, 176, 242)",
           "rgb(248, 156, 116)",
           "rgb(135, 197, 95)",
           "rgb(139, 224, 164)",
           "rgb(179, 179, 179)",
           "rgb(180, 151, 231)",
           "rgb(158, 185, 243)",
           "rgb(180, 151, 231)",
           "rgb(254, 136, 177)",
           "rgb(102, 197, 204)",
           "rgb(139, 224, 164)",
           "rgb(135, 197, 95)",
           "rgb(102, 197, 204)",
           "rgb(246, 207, 113)",
           "rgb(179, 179, 179)",
           "rgb(248, 156, 116)",
           "rgb(246, 207, 113)"
          ]
         },
         "name": "VE",
         "type": "bar",
         "x": [
          "Alcohol",
          "Bakery",
          "Berry Fruit",
          "Cereal",
          "Cheese",
          "Chocolate",
          "Citrus Fruit",
          "Coffee",
          "Confectionery",
          "Dessert",
          "Fish",
          "Flower",
          "Fruit",
          "Hardshell",
          "Herb",
          "Meat",
          "Milk",
          "Nut",
          "Oils",
          "Other Dairy",
          "Other Flora",
          "Other Savoury",
          "Pasta",
          "Plant",
          "Poultry",
          "Process",
          "Rice",
          "Sauces",
          "Seed",
          "Sour",
          "Spice",
          "Sugar",
          "Sweet",
          "Syrup",
          "Tea",
          "Tree",
          "Vegetable"
         ],
         "y": [
          11,
          0,
          28,
          9,
          0,
          20,
          61,
          0,
          1,
          0,
          0,
          14,
          135,
          0,
          28,
          0,
          0,
          8,
          0,
          0,
          0,
          0,
          0,
          7,
          0,
          3,
          1,
          0,
          2,
          0,
          20,
          3,
          22,
          6,
          4,
          1,
          9
         ]
        },
        {
         "marker": {
          "color": [
           "rgb(180, 151, 231)",
           "rgb(246, 207, 113)",
           "rgb(220, 176, 242)",
           "rgb(201, 219, 116)",
           "rgb(248, 156, 116)",
           "rgb(158, 185, 243)",
           "rgb(102, 197, 204)",
           "rgb(179, 179, 179)",
           "rgb(201, 219, 116)",
           "rgb(254, 136, 177)",
           "rgb(139, 224, 164)",
           "rgb(102, 197, 204)",
           "rgb(254, 136, 177)",
           "rgb(158, 185, 243)",
           "rgb(220, 176, 242)",
           "rgb(135, 197, 95)",
           "rgb(248, 156, 116)",
           "rgb(201, 219, 116)",
           "rgb(135, 197, 95)",
           "rgb(246, 207, 113)",
           "rgb(220, 176, 242)",
           "rgb(248, 156, 116)",
           "rgb(135, 197, 95)",
           "rgb(139, 224, 164)",
           "rgb(179, 179, 179)",
           "rgb(180, 151, 231)",
           "rgb(158, 185, 243)",
           "rgb(180, 151, 231)",
           "rgb(254, 136, 177)",
           "rgb(102, 197, 204)",
           "rgb(139, 224, 164)",
           "rgb(135, 197, 95)",
           "rgb(102, 197, 204)",
           "rgb(246, 207, 113)",
           "rgb(179, 179, 179)",
           "rgb(248, 156, 116)",
           "rgb(246, 207, 113)"
          ]
         },
         "name": "VN",
         "type": "bar",
         "x": [
          "Alcohol",
          "Bakery",
          "Berry Fruit",
          "Cereal",
          "Cheese",
          "Chocolate",
          "Citrus Fruit",
          "Coffee",
          "Confectionery",
          "Dessert",
          "Fish",
          "Flower",
          "Fruit",
          "Hardshell",
          "Herb",
          "Meat",
          "Milk",
          "Nut",
          "Oils",
          "Other Dairy",
          "Other Flora",
          "Other Savoury",
          "Pasta",
          "Plant",
          "Poultry",
          "Process",
          "Rice",
          "Sauces",
          "Seed",
          "Sour",
          "Spice",
          "Sugar",
          "Sweet",
          "Syrup",
          "Tea",
          "Tree",
          "Vegetable"
         ],
         "y": [
          17,
          0,
          144,
          71,
          0,
          68,
          291,
          22,
          0,
          8,
          0,
          92,
          532,
          0,
          108,
          0,
          33,
          52,
          0,
          11,
          8,
          46,
          0,
          95,
          0,
          9,
          22,
          7,
          71,
          1,
          104,
          40,
          124,
          34,
          45,
          3,
          129
         ]
        },
        {
         "marker": {
          "color": [
           "rgb(180, 151, 231)",
           "rgb(246, 207, 113)",
           "rgb(220, 176, 242)",
           "rgb(201, 219, 116)",
           "rgb(248, 156, 116)",
           "rgb(158, 185, 243)",
           "rgb(102, 197, 204)",
           "rgb(179, 179, 179)",
           "rgb(201, 219, 116)",
           "rgb(254, 136, 177)",
           "rgb(139, 224, 164)",
           "rgb(102, 197, 204)",
           "rgb(254, 136, 177)",
           "rgb(158, 185, 243)",
           "rgb(220, 176, 242)",
           "rgb(135, 197, 95)",
           "rgb(248, 156, 116)",
           "rgb(201, 219, 116)",
           "rgb(135, 197, 95)",
           "rgb(246, 207, 113)",
           "rgb(220, 176, 242)",
           "rgb(248, 156, 116)",
           "rgb(135, 197, 95)",
           "rgb(139, 224, 164)",
           "rgb(179, 179, 179)",
           "rgb(180, 151, 231)",
           "rgb(158, 185, 243)",
           "rgb(180, 151, 231)",
           "rgb(254, 136, 177)",
           "rgb(102, 197, 204)",
           "rgb(139, 224, 164)",
           "rgb(135, 197, 95)",
           "rgb(102, 197, 204)",
           "rgb(246, 207, 113)",
           "rgb(179, 179, 179)",
           "rgb(248, 156, 116)",
           "rgb(246, 207, 113)"
          ]
         },
         "name": "ZA",
         "type": "bar",
         "x": [
          "Alcohol",
          "Bakery",
          "Berry Fruit",
          "Cereal",
          "Cheese",
          "Chocolate",
          "Citrus Fruit",
          "Coffee",
          "Confectionery",
          "Dessert",
          "Fish",
          "Flower",
          "Fruit",
          "Hardshell",
          "Herb",
          "Meat",
          "Milk",
          "Nut",
          "Oils",
          "Other Dairy",
          "Other Flora",
          "Other Savoury",
          "Pasta",
          "Plant",
          "Poultry",
          "Process",
          "Rice",
          "Sauces",
          "Seed",
          "Sour",
          "Spice",
          "Sugar",
          "Sweet",
          "Syrup",
          "Tea",
          "Tree",
          "Vegetable"
         ],
         "y": [
          72,
          17,
          320,
          18,
          0,
          151,
          420,
          19,
          9,
          15,
          0,
          71,
          838,
          0,
          128,
          2,
          24,
          65,
          0,
          55,
          3,
          10,
          0,
          54,
          0,
          3,
          1,
          5,
          25,
          10,
          317,
          46,
          184,
          22,
          80,
          34,
          158
         ]
        }
       ],
       "layout": {
        "barmode": "stack",
        "template": {
         "data": {
          "bar": [
           {
            "error_x": {
             "color": "#2a3f5f"
            },
            "error_y": {
             "color": "#2a3f5f"
            },
            "marker": {
             "line": {
              "color": "#E5ECF6",
              "width": 0.5
             },
             "pattern": {
              "fillmode": "overlay",
              "size": 10,
              "solidity": 0.2
             }
            },
            "type": "bar"
           }
          ],
          "barpolar": [
           {
            "marker": {
             "line": {
              "color": "#E5ECF6",
              "width": 0.5
             },
             "pattern": {
              "fillmode": "overlay",
              "size": 10,
              "solidity": 0.2
             }
            },
            "type": "barpolar"
           }
          ],
          "carpet": [
           {
            "aaxis": {
             "endlinecolor": "#2a3f5f",
             "gridcolor": "white",
             "linecolor": "white",
             "minorgridcolor": "white",
             "startlinecolor": "#2a3f5f"
            },
            "baxis": {
             "endlinecolor": "#2a3f5f",
             "gridcolor": "white",
             "linecolor": "white",
             "minorgridcolor": "white",
             "startlinecolor": "#2a3f5f"
            },
            "type": "carpet"
           }
          ],
          "choropleth": [
           {
            "colorbar": {
             "outlinewidth": 0,
             "ticks": ""
            },
            "type": "choropleth"
           }
          ],
          "contour": [
           {
            "colorbar": {
             "outlinewidth": 0,
             "ticks": ""
            },
            "colorscale": [
             [
              0,
              "#0d0887"
             ],
             [
              0.1111111111111111,
              "#46039f"
             ],
             [
              0.2222222222222222,
              "#7201a8"
             ],
             [
              0.3333333333333333,
              "#9c179e"
             ],
             [
              0.4444444444444444,
              "#bd3786"
             ],
             [
              0.5555555555555556,
              "#d8576b"
             ],
             [
              0.6666666666666666,
              "#ed7953"
             ],
             [
              0.7777777777777778,
              "#fb9f3a"
             ],
             [
              0.8888888888888888,
              "#fdca26"
             ],
             [
              1,
              "#f0f921"
             ]
            ],
            "type": "contour"
           }
          ],
          "contourcarpet": [
           {
            "colorbar": {
             "outlinewidth": 0,
             "ticks": ""
            },
            "type": "contourcarpet"
           }
          ],
          "heatmap": [
           {
            "colorbar": {
             "outlinewidth": 0,
             "ticks": ""
            },
            "colorscale": [
             [
              0,
              "#0d0887"
             ],
             [
              0.1111111111111111,
              "#46039f"
             ],
             [
              0.2222222222222222,
              "#7201a8"
             ],
             [
              0.3333333333333333,
              "#9c179e"
             ],
             [
              0.4444444444444444,
              "#bd3786"
             ],
             [
              0.5555555555555556,
              "#d8576b"
             ],
             [
              0.6666666666666666,
              "#ed7953"
             ],
             [
              0.7777777777777778,
              "#fb9f3a"
             ],
             [
              0.8888888888888888,
              "#fdca26"
             ],
             [
              1,
              "#f0f921"
             ]
            ],
            "type": "heatmap"
           }
          ],
          "heatmapgl": [
           {
            "colorbar": {
             "outlinewidth": 0,
             "ticks": ""
            },
            "colorscale": [
             [
              0,
              "#0d0887"
             ],
             [
              0.1111111111111111,
              "#46039f"
             ],
             [
              0.2222222222222222,
              "#7201a8"
             ],
             [
              0.3333333333333333,
              "#9c179e"
             ],
             [
              0.4444444444444444,
              "#bd3786"
             ],
             [
              0.5555555555555556,
              "#d8576b"
             ],
             [
              0.6666666666666666,
              "#ed7953"
             ],
             [
              0.7777777777777778,
              "#fb9f3a"
             ],
             [
              0.8888888888888888,
              "#fdca26"
             ],
             [
              1,
              "#f0f921"
             ]
            ],
            "type": "heatmapgl"
           }
          ],
          "histogram": [
           {
            "marker": {
             "pattern": {
              "fillmode": "overlay",
              "size": 10,
              "solidity": 0.2
             }
            },
            "type": "histogram"
           }
          ],
          "histogram2d": [
           {
            "colorbar": {
             "outlinewidth": 0,
             "ticks": ""
            },
            "colorscale": [
             [
              0,
              "#0d0887"
             ],
             [
              0.1111111111111111,
              "#46039f"
             ],
             [
              0.2222222222222222,
              "#7201a8"
             ],
             [
              0.3333333333333333,
              "#9c179e"
             ],
             [
              0.4444444444444444,
              "#bd3786"
             ],
             [
              0.5555555555555556,
              "#d8576b"
             ],
             [
              0.6666666666666666,
              "#ed7953"
             ],
             [
              0.7777777777777778,
              "#fb9f3a"
             ],
             [
              0.8888888888888888,
              "#fdca26"
             ],
             [
              1,
              "#f0f921"
             ]
            ],
            "type": "histogram2d"
           }
          ],
          "histogram2dcontour": [
           {
            "colorbar": {
             "outlinewidth": 0,
             "ticks": ""
            },
            "colorscale": [
             [
              0,
              "#0d0887"
             ],
             [
              0.1111111111111111,
              "#46039f"
             ],
             [
              0.2222222222222222,
              "#7201a8"
             ],
             [
              0.3333333333333333,
              "#9c179e"
             ],
             [
              0.4444444444444444,
              "#bd3786"
             ],
             [
              0.5555555555555556,
              "#d8576b"
             ],
             [
              0.6666666666666666,
              "#ed7953"
             ],
             [
              0.7777777777777778,
              "#fb9f3a"
             ],
             [
              0.8888888888888888,
              "#fdca26"
             ],
             [
              1,
              "#f0f921"
             ]
            ],
            "type": "histogram2dcontour"
           }
          ],
          "mesh3d": [
           {
            "colorbar": {
             "outlinewidth": 0,
             "ticks": ""
            },
            "type": "mesh3d"
           }
          ],
          "parcoords": [
           {
            "line": {
             "colorbar": {
              "outlinewidth": 0,
              "ticks": ""
             }
            },
            "type": "parcoords"
           }
          ],
          "pie": [
           {
            "automargin": true,
            "type": "pie"
           }
          ],
          "scatter": [
           {
            "fillpattern": {
             "fillmode": "overlay",
             "size": 10,
             "solidity": 0.2
            },
            "type": "scatter"
           }
          ],
          "scatter3d": [
           {
            "line": {
             "colorbar": {
              "outlinewidth": 0,
              "ticks": ""
             }
            },
            "marker": {
             "colorbar": {
              "outlinewidth": 0,
              "ticks": ""
             }
            },
            "type": "scatter3d"
           }
          ],
          "scattercarpet": [
           {
            "marker": {
             "colorbar": {
              "outlinewidth": 0,
              "ticks": ""
             }
            },
            "type": "scattercarpet"
           }
          ],
          "scattergeo": [
           {
            "marker": {
             "colorbar": {
              "outlinewidth": 0,
              "ticks": ""
             }
            },
            "type": "scattergeo"
           }
          ],
          "scattergl": [
           {
            "marker": {
             "colorbar": {
              "outlinewidth": 0,
              "ticks": ""
             }
            },
            "type": "scattergl"
           }
          ],
          "scattermapbox": [
           {
            "marker": {
             "colorbar": {
              "outlinewidth": 0,
              "ticks": ""
             }
            },
            "type": "scattermapbox"
           }
          ],
          "scatterpolar": [
           {
            "marker": {
             "colorbar": {
              "outlinewidth": 0,
              "ticks": ""
             }
            },
            "type": "scatterpolar"
           }
          ],
          "scatterpolargl": [
           {
            "marker": {
             "colorbar": {
              "outlinewidth": 0,
              "ticks": ""
             }
            },
            "type": "scatterpolargl"
           }
          ],
          "scatterternary": [
           {
            "marker": {
             "colorbar": {
              "outlinewidth": 0,
              "ticks": ""
             }
            },
            "type": "scatterternary"
           }
          ],
          "surface": [
           {
            "colorbar": {
             "outlinewidth": 0,
             "ticks": ""
            },
            "colorscale": [
             [
              0,
              "#0d0887"
             ],
             [
              0.1111111111111111,
              "#46039f"
             ],
             [
              0.2222222222222222,
              "#7201a8"
             ],
             [
              0.3333333333333333,
              "#9c179e"
             ],
             [
              0.4444444444444444,
              "#bd3786"
             ],
             [
              0.5555555555555556,
              "#d8576b"
             ],
             [
              0.6666666666666666,
              "#ed7953"
             ],
             [
              0.7777777777777778,
              "#fb9f3a"
             ],
             [
              0.8888888888888888,
              "#fdca26"
             ],
             [
              1,
              "#f0f921"
             ]
            ],
            "type": "surface"
           }
          ],
          "table": [
           {
            "cells": {
             "fill": {
              "color": "#EBF0F8"
             },
             "line": {
              "color": "white"
             }
            },
            "header": {
             "fill": {
              "color": "#C8D4E3"
             },
             "line": {
              "color": "white"
             }
            },
            "type": "table"
           }
          ]
         },
         "layout": {
          "annotationdefaults": {
           "arrowcolor": "#2a3f5f",
           "arrowhead": 0,
           "arrowwidth": 1
          },
          "autotypenumbers": "strict",
          "coloraxis": {
           "colorbar": {
            "outlinewidth": 0,
            "ticks": ""
           }
          },
          "colorscale": {
           "diverging": [
            [
             0,
             "#8e0152"
            ],
            [
             0.1,
             "#c51b7d"
            ],
            [
             0.2,
             "#de77ae"
            ],
            [
             0.3,
             "#f1b6da"
            ],
            [
             0.4,
             "#fde0ef"
            ],
            [
             0.5,
             "#f7f7f7"
            ],
            [
             0.6,
             "#e6f5d0"
            ],
            [
             0.7,
             "#b8e186"
            ],
            [
             0.8,
             "#7fbc41"
            ],
            [
             0.9,
             "#4d9221"
            ],
            [
             1,
             "#276419"
            ]
           ],
           "sequential": [
            [
             0,
             "#0d0887"
            ],
            [
             0.1111111111111111,
             "#46039f"
            ],
            [
             0.2222222222222222,
             "#7201a8"
            ],
            [
             0.3333333333333333,
             "#9c179e"
            ],
            [
             0.4444444444444444,
             "#bd3786"
            ],
            [
             0.5555555555555556,
             "#d8576b"
            ],
            [
             0.6666666666666666,
             "#ed7953"
            ],
            [
             0.7777777777777778,
             "#fb9f3a"
            ],
            [
             0.8888888888888888,
             "#fdca26"
            ],
            [
             1,
             "#f0f921"
            ]
           ],
           "sequentialminus": [
            [
             0,
             "#0d0887"
            ],
            [
             0.1111111111111111,
             "#46039f"
            ],
            [
             0.2222222222222222,
             "#7201a8"
            ],
            [
             0.3333333333333333,
             "#9c179e"
            ],
            [
             0.4444444444444444,
             "#bd3786"
            ],
            [
             0.5555555555555556,
             "#d8576b"
            ],
            [
             0.6666666666666666,
             "#ed7953"
            ],
            [
             0.7777777777777778,
             "#fb9f3a"
            ],
            [
             0.8888888888888888,
             "#fdca26"
            ],
            [
             1,
             "#f0f921"
            ]
           ]
          },
          "colorway": [
           "#636efa",
           "#EF553B",
           "#00cc96",
           "#ab63fa",
           "#FFA15A",
           "#19d3f3",
           "#FF6692",
           "#B6E880",
           "#FF97FF",
           "#FECB52"
          ],
          "font": {
           "color": "#2a3f5f"
          },
          "geo": {
           "bgcolor": "white",
           "lakecolor": "white",
           "landcolor": "#E5ECF6",
           "showlakes": true,
           "showland": true,
           "subunitcolor": "white"
          },
          "hoverlabel": {
           "align": "left"
          },
          "hovermode": "closest",
          "mapbox": {
           "style": "light"
          },
          "paper_bgcolor": "white",
          "plot_bgcolor": "#E5ECF6",
          "polar": {
           "angularaxis": {
            "gridcolor": "white",
            "linecolor": "white",
            "ticks": ""
           },
           "bgcolor": "#E5ECF6",
           "radialaxis": {
            "gridcolor": "white",
            "linecolor": "white",
            "ticks": ""
           }
          },
          "scene": {
           "xaxis": {
            "backgroundcolor": "#E5ECF6",
            "gridcolor": "white",
            "gridwidth": 2,
            "linecolor": "white",
            "showbackground": true,
            "ticks": "",
            "zerolinecolor": "white"
           },
           "yaxis": {
            "backgroundcolor": "#E5ECF6",
            "gridcolor": "white",
            "gridwidth": 2,
            "linecolor": "white",
            "showbackground": true,
            "ticks": "",
            "zerolinecolor": "white"
           },
           "zaxis": {
            "backgroundcolor": "#E5ECF6",
            "gridcolor": "white",
            "gridwidth": 2,
            "linecolor": "white",
            "showbackground": true,
            "ticks": "",
            "zerolinecolor": "white"
           }
          },
          "shapedefaults": {
           "line": {
            "color": "#2a3f5f"
           }
          },
          "ternary": {
           "aaxis": {
            "gridcolor": "white",
            "linecolor": "white",
            "ticks": ""
           },
           "baxis": {
            "gridcolor": "white",
            "linecolor": "white",
            "ticks": ""
           },
           "bgcolor": "#E5ECF6",
           "caxis": {
            "gridcolor": "white",
            "linecolor": "white",
            "ticks": ""
           }
          },
          "title": {
           "x": 0.05
          },
          "xaxis": {
           "automargin": true,
           "gridcolor": "white",
           "linecolor": "white",
           "ticks": "",
           "title": {
            "standoff": 15
           },
           "zerolinecolor": "white",
           "zerolinewidth": 2
          },
          "yaxis": {
           "automargin": true,
           "gridcolor": "white",
           "linecolor": "white",
           "ticks": "",
           "title": {
            "standoff": 15
           },
           "zerolinecolor": "white",
           "zerolinewidth": 2
          }
         }
        },
        "title": {
         "text": "Distribution of Flavor Categories for Each Country"
        },
        "xaxis": {
         "title": {
          "text": "Flavor Category"
         }
        },
        "yaxis": {
         "title": {
          "text": "Count"
         }
        }
       }
      }
     },
     "metadata": {},
     "output_type": "display_data"
    }
   ],
   "source": [
    "drink_data = f_merged[f_merged['supercat'] == 'Drink']\n",
    "\n",
    "# Group by cat and f_cat, and count the occurrences\n",
    "drink_cn_flavor_counts = drink_data.groupby(['c_id', 'f_cat'])['p_id'].count().unstack().fillna(0)\n",
    "\n",
    "# Create an interactive plot using Plotly\n",
    "fig = go.Figure()\n",
    "\n",
    "for c_id in drink_cn_flavor_counts.index:\n",
    "    fig.add_trace(go.Bar(\n",
    "        x=drink_cn_flavor_counts.columns,\n",
    "        y=drink_cn_flavor_counts.loc[c_id],\n",
    "        name=c_id,\n",
    "        marker_color=[color_mapping[f_cat] for f_cat in drink_cn_flavor_counts.columns]\n",
    "    ))\n",
    "\n",
    "fig.update_layout(\n",
    "    title='Distribution of Flavor Categories for Each Country',\n",
    "    xaxis_title='Flavor Category',\n",
    "    yaxis_title='Count',\n",
    "    barmode='stack'\n",
    ")\n",
    "\n",
    "fig.show()"
   ]
  },
  {
   "cell_type": "markdown",
   "metadata": {},
   "source": [
    "## num_prod by f_cat for each year_month"
   ]
  },
  {
   "cell_type": "code",
   "execution_count": 16,
   "metadata": {
    "vscode": {
     "languageId": "ruby"
    }
   },
   "outputs": [
    {
     "name": "stderr",
     "output_type": "stream",
     "text": [
      "c:\\Users\\voqua\\AppData\\Local\\Programs\\Python\\Python311\\Lib\\site-packages\\plotly\\graph_objs\\_deprecations.py:378: DeprecationWarning:\n",
      "\n",
      "plotly.graph_objs.Line is deprecated.\n",
      "Please replace it with one of the following more specific types\n",
      "  - plotly.graph_objs.scatter.Line\n",
      "  - plotly.graph_objs.layout.shape.Line\n",
      "  - etc.\n",
      "\n",
      "\n"
     ]
    },
    {
     "data": {
      "application/vnd.plotly.v1+json": {
       "config": {
        "plotlyServerURL": "https://plot.ly"
       },
       "data": [
        {
         "marker": {
          "color": "rgb(180, 151, 231)"
         },
         "name": "Alcohol",
         "type": "scatter",
         "x": [
          2015,
          2016,
          2017,
          2018,
          2019,
          2020,
          2021,
          2022,
          2023
         ],
         "y": [
          322,
          303,
          298,
          280,
          364,
          486,
          617,
          618,
          615
         ]
        },
        {
         "marker": {
          "color": "rgb(246, 207, 113)"
         },
         "name": "Bakery",
         "type": "scatter",
         "x": [
          2015,
          2016,
          2017,
          2018,
          2019,
          2020,
          2021,
          2022,
          2023
         ],
         "y": [
          46,
          61,
          43,
          50,
          66,
          70,
          75,
          59,
          71
         ]
        },
        {
         "marker": {
          "color": "rgb(220, 176, 242)"
         },
         "name": "Berry Fruit",
         "type": "scatter",
         "x": [
          2015,
          2016,
          2017,
          2018,
          2019,
          2020,
          2021,
          2022,
          2023
         ],
         "y": [
          1736,
          1656,
          1741,
          1755,
          1792,
          1803,
          1606,
          1552,
          1686
         ]
        },
        {
         "marker": {
          "color": "rgb(201, 219, 116)"
         },
         "name": "Cereal",
         "type": "scatter",
         "x": [
          2015,
          2016,
          2017,
          2018,
          2019,
          2020,
          2021,
          2022,
          2023
         ],
         "y": [
          176,
          201,
          214,
          237,
          254,
          229,
          237,
          252,
          247
         ]
        },
        {
         "marker": {
          "color": "rgb(248, 156, 116)"
         },
         "name": "Cheese",
         "type": "scatter",
         "x": [
          2015,
          2016,
          2017,
          2018,
          2019,
          2020,
          2021,
          2022,
          2023
         ],
         "y": [
          1,
          1,
          6,
          4,
          8,
          8,
          5,
          4,
          7
         ]
        },
        {
         "marker": {
          "color": "rgb(158, 185, 243)"
         },
         "name": "Chocolate",
         "type": "scatter",
         "x": [
          2015,
          2016,
          2017,
          2018,
          2019,
          2020,
          2021,
          2022,
          2023
         ],
         "y": [
          548,
          577,
          598,
          791,
          790,
          792,
          911,
          935,
          857
         ]
        },
        {
         "marker": {
          "color": "rgb(102, 197, 204)"
         },
         "name": "Citrus Fruit",
         "type": "scatter",
         "x": [
          2015,
          2016,
          2017,
          2018,
          2019,
          2020,
          2021,
          2022,
          2023
         ],
         "y": [
          2878,
          2933,
          2946,
          2916,
          2942,
          2846,
          2846,
          2910,
          2978
         ]
        },
        {
         "marker": {
          "color": "rgb(179, 179, 179)"
         },
         "name": "Coffee",
         "type": "scatter",
         "x": [
          2015,
          2016,
          2017,
          2018,
          2019,
          2020,
          2021,
          2022,
          2023
         ],
         "y": [
          72,
          87,
          86,
          114,
          116,
          130,
          129,
          137,
          126
         ]
        },
        {
         "marker": {
          "color": "rgb(201, 219, 116)"
         },
         "name": "Confectionery",
         "type": "scatter",
         "x": [
          2015,
          2016,
          2017,
          2018,
          2019,
          2020,
          2021,
          2022,
          2023
         ],
         "y": [
          39,
          44,
          61,
          55,
          73,
          80,
          59,
          76,
          104
         ]
        },
        {
         "marker": {
          "color": "rgb(254, 136, 177)"
         },
         "name": "Dessert",
         "type": "scatter",
         "x": [
          2015,
          2016,
          2017,
          2018,
          2019,
          2020,
          2021,
          2022,
          2023
         ],
         "y": [
          35,
          61,
          46,
          65,
          82,
          80,
          95,
          88,
          124
         ]
        },
        {
         "marker": {
          "color": "rgb(139, 224, 164)"
         },
         "name": "Fish",
         "type": "scatter",
         "x": [
          2015,
          2016,
          2017,
          2018,
          2019,
          2020,
          2021,
          2022,
          2023
         ],
         "y": [
          0,
          0,
          0,
          0,
          0,
          0,
          0,
          1,
          0
         ]
        },
        {
         "marker": {
          "color": "rgb(102, 197, 204)"
         },
         "name": "Flower",
         "type": "scatter",
         "x": [
          2015,
          2016,
          2017,
          2018,
          2019,
          2020,
          2021,
          2022,
          2023
         ],
         "y": [
          495,
          476,
          522,
          551,
          678,
          703,
          628,
          614,
          656
         ]
        },
        {
         "marker": {
          "color": "rgb(254, 136, 177)"
         },
         "name": "Fruit",
         "type": "scatter",
         "x": [
          2015,
          2016,
          2017,
          2018,
          2019,
          2020,
          2021,
          2022,
          2023
         ],
         "y": [
          4863,
          4898,
          4982,
          4843,
          4898,
          4768,
          4558,
          4599,
          4703
         ]
        },
        {
         "marker": {
          "color": "rgb(158, 185, 243)"
         },
         "name": "Hardshell",
         "type": "scatter",
         "x": [
          2015,
          2016,
          2017,
          2018,
          2019,
          2020,
          2021,
          2022,
          2023
         ],
         "y": [
          0,
          1,
          2,
          0,
          0,
          1,
          6,
          3,
          6
         ]
        },
        {
         "marker": {
          "color": "rgb(220, 176, 242)"
         },
         "name": "Herb",
         "type": "scatter",
         "x": [
          2015,
          2016,
          2017,
          2018,
          2019,
          2020,
          2021,
          2022,
          2023
         ],
         "y": [
          918,
          864,
          1001,
          1025,
          1041,
          1096,
          1051,
          1026,
          1036
         ]
        },
        {
         "marker": {
          "color": "rgb(135, 197, 95)"
         },
         "name": "Meat",
         "type": "scatter",
         "x": [
          2015,
          2016,
          2017,
          2018,
          2019,
          2020,
          2021,
          2022,
          2023
         ],
         "y": [
          0,
          3,
          1,
          3,
          1,
          1,
          0,
          2,
          0
         ]
        },
        {
         "marker": {
          "color": "rgb(248, 156, 116)"
         },
         "name": "Milk",
         "type": "scatter",
         "x": [
          2015,
          2016,
          2017,
          2018,
          2019,
          2020,
          2021,
          2022,
          2023
         ],
         "y": [
          46,
          73,
          81,
          73,
          97,
          89,
          99,
          70,
          84
         ]
        },
        {
         "marker": {
          "color": "rgb(201, 219, 116)"
         },
         "name": "Nut",
         "type": "scatter",
         "x": [
          2015,
          2016,
          2017,
          2018,
          2019,
          2020,
          2021,
          2022,
          2023
         ],
         "y": [
          286,
          316,
          282,
          319,
          347,
          347,
          374,
          346,
          362
         ]
        },
        {
         "marker": {
          "color": "rgb(135, 197, 95)"
         },
         "name": "Oils",
         "type": "scatter",
         "x": [
          2015,
          2016,
          2017,
          2018,
          2019,
          2020,
          2021,
          2022,
          2023
         ],
         "y": [
          0,
          2,
          1,
          0,
          0,
          0,
          1,
          1,
          1
         ]
        },
        {
         "marker": {
          "color": "rgb(246, 207, 113)"
         },
         "name": "Other Dairy",
         "type": "scatter",
         "x": [
          2015,
          2016,
          2017,
          2018,
          2019,
          2020,
          2021,
          2022,
          2023
         ],
         "y": [
          63,
          93,
          97,
          94,
          110,
          157,
          146,
          152,
          117
         ]
        },
        {
         "marker": {
          "color": "rgb(220, 176, 242)"
         },
         "name": "Other Flora",
         "type": "scatter",
         "x": [
          2015,
          2016,
          2017,
          2018,
          2019,
          2020,
          2021,
          2022,
          2023
         ],
         "y": [
          21,
          25,
          28,
          40,
          37,
          61,
          50,
          48,
          36
         ]
        },
        {
         "marker": {
          "color": "rgb(248, 156, 116)"
         },
         "name": "Other Savoury",
         "type": "scatter",
         "x": [
          2015,
          2016,
          2017,
          2018,
          2019,
          2020,
          2021,
          2022,
          2023
         ],
         "y": [
          44,
          64,
          76,
          71,
          74,
          68,
          74,
          92,
          86
         ]
        },
        {
         "marker": {
          "color": "rgb(135, 197, 95)"
         },
         "name": "Pasta",
         "type": "scatter",
         "x": [
          2015,
          2016,
          2017,
          2018,
          2019,
          2020,
          2021,
          2022,
          2023
         ],
         "y": [
          0,
          1,
          0,
          0,
          0,
          0,
          0,
          0,
          0
         ]
        },
        {
         "marker": {
          "color": "rgb(139, 224, 164)"
         },
         "name": "Plant",
         "type": "scatter",
         "x": [
          2015,
          2016,
          2017,
          2018,
          2019,
          2020,
          2021,
          2022,
          2023
         ],
         "y": [
          242,
          286,
          283,
          292,
          374,
          414,
          355,
          361,
          365
         ]
        },
        {
         "marker": {
          "color": "rgb(179, 179, 179)"
         },
         "name": "Poultry",
         "type": "scatter",
         "x": [
          2015,
          2016,
          2017,
          2018,
          2019,
          2020,
          2021,
          2022,
          2023
         ],
         "y": [
          1,
          2,
          0,
          0,
          0,
          0,
          2,
          2,
          1
         ]
        },
        {
         "marker": {
          "color": "rgb(180, 151, 231)"
         },
         "name": "Process",
         "type": "scatter",
         "x": [
          2015,
          2016,
          2017,
          2018,
          2019,
          2020,
          2021,
          2022,
          2023
         ],
         "y": [
          33,
          52,
          41,
          37,
          42,
          38,
          50,
          65,
          58
         ]
        },
        {
         "marker": {
          "color": "rgb(158, 185, 243)"
         },
         "name": "Rice",
         "type": "scatter",
         "x": [
          2015,
          2016,
          2017,
          2018,
          2019,
          2020,
          2021,
          2022,
          2023
         ],
         "y": [
          26,
          29,
          19,
          37,
          40,
          44,
          26,
          37,
          22
         ]
        },
        {
         "marker": {
          "color": "rgb(180, 151, 231)"
         },
         "name": "Sauces",
         "type": "scatter",
         "x": [
          2015,
          2016,
          2017,
          2018,
          2019,
          2020,
          2021,
          2022,
          2023
         ],
         "y": [
          63,
          60,
          80,
          44,
          44,
          44,
          37,
          28,
          38
         ]
        },
        {
         "marker": {
          "color": "rgb(254, 136, 177)"
         },
         "name": "Seed",
         "type": "scatter",
         "x": [
          2015,
          2016,
          2017,
          2018,
          2019,
          2020,
          2021,
          2022,
          2023
         ],
         "y": [
          147,
          173,
          202,
          200,
          194,
          177,
          117,
          127,
          136
         ]
        },
        {
         "marker": {
          "color": "rgb(102, 197, 204)"
         },
         "name": "Sour",
         "type": "scatter",
         "x": [
          2015,
          2016,
          2017,
          2018,
          2019,
          2020,
          2021,
          2022,
          2023
         ],
         "y": [
          29,
          42,
          42,
          42,
          56,
          68,
          63,
          62,
          68
         ]
        },
        {
         "marker": {
          "color": "rgb(139, 224, 164)"
         },
         "name": "Spice",
         "type": "scatter",
         "x": [
          2015,
          2016,
          2017,
          2018,
          2019,
          2020,
          2021,
          2022,
          2023
         ],
         "y": [
          1187,
          1202,
          1279,
          1539,
          1651,
          1833,
          1768,
          1648,
          1558
         ]
        },
        {
         "marker": {
          "color": "rgb(135, 197, 95)"
         },
         "name": "Sugar",
         "type": "scatter",
         "x": [
          2015,
          2016,
          2017,
          2018,
          2019,
          2020,
          2021,
          2022,
          2023
         ],
         "y": [
          200,
          179,
          191,
          202,
          257,
          253,
          390,
          357,
          344
         ]
        },
        {
         "marker": {
          "color": "rgb(102, 197, 204)"
         },
         "name": "Sweet",
         "type": "scatter",
         "x": [
          2015,
          2016,
          2017,
          2018,
          2019,
          2020,
          2021,
          2022,
          2023
         ],
         "y": [
          805,
          1074,
          984,
          1052,
          1068,
          900,
          934,
          934,
          967
         ]
        },
        {
         "marker": {
          "color": "rgb(246, 207, 113)"
         },
         "name": "Syrup",
         "type": "scatter",
         "x": [
          2015,
          2016,
          2017,
          2018,
          2019,
          2020,
          2021,
          2022,
          2023
         ],
         "y": [
          230,
          195,
          238,
          213,
          221,
          227,
          210,
          205,
          209
         ]
        },
        {
         "marker": {
          "color": "rgb(179, 179, 179)"
         },
         "name": "Tea",
         "type": "scatter",
         "x": [
          2015,
          2016,
          2017,
          2018,
          2019,
          2020,
          2021,
          2022,
          2023
         ],
         "y": [
          222,
          191,
          264,
          279,
          368,
          365,
          397,
          349,
          330
         ]
        },
        {
         "marker": {
          "color": "rgb(248, 156, 116)"
         },
         "name": "Tree",
         "type": "scatter",
         "x": [
          2015,
          2016,
          2017,
          2018,
          2019,
          2020,
          2021,
          2022,
          2023
         ],
         "y": [
          70,
          122,
          134,
          118,
          133,
          153,
          138,
          185,
          146
         ]
        },
        {
         "marker": {
          "color": "rgb(246, 207, 113)"
         },
         "name": "Vegetable",
         "type": "scatter",
         "x": [
          2015,
          2016,
          2017,
          2018,
          2019,
          2020,
          2021,
          2022,
          2023
         ],
         "y": [
          798,
          807,
          819,
          820,
          783,
          716,
          632,
          562,
          584
         ]
        }
       ],
       "layout": {
        "barmode": "stack",
        "template": {
         "data": {
          "bar": [
           {
            "error_x": {
             "color": "#2a3f5f"
            },
            "error_y": {
             "color": "#2a3f5f"
            },
            "marker": {
             "line": {
              "color": "#E5ECF6",
              "width": 0.5
             },
             "pattern": {
              "fillmode": "overlay",
              "size": 10,
              "solidity": 0.2
             }
            },
            "type": "bar"
           }
          ],
          "barpolar": [
           {
            "marker": {
             "line": {
              "color": "#E5ECF6",
              "width": 0.5
             },
             "pattern": {
              "fillmode": "overlay",
              "size": 10,
              "solidity": 0.2
             }
            },
            "type": "barpolar"
           }
          ],
          "carpet": [
           {
            "aaxis": {
             "endlinecolor": "#2a3f5f",
             "gridcolor": "white",
             "linecolor": "white",
             "minorgridcolor": "white",
             "startlinecolor": "#2a3f5f"
            },
            "baxis": {
             "endlinecolor": "#2a3f5f",
             "gridcolor": "white",
             "linecolor": "white",
             "minorgridcolor": "white",
             "startlinecolor": "#2a3f5f"
            },
            "type": "carpet"
           }
          ],
          "choropleth": [
           {
            "colorbar": {
             "outlinewidth": 0,
             "ticks": ""
            },
            "type": "choropleth"
           }
          ],
          "contour": [
           {
            "colorbar": {
             "outlinewidth": 0,
             "ticks": ""
            },
            "colorscale": [
             [
              0,
              "#0d0887"
             ],
             [
              0.1111111111111111,
              "#46039f"
             ],
             [
              0.2222222222222222,
              "#7201a8"
             ],
             [
              0.3333333333333333,
              "#9c179e"
             ],
             [
              0.4444444444444444,
              "#bd3786"
             ],
             [
              0.5555555555555556,
              "#d8576b"
             ],
             [
              0.6666666666666666,
              "#ed7953"
             ],
             [
              0.7777777777777778,
              "#fb9f3a"
             ],
             [
              0.8888888888888888,
              "#fdca26"
             ],
             [
              1,
              "#f0f921"
             ]
            ],
            "type": "contour"
           }
          ],
          "contourcarpet": [
           {
            "colorbar": {
             "outlinewidth": 0,
             "ticks": ""
            },
            "type": "contourcarpet"
           }
          ],
          "heatmap": [
           {
            "colorbar": {
             "outlinewidth": 0,
             "ticks": ""
            },
            "colorscale": [
             [
              0,
              "#0d0887"
             ],
             [
              0.1111111111111111,
              "#46039f"
             ],
             [
              0.2222222222222222,
              "#7201a8"
             ],
             [
              0.3333333333333333,
              "#9c179e"
             ],
             [
              0.4444444444444444,
              "#bd3786"
             ],
             [
              0.5555555555555556,
              "#d8576b"
             ],
             [
              0.6666666666666666,
              "#ed7953"
             ],
             [
              0.7777777777777778,
              "#fb9f3a"
             ],
             [
              0.8888888888888888,
              "#fdca26"
             ],
             [
              1,
              "#f0f921"
             ]
            ],
            "type": "heatmap"
           }
          ],
          "heatmapgl": [
           {
            "colorbar": {
             "outlinewidth": 0,
             "ticks": ""
            },
            "colorscale": [
             [
              0,
              "#0d0887"
             ],
             [
              0.1111111111111111,
              "#46039f"
             ],
             [
              0.2222222222222222,
              "#7201a8"
             ],
             [
              0.3333333333333333,
              "#9c179e"
             ],
             [
              0.4444444444444444,
              "#bd3786"
             ],
             [
              0.5555555555555556,
              "#d8576b"
             ],
             [
              0.6666666666666666,
              "#ed7953"
             ],
             [
              0.7777777777777778,
              "#fb9f3a"
             ],
             [
              0.8888888888888888,
              "#fdca26"
             ],
             [
              1,
              "#f0f921"
             ]
            ],
            "type": "heatmapgl"
           }
          ],
          "histogram": [
           {
            "marker": {
             "pattern": {
              "fillmode": "overlay",
              "size": 10,
              "solidity": 0.2
             }
            },
            "type": "histogram"
           }
          ],
          "histogram2d": [
           {
            "colorbar": {
             "outlinewidth": 0,
             "ticks": ""
            },
            "colorscale": [
             [
              0,
              "#0d0887"
             ],
             [
              0.1111111111111111,
              "#46039f"
             ],
             [
              0.2222222222222222,
              "#7201a8"
             ],
             [
              0.3333333333333333,
              "#9c179e"
             ],
             [
              0.4444444444444444,
              "#bd3786"
             ],
             [
              0.5555555555555556,
              "#d8576b"
             ],
             [
              0.6666666666666666,
              "#ed7953"
             ],
             [
              0.7777777777777778,
              "#fb9f3a"
             ],
             [
              0.8888888888888888,
              "#fdca26"
             ],
             [
              1,
              "#f0f921"
             ]
            ],
            "type": "histogram2d"
           }
          ],
          "histogram2dcontour": [
           {
            "colorbar": {
             "outlinewidth": 0,
             "ticks": ""
            },
            "colorscale": [
             [
              0,
              "#0d0887"
             ],
             [
              0.1111111111111111,
              "#46039f"
             ],
             [
              0.2222222222222222,
              "#7201a8"
             ],
             [
              0.3333333333333333,
              "#9c179e"
             ],
             [
              0.4444444444444444,
              "#bd3786"
             ],
             [
              0.5555555555555556,
              "#d8576b"
             ],
             [
              0.6666666666666666,
              "#ed7953"
             ],
             [
              0.7777777777777778,
              "#fb9f3a"
             ],
             [
              0.8888888888888888,
              "#fdca26"
             ],
             [
              1,
              "#f0f921"
             ]
            ],
            "type": "histogram2dcontour"
           }
          ],
          "mesh3d": [
           {
            "colorbar": {
             "outlinewidth": 0,
             "ticks": ""
            },
            "type": "mesh3d"
           }
          ],
          "parcoords": [
           {
            "line": {
             "colorbar": {
              "outlinewidth": 0,
              "ticks": ""
             }
            },
            "type": "parcoords"
           }
          ],
          "pie": [
           {
            "automargin": true,
            "type": "pie"
           }
          ],
          "scatter": [
           {
            "fillpattern": {
             "fillmode": "overlay",
             "size": 10,
             "solidity": 0.2
            },
            "type": "scatter"
           }
          ],
          "scatter3d": [
           {
            "line": {
             "colorbar": {
              "outlinewidth": 0,
              "ticks": ""
             }
            },
            "marker": {
             "colorbar": {
              "outlinewidth": 0,
              "ticks": ""
             }
            },
            "type": "scatter3d"
           }
          ],
          "scattercarpet": [
           {
            "marker": {
             "colorbar": {
              "outlinewidth": 0,
              "ticks": ""
             }
            },
            "type": "scattercarpet"
           }
          ],
          "scattergeo": [
           {
            "marker": {
             "colorbar": {
              "outlinewidth": 0,
              "ticks": ""
             }
            },
            "type": "scattergeo"
           }
          ],
          "scattergl": [
           {
            "marker": {
             "colorbar": {
              "outlinewidth": 0,
              "ticks": ""
             }
            },
            "type": "scattergl"
           }
          ],
          "scattermapbox": [
           {
            "marker": {
             "colorbar": {
              "outlinewidth": 0,
              "ticks": ""
             }
            },
            "type": "scattermapbox"
           }
          ],
          "scatterpolar": [
           {
            "marker": {
             "colorbar": {
              "outlinewidth": 0,
              "ticks": ""
             }
            },
            "type": "scatterpolar"
           }
          ],
          "scatterpolargl": [
           {
            "marker": {
             "colorbar": {
              "outlinewidth": 0,
              "ticks": ""
             }
            },
            "type": "scatterpolargl"
           }
          ],
          "scatterternary": [
           {
            "marker": {
             "colorbar": {
              "outlinewidth": 0,
              "ticks": ""
             }
            },
            "type": "scatterternary"
           }
          ],
          "surface": [
           {
            "colorbar": {
             "outlinewidth": 0,
             "ticks": ""
            },
            "colorscale": [
             [
              0,
              "#0d0887"
             ],
             [
              0.1111111111111111,
              "#46039f"
             ],
             [
              0.2222222222222222,
              "#7201a8"
             ],
             [
              0.3333333333333333,
              "#9c179e"
             ],
             [
              0.4444444444444444,
              "#bd3786"
             ],
             [
              0.5555555555555556,
              "#d8576b"
             ],
             [
              0.6666666666666666,
              "#ed7953"
             ],
             [
              0.7777777777777778,
              "#fb9f3a"
             ],
             [
              0.8888888888888888,
              "#fdca26"
             ],
             [
              1,
              "#f0f921"
             ]
            ],
            "type": "surface"
           }
          ],
          "table": [
           {
            "cells": {
             "fill": {
              "color": "#EBF0F8"
             },
             "line": {
              "color": "white"
             }
            },
            "header": {
             "fill": {
              "color": "#C8D4E3"
             },
             "line": {
              "color": "white"
             }
            },
            "type": "table"
           }
          ]
         },
         "layout": {
          "annotationdefaults": {
           "arrowcolor": "#2a3f5f",
           "arrowhead": 0,
           "arrowwidth": 1
          },
          "autotypenumbers": "strict",
          "coloraxis": {
           "colorbar": {
            "outlinewidth": 0,
            "ticks": ""
           }
          },
          "colorscale": {
           "diverging": [
            [
             0,
             "#8e0152"
            ],
            [
             0.1,
             "#c51b7d"
            ],
            [
             0.2,
             "#de77ae"
            ],
            [
             0.3,
             "#f1b6da"
            ],
            [
             0.4,
             "#fde0ef"
            ],
            [
             0.5,
             "#f7f7f7"
            ],
            [
             0.6,
             "#e6f5d0"
            ],
            [
             0.7,
             "#b8e186"
            ],
            [
             0.8,
             "#7fbc41"
            ],
            [
             0.9,
             "#4d9221"
            ],
            [
             1,
             "#276419"
            ]
           ],
           "sequential": [
            [
             0,
             "#0d0887"
            ],
            [
             0.1111111111111111,
             "#46039f"
            ],
            [
             0.2222222222222222,
             "#7201a8"
            ],
            [
             0.3333333333333333,
             "#9c179e"
            ],
            [
             0.4444444444444444,
             "#bd3786"
            ],
            [
             0.5555555555555556,
             "#d8576b"
            ],
            [
             0.6666666666666666,
             "#ed7953"
            ],
            [
             0.7777777777777778,
             "#fb9f3a"
            ],
            [
             0.8888888888888888,
             "#fdca26"
            ],
            [
             1,
             "#f0f921"
            ]
           ],
           "sequentialminus": [
            [
             0,
             "#0d0887"
            ],
            [
             0.1111111111111111,
             "#46039f"
            ],
            [
             0.2222222222222222,
             "#7201a8"
            ],
            [
             0.3333333333333333,
             "#9c179e"
            ],
            [
             0.4444444444444444,
             "#bd3786"
            ],
            [
             0.5555555555555556,
             "#d8576b"
            ],
            [
             0.6666666666666666,
             "#ed7953"
            ],
            [
             0.7777777777777778,
             "#fb9f3a"
            ],
            [
             0.8888888888888888,
             "#fdca26"
            ],
            [
             1,
             "#f0f921"
            ]
           ]
          },
          "colorway": [
           "#636efa",
           "#EF553B",
           "#00cc96",
           "#ab63fa",
           "#FFA15A",
           "#19d3f3",
           "#FF6692",
           "#B6E880",
           "#FF97FF",
           "#FECB52"
          ],
          "font": {
           "color": "#2a3f5f"
          },
          "geo": {
           "bgcolor": "white",
           "lakecolor": "white",
           "landcolor": "#E5ECF6",
           "showlakes": true,
           "showland": true,
           "subunitcolor": "white"
          },
          "hoverlabel": {
           "align": "left"
          },
          "hovermode": "closest",
          "mapbox": {
           "style": "light"
          },
          "paper_bgcolor": "white",
          "plot_bgcolor": "#E5ECF6",
          "polar": {
           "angularaxis": {
            "gridcolor": "white",
            "linecolor": "white",
            "ticks": ""
           },
           "bgcolor": "#E5ECF6",
           "radialaxis": {
            "gridcolor": "white",
            "linecolor": "white",
            "ticks": ""
           }
          },
          "scene": {
           "xaxis": {
            "backgroundcolor": "#E5ECF6",
            "gridcolor": "white",
            "gridwidth": 2,
            "linecolor": "white",
            "showbackground": true,
            "ticks": "",
            "zerolinecolor": "white"
           },
           "yaxis": {
            "backgroundcolor": "#E5ECF6",
            "gridcolor": "white",
            "gridwidth": 2,
            "linecolor": "white",
            "showbackground": true,
            "ticks": "",
            "zerolinecolor": "white"
           },
           "zaxis": {
            "backgroundcolor": "#E5ECF6",
            "gridcolor": "white",
            "gridwidth": 2,
            "linecolor": "white",
            "showbackground": true,
            "ticks": "",
            "zerolinecolor": "white"
           }
          },
          "shapedefaults": {
           "line": {
            "color": "#2a3f5f"
           }
          },
          "ternary": {
           "aaxis": {
            "gridcolor": "white",
            "linecolor": "white",
            "ticks": ""
           },
           "baxis": {
            "gridcolor": "white",
            "linecolor": "white",
            "ticks": ""
           },
           "bgcolor": "#E5ECF6",
           "caxis": {
            "gridcolor": "white",
            "linecolor": "white",
            "ticks": ""
           }
          },
          "title": {
           "x": 0.05
          },
          "xaxis": {
           "automargin": true,
           "gridcolor": "white",
           "linecolor": "white",
           "ticks": "",
           "title": {
            "standoff": 15
           },
           "zerolinecolor": "white",
           "zerolinewidth": 2
          },
          "yaxis": {
           "automargin": true,
           "gridcolor": "white",
           "linecolor": "white",
           "ticks": "",
           "title": {
            "standoff": 15
           },
           "zerolinecolor": "white",
           "zerolinewidth": 2
          }
         }
        },
        "title": {
         "text": "Distribution of Flavor Categories for Each Year"
        },
        "xaxis": {
         "title": {
          "text": "Year"
         }
        },
        "yaxis": {
         "title": {
          "text": "Count"
         }
        }
       }
      }
     },
     "metadata": {},
     "output_type": "display_data"
    }
   ],
   "source": [
    "f_merged['year'] = f_merged['date'].dt.year\n",
    "drink_data = f_merged[f_merged['supercat'] == 'Drink']\n",
    "\n",
    "# Group by year and f_cat, and count the occurrences\n",
    "drink_year_flavor_counts = drink_data.groupby(['year', 'f_cat'])['p_id'].count().unstack().fillna(0)\n",
    "\n",
    "# Create an interactive plot using Plotly\n",
    "fig = go.Figure()\n",
    "\n",
    "for f_cat in drink_year_flavor_counts.columns:\n",
    "    fig.add_trace(go.Line(\n",
    "        x=drink_year_flavor_counts.index,\n",
    "        y=drink_year_flavor_counts[f_cat],\n",
    "        name=f_cat,\n",
    "        marker_color=color_mapping[f_cat]\n",
    "    ))\n",
    "\n",
    "fig.update_layout(\n",
    "    title='Distribution of Flavor Categories for Each Year',\n",
    "    xaxis_title='Year',\n",
    "    yaxis_title='Count',\n",
    "    barmode='stack'\n",
    ")\n",
    "\n",
    "fig.show()"
   ]
  },
  {
   "cell_type": "code",
   "execution_count": 18,
   "metadata": {
    "vscode": {
     "languageId": "ruby"
    }
   },
   "outputs": [
    {
     "data": {
      "text/html": [
       "<div>\n",
       "<style scoped>\n",
       "    .dataframe tbody tr th:only-of-type {\n",
       "        vertical-align: middle;\n",
       "    }\n",
       "\n",
       "    .dataframe tbody tr th {\n",
       "        vertical-align: top;\n",
       "    }\n",
       "\n",
       "    .dataframe thead th {\n",
       "        text-align: right;\n",
       "    }\n",
       "</style>\n",
       "<table border=\"1\" class=\"dataframe\">\n",
       "  <thead>\n",
       "    <tr style=\"text-align: right;\">\n",
       "      <th></th>\n",
       "      <th>p_id</th>\n",
       "      <th>b_n</th>\n",
       "      <th>f_id</th>\n",
       "      <th>f_cat</th>\n",
       "      <th>c_id</th>\n",
       "      <th>supercat</th>\n",
       "      <th>cat</th>\n",
       "      <th>sub</th>\n",
       "      <th>date</th>\n",
       "      <th>month</th>\n",
       "      <th>name</th>\n",
       "      <th>region</th>\n",
       "      <th>year</th>\n",
       "    </tr>\n",
       "  </thead>\n",
       "  <tbody>\n",
       "    <tr>\n",
       "      <th>0</th>\n",
       "      <td>5472359</td>\n",
       "      <td>1</td>\n",
       "      <td>206</td>\n",
       "      <td>Citrus Fruit</td>\n",
       "      <td>BR</td>\n",
       "      <td>Drink</td>\n",
       "      <td>RTDs</td>\n",
       "      <td>RTD (Iced) Tea</td>\n",
       "      <td>2015-12-09</td>\n",
       "      <td>12</td>\n",
       "      <td>Brazil</td>\n",
       "      <td>Latin America</td>\n",
       "      <td>2015</td>\n",
       "    </tr>\n",
       "    <tr>\n",
       "      <th>1</th>\n",
       "      <td>11805033</td>\n",
       "      <td>1</td>\n",
       "      <td>1255</td>\n",
       "      <td>Other Dairy</td>\n",
       "      <td>JP</td>\n",
       "      <td>Food</td>\n",
       "      <td>Bakery</td>\n",
       "      <td>Cakes, Pastries &amp; Sweet Goods</td>\n",
       "      <td>2019-12-19</td>\n",
       "      <td>12</td>\n",
       "      <td>Japan</td>\n",
       "      <td>Asia Pacific</td>\n",
       "      <td>2019</td>\n",
       "    </tr>\n",
       "    <tr>\n",
       "      <th>2</th>\n",
       "      <td>13026795</td>\n",
       "      <td>1</td>\n",
       "      <td>8375</td>\n",
       "      <td>Other Savoury</td>\n",
       "      <td>FR</td>\n",
       "      <td>Food</td>\n",
       "      <td>Meals &amp; Meal Centers</td>\n",
       "      <td>Instant Noodles</td>\n",
       "      <td>2020-09-22</td>\n",
       "      <td>9</td>\n",
       "      <td>France</td>\n",
       "      <td>Europe</td>\n",
       "      <td>2020</td>\n",
       "    </tr>\n",
       "    <tr>\n",
       "      <th>3</th>\n",
       "      <td>11419655</td>\n",
       "      <td>1</td>\n",
       "      <td>29</td>\n",
       "      <td>Berry Fruit</td>\n",
       "      <td>GB</td>\n",
       "      <td>Food</td>\n",
       "      <td>Baby Food</td>\n",
       "      <td>Baby Fruit Products, Desserts &amp; Yogurts</td>\n",
       "      <td>2019-09-10</td>\n",
       "      <td>9</td>\n",
       "      <td>UK</td>\n",
       "      <td>Europe</td>\n",
       "      <td>2019</td>\n",
       "    </tr>\n",
       "    <tr>\n",
       "      <th>4</th>\n",
       "      <td>9911203</td>\n",
       "      <td>1</td>\n",
       "      <td>370</td>\n",
       "      <td>Sugar</td>\n",
       "      <td>DE</td>\n",
       "      <td>Food</td>\n",
       "      <td>Desserts &amp; Ice Cream</td>\n",
       "      <td>Water Based Ice Lollies, Pops &amp; Sorbets</td>\n",
       "      <td>2019-04-25</td>\n",
       "      <td>4</td>\n",
       "      <td>Germany</td>\n",
       "      <td>Europe</td>\n",
       "      <td>2019</td>\n",
       "    </tr>\n",
       "    <tr>\n",
       "      <th>...</th>\n",
       "      <td>...</td>\n",
       "      <td>...</td>\n",
       "      <td>...</td>\n",
       "      <td>...</td>\n",
       "      <td>...</td>\n",
       "      <td>...</td>\n",
       "      <td>...</td>\n",
       "      <td>...</td>\n",
       "      <td>...</td>\n",
       "      <td>...</td>\n",
       "      <td>...</td>\n",
       "      <td>...</td>\n",
       "      <td>...</td>\n",
       "    </tr>\n",
       "    <tr>\n",
       "      <th>1048570</th>\n",
       "      <td>16637428</td>\n",
       "      <td>1</td>\n",
       "      <td>303</td>\n",
       "      <td>Nut</td>\n",
       "      <td>CN</td>\n",
       "      <td>Food</td>\n",
       "      <td>Bakery</td>\n",
       "      <td>Cakes, Pastries &amp; Sweet Goods</td>\n",
       "      <td>2023-11-24</td>\n",
       "      <td>11</td>\n",
       "      <td>China</td>\n",
       "      <td>Asia Pacific</td>\n",
       "      <td>2023</td>\n",
       "    </tr>\n",
       "    <tr>\n",
       "      <th>1048571</th>\n",
       "      <td>14448936</td>\n",
       "      <td>1</td>\n",
       "      <td>303</td>\n",
       "      <td>Nut</td>\n",
       "      <td>JO</td>\n",
       "      <td>Food</td>\n",
       "      <td>Sugar &amp; Gum Confectionery</td>\n",
       "      <td>Other Sugar Confectionery</td>\n",
       "      <td>2021-12-16</td>\n",
       "      <td>12</td>\n",
       "      <td>Jordan</td>\n",
       "      <td>Middle East &amp; Africa</td>\n",
       "      <td>2021</td>\n",
       "    </tr>\n",
       "    <tr>\n",
       "      <th>1048572</th>\n",
       "      <td>5348093</td>\n",
       "      <td>1</td>\n",
       "      <td>291</td>\n",
       "      <td>Vegetable</td>\n",
       "      <td>CA</td>\n",
       "      <td>Food</td>\n",
       "      <td>Processed Fish, Meat &amp; Egg Products</td>\n",
       "      <td>Fish Products</td>\n",
       "      <td>2015-11-03</td>\n",
       "      <td>11</td>\n",
       "      <td>Canada</td>\n",
       "      <td>North America</td>\n",
       "      <td>2015</td>\n",
       "    </tr>\n",
       "    <tr>\n",
       "      <th>1048573</th>\n",
       "      <td>13431643</td>\n",
       "      <td>1</td>\n",
       "      <td>146</td>\n",
       "      <td>Other Dairy</td>\n",
       "      <td>BG</td>\n",
       "      <td>Drink</td>\n",
       "      <td>Alcoholic Beverages</td>\n",
       "      <td>Liqueur</td>\n",
       "      <td>2021-02-03</td>\n",
       "      <td>2</td>\n",
       "      <td>Bulgaria</td>\n",
       "      <td>Europe</td>\n",
       "      <td>2021</td>\n",
       "    </tr>\n",
       "    <tr>\n",
       "      <th>1048574</th>\n",
       "      <td>5974769</td>\n",
       "      <td>1</td>\n",
       "      <td>16</td>\n",
       "      <td>Herb</td>\n",
       "      <td>FR</td>\n",
       "      <td>Drink</td>\n",
       "      <td>Hot Beverages</td>\n",
       "      <td>Tea</td>\n",
       "      <td>2016-03-18</td>\n",
       "      <td>3</td>\n",
       "      <td>France</td>\n",
       "      <td>Europe</td>\n",
       "      <td>2016</td>\n",
       "    </tr>\n",
       "  </tbody>\n",
       "</table>\n",
       "<p>1048575 rows × 13 columns</p>\n",
       "</div>"
      ],
      "text/plain": [
       "             p_id  b_n  f_id          f_cat c_id supercat  \\\n",
       "0         5472359    1   206   Citrus Fruit   BR    Drink   \n",
       "1        11805033    1  1255    Other Dairy   JP     Food   \n",
       "2        13026795    1  8375  Other Savoury   FR     Food   \n",
       "3        11419655    1    29    Berry Fruit   GB     Food   \n",
       "4         9911203    1   370          Sugar   DE     Food   \n",
       "...           ...  ...   ...            ...  ...      ...   \n",
       "1048570  16637428    1   303            Nut   CN     Food   \n",
       "1048571  14448936    1   303            Nut   JO     Food   \n",
       "1048572   5348093    1   291      Vegetable   CA     Food   \n",
       "1048573  13431643    1   146    Other Dairy   BG    Drink   \n",
       "1048574   5974769    1    16           Herb   FR    Drink   \n",
       "\n",
       "                                         cat  \\\n",
       "0                                       RTDs   \n",
       "1                                     Bakery   \n",
       "2                       Meals & Meal Centers   \n",
       "3                                  Baby Food   \n",
       "4                       Desserts & Ice Cream   \n",
       "...                                      ...   \n",
       "1048570                               Bakery   \n",
       "1048571            Sugar & Gum Confectionery   \n",
       "1048572  Processed Fish, Meat & Egg Products   \n",
       "1048573                  Alcoholic Beverages   \n",
       "1048574                        Hot Beverages   \n",
       "\n",
       "                                             sub       date  month      name  \\\n",
       "0                                 RTD (Iced) Tea 2015-12-09     12    Brazil   \n",
       "1                  Cakes, Pastries & Sweet Goods 2019-12-19     12     Japan   \n",
       "2                                Instant Noodles 2020-09-22      9    France   \n",
       "3        Baby Fruit Products, Desserts & Yogurts 2019-09-10      9        UK   \n",
       "4        Water Based Ice Lollies, Pops & Sorbets 2019-04-25      4   Germany   \n",
       "...                                          ...        ...    ...       ...   \n",
       "1048570            Cakes, Pastries & Sweet Goods 2023-11-24     11     China   \n",
       "1048571                Other Sugar Confectionery 2021-12-16     12    Jordan   \n",
       "1048572                            Fish Products 2015-11-03     11    Canada   \n",
       "1048573                                  Liqueur 2021-02-03      2  Bulgaria   \n",
       "1048574                                      Tea 2016-03-18      3    France   \n",
       "\n",
       "                       region  year  \n",
       "0               Latin America  2015  \n",
       "1                Asia Pacific  2019  \n",
       "2                      Europe  2020  \n",
       "3                      Europe  2019  \n",
       "4                      Europe  2019  \n",
       "...                       ...   ...  \n",
       "1048570          Asia Pacific  2023  \n",
       "1048571  Middle East & Africa  2021  \n",
       "1048572         North America  2015  \n",
       "1048573                Europe  2021  \n",
       "1048574                Europe  2016  \n",
       "\n",
       "[1048575 rows x 13 columns]"
      ]
     },
     "execution_count": 18,
     "metadata": {},
     "output_type": "execute_result"
    }
   ],
   "source": [
    "f_merged"
   ]
  },
  {
   "cell_type": "code",
   "execution_count": 17,
   "metadata": {
    "vscode": {
     "languageId": "ruby"
    }
   },
   "outputs": [],
   "source": [
    "f_merged.to_pickle('f_merged.pkl')"
   ]
  },
  {
   "cell_type": "code",
   "execution_count": 30,
   "metadata": {
    "vscode": {
     "languageId": "ruby"
    }
   },
   "outputs": [
    {
     "data": {
      "text/html": [
       "<div>\n",
       "<style scoped>\n",
       "    .dataframe tbody tr th:only-of-type {\n",
       "        vertical-align: middle;\n",
       "    }\n",
       "\n",
       "    .dataframe tbody tr th {\n",
       "        vertical-align: top;\n",
       "    }\n",
       "\n",
       "    .dataframe thead th {\n",
       "        text-align: right;\n",
       "    }\n",
       "</style>\n",
       "<table border=\"1\" class=\"dataframe\">\n",
       "  <thead>\n",
       "    <tr style=\"text-align: right;\">\n",
       "      <th></th>\n",
       "      <th>p_id</th>\n",
       "      <th>b_n</th>\n",
       "      <th>f_id</th>\n",
       "      <th>f_cat</th>\n",
       "      <th>c_id</th>\n",
       "      <th>supercat</th>\n",
       "      <th>cat</th>\n",
       "      <th>sub</th>\n",
       "      <th>date</th>\n",
       "      <th>month</th>\n",
       "      <th>name</th>\n",
       "      <th>region</th>\n",
       "      <th>year</th>\n",
       "      <th>year_month</th>\n",
       "    </tr>\n",
       "  </thead>\n",
       "  <tbody>\n",
       "    <tr>\n",
       "      <th>0</th>\n",
       "      <td>5472359</td>\n",
       "      <td>1</td>\n",
       "      <td>206</td>\n",
       "      <td>Citrus Fruit</td>\n",
       "      <td>BR</td>\n",
       "      <td>Drink</td>\n",
       "      <td>RTDs</td>\n",
       "      <td>RTD (Iced) Tea</td>\n",
       "      <td>2015-12-09</td>\n",
       "      <td>12</td>\n",
       "      <td>Brazil</td>\n",
       "      <td>Latin America</td>\n",
       "      <td>2015</td>\n",
       "      <td>2015-12</td>\n",
       "    </tr>\n",
       "    <tr>\n",
       "      <th>7</th>\n",
       "      <td>7681219</td>\n",
       "      <td>1</td>\n",
       "      <td>118</td>\n",
       "      <td>Nut</td>\n",
       "      <td>PL</td>\n",
       "      <td>Drink</td>\n",
       "      <td>Nutritional Drinks &amp; Other Beverages</td>\n",
       "      <td>Nutritional &amp; Meal Replacement Drinks</td>\n",
       "      <td>2017-08-10</td>\n",
       "      <td>8</td>\n",
       "      <td>Poland</td>\n",
       "      <td>Europe</td>\n",
       "      <td>2017</td>\n",
       "      <td>2017-08</td>\n",
       "    </tr>\n",
       "    <tr>\n",
       "      <th>29</th>\n",
       "      <td>15876544</td>\n",
       "      <td>1</td>\n",
       "      <td>262</td>\n",
       "      <td>Citrus Fruit</td>\n",
       "      <td>BR</td>\n",
       "      <td>Drink</td>\n",
       "      <td>Juice Drinks</td>\n",
       "      <td>Juice</td>\n",
       "      <td>2023-03-24</td>\n",
       "      <td>3</td>\n",
       "      <td>Brazil</td>\n",
       "      <td>Latin America</td>\n",
       "      <td>2023</td>\n",
       "      <td>2023-03</td>\n",
       "    </tr>\n",
       "    <tr>\n",
       "      <th>33</th>\n",
       "      <td>7155991</td>\n",
       "      <td>1</td>\n",
       "      <td>397</td>\n",
       "      <td>Fruit</td>\n",
       "      <td>PH</td>\n",
       "      <td>Drink</td>\n",
       "      <td>Juice Drinks</td>\n",
       "      <td>Nectars</td>\n",
       "      <td>2017-03-08</td>\n",
       "      <td>3</td>\n",
       "      <td>Philippines</td>\n",
       "      <td>Asia Pacific</td>\n",
       "      <td>2017</td>\n",
       "      <td>2017-03</td>\n",
       "    </tr>\n",
       "    <tr>\n",
       "      <th>52</th>\n",
       "      <td>8698531</td>\n",
       "      <td>1</td>\n",
       "      <td>206</td>\n",
       "      <td>Citrus Fruit</td>\n",
       "      <td>AU</td>\n",
       "      <td>Drink</td>\n",
       "      <td>RTDs</td>\n",
       "      <td>RTD (Iced) Tea</td>\n",
       "      <td>2018-05-17</td>\n",
       "      <td>5</td>\n",
       "      <td>Australia</td>\n",
       "      <td>Asia Pacific</td>\n",
       "      <td>2018</td>\n",
       "      <td>2018-05</td>\n",
       "    </tr>\n",
       "    <tr>\n",
       "      <th>...</th>\n",
       "      <td>...</td>\n",
       "      <td>...</td>\n",
       "      <td>...</td>\n",
       "      <td>...</td>\n",
       "      <td>...</td>\n",
       "      <td>...</td>\n",
       "      <td>...</td>\n",
       "      <td>...</td>\n",
       "      <td>...</td>\n",
       "      <td>...</td>\n",
       "      <td>...</td>\n",
       "      <td>...</td>\n",
       "      <td>...</td>\n",
       "      <td>...</td>\n",
       "    </tr>\n",
       "    <tr>\n",
       "      <th>1048565</th>\n",
       "      <td>7521387</td>\n",
       "      <td>1</td>\n",
       "      <td>280</td>\n",
       "      <td>Fruit</td>\n",
       "      <td>CN</td>\n",
       "      <td>Drink</td>\n",
       "      <td>Carbonated Soft Drinks</td>\n",
       "      <td>Carbonated Soft Drinks</td>\n",
       "      <td>2017-06-26</td>\n",
       "      <td>6</td>\n",
       "      <td>China</td>\n",
       "      <td>Asia Pacific</td>\n",
       "      <td>2017</td>\n",
       "      <td>2017-06</td>\n",
       "    </tr>\n",
       "    <tr>\n",
       "      <th>1048566</th>\n",
       "      <td>13319639</td>\n",
       "      <td>1</td>\n",
       "      <td>339</td>\n",
       "      <td>Flower</td>\n",
       "      <td>CN</td>\n",
       "      <td>Drink</td>\n",
       "      <td>Hot Beverages</td>\n",
       "      <td>Tea</td>\n",
       "      <td>2020-12-15</td>\n",
       "      <td>12</td>\n",
       "      <td>China</td>\n",
       "      <td>Asia Pacific</td>\n",
       "      <td>2020</td>\n",
       "      <td>2020-12</td>\n",
       "    </tr>\n",
       "    <tr>\n",
       "      <th>1048568</th>\n",
       "      <td>14924970</td>\n",
       "      <td>3</td>\n",
       "      <td>225</td>\n",
       "      <td>Fruit</td>\n",
       "      <td>US</td>\n",
       "      <td>Drink</td>\n",
       "      <td>Alcoholic Beverages</td>\n",
       "      <td>Flavoured Alcoholic Beverages</td>\n",
       "      <td>2022-05-26</td>\n",
       "      <td>5</td>\n",
       "      <td>USA</td>\n",
       "      <td>North America</td>\n",
       "      <td>2022</td>\n",
       "      <td>2022-05</td>\n",
       "    </tr>\n",
       "    <tr>\n",
       "      <th>1048573</th>\n",
       "      <td>13431643</td>\n",
       "      <td>1</td>\n",
       "      <td>146</td>\n",
       "      <td>Other Dairy</td>\n",
       "      <td>BG</td>\n",
       "      <td>Drink</td>\n",
       "      <td>Alcoholic Beverages</td>\n",
       "      <td>Liqueur</td>\n",
       "      <td>2021-02-03</td>\n",
       "      <td>2</td>\n",
       "      <td>Bulgaria</td>\n",
       "      <td>Europe</td>\n",
       "      <td>2021</td>\n",
       "      <td>2021-02</td>\n",
       "    </tr>\n",
       "    <tr>\n",
       "      <th>1048574</th>\n",
       "      <td>5974769</td>\n",
       "      <td>1</td>\n",
       "      <td>16</td>\n",
       "      <td>Herb</td>\n",
       "      <td>FR</td>\n",
       "      <td>Drink</td>\n",
       "      <td>Hot Beverages</td>\n",
       "      <td>Tea</td>\n",
       "      <td>2016-03-18</td>\n",
       "      <td>3</td>\n",
       "      <td>France</td>\n",
       "      <td>Europe</td>\n",
       "      <td>2016</td>\n",
       "      <td>2016-03</td>\n",
       "    </tr>\n",
       "  </tbody>\n",
       "</table>\n",
       "<p>163621 rows × 14 columns</p>\n",
       "</div>"
      ],
      "text/plain": [
       "             p_id  b_n  f_id         f_cat c_id supercat  \\\n",
       "0         5472359    1   206  Citrus Fruit   BR    Drink   \n",
       "7         7681219    1   118           Nut   PL    Drink   \n",
       "29       15876544    1   262  Citrus Fruit   BR    Drink   \n",
       "33        7155991    1   397         Fruit   PH    Drink   \n",
       "52        8698531    1   206  Citrus Fruit   AU    Drink   \n",
       "...           ...  ...   ...           ...  ...      ...   \n",
       "1048565   7521387    1   280         Fruit   CN    Drink   \n",
       "1048566  13319639    1   339        Flower   CN    Drink   \n",
       "1048568  14924970    3   225         Fruit   US    Drink   \n",
       "1048573  13431643    1   146   Other Dairy   BG    Drink   \n",
       "1048574   5974769    1    16          Herb   FR    Drink   \n",
       "\n",
       "                                          cat  \\\n",
       "0                                        RTDs   \n",
       "7        Nutritional Drinks & Other Beverages   \n",
       "29                               Juice Drinks   \n",
       "33                               Juice Drinks   \n",
       "52                                       RTDs   \n",
       "...                                       ...   \n",
       "1048565                Carbonated Soft Drinks   \n",
       "1048566                         Hot Beverages   \n",
       "1048568                   Alcoholic Beverages   \n",
       "1048573                   Alcoholic Beverages   \n",
       "1048574                         Hot Beverages   \n",
       "\n",
       "                                           sub       date  month         name  \\\n",
       "0                               RTD (Iced) Tea 2015-12-09     12       Brazil   \n",
       "7        Nutritional & Meal Replacement Drinks 2017-08-10      8       Poland   \n",
       "29                                       Juice 2023-03-24      3       Brazil   \n",
       "33                                     Nectars 2017-03-08      3  Philippines   \n",
       "52                              RTD (Iced) Tea 2018-05-17      5    Australia   \n",
       "...                                        ...        ...    ...          ...   \n",
       "1048565                 Carbonated Soft Drinks 2017-06-26      6        China   \n",
       "1048566                                    Tea 2020-12-15     12        China   \n",
       "1048568          Flavoured Alcoholic Beverages 2022-05-26      5          USA   \n",
       "1048573                                Liqueur 2021-02-03      2     Bulgaria   \n",
       "1048574                                    Tea 2016-03-18      3       France   \n",
       "\n",
       "                region  year year_month  \n",
       "0        Latin America  2015    2015-12  \n",
       "7               Europe  2017    2017-08  \n",
       "29       Latin America  2023    2023-03  \n",
       "33        Asia Pacific  2017    2017-03  \n",
       "52        Asia Pacific  2018    2018-05  \n",
       "...                ...   ...        ...  \n",
       "1048565   Asia Pacific  2017    2017-06  \n",
       "1048566   Asia Pacific  2020    2020-12  \n",
       "1048568  North America  2022    2022-05  \n",
       "1048573         Europe  2021    2021-02  \n",
       "1048574         Europe  2016    2016-03  \n",
       "\n",
       "[163621 rows x 14 columns]"
      ]
     },
     "execution_count": 30,
     "metadata": {},
     "output_type": "execute_result"
    }
   ],
   "source": [
    "drink_data"
   ]
  }
 ],
 "metadata": {
  "kernelspec": {
   "display_name": "Python 3",
   "language": "python",
   "name": "python3"
  },
  "language_info": {
   "codemirror_mode": {
    "name": "ipython",
    "version": 3
   },
   "file_extension": ".py",
   "mimetype": "text/x-python",
   "name": "python",
   "nbconvert_exporter": "python",
   "pygments_lexer": "ipython3",
   "version": "3.11.9"
  }
 },
 "nbformat": 4,
 "nbformat_minor": 2
}
