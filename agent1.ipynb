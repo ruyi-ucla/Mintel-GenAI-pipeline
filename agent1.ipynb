{
 "cells": [
  {
   "cell_type": "code",
   "execution_count": 1,
   "metadata": {},
   "outputs": [
    {
     "data": {
      "text/html": [
       "<div>\n",
       "<style scoped>\n",
       "    .dataframe tbody tr th:only-of-type {\n",
       "        vertical-align: middle;\n",
       "    }\n",
       "\n",
       "    .dataframe tbody tr th {\n",
       "        vertical-align: top;\n",
       "    }\n",
       "\n",
       "    .dataframe thead th {\n",
       "        text-align: right;\n",
       "    }\n",
       "</style>\n",
       "<table border=\"1\" class=\"dataframe\">\n",
       "  <thead>\n",
       "    <tr style=\"text-align: right;\">\n",
       "      <th></th>\n",
       "      <th>year</th>\n",
       "      <th>month</th>\n",
       "      <th>region</th>\n",
       "      <th>country</th>\n",
       "      <th>product_super_category</th>\n",
       "      <th>product_category</th>\n",
       "      <th>flavor_category</th>\n",
       "      <th>num_product</th>\n",
       "      <th>num_product_category</th>\n",
       "      <th>prevalence_flavor</th>\n",
       "      <th>text</th>\n",
       "    </tr>\n",
       "  </thead>\n",
       "  <tbody>\n",
       "    <tr>\n",
       "      <th>437906</th>\n",
       "      <td>2023</td>\n",
       "      <td>Jan</td>\n",
       "      <td>Asia Pacific</td>\n",
       "      <td>AU</td>\n",
       "      <td>Drink</td>\n",
       "      <td>Alcoholic Beverages</td>\n",
       "      <td>Alcohol</td>\n",
       "      <td>1.0</td>\n",
       "      <td>18.0</td>\n",
       "      <td>0.055556</td>\n",
       "      <td>This flavor Alcohol appears in 1.0 product cat...</td>\n",
       "    </tr>\n",
       "    <tr>\n",
       "      <th>437907</th>\n",
       "      <td>2023</td>\n",
       "      <td>Jan</td>\n",
       "      <td>Asia Pacific</td>\n",
       "      <td>AU</td>\n",
       "      <td>Drink</td>\n",
       "      <td>Alcoholic Beverages</td>\n",
       "      <td>Bakery</td>\n",
       "      <td>1.0</td>\n",
       "      <td>18.0</td>\n",
       "      <td>0.055556</td>\n",
       "      <td>This flavor Bakery appears in 1.0 product cate...</td>\n",
       "    </tr>\n",
       "    <tr>\n",
       "      <th>437908</th>\n",
       "      <td>2023</td>\n",
       "      <td>Jan</td>\n",
       "      <td>Asia Pacific</td>\n",
       "      <td>AU</td>\n",
       "      <td>Drink</td>\n",
       "      <td>Alcoholic Beverages</td>\n",
       "      <td>Berry Fruit</td>\n",
       "      <td>1.0</td>\n",
       "      <td>18.0</td>\n",
       "      <td>0.055556</td>\n",
       "      <td>This flavor Berry Fruit appears in 1.0 product...</td>\n",
       "    </tr>\n",
       "    <tr>\n",
       "      <th>437909</th>\n",
       "      <td>2023</td>\n",
       "      <td>Jan</td>\n",
       "      <td>Asia Pacific</td>\n",
       "      <td>AU</td>\n",
       "      <td>Drink</td>\n",
       "      <td>Alcoholic Beverages</td>\n",
       "      <td>Chocolate</td>\n",
       "      <td>1.0</td>\n",
       "      <td>18.0</td>\n",
       "      <td>0.055556</td>\n",
       "      <td>This flavor Chocolate appears in 1.0 product c...</td>\n",
       "    </tr>\n",
       "    <tr>\n",
       "      <th>437910</th>\n",
       "      <td>2023</td>\n",
       "      <td>Jan</td>\n",
       "      <td>Asia Pacific</td>\n",
       "      <td>AU</td>\n",
       "      <td>Drink</td>\n",
       "      <td>Alcoholic Beverages</td>\n",
       "      <td>Citrus Fruit</td>\n",
       "      <td>2.0</td>\n",
       "      <td>18.0</td>\n",
       "      <td>0.111111</td>\n",
       "      <td>This flavor Citrus Fruit appears in 2.0 produc...</td>\n",
       "    </tr>\n",
       "  </tbody>\n",
       "</table>\n",
       "</div>"
      ],
      "text/plain": [
       "        year month        region country product_super_category  \\\n",
       "437906  2023   Jan  Asia Pacific      AU                  Drink   \n",
       "437907  2023   Jan  Asia Pacific      AU                  Drink   \n",
       "437908  2023   Jan  Asia Pacific      AU                  Drink   \n",
       "437909  2023   Jan  Asia Pacific      AU                  Drink   \n",
       "437910  2023   Jan  Asia Pacific      AU                  Drink   \n",
       "\n",
       "           product_category flavor_category  num_product  \\\n",
       "437906  Alcoholic Beverages         Alcohol          1.0   \n",
       "437907  Alcoholic Beverages          Bakery          1.0   \n",
       "437908  Alcoholic Beverages     Berry Fruit          1.0   \n",
       "437909  Alcoholic Beverages       Chocolate          1.0   \n",
       "437910  Alcoholic Beverages    Citrus Fruit          2.0   \n",
       "\n",
       "        num_product_category  prevalence_flavor  \\\n",
       "437906                  18.0           0.055556   \n",
       "437907                  18.0           0.055556   \n",
       "437908                  18.0           0.055556   \n",
       "437909                  18.0           0.055556   \n",
       "437910                  18.0           0.111111   \n",
       "\n",
       "                                                     text  \n",
       "437906  This flavor Alcohol appears in 1.0 product cat...  \n",
       "437907  This flavor Bakery appears in 1.0 product cate...  \n",
       "437908  This flavor Berry Fruit appears in 1.0 product...  \n",
       "437909  This flavor Chocolate appears in 1.0 product c...  \n",
       "437910  This flavor Citrus Fruit appears in 2.0 produc...  "
      ]
     },
     "execution_count": 1,
     "metadata": {},
     "output_type": "execute_result"
    }
   ],
   "source": [
    "import pandas as pd\n",
    "\n",
    "df = pd.read_csv('data/flavor_prev.csv')\n",
    "# Convert month number to month name\n",
    "months = {1: 'Jan', 2: 'Feb', 3: 'Mar', 4: 'Apr', 5: 'May', 6: 'Jun', \n",
    "          7: 'Jul', 8: 'Aug', 9: 'Sep', 10: 'Oct', 11: 'Nov', 12: 'Dec'}\n",
    "df['month'] = df['month'].map(months)\n",
    "df['text'] = df.apply(\n",
    "    lambda x: f\"\"\"This flavor {x['flavor_category']} appears in {x['num_product']} product category {x['product_category']} with {x['prevalence_flavor']:.2%} prevalence in {x['country']} in {x['month']} of {x['year']}.\"\"\".strip(), \n",
    "    axis=1\n",
    ")\n",
    "\n",
    "df_cut = df[df.year.isin([2023])&(df.product_super_category == 'Drink')]\n",
    "df_cut = df_cut.drop_duplicates()\n",
    "# Display the first few rows to verify the conversion\n",
    "df_cut.head()"
   ]
  },
  {
   "cell_type": "markdown",
   "metadata": {},
   "source": [
    "### Prompt Eng for extracting query"
   ]
  },
  {
   "cell_type": "code",
   "execution_count": 2,
   "metadata": {},
   "outputs": [
    {
     "name": "stderr",
     "output_type": "stream",
     "text": [
      "C:\\Users\\voqua\\AppData\\Local\\Temp\\ipykernel_11804\\4040699404.py:6: LangChainDeprecationWarning: The class `ChatOpenAI` was deprecated in LangChain 0.0.10 and will be removed in 1.0. An updated version of the class exists in the :class:`~langchain-openai package and should be used instead. To use it run `pip install -U :class:`~langchain-openai` and import as `from :class:`~langchain_openai import ChatOpenAI``.\n",
      "  llm = ChatOpenAI(model=\"gpt-3.5-turbo\", temperature=0)\n",
      "C:\\Users\\voqua\\AppData\\Local\\Temp\\ipykernel_11804\\4040699404.py:31: LangChainDeprecationWarning: The method `BaseChatModel.__call__` was deprecated in langchain-core 0.1.7 and will be removed in 1.0. Use :meth:`~invoke` instead.\n",
      "  response = llm(messages)\n"
     ]
    },
    {
     "data": {
      "text/plain": [
       "{'Year': 2023,\n",
       " 'Month': 1,\n",
       " 'Region': 'Asia Pacific',\n",
       " 'Country': 'AU',\n",
       " 'Product Category': None,\n",
       " 'Flavor Category': None,\n",
       " 'Function': 'compare_flavors'}"
      ]
     },
     "execution_count": 2,
     "metadata": {},
     "output_type": "execute_result"
    }
   ],
   "source": [
    "from langchain.chat_models import ChatOpenAI\n",
    "from langchain.schema import SystemMessage, HumanMessage\n",
    "import json\n",
    "\n",
    "# Initialize LLM (GPT-4)\n",
    "llm = ChatOpenAI(model=\"gpt-3.5-turbo\", temperature=0)\n",
    "\n",
    "def extract_query_details_llm(user_query):\n",
    "    \"\"\"\n",
    "    Uses LLM to extract structured data from user input via prompt engineering.\n",
    "    \"\"\"\n",
    "    system_prompt = \"\"\"Extract the following details from the user's query:\n",
    "    - Year (e.g., 2023)\n",
    "    - Month (1-12)\n",
    "    - Region (e.g., Asia Pacific, North America)\n",
    "    - Country (e.g., AU, US, UK, China, France, Germany)\n",
    "    - Product Category (e.g., Alcoholic Beverages, Hot Beverages)\n",
    "    - Flavor Category (e.g., Berry Fruit, Citrus Fruit, Sugar)\n",
    "    - Function (trend_analysis, compare_flavors, stat_summary)\n",
    "    \n",
    "    If any information is missing, return `null` for that field.\n",
    "    Provide the response in strict JSON format.\n",
    "    \"\"\"\n",
    "\n",
    "    messages = [\n",
    "        SystemMessage(content=system_prompt),\n",
    "        HumanMessage(content=f\"User Query: {user_query}\")\n",
    "    ]\n",
    "\n",
    "    # Generate LLM response\n",
    "    response = llm(messages)\n",
    "    \n",
    "    try:\n",
    "        extracted_data = json.loads(response.content)\n",
    "        return extracted_data\n",
    "    except json.JSONDecodeError:\n",
    "        return {\"error\": \"Failed to parse JSON response from LLM\"}\n",
    "\n",
    "query = \"Show me flavors in Australia in Jan 2023\"\n",
    "extracted_query = extract_query_details_llm(query)\n",
    "extracted_query"
   ]
  },
  {
   "cell_type": "markdown",
   "metadata": {},
   "source": [
    "### RAG for retrieval"
   ]
  },
  {
   "cell_type": "code",
   "execution_count": null,
   "metadata": {},
   "outputs": [
    {
     "name": "stderr",
     "output_type": "stream",
     "text": [
      "C:\\Users\\voqua\\AppData\\Local\\Temp\\ipykernel_11804\\3293508934.py:15: LangChainDeprecationWarning: The class `HuggingFaceEmbeddings` was deprecated in LangChain 0.2.2 and will be removed in 1.0. An updated version of the class exists in the :class:`~langchain-huggingface package and should be used instead. To use it run `pip install -U :class:`~langchain-huggingface` and import as `from :class:`~langchain_huggingface import HuggingFaceEmbeddings``.\n",
      "  embeddings = HuggingFaceEmbeddings(model_name=\"all-MiniLM-L6-v2\")\n",
      "c:\\Users\\voqua\\AppData\\Local\\Programs\\Python\\Python311\\Lib\\site-packages\\tqdm\\auto.py:21: TqdmWarning: IProgress not found. Please update jupyter and ipywidgets. See https://ipywidgets.readthedocs.io/en/stable/user_install.html\n",
      "  from .autonotebook import tqdm as notebook_tqdm\n"
     ]
    },
    {
     "name": "stdout",
     "output_type": "stream",
     "text": [
      "WARNING:tensorflow:From c:\\Users\\voqua\\AppData\\Local\\Programs\\Python\\Python311\\Lib\\site-packages\\tf_keras\\src\\losses.py:2976: The name tf.losses.sparse_softmax_cross_entropy is deprecated. Please use tf.compat.v1.losses.sparse_softmax_cross_entropy instead.\n",
      "\n"
     ]
    }
   ],
   "source": [
    "from langchain_community.embeddings import OpenAIEmbeddings\n",
    "from langchain.vectorstores import FAISS\n",
    "from langchain_community.document_loaders import DataFrameLoader\n",
    "from dotenv import load_dotenv\n",
    "import os\n",
    "from langchain_core.documents.base import Document\n",
    "from langchain_community.embeddings import HuggingFaceEmbeddings\n",
    "\n",
    "\n",
    "# Load environment variables\n",
    "load_dotenv()\n",
    "os.environ['OPENAI_API_KEY'] = [Key]\n",
    "# Use local embeddings instead of OpenAI\n",
    "embeddings = HuggingFaceEmbeddings(model_name=\"all-MiniLM-L6-v2\")\n",
    "\n",
    "\n",
    "# Convert DataFrame to LangChain Documents\n",
    "def process_dataframe_for_faiss(df):\n",
    "    documents = []\n",
    "    for _, row in df.iterrows():\n",
    "        text = row[\"text\"]\n",
    "        # Create a LangChain Document object\n",
    "        doc = Document(page_content=text, metadata={\"year\": row[\"year\"], \n",
    "                                                    \"month\": row[\"month\"],\n",
    "                                                    \"country\": row[\"country\"],\n",
    "                                                    \"product_category\": row[\"product_category\"],\n",
    "                                                    \"flavor_category\": row[\"flavor_category\"]}\n",
    "                                                    )\n",
    "        documents.append(doc)  \n",
    "    return documents\n",
    "\n",
    "# Prepare the FAISS index\n",
    "docs = process_dataframe_for_faiss(df_cut)\n",
    "\n",
    "# Now, pass properly formatted Document objects\n",
    "vectorstore = FAISS.from_documents(docs, embeddings)\n",
    "vectorstore.save_local(\"flavor_vector_db\")"
   ]
  },
  {
   "cell_type": "code",
   "execution_count": 4,
   "metadata": {},
   "outputs": [
    {
     "data": {
      "text/plain": [
       "['This flavor Confectionery appears in 1.0 product category Nutritional Drinks & Other Beverages with 3.70% prevalence in AU in Jan of 2023.',\n",
       " 'This flavor Confectionery appears in 1.0 product category Nutritional Drinks & Other Beverages with 4.76% prevalence in AU in May of 2023.',\n",
       " 'This flavor Confectionery appears in 1.0 product category Sports & Energy Drinks with 50.00% prevalence in AU in May of 2023.',\n",
       " 'This flavor Confectionery appears in 1.0 product category Alcoholic Beverages with 7.14% prevalence in AU in May of 2023.',\n",
       " 'This flavor Fruit appears in 3.0 product category Nutritional Drinks & Other Beverages with 10.71% prevalence in AU in Feb of 2023.',\n",
       " 'This flavor Fruit appears in 1.0 product category Sports & Energy Drinks with 50.00% prevalence in AU in Feb of 2023.',\n",
       " 'This flavor Fruit appears in 1.0 product category Sports & Energy Drinks with 50.00% prevalence in AU in May of 2023.',\n",
       " 'This flavor Fruit appears in 6.0 product category Nutritional Drinks & Other Beverages with 50.00% prevalence in AU in Aug of 2023.',\n",
       " 'This flavor Spice appears in 1.0 product category Nutritional Drinks & Other Beverages with 50.00% prevalence in AU in Oct of 2023.',\n",
       " 'This flavor Dessert appears in 1.0 product category Alcoholic Beverages with 2.70% prevalence in AU in Nov of 2023.']"
      ]
     },
     "execution_count": 4,
     "metadata": {},
     "output_type": "execute_result"
    }
   ],
   "source": [
    "def retrieve_similar_queries(user_query):\n",
    "    \"\"\"\n",
    "    Searches the vector database for past similar user queries to use as context.\n",
    "    \"\"\"\n",
    "    similar_results = vectorstore.similarity_search(user_query, k=10)\n",
    "    if similar_results:\n",
    "        return [result.page_content for result in similar_results]\n",
    "    return []\n",
    "\n",
    "\n",
    "rag_results = retrieve_similar_queries(query)\n",
    "rag_results"
   ]
  },
  {
   "cell_type": "markdown",
   "metadata": {},
   "source": [
    "### LLM for follow-up question"
   ]
  },
  {
   "cell_type": "code",
   "execution_count": 5,
   "metadata": {},
   "outputs": [
    {
     "name": "stdout",
     "output_type": "stream",
     "text": [
      "\n",
      "Follow-up question:\n",
      "I see you're comparing flavors in the Asia Pacific region for January 2023. To delve deeper into the\n",
      "analysis, could you specify the product category you're interested in exploring, like Nutritional\n",
      "Drinks & Other Beverages or Alcoholic Beverages? This detail could provide more insights into the\n",
      "flavor trends for that month.\n"
     ]
    }
   ],
   "source": [
    "import textwrap\n",
    "\n",
    "# Modify the function to generate more dynamic and conversational follow-up questions\n",
    "\n",
    "def generate_conversational_follow_up(structured_query, similar_queries):\n",
    "    \"\"\"\n",
    "    Uses LLM to generate a dynamic and conversational follow-up question based on missing fields\n",
    "    and retrieved RAG context, adapting the style based on the query context.\n",
    "    \"\"\"\n",
    "    missing_fields = [key for key, value in structured_query.items() if value is None]\n",
    "\n",
    "    if not missing_fields:\n",
    "        return None  # No missing fields, query is complete\n",
    "\n",
    "    # Construct a conversational LLM prompt\n",
    "    system_prompt = f\"\"\"\n",
    "    You are an AI assistant helping a user analyze flavor trends. Your role is to make the interaction natural, engaging, \n",
    "    and context-aware by generating a well-formed, conversational follow-up question based on the missing information in their query.\n",
    "    \n",
    "    **User's Current Query Context:**\n",
    "    {json.dumps(structured_query, indent=2)}\n",
    "    \n",
    "    **Past Relevant Queries (For Context & Suggestions):**\n",
    "    {json.dumps(similar_queries, indent=2)}\n",
    "    \n",
    "    **Your Task:**\n",
    "    - Identify **one missing detail** from the user's query.\n",
    "    - Generate a **natural-sounding, engaging** follow-up question.\n",
    "    - Adapt the tone dynamically based on the available information.\n",
    "    - If possible, reference past trends or suggest relevant insights.\n",
    "\n",
    "    **Examples of Good Responses:**\n",
    "    - \"I see you're exploring berry fruit trends in Asia Pacific! Would you like to focus on a specific country, such as Japan or China?\"\n",
    "    - \"I noticed citrus flavors were trending in alcoholic beverages in 2022. Are you interested in comparing this with berry fruit trends in a particular country?\"\n",
    "    - \"You're analyzing sugar flavors in North America. Can you specify the product category, like hot beverages or snacks, for a more detailed comparison?\"\n",
    "    - \"Given the prevalence of berry fruit flavors in the UK, would you like to explore the seasonal trends in different months?\"\n",
    "\n",
    "    **Now, generate a single well-formed, personalized follow-up question for the user.**\n",
    "    \"\"\"\n",
    "\n",
    "    messages = [\n",
    "        SystemMessage(content=system_prompt),\n",
    "        HumanMessage(content=\"What is one dynamic follow-up question I can ask?\")\n",
    "    ]\n",
    "\n",
    "    response = llm(messages)\n",
    "    return response.content\n",
    "\n",
    "# Test input\n",
    "structured_query_test = extracted_query\n",
    "# print(structured_query_test)\n",
    "similar_queries_test = rag_results\n",
    "# print(similar_queries_test)\n",
    "# Run test\n",
    "follow_up = generate_conversational_follow_up(structured_query_test, similar_queries_test)\n",
    "# Print the follow-up question with text wrapping for better readability\n",
    "print(\"\\nFollow-up question:\")\n",
    "print(textwrap.fill(follow_up, width=100))"
   ]
  },
  {
   "cell_type": "markdown",
   "metadata": {},
   "source": [
    "## Agent 1"
   ]
  },
  {
   "cell_type": "code",
   "execution_count": 6,
   "metadata": {},
   "outputs": [],
   "source": [
    "conversation_memory = []\n",
    "\n",
    "def update_memory(user_query, structured_query, follow_up_questions, user_response=None):\n",
    "    \"\"\"\n",
    "    Stores past interactions in memory.\n",
    "    \"\"\"\n",
    "    memory_entry = {\n",
    "        \"user_query\": user_query,\n",
    "        \"structured_query\": structured_query,\n",
    "        \"follow_up_questions\": follow_up_questions,\n",
    "        \"user_response\": user_response\n",
    "    }\n",
    "    conversation_memory.append(memory_entry)\n"
   ]
  },
  {
   "cell_type": "code",
   "execution_count": 7,
   "metadata": {},
   "outputs": [],
   "source": [
    "import json\n",
    "import textwrap\n",
    "\n",
    "def agent1_process(user_query):\n",
    "    \"\"\"\n",
    "    Agent1 workflow:\n",
    "    1. Extracts structured data from the query.\n",
    "    2. Retrieves relevant past queries from FAISS RAG.\n",
    "    3. Generates conversational follow-up questions.\n",
    "    4. Iteratively refines the query until complete.\n",
    "    \"\"\"\n",
    "    \n",
    "    # Step 1: Extract initial structured query\n",
    "    structured_query = extract_query_details_llm(user_query)\n",
    "\n",
    "    while True:\n",
    "        # Step 2: Retrieve similar past queries\n",
    "        similar_queries = retrieve_similar_queries(user_query)\n",
    "\n",
    "        # Step 3: Generate a conversational follow-up question\n",
    "        follow_up_question = generate_conversational_follow_up(structured_query, similar_queries)\n",
    "\n",
    "        # If no more follow-ups are needed, break\n",
    "        if not follow_up_question:\n",
    "            break  \n",
    "\n",
    "        print(\"\\nAgent1:\", textwrap.fill(follow_up_question, width=100))\n",
    "\n",
    "        # Step 4: Capture user response\n",
    "        user_response = input(\"User Response: \")\n",
    "\n",
    "        # Step 5: Extract new details from user response\n",
    "        updated_data = extract_query_details_llm(user_response)\n",
    "\n",
    "        # Step 6: Fill in missing fields with user-provided info\n",
    "        for key, value in updated_data.items():\n",
    "            if structured_query[key] is None and value is not None:\n",
    "                structured_query[key] = value\n",
    "\n",
    "        # Step 7: Update memory with new details\n",
    "        update_memory(user_query, structured_query, follow_up_question, user_response)\n",
    "\n",
    "    # Final Structured Query (Ready for Agent2)\n",
    "    print(\"\\nFinal Structured Query JSON:\")\n",
    "    print(json.dumps(structured_query, indent=2))\n",
    "    return structured_query\n"
   ]
  },
  {
   "cell_type": "markdown",
   "metadata": {},
   "source": [
    "## Agent 2\n"
   ]
  },
  {
   "cell_type": "code",
   "execution_count": 48,
   "metadata": {},
   "outputs": [],
   "source": [
    "from functions import compare_flavors\n",
    "\n",
    "def map_query_to_function(structured_query, df=None, available_years=None):\n",
    "    \"\"\"\n",
    "    Maps the structured query from the agent to the correct function and its parameters.\n",
    "    Handles missing values, ensures correct types, and calls the appropriate function.\n",
    "\n",
    "    Parameters:\n",
    "    structured_query (dict): Extracted query details from the agent.\n",
    "    df (pd.DataFrame): The DataFrame containing flavor data.\n",
    "    available_years (list): List of available years in the dataset.\n",
    "\n",
    "    Returns:\n",
    "    None: Calls the correct function.\n",
    "    \"\"\"\n",
    "    \n",
    "    # Define available years if not provided\n",
    "    if available_years is None:\n",
    "        available_years = [2015, 2016, 2017, 2018, 2019, 2020, 2021, 2022, 2023, 2024]\n",
    "\n",
    "    # Ensure df is provided\n",
    "    if df is None:\n",
    "        return \"Error: DataFrame (df) is required but not provided.\"\n",
    "\n",
    "    # Normalize keys to lowercase for consistency\n",
    "    structured_query = {k.lower(): v for k, v in structured_query.items()}  \n",
    "\n",
    "    # Extract details from query\n",
    "    selected_function = structured_query.get(\"function\")\n",
    "    year = structured_query.get(\"year\")\n",
    "    country = structured_query.get(\"country\")\n",
    "    product_categories = structured_query.get(\"product category\")\n",
    "    flavors = structured_query.get(\"flavor category\")\n",
    "\n",
    "    # Debugging: Print structured query\n",
    "    print(\"\\nDebugging: Structured Query Received:\")\n",
    "    print(structured_query)\n",
    "\n",
    "    # Check for missing values\n",
    "    missing_keys = [key for key, value in structured_query.items() if value is None]\n",
    "    if missing_keys:\n",
    "        print(f\"Warning: Missing values detected in {missing_keys}\")\n",
    "\n",
    "    # Ensure product categories are always a list\n",
    "    if isinstance(product_categories, str):\n",
    "        product_categories = [product_categories]  # Convert single value to list\n",
    "    elif product_categories is None:\n",
    "        product_categories = []  # Default to an empty list\n",
    "\n",
    "    # Ensure \"Flavor Category\" is always a list\n",
    "    if isinstance(flavors, str):\n",
    "        flavors = [flavor.strip() for flavor in flavors.replace(\"&\", \" and \").replace(\",\", \" and \").split(\" and \")]\n",
    "    elif flavors is None:\n",
    "        flavors = []  # Default to an empty list\n",
    "\n",
    "    # Handle year range dynamically\n",
    "    if year:\n",
    "        # Expand year range (2 years before, 1 year after, within dataset limits)\n",
    "        year_range = tuple(y for y in range(year - 2, year + 2) if y in available_years)\n",
    "    else:\n",
    "        year_range = None  # No filtering on year if not specified\n",
    "\n",
    "    # Prepare function arguments\n",
    "    function_args = {\n",
    "        \"df\": df,\n",
    "        \"predictor1\": \"product_category\",\n",
    "        \"predictor2\": \"year\",  # Keeping \"year\" as predictor2\n",
    "        \"target\": \"prevalence_flavor\",\n",
    "        \"color_by\": \"flavor_category\",\n",
    "        \"category_list\": product_categories if product_categories else None,\n",
    "        \"year_range\": year_range if year_range else None,  \n",
    "        \"country_list\": [country] if country else None,\n",
    "        \"flavor_list\": flavors if flavors else None, \n",
    "    }\n",
    "\n",
    "    # Debugging: Print final function arguments\n",
    "    print(\"\\nDebugging: Function Arguments Prepared:\")\n",
    "    print(function_args)\n",
    "\n",
    "    # Run the correct function\n",
    "    if selected_function in [\"compare_flavors\"]:\n",
    "        return compare_flavors(**function_args)\n",
    "    else:\n",
    "        return f\"Error: No function mapped for {selected_function}\"\n"
   ]
  },
  {
   "cell_type": "code",
   "execution_count": 50,
   "metadata": {},
   "outputs": [
    {
     "data": {
      "application/vnd.plotly.v1+json": {
       "config": {
        "plotlyServerURL": "https://plot.ly"
       },
       "data": [
        {
         "line": {
          "color": "rgb(228,26,28)",
          "width": 2
         },
         "marker": {
          "color": "rgb(228,26,28)",
          "size": 6
         },
         "mode": "markers+lines",
         "name": "Alcoholic Beverages - Fruit",
         "type": "scatter3d",
         "x": [
          "Alcoholic Beverages",
          "Alcoholic Beverages",
          "Alcoholic Beverages",
          "Alcoholic Beverages",
          "Alcoholic Beverages",
          "Alcoholic Beverages",
          "Alcoholic Beverages",
          "Alcoholic Beverages",
          "Alcoholic Beverages",
          "Alcoholic Beverages",
          "Alcoholic Beverages"
         ],
         "y": {
          "bdata": "VVVVVVV6n0CrqqqqqnqfQFVVVVVVfZ9Aq6qqqqp9n0AAAAAAAH6fQKuqqqqqfp9AVVVVVVV/n0Crqqqqqn+fQKuqqqqqgJ9Aq6qqqqqBn0AAAAAAAIKfQA==",
          "dtype": "f8"
         },
         "z": {
          "bdata": "VVVVVVVV1T8lSZIkSZLkP1VVVVVVVdU/AAAAAAAA4D+amZmZmZnJP5IkSZIkSdI/kiRJkiRJ4j9TVVVVVVXFPwAAAAAAANA/FDuxEzux0z8AAAAAAADAPw==",
          "dtype": "f8"
         }
        },
        {
         "line": {
          "color": "rgb(55,126,184)",
          "width": 2
         },
         "marker": {
          "color": "rgb(55,126,184)",
          "size": 6
         },
         "mode": "markers+lines",
         "name": "Alcoholic Beverages - Spice",
         "type": "scatter3d",
         "x": [
          "Alcoholic Beverages",
          "Alcoholic Beverages",
          "Alcoholic Beverages",
          "Alcoholic Beverages",
          "Alcoholic Beverages",
          "Alcoholic Beverages"
         ],
         "y": {
          "bdata": "q6qqqqp7n0BVVVVVVX2fQKuqqqqqfp9AAAAAAAB/n0Crqqqqqn+fQKuqqqqqgZ9A",
          "dtype": "f8"
         },
         "z": {
          "bdata": "mpmZmZmZyT9VVVVVVVXVP5AkSZIkScI/AAAAAAAA8D9VVVVVVVXVPxI7sRM7sbM/",
          "dtype": "f8"
         }
        }
       ],
       "layout": {
        "legend": {
         "title": {
          "text": "Product - Flavor Category"
         }
        },
        "scene": {
         "xaxis": {
          "title": {
           "text": "Product Category"
          }
         },
         "yaxis": {
          "title": {
           "text": "Year (Scattered by Month)"
          }
         },
         "zaxis": {
          "title": {
           "text": "prevalence_flavor"
          }
         }
        },
        "template": {
         "data": {
          "bar": [
           {
            "error_x": {
             "color": "#2a3f5f"
            },
            "error_y": {
             "color": "#2a3f5f"
            },
            "marker": {
             "line": {
              "color": "#E5ECF6",
              "width": 0.5
             },
             "pattern": {
              "fillmode": "overlay",
              "size": 10,
              "solidity": 0.2
             }
            },
            "type": "bar"
           }
          ],
          "barpolar": [
           {
            "marker": {
             "line": {
              "color": "#E5ECF6",
              "width": 0.5
             },
             "pattern": {
              "fillmode": "overlay",
              "size": 10,
              "solidity": 0.2
             }
            },
            "type": "barpolar"
           }
          ],
          "carpet": [
           {
            "aaxis": {
             "endlinecolor": "#2a3f5f",
             "gridcolor": "white",
             "linecolor": "white",
             "minorgridcolor": "white",
             "startlinecolor": "#2a3f5f"
            },
            "baxis": {
             "endlinecolor": "#2a3f5f",
             "gridcolor": "white",
             "linecolor": "white",
             "minorgridcolor": "white",
             "startlinecolor": "#2a3f5f"
            },
            "type": "carpet"
           }
          ],
          "choropleth": [
           {
            "colorbar": {
             "outlinewidth": 0,
             "ticks": ""
            },
            "type": "choropleth"
           }
          ],
          "contour": [
           {
            "colorbar": {
             "outlinewidth": 0,
             "ticks": ""
            },
            "colorscale": [
             [
              0,
              "#0d0887"
             ],
             [
              0.1111111111111111,
              "#46039f"
             ],
             [
              0.2222222222222222,
              "#7201a8"
             ],
             [
              0.3333333333333333,
              "#9c179e"
             ],
             [
              0.4444444444444444,
              "#bd3786"
             ],
             [
              0.5555555555555556,
              "#d8576b"
             ],
             [
              0.6666666666666666,
              "#ed7953"
             ],
             [
              0.7777777777777778,
              "#fb9f3a"
             ],
             [
              0.8888888888888888,
              "#fdca26"
             ],
             [
              1,
              "#f0f921"
             ]
            ],
            "type": "contour"
           }
          ],
          "contourcarpet": [
           {
            "colorbar": {
             "outlinewidth": 0,
             "ticks": ""
            },
            "type": "contourcarpet"
           }
          ],
          "heatmap": [
           {
            "colorbar": {
             "outlinewidth": 0,
             "ticks": ""
            },
            "colorscale": [
             [
              0,
              "#0d0887"
             ],
             [
              0.1111111111111111,
              "#46039f"
             ],
             [
              0.2222222222222222,
              "#7201a8"
             ],
             [
              0.3333333333333333,
              "#9c179e"
             ],
             [
              0.4444444444444444,
              "#bd3786"
             ],
             [
              0.5555555555555556,
              "#d8576b"
             ],
             [
              0.6666666666666666,
              "#ed7953"
             ],
             [
              0.7777777777777778,
              "#fb9f3a"
             ],
             [
              0.8888888888888888,
              "#fdca26"
             ],
             [
              1,
              "#f0f921"
             ]
            ],
            "type": "heatmap"
           }
          ],
          "histogram": [
           {
            "marker": {
             "pattern": {
              "fillmode": "overlay",
              "size": 10,
              "solidity": 0.2
             }
            },
            "type": "histogram"
           }
          ],
          "histogram2d": [
           {
            "colorbar": {
             "outlinewidth": 0,
             "ticks": ""
            },
            "colorscale": [
             [
              0,
              "#0d0887"
             ],
             [
              0.1111111111111111,
              "#46039f"
             ],
             [
              0.2222222222222222,
              "#7201a8"
             ],
             [
              0.3333333333333333,
              "#9c179e"
             ],
             [
              0.4444444444444444,
              "#bd3786"
             ],
             [
              0.5555555555555556,
              "#d8576b"
             ],
             [
              0.6666666666666666,
              "#ed7953"
             ],
             [
              0.7777777777777778,
              "#fb9f3a"
             ],
             [
              0.8888888888888888,
              "#fdca26"
             ],
             [
              1,
              "#f0f921"
             ]
            ],
            "type": "histogram2d"
           }
          ],
          "histogram2dcontour": [
           {
            "colorbar": {
             "outlinewidth": 0,
             "ticks": ""
            },
            "colorscale": [
             [
              0,
              "#0d0887"
             ],
             [
              0.1111111111111111,
              "#46039f"
             ],
             [
              0.2222222222222222,
              "#7201a8"
             ],
             [
              0.3333333333333333,
              "#9c179e"
             ],
             [
              0.4444444444444444,
              "#bd3786"
             ],
             [
              0.5555555555555556,
              "#d8576b"
             ],
             [
              0.6666666666666666,
              "#ed7953"
             ],
             [
              0.7777777777777778,
              "#fb9f3a"
             ],
             [
              0.8888888888888888,
              "#fdca26"
             ],
             [
              1,
              "#f0f921"
             ]
            ],
            "type": "histogram2dcontour"
           }
          ],
          "mesh3d": [
           {
            "colorbar": {
             "outlinewidth": 0,
             "ticks": ""
            },
            "type": "mesh3d"
           }
          ],
          "parcoords": [
           {
            "line": {
             "colorbar": {
              "outlinewidth": 0,
              "ticks": ""
             }
            },
            "type": "parcoords"
           }
          ],
          "pie": [
           {
            "automargin": true,
            "type": "pie"
           }
          ],
          "scatter": [
           {
            "fillpattern": {
             "fillmode": "overlay",
             "size": 10,
             "solidity": 0.2
            },
            "type": "scatter"
           }
          ],
          "scatter3d": [
           {
            "line": {
             "colorbar": {
              "outlinewidth": 0,
              "ticks": ""
             }
            },
            "marker": {
             "colorbar": {
              "outlinewidth": 0,
              "ticks": ""
             }
            },
            "type": "scatter3d"
           }
          ],
          "scattercarpet": [
           {
            "marker": {
             "colorbar": {
              "outlinewidth": 0,
              "ticks": ""
             }
            },
            "type": "scattercarpet"
           }
          ],
          "scattergeo": [
           {
            "marker": {
             "colorbar": {
              "outlinewidth": 0,
              "ticks": ""
             }
            },
            "type": "scattergeo"
           }
          ],
          "scattergl": [
           {
            "marker": {
             "colorbar": {
              "outlinewidth": 0,
              "ticks": ""
             }
            },
            "type": "scattergl"
           }
          ],
          "scattermap": [
           {
            "marker": {
             "colorbar": {
              "outlinewidth": 0,
              "ticks": ""
             }
            },
            "type": "scattermap"
           }
          ],
          "scattermapbox": [
           {
            "marker": {
             "colorbar": {
              "outlinewidth": 0,
              "ticks": ""
             }
            },
            "type": "scattermapbox"
           }
          ],
          "scatterpolar": [
           {
            "marker": {
             "colorbar": {
              "outlinewidth": 0,
              "ticks": ""
             }
            },
            "type": "scatterpolar"
           }
          ],
          "scatterpolargl": [
           {
            "marker": {
             "colorbar": {
              "outlinewidth": 0,
              "ticks": ""
             }
            },
            "type": "scatterpolargl"
           }
          ],
          "scatterternary": [
           {
            "marker": {
             "colorbar": {
              "outlinewidth": 0,
              "ticks": ""
             }
            },
            "type": "scatterternary"
           }
          ],
          "surface": [
           {
            "colorbar": {
             "outlinewidth": 0,
             "ticks": ""
            },
            "colorscale": [
             [
              0,
              "#0d0887"
             ],
             [
              0.1111111111111111,
              "#46039f"
             ],
             [
              0.2222222222222222,
              "#7201a8"
             ],
             [
              0.3333333333333333,
              "#9c179e"
             ],
             [
              0.4444444444444444,
              "#bd3786"
             ],
             [
              0.5555555555555556,
              "#d8576b"
             ],
             [
              0.6666666666666666,
              "#ed7953"
             ],
             [
              0.7777777777777778,
              "#fb9f3a"
             ],
             [
              0.8888888888888888,
              "#fdca26"
             ],
             [
              1,
              "#f0f921"
             ]
            ],
            "type": "surface"
           }
          ],
          "table": [
           {
            "cells": {
             "fill": {
              "color": "#EBF0F8"
             },
             "line": {
              "color": "white"
             }
            },
            "header": {
             "fill": {
              "color": "#C8D4E3"
             },
             "line": {
              "color": "white"
             }
            },
            "type": "table"
           }
          ]
         },
         "layout": {
          "annotationdefaults": {
           "arrowcolor": "#2a3f5f",
           "arrowhead": 0,
           "arrowwidth": 1
          },
          "autotypenumbers": "strict",
          "coloraxis": {
           "colorbar": {
            "outlinewidth": 0,
            "ticks": ""
           }
          },
          "colorscale": {
           "diverging": [
            [
             0,
             "#8e0152"
            ],
            [
             0.1,
             "#c51b7d"
            ],
            [
             0.2,
             "#de77ae"
            ],
            [
             0.3,
             "#f1b6da"
            ],
            [
             0.4,
             "#fde0ef"
            ],
            [
             0.5,
             "#f7f7f7"
            ],
            [
             0.6,
             "#e6f5d0"
            ],
            [
             0.7,
             "#b8e186"
            ],
            [
             0.8,
             "#7fbc41"
            ],
            [
             0.9,
             "#4d9221"
            ],
            [
             1,
             "#276419"
            ]
           ],
           "sequential": [
            [
             0,
             "#0d0887"
            ],
            [
             0.1111111111111111,
             "#46039f"
            ],
            [
             0.2222222222222222,
             "#7201a8"
            ],
            [
             0.3333333333333333,
             "#9c179e"
            ],
            [
             0.4444444444444444,
             "#bd3786"
            ],
            [
             0.5555555555555556,
             "#d8576b"
            ],
            [
             0.6666666666666666,
             "#ed7953"
            ],
            [
             0.7777777777777778,
             "#fb9f3a"
            ],
            [
             0.8888888888888888,
             "#fdca26"
            ],
            [
             1,
             "#f0f921"
            ]
           ],
           "sequentialminus": [
            [
             0,
             "#0d0887"
            ],
            [
             0.1111111111111111,
             "#46039f"
            ],
            [
             0.2222222222222222,
             "#7201a8"
            ],
            [
             0.3333333333333333,
             "#9c179e"
            ],
            [
             0.4444444444444444,
             "#bd3786"
            ],
            [
             0.5555555555555556,
             "#d8576b"
            ],
            [
             0.6666666666666666,
             "#ed7953"
            ],
            [
             0.7777777777777778,
             "#fb9f3a"
            ],
            [
             0.8888888888888888,
             "#fdca26"
            ],
            [
             1,
             "#f0f921"
            ]
           ]
          },
          "colorway": [
           "#636efa",
           "#EF553B",
           "#00cc96",
           "#ab63fa",
           "#FFA15A",
           "#19d3f3",
           "#FF6692",
           "#B6E880",
           "#FF97FF",
           "#FECB52"
          ],
          "font": {
           "color": "#2a3f5f"
          },
          "geo": {
           "bgcolor": "white",
           "lakecolor": "white",
           "landcolor": "#E5ECF6",
           "showlakes": true,
           "showland": true,
           "subunitcolor": "white"
          },
          "hoverlabel": {
           "align": "left"
          },
          "hovermode": "closest",
          "mapbox": {
           "style": "light"
          },
          "paper_bgcolor": "white",
          "plot_bgcolor": "#E5ECF6",
          "polar": {
           "angularaxis": {
            "gridcolor": "white",
            "linecolor": "white",
            "ticks": ""
           },
           "bgcolor": "#E5ECF6",
           "radialaxis": {
            "gridcolor": "white",
            "linecolor": "white",
            "ticks": ""
           }
          },
          "scene": {
           "xaxis": {
            "backgroundcolor": "#E5ECF6",
            "gridcolor": "white",
            "gridwidth": 2,
            "linecolor": "white",
            "showbackground": true,
            "ticks": "",
            "zerolinecolor": "white"
           },
           "yaxis": {
            "backgroundcolor": "#E5ECF6",
            "gridcolor": "white",
            "gridwidth": 2,
            "linecolor": "white",
            "showbackground": true,
            "ticks": "",
            "zerolinecolor": "white"
           },
           "zaxis": {
            "backgroundcolor": "#E5ECF6",
            "gridcolor": "white",
            "gridwidth": 2,
            "linecolor": "white",
            "showbackground": true,
            "ticks": "",
            "zerolinecolor": "white"
           }
          },
          "shapedefaults": {
           "line": {
            "color": "#2a3f5f"
           }
          },
          "ternary": {
           "aaxis": {
            "gridcolor": "white",
            "linecolor": "white",
            "ticks": ""
           },
           "baxis": {
            "gridcolor": "white",
            "linecolor": "white",
            "ticks": ""
           },
           "bgcolor": "#E5ECF6",
           "caxis": {
            "gridcolor": "white",
            "linecolor": "white",
            "ticks": ""
           }
          },
          "title": {
           "x": 0.05
          },
          "xaxis": {
           "automargin": true,
           "gridcolor": "white",
           "linecolor": "white",
           "ticks": "",
           "title": {
            "standoff": 15
           },
           "zerolinecolor": "white",
           "zerolinewidth": 2
          },
          "yaxis": {
           "automargin": true,
           "gridcolor": "white",
           "linecolor": "white",
           "ticks": "",
           "title": {
            "standoff": 15
           },
           "zerolinecolor": "white",
           "zerolinewidth": 2
          }
         }
        },
        "title": {
         "text": "Interactive 3D Comparison of prevalence_flavor against product_category and Year (Scattered by Month)"
        }
       }
      }
     },
     "metadata": {},
     "output_type": "display_data"
    }
   ],
   "source": [
    "from functions import compare_flavors\n",
    "\n",
    "compare_flavors(\n",
    "    df,\n",
    "    predictor1=\"product_category\",  # X-axis: Product Category\n",
    "    predictor2=\"year\",  # Y-axis: Year, but data points are scattered by month\n",
    "    target=\"prevalence_flavor\",  # Z-axis: Flavor Prevalence\n",
    "    color_by=\"flavor_category\",\n",
    "    category_list=[\"Alcoholic Beverages\"], \n",
    "    year_range=(2015, 2016), \n",
    "    country_list=[\"AU\"], \n",
    "    flavor_list=[\"Fruit\", \"Spice\"]\n",
    ")\n"
   ]
  },
  {
   "cell_type": "markdown",
   "metadata": {},
   "source": [
    "## Demo"
   ]
  },
  {
   "cell_type": "code",
   "execution_count": 43,
   "metadata": {},
   "outputs": [
    {
     "name": "stdout",
     "output_type": "stream",
     "text": [
      "\n",
      "Agent1: I see you're comparing flavors in the Asia Pacific region for January 2023. To delve deeper into the\n",
      "analysis, could you specify the product category you're interested in exploring, like Nutritional\n",
      "Drinks & Other Beverages or Alcoholic Beverages? This detail could provide more insights into the\n",
      "flavor trends for that month.\n",
      "\n",
      "Agent1: I see you're comparing flavors in Alcoholic Beverages in the Asia Pacific region for January 2023.\n",
      "To delve deeper, could you specify a particular flavor category you're interested in exploring, like\n",
      "Fruit, Spice, Dessert, or Confectionery? This could provide more insights into the flavor trends for\n",
      "that specific category in the region.\n",
      "\n",
      "Final Structured Query JSON:\n",
      "{\n",
      "  \"Year\": 2023,\n",
      "  \"Month\": 1,\n",
      "  \"Region\": \"Asia Pacific\",\n",
      "  \"Country\": \"AU\",\n",
      "  \"Product Category\": \"Alcoholic Beverages\",\n",
      "  \"Flavor Category\": \"Fruit, Spice\",\n",
      "  \"Function\": \"compare_flavors\"\n",
      "}\n",
      "\n",
      "Debugging: Structured Query Received:\n",
      "{'year': 2023, 'month': 1, 'region': 'Asia Pacific', 'country': 'AU', 'product category': 'Alcoholic Beverages', 'flavor category': 'Fruit, Spice', 'function': 'compare_flavors'}\n",
      "\n",
      "Debugging: Function Arguments Prepared:\n",
      "{'df':         year month         region country product_super_category  \\\n",
      "0       2015   Jan   Asia Pacific      AU                  Drink   \n",
      "1       2015   Jan   Asia Pacific      AU                  Drink   \n",
      "2       2015   Jan   Asia Pacific      AU                  Drink   \n",
      "3       2015   Jan   Asia Pacific      AU                  Drink   \n",
      "4       2015   Jan   Asia Pacific      AU                  Drink   \n",
      "...      ...   ...            ...     ...                    ...   \n",
      "495813  2023   Dec  North America      US                   Food   \n",
      "495814  2023   Dec  North America      US                   Food   \n",
      "495815  2023   Dec  North America      US                   Food   \n",
      "495816  2023   Dec  North America      US                   Food   \n",
      "495817  2023   Dec  North America      US                   Food   \n",
      "\n",
      "           product_category flavor_category  num_product  \\\n",
      "0       Alcoholic Beverages     Berry Fruit          2.0   \n",
      "1       Alcoholic Beverages    Citrus Fruit          1.0   \n",
      "2       Alcoholic Beverages         Dessert          1.0   \n",
      "3       Alcoholic Beverages           Fruit          2.0   \n",
      "4             Hot Beverages     Berry Fruit          1.0   \n",
      "...                     ...             ...          ...   \n",
      "495813        Sweet Spreads           Fruit         22.0   \n",
      "495814        Sweet Spreads             Nut          2.0   \n",
      "495815        Sweet Spreads            Sour          1.0   \n",
      "495816        Sweet Spreads           Syrup          4.0   \n",
      "495817        Sweet Spreads       Vegetable          1.0   \n",
      "\n",
      "        num_product_category  prevalence_flavor  \\\n",
      "0                        6.0           0.333333   \n",
      "1                        6.0           0.166667   \n",
      "2                        6.0           0.166667   \n",
      "3                        6.0           0.333333   \n",
      "4                        2.0           0.500000   \n",
      "...                      ...                ...   \n",
      "495813                  37.0           0.594595   \n",
      "495814                  37.0           0.054054   \n",
      "495815                  37.0           0.027027   \n",
      "495816                  37.0           0.108108   \n",
      "495817                  37.0           0.027027   \n",
      "\n",
      "                                                     text  \n",
      "0       This flavor Berry Fruit appears in 2.0 product...  \n",
      "1       This flavor Citrus Fruit appears in 1.0 produc...  \n",
      "2       This flavor Dessert appears in 1.0 product cat...  \n",
      "3       This flavor Fruit appears in 2.0 product categ...  \n",
      "4       This flavor Berry Fruit appears in 1.0 product...  \n",
      "...                                                   ...  \n",
      "495813  This flavor Fruit appears in 22.0 product cate...  \n",
      "495814  This flavor Nut appears in 2.0 product categor...  \n",
      "495815  This flavor Sour appears in 1.0 product catego...  \n",
      "495816  This flavor Syrup appears in 4.0 product categ...  \n",
      "495817  This flavor Vegetable appears in 1.0 product c...  \n",
      "\n",
      "[495818 rows x 11 columns], 'predictor1': 'product_category', 'predictor2': 'year', 'target': 'prevalence_flavor', 'color_by': 'flavor_category', 'category_list': ['Alcoholic Beverages'], 'year_range': (2021, 2022, 2023, 2024), 'country_list': ['AU'], 'flavor_list': ['Fruit', 'Spice']}\n"
     ]
    },
    {
     "data": {
      "application/vnd.plotly.v1+json": {
       "config": {
        "plotlyServerURL": "https://plot.ly"
       },
       "data": [
        {
         "line": {
          "color": "rgb(228,26,28)",
          "width": 2
         },
         "marker": {
          "color": "rgb(228,26,28)",
          "size": 6
         },
         "mode": "markers+lines",
         "name": "Alcoholic Beverages - Fruit",
         "type": "scatter3d",
         "x": [
          "Alcoholic Beverages",
          "Alcoholic Beverages",
          "Alcoholic Beverages",
          "Alcoholic Beverages",
          "Alcoholic Beverages",
          "Alcoholic Beverages",
          "Alcoholic Beverages",
          "Alcoholic Beverages",
          "Alcoholic Beverages",
          "Alcoholic Beverages",
          "Alcoholic Beverages",
          "Alcoholic Beverages",
          "Alcoholic Beverages",
          "Alcoholic Beverages",
          "Alcoholic Beverages",
          "Alcoholic Beverages",
          "Alcoholic Beverages",
          "Alcoholic Beverages",
          "Alcoholic Beverages",
          "Alcoholic Beverages",
          "Alcoholic Beverages",
          "Alcoholic Beverages",
          "Alcoholic Beverages",
          "Alcoholic Beverages",
          "Alcoholic Beverages",
          "Alcoholic Beverages",
          "Alcoholic Beverages",
          "Alcoholic Beverages",
          "Alcoholic Beverages",
          "Alcoholic Beverages",
          "Alcoholic Beverages",
          "Alcoholic Beverages"
         ],
         "y": {
          "bdata": "VVVVVVWSn0CrqqqqqpKfQAAAAAAAk59AVVVVVVWTn0CrqqqqqpOfQAAAAAAAlJ9AVVVVVVWUn0CrqqqqqpSfQAAAAAAAlZ9Aq6qqqqqVn0AAAAAAAJafQFVVVVVVlp9Aq6qqqqqWn0AAAAAAAJefQFVVVVVVl59Aq6qqqqqXn0AAAAAAAJifQFVVVVVVmJ9Aq6qqqqqYn0AAAAAAAJmfQFVVVVVVmZ9Aq6qqqqqZn0AAAAAAAJqfQFVVVVVVmp9Aq6qqqqqan0AAAAAAAJufQKuqqqqqm59AVVVVVVWcn0CrqqqqqpyfQAAAAAAAnZ9AVVVVVVWdn0Crqqqqqp2fQA==",
          "dtype": "f8"
         },
         "z": {
          "bdata": "kiRJkiRJ0j/YiZ3YiZ3YP5AkSZIkSbI/PhdddNFFpz8AAAAAAADAPyELWchCFuI/RRdddNFFxz+2bdu2bdvWP6mqqqqqqso/qHgr+xxSkz9VVVVVVVXVP7oStStRu8I/YiELWchCxj+WlpaWlpbWP5qZmZmZmck/FDuxEzux0z+QJEmSJEmyPxAREREREcE/aC+hvYT20j8cx3Ecx3HMP1NVVVVVVcU/HR4eHh4ezj8AAAAAAADQP3Icx3Ecx9E/uB6F61G4zj8cx3Ecx3G8P5AkSZIkScI/AAAAAAAA5D+QJEmSJEnCP1100UUXXdQ/WFpaWlpayj/CFPmsG0zRPw==",
          "dtype": "f8"
         }
        },
        {
         "line": {
          "color": "rgb(55,126,184)",
          "width": 2
         },
         "marker": {
          "color": "rgb(55,126,184)",
          "size": 6
         },
         "mode": "markers+lines",
         "name": "Alcoholic Beverages - Spice",
         "type": "scatter3d",
         "x": [
          "Alcoholic Beverages",
          "Alcoholic Beverages",
          "Alcoholic Beverages",
          "Alcoholic Beverages",
          "Alcoholic Beverages",
          "Alcoholic Beverages",
          "Alcoholic Beverages",
          "Alcoholic Beverages",
          "Alcoholic Beverages",
          "Alcoholic Beverages",
          "Alcoholic Beverages",
          "Alcoholic Beverages",
          "Alcoholic Beverages",
          "Alcoholic Beverages",
          "Alcoholic Beverages",
          "Alcoholic Beverages",
          "Alcoholic Beverages",
          "Alcoholic Beverages",
          "Alcoholic Beverages",
          "Alcoholic Beverages",
          "Alcoholic Beverages",
          "Alcoholic Beverages",
          "Alcoholic Beverages",
          "Alcoholic Beverages",
          "Alcoholic Beverages",
          "Alcoholic Beverages"
         ],
         "y": {
          "bdata": "VVVVVVWSn0CrqqqqqpKfQFVVVVVVk59Aq6qqqqqTn0BVVVVVVZSfQKuqqqqqlJ9Aq6qqqqqVn0AAAAAAAJafQFVVVVVVlp9Aq6qqqqqWn0AAAAAAAJefQKuqqqqql59AAAAAAACYn0BVVVVVVZifQKuqqqqqmJ9Aq6qqqqqZn0AAAAAAAJqfQFVVVVVVmp9Aq6qqqqqan0AAAAAAAJufQFVVVVVVm59Aq6qqqqqcn0AAAAAAAJ2fQFVVVVVVnZ9Aq6qqqqqdn0AAAAAAAJ6fQA==",
          "dtype": "f8"
         },
         "z": {
          "bdata": "kCRJkiRJsj8SO7ETO7HDP0UXXXTRRbc/AAAAAAAAwD9FF1100UXHP5IkSZIkSdI/IDXBeCv7vD+b53me53nOP7oStStRu8I/YiELWchCtj8dHh4eHh6uPxI7sRM7sbM/kCRJkiRJwj8QERERERHRP2Mvob2E9qI/HR4eHh4erj+amZmZmZm5PxTHcRzHcaw/exSuR+F6pD8Gx3Ecx3GcP1VVVVVVVdU/kiRJkiRJ0j8+F1100UWnPx0eHh4eHq4/yLrBFPmsqz8AAAAAAADAPw==",
          "dtype": "f8"
         }
        }
       ],
       "layout": {
        "legend": {
         "title": {
          "text": "Product - Flavor Category"
         }
        },
        "scene": {
         "xaxis": {
          "title": {
           "text": "Product Category"
          }
         },
         "yaxis": {
          "title": {
           "text": "Year (Scattered by Month)"
          }
         },
         "zaxis": {
          "title": {
           "text": "prevalence_flavor"
          }
         }
        },
        "template": {
         "data": {
          "bar": [
           {
            "error_x": {
             "color": "#2a3f5f"
            },
            "error_y": {
             "color": "#2a3f5f"
            },
            "marker": {
             "line": {
              "color": "#E5ECF6",
              "width": 0.5
             },
             "pattern": {
              "fillmode": "overlay",
              "size": 10,
              "solidity": 0.2
             }
            },
            "type": "bar"
           }
          ],
          "barpolar": [
           {
            "marker": {
             "line": {
              "color": "#E5ECF6",
              "width": 0.5
             },
             "pattern": {
              "fillmode": "overlay",
              "size": 10,
              "solidity": 0.2
             }
            },
            "type": "barpolar"
           }
          ],
          "carpet": [
           {
            "aaxis": {
             "endlinecolor": "#2a3f5f",
             "gridcolor": "white",
             "linecolor": "white",
             "minorgridcolor": "white",
             "startlinecolor": "#2a3f5f"
            },
            "baxis": {
             "endlinecolor": "#2a3f5f",
             "gridcolor": "white",
             "linecolor": "white",
             "minorgridcolor": "white",
             "startlinecolor": "#2a3f5f"
            },
            "type": "carpet"
           }
          ],
          "choropleth": [
           {
            "colorbar": {
             "outlinewidth": 0,
             "ticks": ""
            },
            "type": "choropleth"
           }
          ],
          "contour": [
           {
            "colorbar": {
             "outlinewidth": 0,
             "ticks": ""
            },
            "colorscale": [
             [
              0,
              "#0d0887"
             ],
             [
              0.1111111111111111,
              "#46039f"
             ],
             [
              0.2222222222222222,
              "#7201a8"
             ],
             [
              0.3333333333333333,
              "#9c179e"
             ],
             [
              0.4444444444444444,
              "#bd3786"
             ],
             [
              0.5555555555555556,
              "#d8576b"
             ],
             [
              0.6666666666666666,
              "#ed7953"
             ],
             [
              0.7777777777777778,
              "#fb9f3a"
             ],
             [
              0.8888888888888888,
              "#fdca26"
             ],
             [
              1,
              "#f0f921"
             ]
            ],
            "type": "contour"
           }
          ],
          "contourcarpet": [
           {
            "colorbar": {
             "outlinewidth": 0,
             "ticks": ""
            },
            "type": "contourcarpet"
           }
          ],
          "heatmap": [
           {
            "colorbar": {
             "outlinewidth": 0,
             "ticks": ""
            },
            "colorscale": [
             [
              0,
              "#0d0887"
             ],
             [
              0.1111111111111111,
              "#46039f"
             ],
             [
              0.2222222222222222,
              "#7201a8"
             ],
             [
              0.3333333333333333,
              "#9c179e"
             ],
             [
              0.4444444444444444,
              "#bd3786"
             ],
             [
              0.5555555555555556,
              "#d8576b"
             ],
             [
              0.6666666666666666,
              "#ed7953"
             ],
             [
              0.7777777777777778,
              "#fb9f3a"
             ],
             [
              0.8888888888888888,
              "#fdca26"
             ],
             [
              1,
              "#f0f921"
             ]
            ],
            "type": "heatmap"
           }
          ],
          "histogram": [
           {
            "marker": {
             "pattern": {
              "fillmode": "overlay",
              "size": 10,
              "solidity": 0.2
             }
            },
            "type": "histogram"
           }
          ],
          "histogram2d": [
           {
            "colorbar": {
             "outlinewidth": 0,
             "ticks": ""
            },
            "colorscale": [
             [
              0,
              "#0d0887"
             ],
             [
              0.1111111111111111,
              "#46039f"
             ],
             [
              0.2222222222222222,
              "#7201a8"
             ],
             [
              0.3333333333333333,
              "#9c179e"
             ],
             [
              0.4444444444444444,
              "#bd3786"
             ],
             [
              0.5555555555555556,
              "#d8576b"
             ],
             [
              0.6666666666666666,
              "#ed7953"
             ],
             [
              0.7777777777777778,
              "#fb9f3a"
             ],
             [
              0.8888888888888888,
              "#fdca26"
             ],
             [
              1,
              "#f0f921"
             ]
            ],
            "type": "histogram2d"
           }
          ],
          "histogram2dcontour": [
           {
            "colorbar": {
             "outlinewidth": 0,
             "ticks": ""
            },
            "colorscale": [
             [
              0,
              "#0d0887"
             ],
             [
              0.1111111111111111,
              "#46039f"
             ],
             [
              0.2222222222222222,
              "#7201a8"
             ],
             [
              0.3333333333333333,
              "#9c179e"
             ],
             [
              0.4444444444444444,
              "#bd3786"
             ],
             [
              0.5555555555555556,
              "#d8576b"
             ],
             [
              0.6666666666666666,
              "#ed7953"
             ],
             [
              0.7777777777777778,
              "#fb9f3a"
             ],
             [
              0.8888888888888888,
              "#fdca26"
             ],
             [
              1,
              "#f0f921"
             ]
            ],
            "type": "histogram2dcontour"
           }
          ],
          "mesh3d": [
           {
            "colorbar": {
             "outlinewidth": 0,
             "ticks": ""
            },
            "type": "mesh3d"
           }
          ],
          "parcoords": [
           {
            "line": {
             "colorbar": {
              "outlinewidth": 0,
              "ticks": ""
             }
            },
            "type": "parcoords"
           }
          ],
          "pie": [
           {
            "automargin": true,
            "type": "pie"
           }
          ],
          "scatter": [
           {
            "fillpattern": {
             "fillmode": "overlay",
             "size": 10,
             "solidity": 0.2
            },
            "type": "scatter"
           }
          ],
          "scatter3d": [
           {
            "line": {
             "colorbar": {
              "outlinewidth": 0,
              "ticks": ""
             }
            },
            "marker": {
             "colorbar": {
              "outlinewidth": 0,
              "ticks": ""
             }
            },
            "type": "scatter3d"
           }
          ],
          "scattercarpet": [
           {
            "marker": {
             "colorbar": {
              "outlinewidth": 0,
              "ticks": ""
             }
            },
            "type": "scattercarpet"
           }
          ],
          "scattergeo": [
           {
            "marker": {
             "colorbar": {
              "outlinewidth": 0,
              "ticks": ""
             }
            },
            "type": "scattergeo"
           }
          ],
          "scattergl": [
           {
            "marker": {
             "colorbar": {
              "outlinewidth": 0,
              "ticks": ""
             }
            },
            "type": "scattergl"
           }
          ],
          "scattermap": [
           {
            "marker": {
             "colorbar": {
              "outlinewidth": 0,
              "ticks": ""
             }
            },
            "type": "scattermap"
           }
          ],
          "scattermapbox": [
           {
            "marker": {
             "colorbar": {
              "outlinewidth": 0,
              "ticks": ""
             }
            },
            "type": "scattermapbox"
           }
          ],
          "scatterpolar": [
           {
            "marker": {
             "colorbar": {
              "outlinewidth": 0,
              "ticks": ""
             }
            },
            "type": "scatterpolar"
           }
          ],
          "scatterpolargl": [
           {
            "marker": {
             "colorbar": {
              "outlinewidth": 0,
              "ticks": ""
             }
            },
            "type": "scatterpolargl"
           }
          ],
          "scatterternary": [
           {
            "marker": {
             "colorbar": {
              "outlinewidth": 0,
              "ticks": ""
             }
            },
            "type": "scatterternary"
           }
          ],
          "surface": [
           {
            "colorbar": {
             "outlinewidth": 0,
             "ticks": ""
            },
            "colorscale": [
             [
              0,
              "#0d0887"
             ],
             [
              0.1111111111111111,
              "#46039f"
             ],
             [
              0.2222222222222222,
              "#7201a8"
             ],
             [
              0.3333333333333333,
              "#9c179e"
             ],
             [
              0.4444444444444444,
              "#bd3786"
             ],
             [
              0.5555555555555556,
              "#d8576b"
             ],
             [
              0.6666666666666666,
              "#ed7953"
             ],
             [
              0.7777777777777778,
              "#fb9f3a"
             ],
             [
              0.8888888888888888,
              "#fdca26"
             ],
             [
              1,
              "#f0f921"
             ]
            ],
            "type": "surface"
           }
          ],
          "table": [
           {
            "cells": {
             "fill": {
              "color": "#EBF0F8"
             },
             "line": {
              "color": "white"
             }
            },
            "header": {
             "fill": {
              "color": "#C8D4E3"
             },
             "line": {
              "color": "white"
             }
            },
            "type": "table"
           }
          ]
         },
         "layout": {
          "annotationdefaults": {
           "arrowcolor": "#2a3f5f",
           "arrowhead": 0,
           "arrowwidth": 1
          },
          "autotypenumbers": "strict",
          "coloraxis": {
           "colorbar": {
            "outlinewidth": 0,
            "ticks": ""
           }
          },
          "colorscale": {
           "diverging": [
            [
             0,
             "#8e0152"
            ],
            [
             0.1,
             "#c51b7d"
            ],
            [
             0.2,
             "#de77ae"
            ],
            [
             0.3,
             "#f1b6da"
            ],
            [
             0.4,
             "#fde0ef"
            ],
            [
             0.5,
             "#f7f7f7"
            ],
            [
             0.6,
             "#e6f5d0"
            ],
            [
             0.7,
             "#b8e186"
            ],
            [
             0.8,
             "#7fbc41"
            ],
            [
             0.9,
             "#4d9221"
            ],
            [
             1,
             "#276419"
            ]
           ],
           "sequential": [
            [
             0,
             "#0d0887"
            ],
            [
             0.1111111111111111,
             "#46039f"
            ],
            [
             0.2222222222222222,
             "#7201a8"
            ],
            [
             0.3333333333333333,
             "#9c179e"
            ],
            [
             0.4444444444444444,
             "#bd3786"
            ],
            [
             0.5555555555555556,
             "#d8576b"
            ],
            [
             0.6666666666666666,
             "#ed7953"
            ],
            [
             0.7777777777777778,
             "#fb9f3a"
            ],
            [
             0.8888888888888888,
             "#fdca26"
            ],
            [
             1,
             "#f0f921"
            ]
           ],
           "sequentialminus": [
            [
             0,
             "#0d0887"
            ],
            [
             0.1111111111111111,
             "#46039f"
            ],
            [
             0.2222222222222222,
             "#7201a8"
            ],
            [
             0.3333333333333333,
             "#9c179e"
            ],
            [
             0.4444444444444444,
             "#bd3786"
            ],
            [
             0.5555555555555556,
             "#d8576b"
            ],
            [
             0.6666666666666666,
             "#ed7953"
            ],
            [
             0.7777777777777778,
             "#fb9f3a"
            ],
            [
             0.8888888888888888,
             "#fdca26"
            ],
            [
             1,
             "#f0f921"
            ]
           ]
          },
          "colorway": [
           "#636efa",
           "#EF553B",
           "#00cc96",
           "#ab63fa",
           "#FFA15A",
           "#19d3f3",
           "#FF6692",
           "#B6E880",
           "#FF97FF",
           "#FECB52"
          ],
          "font": {
           "color": "#2a3f5f"
          },
          "geo": {
           "bgcolor": "white",
           "lakecolor": "white",
           "landcolor": "#E5ECF6",
           "showlakes": true,
           "showland": true,
           "subunitcolor": "white"
          },
          "hoverlabel": {
           "align": "left"
          },
          "hovermode": "closest",
          "mapbox": {
           "style": "light"
          },
          "paper_bgcolor": "white",
          "plot_bgcolor": "#E5ECF6",
          "polar": {
           "angularaxis": {
            "gridcolor": "white",
            "linecolor": "white",
            "ticks": ""
           },
           "bgcolor": "#E5ECF6",
           "radialaxis": {
            "gridcolor": "white",
            "linecolor": "white",
            "ticks": ""
           }
          },
          "scene": {
           "xaxis": {
            "backgroundcolor": "#E5ECF6",
            "gridcolor": "white",
            "gridwidth": 2,
            "linecolor": "white",
            "showbackground": true,
            "ticks": "",
            "zerolinecolor": "white"
           },
           "yaxis": {
            "backgroundcolor": "#E5ECF6",
            "gridcolor": "white",
            "gridwidth": 2,
            "linecolor": "white",
            "showbackground": true,
            "ticks": "",
            "zerolinecolor": "white"
           },
           "zaxis": {
            "backgroundcolor": "#E5ECF6",
            "gridcolor": "white",
            "gridwidth": 2,
            "linecolor": "white",
            "showbackground": true,
            "ticks": "",
            "zerolinecolor": "white"
           }
          },
          "shapedefaults": {
           "line": {
            "color": "#2a3f5f"
           }
          },
          "ternary": {
           "aaxis": {
            "gridcolor": "white",
            "linecolor": "white",
            "ticks": ""
           },
           "baxis": {
            "gridcolor": "white",
            "linecolor": "white",
            "ticks": ""
           },
           "bgcolor": "#E5ECF6",
           "caxis": {
            "gridcolor": "white",
            "linecolor": "white",
            "ticks": ""
           }
          },
          "title": {
           "x": 0.05
          },
          "xaxis": {
           "automargin": true,
           "gridcolor": "white",
           "linecolor": "white",
           "ticks": "",
           "title": {
            "standoff": 15
           },
           "zerolinecolor": "white",
           "zerolinewidth": 2
          },
          "yaxis": {
           "automargin": true,
           "gridcolor": "white",
           "linecolor": "white",
           "ticks": "",
           "title": {
            "standoff": 15
           },
           "zerolinecolor": "white",
           "zerolinewidth": 2
          }
         }
        },
        "title": {
         "text": "Interactive 3D Comparison of prevalence_flavor against product_category and Year (Scattered by Month)"
        }
       }
      }
     },
     "metadata": {},
     "output_type": "display_data"
    }
   ],
   "source": [
    "user_query = \"Show me flavors in Australia in Jan 2023\"\n",
    "final_query = agent1_process(user_query)\n",
    "map_query_to_function(final_query, df)"
   ]
  },
  {
   "cell_type": "code",
   "execution_count": null,
   "metadata": {},
   "outputs": [],
   "source": []
  },
  {
   "cell_type": "code",
   "execution_count": null,
   "metadata": {},
   "outputs": [],
   "source": []
  }
 ],
 "metadata": {
  "kernelspec": {
   "display_name": "Python 3",
   "language": "python",
   "name": "python3"
  },
  "language_info": {
   "codemirror_mode": {
    "name": "ipython",
    "version": 3
   },
   "file_extension": ".py",
   "mimetype": "text/x-python",
   "name": "python",
   "nbconvert_exporter": "python",
   "pygments_lexer": "ipython3",
   "version": "3.11.9"
  }
 },
 "nbformat": 4,
 "nbformat_minor": 2
}
